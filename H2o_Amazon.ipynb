{
  "nbformat": 4,
  "nbformat_minor": 0,
  "metadata": {
    "colab": {
      "name": "H2o_Amazon.ipynb",
      "version": "0.3.2",
      "provenance": [],
      "include_colab_link": true
    },
    "kernelspec": {
      "name": "python3",
      "display_name": "Python 3"
    }
  },
  "cells": [
    {
      "cell_type": "markdown",
      "metadata": {
        "id": "view-in-github",
        "colab_type": "text"
      },
      "source": [
        "<a href=\"https://colab.research.google.com/github/smitaforward/Data_Science/blob/master/H2o_Amazon.ipynb\" target=\"_parent\"><img src=\"https://colab.research.google.com/assets/colab-badge.svg\" alt=\"Open In Colab\"/></a>"
      ]
    },
    {
      "metadata": {
        "id": "BBkJBBp4J29A",
        "colab_type": "text"
      },
      "cell_type": "markdown",
      "source": [
        "# Prep Env"
      ]
    },
    {
      "metadata": {
        "id": "Imx__CrdaJxW",
        "colab_type": "code",
        "outputId": "4df4cf2e-9b92-4235-c0f6-6721b23d5904",
        "colab": {
          "base_uri": "https://localhost:8080/",
          "height": 170
        }
      },
      "cell_type": "code",
      "source": [
        "! apt-get install default-jre\n",
        "!java -version"
      ],
      "execution_count": 0,
      "outputs": [
        {
          "output_type": "stream",
          "text": [
            "Reading package lists... Done\n",
            "Building dependency tree       \n",
            "Reading state information... Done\n",
            "default-jre is already the newest version (2:1.10-63ubuntu1~02).\n",
            "default-jre set to manually installed.\n",
            "0 upgraded, 0 newly installed, 0 to remove and 10 not upgraded.\n",
            "openjdk version \"10.0.2\" 2018-07-17\n",
            "OpenJDK Runtime Environment (build 10.0.2+13-Ubuntu-1ubuntu0.18.04.4)\n",
            "OpenJDK 64-Bit Server VM (build 10.0.2+13-Ubuntu-1ubuntu0.18.04.4, mixed mode)\n"
          ],
          "name": "stdout"
        }
      ]
    },
    {
      "metadata": {
        "id": "1lYAVfxvaNBK",
        "colab_type": "code",
        "outputId": "1a5ab9e2-6801-4417-ee9f-f4b9d19e3d47",
        "colab": {
          "base_uri": "https://localhost:8080/",
          "height": 343
        }
      },
      "cell_type": "code",
      "source": [
        "! pip install h2o"
      ],
      "execution_count": 0,
      "outputs": [
        {
          "output_type": "stream",
          "text": [
            "Collecting h2o\n",
            "\u001b[?25l  Downloading https://files.pythonhosted.org/packages/e6/25/1226b7f47e80b311efc931b4e5d132f0b17f960066f5eedc8b77c6691ec4/h2o-3.22.1.5.tar.gz (120.9MB)\n",
            "\u001b[K    100% |████████████████████████████████| 120.9MB 168kB/s \n",
            "\u001b[?25hRequirement already satisfied: requests in /usr/local/lib/python3.6/dist-packages (from h2o) (2.18.4)\n",
            "Requirement already satisfied: tabulate in /usr/local/lib/python3.6/dist-packages (from h2o) (0.8.3)\n",
            "Requirement already satisfied: future in /usr/local/lib/python3.6/dist-packages (from h2o) (0.16.0)\n",
            "Collecting colorama>=0.3.8 (from h2o)\n",
            "  Downloading https://files.pythonhosted.org/packages/4f/a6/728666f39bfff1719fc94c481890b2106837da9318031f71a8424b662e12/colorama-0.4.1-py2.py3-none-any.whl\n",
            "Requirement already satisfied: certifi>=2017.4.17 in /usr/local/lib/python3.6/dist-packages (from requests->h2o) (2018.11.29)\n",
            "Requirement already satisfied: urllib3<1.23,>=1.21.1 in /usr/local/lib/python3.6/dist-packages (from requests->h2o) (1.22)\n",
            "Requirement already satisfied: idna<2.7,>=2.5 in /usr/local/lib/python3.6/dist-packages (from requests->h2o) (2.6)\n",
            "Requirement already satisfied: chardet<3.1.0,>=3.0.2 in /usr/local/lib/python3.6/dist-packages (from requests->h2o) (3.0.4)\n",
            "Building wheels for collected packages: h2o\n",
            "  Building wheel for h2o (setup.py) ... \u001b[?25ldone\n",
            "\u001b[?25h  Stored in directory: /root/.cache/pip/wheels/80/d9/27/eba7cef0f0cacb7a31fa32d7086dec0c9726d770593e374e7c\n",
            "Successfully built h2o\n",
            "Installing collected packages: colorama, h2o\n",
            "Successfully installed colorama-0.4.1 h2o-3.22.1.5\n"
          ],
          "name": "stdout"
        }
      ]
    },
    {
      "metadata": {
        "id": "6nClrNhfa6n5",
        "colab_type": "code",
        "outputId": "15a7364b-acfc-446b-aa02-3acd72d1818c",
        "colab": {
          "base_uri": "https://localhost:8080/",
          "height": 868
        }
      },
      "cell_type": "code",
      "source": [
        "import h2o\n",
        "h2o.init(max_mem_size='12G')"
      ],
      "execution_count": 0,
      "outputs": [
        {
          "output_type": "stream",
          "text": [
            "Checking whether there is an H2O instance running at http://localhost:54321..... not found.\n",
            "Attempting to start a local H2O server...\n",
            "  Java Version: openjdk version \"10.0.2\" 2018-07-17; OpenJDK Runtime Environment (build 10.0.2+13-Ubuntu-1ubuntu0.18.04.4); OpenJDK 64-Bit Server VM (build 10.0.2+13-Ubuntu-1ubuntu0.18.04.4, mixed mode)\n",
            "  Starting server from /usr/local/lib/python3.6/dist-packages/h2o/backend/bin/h2o.jar\n",
            "  Ice root: /tmp/tmpxr4vp6l3\n",
            "  JVM stdout: /tmp/tmpxr4vp6l3/h2o_unknownUser_started_from_python.out\n",
            "  JVM stderr: /tmp/tmpxr4vp6l3/h2o_unknownUser_started_from_python.err\n",
            "  Server is running at http://127.0.0.1:54321\n",
            "Connecting to H2O server at http://127.0.0.1:54321... successful.\n"
          ],
          "name": "stdout"
        },
        {
          "output_type": "display_data",
          "data": {
            "text/html": [
              "<div style=\"overflow:auto\"><table style=\"width:50%\"><tr><td>H2O cluster uptime:</td>\n",
              "<td>02 secs</td></tr>\n",
              "<tr><td>H2O cluster timezone:</td>\n",
              "<td>Etc/UTC</td></tr>\n",
              "<tr><td>H2O data parsing timezone:</td>\n",
              "<td>UTC</td></tr>\n",
              "<tr><td>H2O cluster version:</td>\n",
              "<td>3.22.1.5</td></tr>\n",
              "<tr><td>H2O cluster version age:</td>\n",
              "<td>3 days </td></tr>\n",
              "<tr><td>H2O cluster name:</td>\n",
              "<td>H2O_from_python_unknownUser_vsnjvv</td></tr>\n",
              "<tr><td>H2O cluster total nodes:</td>\n",
              "<td>1</td></tr>\n",
              "<tr><td>H2O cluster free memory:</td>\n",
              "<td>12 Gb</td></tr>\n",
              "<tr><td>H2O cluster total cores:</td>\n",
              "<td>2</td></tr>\n",
              "<tr><td>H2O cluster allowed cores:</td>\n",
              "<td>2</td></tr>\n",
              "<tr><td>H2O cluster status:</td>\n",
              "<td>accepting new members, healthy</td></tr>\n",
              "<tr><td>H2O connection url:</td>\n",
              "<td>http://127.0.0.1:54321</td></tr>\n",
              "<tr><td>H2O connection proxy:</td>\n",
              "<td>None</td></tr>\n",
              "<tr><td>H2O internal security:</td>\n",
              "<td>False</td></tr>\n",
              "<tr><td>H2O API Extensions:</td>\n",
              "<td>Amazon S3, XGBoost, Algos, AutoML, Core V3, Core V4</td></tr>\n",
              "<tr><td>Python version:</td>\n",
              "<td>3.6.7 final</td></tr></table></div>"
            ],
            "text/plain": [
              "--------------------------  ---------------------------------------------------\n",
              "H2O cluster uptime:         02 secs\n",
              "H2O cluster timezone:       Etc/UTC\n",
              "H2O data parsing timezone:  UTC\n",
              "H2O cluster version:        3.22.1.5\n",
              "H2O cluster version age:    3 days\n",
              "H2O cluster name:           H2O_from_python_unknownUser_vsnjvv\n",
              "H2O cluster total nodes:    1\n",
              "H2O cluster free memory:    12 Gb\n",
              "H2O cluster total cores:    2\n",
              "H2O cluster allowed cores:  2\n",
              "H2O cluster status:         accepting new members, healthy\n",
              "H2O connection url:         http://127.0.0.1:54321\n",
              "H2O connection proxy:\n",
              "H2O internal security:      False\n",
              "H2O API Extensions:         Amazon S3, XGBoost, Algos, AutoML, Core V3, Core V4\n",
              "Python version:             3.6.7 final\n",
              "--------------------------  ---------------------------------------------------"
            ]
          },
          "metadata": {
            "tags": []
          }
        }
      ]
    },
    {
      "metadata": {
        "id": "lHYSBgLUUxNF",
        "colab_type": "text"
      },
      "cell_type": "markdown",
      "source": [
        "# DATA"
      ]
    },
    {
      "metadata": {
        "id": "EBoR50_5btIC",
        "colab_type": "code",
        "outputId": "97c60bfa-05fa-4413-c214-d2fc43963bff",
        "colab": {
          "base_uri": "https://localhost:8080/",
          "height": 34
        }
      },
      "cell_type": "code",
      "source": [
        "# Use local data file or download from GitHub\n",
        "import os\n",
        "docker_data_path = \"/home/h2o/data/nlp/AmazonReviews.csv\"\n",
        "if os.path.isfile(docker_data_path):\n",
        "  data_path = docker_data_path\n",
        "else:\n",
        "  data_path = \"https://s3.amazonaws.com/tomk/h2o-world/megan/AmazonReviews.csv\"\n",
        "\n",
        "\n",
        "# Load data into H2O\n",
        "reviews = h2o.import_file(data_path)"
      ],
      "execution_count": 0,
      "outputs": [
        {
          "output_type": "stream",
          "text": [
            "Parse progress: |█████████████████████████████████████████████████████████| 100%\n"
          ],
          "name": "stdout"
        }
      ]
    },
    {
      "metadata": {
        "id": "MGE6yaEZcwQr",
        "colab_type": "code",
        "colab": {}
      },
      "cell_type": "code",
      "source": [
        "#reviews['PositiveReview'] = reviews['Score']>=4\n",
        "reviews['PositiveReview'] = (reviews['Score'] >= 4).ifelse('1','0')\n"
      ],
      "execution_count": 0,
      "outputs": []
    },
    {
      "metadata": {
        "id": "RRS1KRY9dCq4",
        "colab_type": "code",
        "outputId": "db77e427-d9fe-4698-f56f-864deb792ea3",
        "colab": {
          "base_uri": "https://localhost:8080/",
          "height": 82
        }
      },
      "cell_type": "code",
      "source": [
        "reviews['PositiveReview'].table()"
      ],
      "execution_count": 0,
      "outputs": [
        {
          "output_type": "display_data",
          "data": {
            "text/html": [
              "<table>\n",
              "<thead>\n",
              "<tr><th style=\"text-align: right;\">  PositiveReview</th><th style=\"text-align: right;\">  Count</th></tr>\n",
              "</thead>\n",
              "<tbody>\n",
              "<tr><td style=\"text-align: right;\">               0</td><td style=\"text-align: right;\">  21791</td></tr>\n",
              "<tr><td style=\"text-align: right;\">               1</td><td style=\"text-align: right;\">  78209</td></tr>\n",
              "</tbody>\n",
              "</table>"
            ]
          },
          "metadata": {
            "tags": []
          }
        },
        {
          "output_type": "execute_result",
          "data": {
            "text/plain": [
              ""
            ]
          },
          "metadata": {
            "tags": []
          },
          "execution_count": 7
        }
      ]
    },
    {
      "metadata": {
        "id": "b2jqo2Vhdk3z",
        "colab_type": "code",
        "outputId": "f3c0c442-0c56-40a9-a821-71542c7d0f71",
        "colab": {
          "base_uri": "https://localhost:8080/",
          "height": 884
        }
      },
      "cell_type": "code",
      "source": [
        "reviews.head(2)"
      ],
      "execution_count": 0,
      "outputs": [
        {
          "output_type": "display_data",
          "data": {
            "text/html": [
              "<table>\n",
              "<thead>\n",
              "<tr><th>ProductId  </th><th>UserId        </th><th>Summary                 </th><th style=\"text-align: right;\">  Score</th><th style=\"text-align: right;\">  HelpfulnessDenominator</th><th style=\"text-align: right;\">   Id</th><th>ProfileName   </th><th style=\"text-align: right;\">  HelpfulnessNumerator</th><th style=\"text-align: right;\">       Time</th><th>Text                                                                                                                                                                                                                                                                                                                                                                            </th><th style=\"text-align: right;\">  PositiveReview</th></tr>\n",
              "</thead>\n",
              "<tbody>\n",
              "<tr><td>B00141QYSQ </td><td>A1YS02UZZGRDCT</td><td>Do Not Buy              </td><td style=\"text-align: right;\">      1</td><td style=\"text-align: right;\">                       2</td><td style=\"text-align: right;\">41471</td><td>Evan Eberhardt</td><td style=\"text-align: right;\">                     2</td><td style=\"text-align: right;\">1.34836e+09</td><td>These are made in China (do not buy ANY pet food from China).  Dogswell has been using propylene glycol to soften their treats (what are they thinkng?).  Do not purchase or support this company in any way until they clean up their act.  And for whatever reason Amazon doesn't allow returns of this item, so I had to toss mine out.  Bad business all around on this one.</td><td style=\"text-align: right;\">               0</td></tr>\n",
              "<tr><td>B0089SPEO2 </td><td>A3JOYNYL458QHP</td><td>Less lemon and less zing</td><td style=\"text-align: right;\">      3</td><td style=\"text-align: right;\">                       0</td><td style=\"text-align: right;\">28582</td><td>coleridge     </td><td style=\"text-align: right;\">                     0</td><td style=\"text-align: right;\">1.32391e+09</td><td>Everything is ok, except it just isn't as good as it is in the bags.  Just considerably more bland -- less lemon and less zing.  Boring.                                                                                                                                                                                                                                        </td><td style=\"text-align: right;\">               0</td></tr>\n",
              "</tbody>\n",
              "</table>"
            ]
          },
          "metadata": {
            "tags": []
          }
        },
        {
          "output_type": "execute_result",
          "data": {
            "text/plain": [
              ""
            ]
          },
          "metadata": {
            "tags": []
          },
          "execution_count": 8
        }
      ]
    },
    {
      "metadata": {
        "id": "RXsP7hLPUJgC",
        "colab_type": "text"
      },
      "cell_type": "markdown",
      "source": [
        "# Train Base Model"
      ]
    },
    {
      "metadata": {
        "id": "kRUOY36pdwcS",
        "colab_type": "code",
        "colab": {}
      },
      "cell_type": "code",
      "source": [
        "# find the 80th quantile of time\n",
        "time_split=reviews['Time'].quantile(prob=[0.8])[1]"
      ],
      "execution_count": 0,
      "outputs": []
    },
    {
      "metadata": {
        "id": "vZGMB7VjVAoR",
        "colab_type": "code",
        "colab": {}
      },
      "cell_type": "code",
      "source": [
        "reviews['Train']= (reviews['Time'] < time_split).ifelse('Yes', 'No')"
      ],
      "execution_count": 0,
      "outputs": []
    },
    {
      "metadata": {
        "id": "I18AI5biVB_p",
        "colab_type": "code",
        "outputId": "12d22419-2507-45df-c5c1-18d07fd62d9a",
        "colab": {
          "base_uri": "https://localhost:8080/",
          "height": 2397
        }
      },
      "cell_type": "code",
      "source": [
        "reviews.tail(2)"
      ],
      "execution_count": 0,
      "outputs": [
        {
          "output_type": "display_data",
          "data": {
            "text/html": [
              "<table>\n",
              "<thead>\n",
              "<tr><th>ProductId  </th><th>UserId       </th><th>Summary                       </th><th style=\"text-align: right;\">  Score</th><th style=\"text-align: right;\">  HelpfulnessDenominator</th><th style=\"text-align: right;\">    Id</th><th>ProfileName       </th><th style=\"text-align: right;\">  HelpfulnessNumerator</th><th style=\"text-align: right;\">       Time</th><th>Text                                                                                                                                                                                                                                                                                                                                                                                                                                                                                                                                                                                                                                                                                                                                                                                                                                                                                                                                                                                                                                                                                                                                                                                                                                                                                                                                                                                                                     </th><th style=\"text-align: right;\">  PositiveReview</th><th>Train  </th></tr>\n",
              "</thead>\n",
              "<tbody>\n",
              "<tr><td>B0009JRH1C </td><td>AVLEDWHKKIPHA</td><td>Good Tea                      </td><td style=\"text-align: right;\">      5</td><td style=\"text-align: right;\">                       6</td><td style=\"text-align: right;\">248838</td><td>Kim               </td><td style=\"text-align: right;\">                     6</td><td style=\"text-align: right;\">1.29704e+09</td><td>A nice big box so you don't have to worry about running out of tea anytime soon.  Flavorful, but mild for anytime of day.  I would recommend this tea.                                                                                                                                                                                                                                                                                                                                                                                                                                                                                                                                                                                                                                                                                                                                                                                                                                                                                                                                                                                                                                                                                                                                                                                                                                                                   </td><td style=\"text-align: right;\">               1</td><td>Yes    </td></tr>\n",
              "<tr><td>B005H6FF3Y </td><td>A7WV4HI6C8WRJ</td><td>Not fit for human consumption.</td><td style=\"text-align: right;\">      1</td><td style=\"text-align: right;\">                      12</td><td style=\"text-align: right;\">149738</td><td>Edward A. Woodward</td><td style=\"text-align: right;\">                    12</td><td style=\"text-align: right;\">1.33065e+09</td><td>I was very excited when i saw this product, i'm one of those people eager to try anything, and I've had exotic meats before in a number of ways, through friends that hunt I've enjoyed home made dishes made from a wide variety of game animals, and i've had less common animals like ostrich, kangaroo, and aligator that i ordered on like and cooked myself, and i've even had a few of these meats as jerky by other companies. I like the meats of the animals they made these jerkies from, i need to stress that point, because otherwise you may think that is what my problem is. it's not, this product was AWFUL!! these were some of the worst cured meat snacks I've ever had.  Is it possible to rate something and give it no stars? because that is what this product deserves. the meat managed somehow to be both bland and surprisingly foul, and coated with enough grease to lubricate an engine. I have tried several of the strips and sticks and found that to be a universal condition. I can only think that the people who wrote the rave reviews for this product did so without tasting it. this is dreadful stuff, suited only for those who simply want the novelty of claiming they ate strange animals and don't care what it tasted like. this meat was not fit for human consumption, in fact, i wouldn't even give it to my dog. I won't be buying anything else from buffalo bob.</td><td style=\"text-align: right;\">               0</td><td>Yes    </td></tr>\n",
              "</tbody>\n",
              "</table>"
            ]
          },
          "metadata": {
            "tags": []
          }
        },
        {
          "output_type": "execute_result",
          "data": {
            "text/plain": [
              ""
            ]
          },
          "metadata": {
            "tags": []
          },
          "execution_count": 11
        }
      ]
    },
    {
      "metadata": {
        "id": "jh-CKog0VjCc",
        "colab_type": "code",
        "colab": {}
      },
      "cell_type": "code",
      "source": [
        "train = reviews[reviews['Train']== 'Yes']\n",
        "valid = reviews[reviews['Train'] == 'No']\n"
      ],
      "execution_count": 0,
      "outputs": []
    },
    {
      "metadata": {
        "id": "HGcz8xImYO9a",
        "colab_type": "code",
        "outputId": "8c075427-df59-49b8-ecb3-7a8a3428d0df",
        "colab": {
          "base_uri": "https://localhost:8080/",
          "height": 221
        }
      },
      "cell_type": "code",
      "source": [
        "reviews.names"
      ],
      "execution_count": 0,
      "outputs": [
        {
          "output_type": "execute_result",
          "data": {
            "text/plain": [
              "['ProductId',\n",
              " 'UserId',\n",
              " 'Summary',\n",
              " 'Score',\n",
              " 'HelpfulnessDenominator',\n",
              " 'Id',\n",
              " 'ProfileName',\n",
              " 'HelpfulnessNumerator',\n",
              " 'Time',\n",
              " 'Text',\n",
              " 'PositiveReview',\n",
              " 'Train']"
            ]
          },
          "metadata": {
            "tags": []
          },
          "execution_count": 21
        }
      ]
    },
    {
      "metadata": {
        "id": "pvpyAr4WYFF4",
        "colab_type": "code",
        "colab": {}
      },
      "cell_type": "code",
      "source": [
        "from h2o.estimators import H2OGradientBoostingEstimator\n",
        "\n",
        "predictors = ['ProductId', 'UserId', 'HelpfulnessDenominator','HelpfulnessNumerator', 'Time']\n",
        "response='PositiveReview'"
      ],
      "execution_count": 0,
      "outputs": []
    },
    {
      "metadata": {
        "id": "tB243s8nYzdS",
        "colab_type": "code",
        "colab": {}
      },
      "cell_type": "code",
      "source": [
        "gbm_baseline = H2OGradientBoostingEstimator(stopping_metric = 'AUC',\n",
        "                                           stopping_tolerance = 0.001,\n",
        "                                           stopping_rounds = 5, \n",
        "                                           score_tree_interval = 10,\n",
        "                                           model_id = 'gbm_baseline.hex')"
      ],
      "execution_count": 0,
      "outputs": []
    },
    {
      "metadata": {
        "id": "qqQxDmPuZIwW",
        "colab_type": "code",
        "outputId": "1b2bab97-a50b-4aef-c4d7-bb76203c9de8",
        "colab": {
          "base_uri": "https://localhost:8080/",
          "height": 34
        }
      },
      "cell_type": "code",
      "source": [
        "gbm_baseline.train(x = predictors, y=response, training_frame=train, validation_frame=valid)"
      ],
      "execution_count": 0,
      "outputs": [
        {
          "output_type": "stream",
          "text": [
            "gbm Model Build progress: |███████████████████████████████████████████████| 100%\n"
          ],
          "name": "stdout"
        }
      ]
    },
    {
      "metadata": {
        "id": "cgi75DKaZZns",
        "colab_type": "code",
        "outputId": "46e276b7-e03c-423d-b537-80e5638fced2",
        "colab": {
          "base_uri": "https://localhost:8080/",
          "height": 34
        }
      },
      "cell_type": "code",
      "source": [
        "print(f'AUC on Validation Data: {round(gbm_baseline.auc(valid=True),3)}')"
      ],
      "execution_count": 0,
      "outputs": [
        {
          "output_type": "stream",
          "text": [
            "AUC on Validation Data: 0.616\n"
          ],
          "name": "stdout"
        }
      ]
    },
    {
      "metadata": {
        "id": "74jUO55FaYNv",
        "colab_type": "code",
        "outputId": "d89560ec-3a95-4122-afd2-dcfb62251047",
        "colab": {
          "base_uri": "https://localhost:8080/",
          "height": 120
        }
      },
      "cell_type": "code",
      "source": [
        "gbm_baseline.confusion_matrix(valid=True)"
      ],
      "execution_count": 0,
      "outputs": [
        {
          "output_type": "stream",
          "text": [
            "Confusion Matrix (Act/Pred) for max f1 @ threshold = 0.45931625811239496: \n"
          ],
          "name": "stdout"
        },
        {
          "output_type": "display_data",
          "data": {
            "text/html": [
              "<div style=\"overflow:auto\"><table style=\"width:50%\"><tr><td><b></b></td>\n",
              "<td><b>0</b></td>\n",
              "<td><b>1</b></td>\n",
              "<td><b>Error</b></td>\n",
              "<td><b>Rate</b></td></tr>\n",
              "<tr><td>0</td>\n",
              "<td>384.0</td>\n",
              "<td>4276.0</td>\n",
              "<td>0.9176</td>\n",
              "<td> (4276.0/4660.0)</td></tr>\n",
              "<tr><td>1</td>\n",
              "<td>128.0</td>\n",
              "<td>15220.0</td>\n",
              "<td>0.0083</td>\n",
              "<td> (128.0/15348.0)</td></tr>\n",
              "<tr><td>Total</td>\n",
              "<td>512.0</td>\n",
              "<td>19496.0</td>\n",
              "<td>0.2201</td>\n",
              "<td> (4404.0/20008.0)</td></tr></table></div>"
            ],
            "text/plain": [
              "       0    1      Error    Rate\n",
              "-----  ---  -----  -------  ----------------\n",
              "0      384  4276   0.9176   (4276.0/4660.0)\n",
              "1      128  15220  0.0083   (128.0/15348.0)\n",
              "Total  512  19496  0.2201   (4404.0/20008.0)"
            ]
          },
          "metadata": {
            "tags": []
          }
        },
        {
          "output_type": "execute_result",
          "data": {
            "text/plain": [
              ""
            ]
          },
          "metadata": {
            "tags": []
          },
          "execution_count": 37
        }
      ]
    },
    {
      "metadata": {
        "id": "XxlKKJ5AbSYY",
        "colab_type": "code",
        "outputId": "bf2bfff1-7124-4a4b-c6be-e29282358b91",
        "colab": {
          "base_uri": "https://localhost:8080/",
          "height": 632
        }
      },
      "cell_type": "code",
      "source": [
        "gbm_baseline.varimp_plot()"
      ],
      "execution_count": 0,
      "outputs": [
        {
          "output_type": "display_data",
          "data": {
            "image/png": "[encoded data removed]",
            "text/plain": [
              "<Figure size 1008x720 with 1 Axes>"
            ]
          },
          "metadata": {
            "tags": []
          }
        }
      ]
    },
    {
      "metadata": {
        "id": "6xh5BYTbbm7j",
        "colab_type": "code",
        "colab": {}
      },
      "cell_type": "code",
      "source": [
        ""
      ],
      "execution_count": 0,
      "outputs": []
    },
    {
      "metadata": {
        "id": "c6_vWDuiSJE9",
        "colab_type": "text"
      },
      "cell_type": "markdown",
      "source": [
        "# Tokenize"
      ]
    },
    {
      "metadata": {
        "id": "GcfmXljzSG1w",
        "colab_type": "code",
        "colab": {}
      },
      "cell_type": "code",
      "source": [
        "# Set Stop Words\n",
        "# The STOP WORDS we are importing are from the nltk package\n",
        "import pandas as pd\n",
        "import os\n",
        "\n",
        "# Use local data file or download from GitHub\n",
        "docker_data_path = \"/home/h2o/data/nlp/stopwords.csv\"\n",
        "if os.path.isfile(docker_data_path):\n",
        "  data_path = docker_data_path\n",
        "else:\n",
        "  data_path = \"https://raw.githubusercontent.com/h2oai/h2o-tutorials/master/h2o-world-2017/nlp/stopwords.csv\"\n",
        "\n",
        "STOP_WORDS = pd.read_csv(data_path, header=0)\n",
        "STOP_WORDS = list(STOP_WORDS['STOP_WORD'])"
      ],
      "execution_count": 0,
      "outputs": []
    },
    {
      "metadata": {
        "id": "smDPoCXISHZ5",
        "colab_type": "code",
        "outputId": "2d509337-11ad-42a7-fe41-b298308f1fa5",
        "colab": {
          "base_uri": "https://localhost:8080/",
          "height": 34
        }
      },
      "cell_type": "code",
      "source": [
        "len(STOP_WORDS)"
      ],
      "execution_count": 0,
      "outputs": [
        {
          "output_type": "execute_result",
          "data": {
            "text/plain": [
              "153"
            ]
          },
          "metadata": {
            "tags": []
          },
          "execution_count": 3
        }
      ]
    },
    {
      "metadata": {
        "id": "I16ldkomSQGg",
        "colab_type": "code",
        "colab": {}
      },
      "cell_type": "code",
      "source": [
        "def tokenize(sentences, stop_word = STOP_WORDS):\n",
        "    tokenized = sentences.tokenize(\"\\\\W+\") # tokenized by words, which will remove all the other special character, such as \"\", [], punctuations\n",
        "    tokenized_lower = tokenized.tolower()\n",
        "    tokenized_filtered = tokenized_lower[(tokenized_lower.nchar() >= 2) | (tokenized_lower.isna()),:]\n",
        "    tokenized_words = tokenized_filtered[tokenized_filtered.grep(\"[0-9]\",invert=True,output_logical=True),:] # use invet = true to extract non number tokenzies\n",
        "    tokenized_words = tokenized_words[(tokenized_words.isna()) | (~ tokenized_words.isin(STOP_WORDS)),:] \n",
        "    return tokenized_words"
      ],
      "execution_count": 0,
      "outputs": []
    },
    {
      "metadata": {
        "id": "pRXiir0oSXrQ",
        "colab_type": "code",
        "outputId": "590f0730-3fe3-4087-d282-d4a1e2a17eb2",
        "colab": {
          "base_uri": "https://localhost:8080/",
          "height": 250
        }
      },
      "cell_type": "code",
      "source": [
        "words = tokenize(reviews['Text'])\n",
        "words.head()"
      ],
      "execution_count": 0,
      "outputs": [
        {
          "output_type": "display_data",
          "data": {
            "text/html": [
              "<table>\n",
              "<thead>\n",
              "<tr><th>C1       </th></tr>\n",
              "</thead>\n",
              "<tbody>\n",
              "<tr><td>made     </td></tr>\n",
              "<tr><td>china    </td></tr>\n",
              "<tr><td>buy      </td></tr>\n",
              "<tr><td>pet      </td></tr>\n",
              "<tr><td>food     </td></tr>\n",
              "<tr><td>china    </td></tr>\n",
              "<tr><td>dogswell </td></tr>\n",
              "<tr><td>using    </td></tr>\n",
              "<tr><td>propylene</td></tr>\n",
              "<tr><td>glycol   </td></tr>\n",
              "</tbody>\n",
              "</table>"
            ]
          },
          "metadata": {
            "tags": []
          }
        },
        {
          "output_type": "execute_result",
          "data": {
            "text/plain": [
              ""
            ]
          },
          "metadata": {
            "tags": []
          },
          "execution_count": 19
        }
      ]
    },
    {
      "metadata": {
        "id": "ufEEOgOUvB6H",
        "colab_type": "text"
      },
      "cell_type": "markdown",
      "source": [
        "# Train Word2Vec Model"
      ]
    },
    {
      "metadata": {
        "id": "-U0QHPmsuxgF",
        "colab_type": "code",
        "colab": {}
      },
      "cell_type": "code",
      "source": [
        "from h2o.estimators.word2vec import H2OWord2vecEstimator"
      ],
      "execution_count": 0,
      "outputs": []
    },
    {
      "metadata": {
        "id": "ofg-ruhRu6Gz",
        "colab_type": "code",
        "outputId": "92d8ce46-a39b-4490-828d-74e8176b609c",
        "colab": {
          "base_uri": "https://localhost:8080/",
          "height": 34
        }
      },
      "cell_type": "code",
      "source": [
        "w2v_model = H2OWord2vecEstimator(vec_size = 100, model_id = \"w2v.hex\")\n",
        "w2v_model.train(training_frame=words)"
      ],
      "execution_count": 0,
      "outputs": [
        {
          "output_type": "stream",
          "text": [
            "word2vec Model Build progress: |██████████████████████████████████████████| 100%\n"
          ],
          "name": "stdout"
        }
      ]
    },
    {
      "metadata": {
        "id": "tjn392mCu6Es",
        "colab_type": "code",
        "colab": {}
      },
      "cell_type": "code",
      "source": [
        "#w2v_model = h2o.load_model(w2v_path)"
      ],
      "execution_count": 0,
      "outputs": []
    },
    {
      "metadata": {
        "id": "cDYJ-Vldu6CX",
        "colab_type": "code",
        "outputId": "873c5715-a38c-4050-8dcb-f4b4ca3b039f",
        "colab": {
          "base_uri": "https://localhost:8080/",
          "height": 102
        }
      },
      "cell_type": "code",
      "source": [
        "w2v_model.find_synonyms('coffee', count = '5')"
      ],
      "execution_count": 0,
      "outputs": [
        {
          "output_type": "execute_result",
          "data": {
            "text/plain": [
              "OrderedDict([('coffe', 0.8011164665222168),\n",
              "             ('espresso', 0.795991063117981),\n",
              "             ('coffees', 0.7906833291053772),\n",
              "             ('expresso', 0.7733843326568604),\n",
              "             ('brewed', 0.734802782535553)])"
            ]
          },
          "metadata": {
            "tags": []
          },
          "execution_count": 22
        }
      ]
    },
    {
      "metadata": {
        "id": "qJZomXtOu6AI",
        "colab_type": "code",
        "colab": {}
      },
      "cell_type": "code",
      "source": [
        "# caculate the vec for each review\n",
        "review_vecs = w2v_model.transform(words, aggregate_method = 'AVERAGE')"
      ],
      "execution_count": 0,
      "outputs": []
    },
    {
      "metadata": {
        "id": "v32wlV19u5-F",
        "colab_type": "code",
        "colab": {}
      },
      "cell_type": "code",
      "source": [
        "# add review with embeddings\n",
        "ext_reviews = reviews.cbind(review_vecs)"
      ],
      "execution_count": 0,
      "outputs": []
    },
    {
      "metadata": {
        "id": "O1_H4hgHy1zL",
        "colab_type": "code",
        "outputId": "bc8e06cf-45d0-4543-fe4d-9b5588a49200",
        "colab": {
          "base_uri": "https://localhost:8080/",
          "height": 884
        }
      },
      "cell_type": "code",
      "source": [
        "ext_reviews.head(2)"
      ],
      "execution_count": 0,
      "outputs": [
        {
          "output_type": "display_data",
          "data": {
            "text/html": [
              "<table>\n",
              "<thead>\n",
              "<tr><th>ProductId  </th><th>UserId        </th><th>Summary                 </th><th style=\"text-align: right;\">  Score</th><th style=\"text-align: right;\">  HelpfulnessDenominator</th><th style=\"text-align: right;\">   Id</th><th>ProfileName   </th><th style=\"text-align: right;\">  HelpfulnessNumerator</th><th style=\"text-align: right;\">       Time</th><th>Text                                                                                                                                                                                                                                                                                                                                                                            </th><th style=\"text-align: right;\">  PositiveReview</th><th>Train  </th><th style=\"text-align: right;\">        C1</th><th style=\"text-align: right;\">       C2</th><th style=\"text-align: right;\">        C3</th><th style=\"text-align: right;\">        C4</th><th style=\"text-align: right;\">        C5</th><th style=\"text-align: right;\">        C6</th><th style=\"text-align: right;\">        C7</th><th style=\"text-align: right;\">         C8</th><th style=\"text-align: right;\">        C9</th><th style=\"text-align: right;\">      C10</th><th style=\"text-align: right;\">       C11</th><th style=\"text-align: right;\">       C12</th><th style=\"text-align: right;\">      C13</th><th style=\"text-align: right;\">       C14</th><th style=\"text-align: right;\">        C15</th><th style=\"text-align: right;\">         C16</th><th style=\"text-align: right;\">       C17</th><th style=\"text-align: right;\">      C18</th><th style=\"text-align: right;\">       C19</th><th style=\"text-align: right;\">        C20</th><th style=\"text-align: right;\">       C21</th><th style=\"text-align: right;\">     C22</th><th style=\"text-align: right;\">       C23</th><th style=\"text-align: right;\">        C24</th><th style=\"text-align: right;\">       C25</th><th style=\"text-align: right;\">     C26</th><th style=\"text-align: right;\">      C27</th><th style=\"text-align: right;\">      C28</th><th style=\"text-align: right;\">       C29</th><th style=\"text-align: right;\">     C30</th><th style=\"text-align: right;\">        C31</th><th style=\"text-align: right;\">       C32</th><th style=\"text-align: right;\">       C33</th><th style=\"text-align: right;\">      C34</th><th style=\"text-align: right;\">       C35</th><th style=\"text-align: right;\">       C36</th><th style=\"text-align: right;\">       C37</th><th style=\"text-align: right;\">      C38</th><th style=\"text-align: right;\">        C39</th><th style=\"text-align: right;\">       C40</th><th style=\"text-align: right;\">       C41</th><th style=\"text-align: right;\">       C42</th><th style=\"text-align: right;\">       C43</th><th style=\"text-align: right;\">     C44</th><th style=\"text-align: right;\">      C45</th><th style=\"text-align: right;\">     C46</th><th style=\"text-align: right;\">       C47</th><th style=\"text-align: right;\">      C48</th><th style=\"text-align: right;\">        C49</th><th style=\"text-align: right;\">      C50</th><th style=\"text-align: right;\">        C51</th><th style=\"text-align: right;\">       C52</th><th style=\"text-align: right;\">     C53</th><th style=\"text-align: right;\">        C54</th><th style=\"text-align: right;\">        C55</th><th style=\"text-align: right;\">      C56</th><th style=\"text-align: right;\">      C57</th><th style=\"text-align: right;\">        C58</th><th style=\"text-align: right;\">      C59</th><th style=\"text-align: right;\">       C60</th><th style=\"text-align: right;\">       C61</th><th style=\"text-align: right;\">        C62</th><th style=\"text-align: right;\">       C63</th><th style=\"text-align: right;\">       C64</th><th style=\"text-align: right;\">       C65</th><th style=\"text-align: right;\">         C66</th><th style=\"text-align: right;\">       C67</th><th style=\"text-align: right;\">      C68</th><th style=\"text-align: right;\">       C69</th><th style=\"text-align: right;\">       C70</th><th style=\"text-align: right;\">      C71</th><th style=\"text-align: right;\">       C72</th><th style=\"text-align: right;\">      C73</th><th style=\"text-align: right;\">       C74</th><th style=\"text-align: right;\">     C75</th><th style=\"text-align: right;\">      C76</th><th style=\"text-align: right;\">       C77</th><th style=\"text-align: right;\">       C78</th><th style=\"text-align: right;\">     C79</th><th style=\"text-align: right;\">       C80</th><th style=\"text-align: right;\">      C81</th><th style=\"text-align: right;\">       C82</th><th style=\"text-align: right;\">     C83</th><th style=\"text-align: right;\">        C84</th><th style=\"text-align: right;\">        C85</th><th style=\"text-align: right;\">      C86</th><th style=\"text-align: right;\">       C87</th><th style=\"text-align: right;\">      C88</th><th style=\"text-align: right;\">      C89</th><th style=\"text-align: right;\">       C90</th><th style=\"text-align: right;\">       C91</th><th style=\"text-align: right;\">      C92</th><th style=\"text-align: right;\">        C93</th><th style=\"text-align: right;\">       C94</th><th style=\"text-align: right;\">      C95</th><th style=\"text-align: right;\">       C96</th><th style=\"text-align: right;\">       C97</th><th style=\"text-align: right;\">      C98</th><th style=\"text-align: right;\">       C99</th><th style=\"text-align: right;\">     C100</th></tr>\n",
              "</thead>\n",
              "<tbody>\n",
              "<tr><td>B00141QYSQ </td><td>A1YS02UZZGRDCT</td><td>Do Not Buy              </td><td style=\"text-align: right;\">      1</td><td style=\"text-align: right;\">                       2</td><td style=\"text-align: right;\">41471</td><td>Evan Eberhardt</td><td style=\"text-align: right;\">                     2</td><td style=\"text-align: right;\">1.34836e+09</td><td>These are made in China (do not buy ANY pet food from China).  Dogswell has been using propylene glycol to soften their treats (what are they thinkng?).  Do not purchase or support this company in any way until they clean up their act.  And for whatever reason Amazon doesn't allow returns of this item, so I had to toss mine out.  Bad business all around on this one.</td><td style=\"text-align: right;\">               0</td><td>No     </td><td style=\"text-align: right;\">-0.0334397</td><td style=\"text-align: right;\">0.0587224</td><td style=\"text-align: right;\">-0.0973916</td><td style=\"text-align: right;\"> 0.0507354</td><td style=\"text-align: right;\">0.00100041</td><td style=\"text-align: right;\">-0.0687384</td><td style=\"text-align: right;\"> 0.110034 </td><td style=\"text-align: right;\"> 0.030858  </td><td style=\"text-align: right;\">-0.0303245</td><td style=\"text-align: right;\">-0.224132</td><td style=\"text-align: right;\">-0.0255798</td><td style=\"text-align: right;\"> 0.0846478</td><td style=\"text-align: right;\">0.0893458</td><td style=\"text-align: right;\"> 0.0950163</td><td style=\"text-align: right;\">-0.00138842</td><td style=\"text-align: right;\">-0.110421   </td><td style=\"text-align: right;\">-0.203488 </td><td style=\"text-align: right;\">0.0835663</td><td style=\"text-align: right;\">-0.0341124</td><td style=\"text-align: right;\"> 0.00538144</td><td style=\"text-align: right;\">-0.0647419</td><td style=\"text-align: right;\">0.164127</td><td style=\"text-align: right;\">-0.035758 </td><td style=\"text-align: right;\">-0.040013  </td><td style=\"text-align: right;\">-0.0330751</td><td style=\"text-align: right;\">0.106238</td><td style=\"text-align: right;\">0.0886508</td><td style=\"text-align: right;\">0.111887 </td><td style=\"text-align: right;\"> 0.04447  </td><td style=\"text-align: right;\">0.17318 </td><td style=\"text-align: right;\">-0.00590384</td><td style=\"text-align: right;\">-0.14619  </td><td style=\"text-align: right;\">-0.0317761</td><td style=\"text-align: right;\">0.0623553</td><td style=\"text-align: right;\">-0.127708 </td><td style=\"text-align: right;\">0.00689686</td><td style=\"text-align: right;\"> 0.117939 </td><td style=\"text-align: right;\">0.0132855</td><td style=\"text-align: right;\">-0.00360485</td><td style=\"text-align: right;\"> 0.0650234</td><td style=\"text-align: right;\"> 0.233051 </td><td style=\"text-align: right;\">-0.0156746</td><td style=\"text-align: right;\">-0.0760735</td><td style=\"text-align: right;\">0.258833</td><td style=\"text-align: right;\">0.219453 </td><td style=\"text-align: right;\">0.142825</td><td style=\"text-align: right;\"> 0.0470135</td><td style=\"text-align: right;\">0.0386686</td><td style=\"text-align: right;\">-0.109914  </td><td style=\"text-align: right;\">0.110689 </td><td style=\"text-align: right;\">-0.00866727</td><td style=\"text-align: right;\">-0.0923441</td><td style=\"text-align: right;\">0.133245</td><td style=\"text-align: right;\">-0.00116396</td><td style=\"text-align: right;\">-0.107254  </td><td style=\"text-align: right;\">-0.165806</td><td style=\"text-align: right;\">0.0898597</td><td style=\"text-align: right;\">-0.0226412 </td><td style=\"text-align: right;\">0.0532929</td><td style=\"text-align: right;\">-0.0255545</td><td style=\"text-align: right;\">-0.170299 </td><td style=\"text-align: right;\">-0.00752662</td><td style=\"text-align: right;\"> 0.10511  </td><td style=\"text-align: right;\">-0.0986587</td><td style=\"text-align: right;\">-0.0628334</td><td style=\"text-align: right;\"> 0.0207825  </td><td style=\"text-align: right;\">-0.0980293</td><td style=\"text-align: right;\">0.0445809</td><td style=\"text-align: right;\">-0.152882 </td><td style=\"text-align: right;\">-0.150627 </td><td style=\"text-align: right;\">0.0660375</td><td style=\"text-align: right;\"> 0.0367726</td><td style=\"text-align: right;\">0.1755   </td><td style=\"text-align: right;\"> 0.0547301</td><td style=\"text-align: right;\">0.139016</td><td style=\"text-align: right;\">0.0138052</td><td style=\"text-align: right;\"> 0.0942586</td><td style=\"text-align: right;\">-0.0771686</td><td style=\"text-align: right;\">0.19868 </td><td style=\"text-align: right;\">-0.0902037</td><td style=\"text-align: right;\">0.124137 </td><td style=\"text-align: right;\"> 0.0109686</td><td style=\"text-align: right;\">0.151732</td><td style=\"text-align: right;\">-0.0246483 </td><td style=\"text-align: right;\">0.0220815  </td><td style=\"text-align: right;\">0.0760319</td><td style=\"text-align: right;\">-0.129161 </td><td style=\"text-align: right;\">0.0555044</td><td style=\"text-align: right;\">0.0485086</td><td style=\"text-align: right;\"> 0.15101  </td><td style=\"text-align: right;\">-0.0095916</td><td style=\"text-align: right;\">0.214063 </td><td style=\"text-align: right;\">-0.00148241</td><td style=\"text-align: right;\">-0.0495808</td><td style=\"text-align: right;\">-0.136553</td><td style=\"text-align: right;\">-0.0988832</td><td style=\"text-align: right;\">-0.0712226</td><td style=\"text-align: right;\">0.0317462</td><td style=\"text-align: right;\">-0.0840614</td><td style=\"text-align: right;\">0.158959 </td></tr>\n",
              "<tr><td>B0089SPEO2 </td><td>A3JOYNYL458QHP</td><td>Less lemon and less zing</td><td style=\"text-align: right;\">      3</td><td style=\"text-align: right;\">                       0</td><td style=\"text-align: right;\">28582</td><td>coleridge     </td><td style=\"text-align: right;\">                     0</td><td style=\"text-align: right;\">1.32391e+09</td><td>Everything is ok, except it just isn't as good as it is in the bags.  Just considerably more bland -- less lemon and less zing.  Boring.                                                                                                                                                                                                                                        </td><td style=\"text-align: right;\">               0</td><td>Yes    </td><td style=\"text-align: right;\"> 0.083247 </td><td style=\"text-align: right;\">0.102869 </td><td style=\"text-align: right;\"> 0.0455119</td><td style=\"text-align: right;\">-0.0526213</td><td style=\"text-align: right;\">0.153833  </td><td style=\"text-align: right;\">-0.152002 </td><td style=\"text-align: right;\">-0.0174297</td><td style=\"text-align: right;\">-0.00895996</td><td style=\"text-align: right;\">-0.235187 </td><td style=\"text-align: right;\">-0.171868</td><td style=\"text-align: right;\">-0.264151 </td><td style=\"text-align: right;\">-0.0393934</td><td style=\"text-align: right;\">0.130923 </td><td style=\"text-align: right;\">-0.108746 </td><td style=\"text-align: right;\">-0.00239468</td><td style=\"text-align: right;\"> 0.000110046</td><td style=\"text-align: right;\">-0.0646377</td><td style=\"text-align: right;\">0.0374242</td><td style=\"text-align: right;\">-0.207679 </td><td style=\"text-align: right;\">-0.0394262 </td><td style=\"text-align: right;\">-0.0224235</td><td style=\"text-align: right;\">0.133269</td><td style=\"text-align: right;\"> 0.0428463</td><td style=\"text-align: right;\">-0.00883173</td><td style=\"text-align: right;\"> 0.0549509</td><td style=\"text-align: right;\">0.13223 </td><td style=\"text-align: right;\">0.102811 </td><td style=\"text-align: right;\">0.0602145</td><td style=\"text-align: right;\">-0.0868577</td><td style=\"text-align: right;\">0.066324</td><td style=\"text-align: right;\">-0.0211561 </td><td style=\"text-align: right;\"> 0.0777884</td><td style=\"text-align: right;\">-0.0484114</td><td style=\"text-align: right;\">0.112608 </td><td style=\"text-align: right;\"> 0.0312672</td><td style=\"text-align: right;\">0.0404489 </td><td style=\"text-align: right;\">-0.0416478</td><td style=\"text-align: right;\">0.129834 </td><td style=\"text-align: right;\">-0.189087  </td><td style=\"text-align: right;\">-0.147081 </td><td style=\"text-align: right;\">-0.0568603</td><td style=\"text-align: right;\"> 0.0258648</td><td style=\"text-align: right;\">-0.0515194</td><td style=\"text-align: right;\">0.174433</td><td style=\"text-align: right;\">0.0907776</td><td style=\"text-align: right;\">0.229658</td><td style=\"text-align: right;\">-0.0600743</td><td style=\"text-align: right;\">0.0601609</td><td style=\"text-align: right;\">-0.00484006</td><td style=\"text-align: right;\">0.0784584</td><td style=\"text-align: right;\"> 0.144101  </td><td style=\"text-align: right;\">-0.048168 </td><td style=\"text-align: right;\">0.122465</td><td style=\"text-align: right;\">-0.0866785 </td><td style=\"text-align: right;\"> 0.00855735</td><td style=\"text-align: right;\"> 0.160046</td><td style=\"text-align: right;\">0.0777081</td><td style=\"text-align: right;\">-0.00017756</td><td style=\"text-align: right;\">0.135043 </td><td style=\"text-align: right;\"> 0.0919474</td><td style=\"text-align: right;\">-0.0604595</td><td style=\"text-align: right;\"> 0.113629  </td><td style=\"text-align: right;\">-0.0672977</td><td style=\"text-align: right;\">-0.100793 </td><td style=\"text-align: right;\">-0.159366 </td><td style=\"text-align: right;\">-0.000354876</td><td style=\"text-align: right;\">-0.0724062</td><td style=\"text-align: right;\">0.0981881</td><td style=\"text-align: right;\"> 0.0435634</td><td style=\"text-align: right;\">-0.0215086</td><td style=\"text-align: right;\">0.0861978</td><td style=\"text-align: right;\">-0.0452177</td><td style=\"text-align: right;\">0.0862949</td><td style=\"text-align: right;\">-0.0894611</td><td style=\"text-align: right;\">0.131223</td><td style=\"text-align: right;\">0.041581 </td><td style=\"text-align: right;\">-0.0409549</td><td style=\"text-align: right;\"> 0.0935415</td><td style=\"text-align: right;\">0.146042</td><td style=\"text-align: right;\">-0.0317286</td><td style=\"text-align: right;\">0.0370589</td><td style=\"text-align: right;\">-0.210835 </td><td style=\"text-align: right;\">0.068625</td><td style=\"text-align: right;\">-0.00252465</td><td style=\"text-align: right;\">0.000591666</td><td style=\"text-align: right;\">0.163246 </td><td style=\"text-align: right;\">-0.0895924</td><td style=\"text-align: right;\">0.080304 </td><td style=\"text-align: right;\">0.115315 </td><td style=\"text-align: right;\">-0.0533618</td><td style=\"text-align: right;\">-0.109371 </td><td style=\"text-align: right;\">0.0403049</td><td style=\"text-align: right;\"> 0.149495  </td><td style=\"text-align: right;\">-0.0255583</td><td style=\"text-align: right;\">-0.152807</td><td style=\"text-align: right;\">-0.137803 </td><td style=\"text-align: right;\">-0.136431 </td><td style=\"text-align: right;\">0.078818 </td><td style=\"text-align: right;\"> 0.114668 </td><td style=\"text-align: right;\">0.0376616</td></tr>\n",
              "</tbody>\n",
              "</table>"
            ]
          },
          "metadata": {
            "tags": []
          }
        },
        {
          "output_type": "execute_result",
          "data": {
            "text/plain": [
              ""
            ]
          },
          "metadata": {
            "tags": []
          },
          "execution_count": 25
        }
      ]
    },
    {
      "metadata": {
        "id": "HiC8KSbXymNf",
        "colab_type": "text"
      },
      "cell_type": "markdown",
      "source": [
        "#Train GBM with embeddings"
      ]
    },
    {
      "metadata": {
        "id": "2gPHi5s9u58K",
        "colab_type": "code",
        "colab": {}
      },
      "cell_type": "code",
      "source": [
        "ext_train = ext_reviews[ext_reviews['Train'] == 'Yes']\n",
        "ext_test = ext_reviews[ext_reviews['Train'] == 'No']"
      ],
      "execution_count": 0,
      "outputs": []
    },
    {
      "metadata": {
        "id": "BXUuV4RQu55l",
        "colab_type": "code",
        "colab": {}
      },
      "cell_type": "code",
      "source": [
        "predictors = ['ProductId', 'UserId', 'HelpfulnessDenominator','HelpfulnessNumerator', 'Time'] + review_vecs.names\n",
        "response = 'PositiveReview'"
      ],
      "execution_count": 0,
      "outputs": []
    },
    {
      "metadata": {
        "id": "TOMpQejMu53H",
        "colab_type": "code",
        "outputId": "24d392e3-e389-4915-d553-5614261e7556",
        "colab": {
          "base_uri": "https://localhost:8080/",
          "height": 34
        }
      },
      "cell_type": "code",
      "source": [
        "gbm_embeddings = H2OGradientBoostingEstimator(stopping_metric = \"AUC\", stopping_tolerance = 0.001,\n",
        "                                              stopping_rounds = 5, score_tree_interval = 10,\n",
        "                                              model_id = \"gbm_embeddings.hex\"\n",
        "                                             )\n",
        "gbm_embeddings.train(x = predictors, y = response, \n",
        "                   training_frame = ext_train, validation_frame = ext_test\n",
        "                  )"
      ],
      "execution_count": 0,
      "outputs": [
        {
          "output_type": "stream",
          "text": [
            "gbm Model Build progress: |███████████████████████████████████████████████| 100%\n"
          ],
          "name": "stdout"
        }
      ]
    },
    {
      "metadata": {
        "id": "Ak3ke39Ru50y",
        "colab_type": "code",
        "outputId": "d4761085-479d-426f-e3f8-23e0f465f85e",
        "colab": {
          "base_uri": "https://localhost:8080/",
          "height": 34
        }
      },
      "cell_type": "code",
      "source": [
        "print(f'AUC on Validation Data: {round(gbm_embeddings.auc(valid=True),3)}')"
      ],
      "execution_count": 0,
      "outputs": [
        {
          "output_type": "stream",
          "text": [
            "AUC on Validation Data: 0.875\n"
          ],
          "name": "stdout"
        }
      ]
    },
    {
      "metadata": {
        "id": "Ka8L76CV0mlA",
        "colab_type": "code",
        "outputId": "bf998905-a8ec-4ad2-c496-ade4b4d8722f",
        "colab": {
          "base_uri": "https://localhost:8080/",
          "height": 120
        }
      },
      "cell_type": "code",
      "source": [
        "gbm_embeddings.confusion_matrix(valid = True)"
      ],
      "execution_count": 0,
      "outputs": [
        {
          "output_type": "stream",
          "text": [
            "Confusion Matrix (Act/Pred) for max f1 @ threshold = 0.5549387872837458: \n"
          ],
          "name": "stdout"
        },
        {
          "output_type": "display_data",
          "data": {
            "text/html": [
              "<div style=\"overflow:auto\"><table style=\"width:50%\"><tr><td><b></b></td>\n",
              "<td><b>0</b></td>\n",
              "<td><b>1</b></td>\n",
              "<td><b>Error</b></td>\n",
              "<td><b>Rate</b></td></tr>\n",
              "<tr><td>0</td>\n",
              "<td>2046.0</td>\n",
              "<td>2614.0</td>\n",
              "<td>0.5609</td>\n",
              "<td> (2614.0/4660.0)</td></tr>\n",
              "<tr><td>1</td>\n",
              "<td>547.0</td>\n",
              "<td>14801.0</td>\n",
              "<td>0.0356</td>\n",
              "<td> (547.0/15348.0)</td></tr>\n",
              "<tr><td>Total</td>\n",
              "<td>2593.0</td>\n",
              "<td>17415.0</td>\n",
              "<td>0.158</td>\n",
              "<td> (3161.0/20008.0)</td></tr></table></div>"
            ],
            "text/plain": [
              "       0     1      Error    Rate\n",
              "-----  ----  -----  -------  ----------------\n",
              "0      2046  2614   0.5609   (2614.0/4660.0)\n",
              "1      547   14801  0.0356   (547.0/15348.0)\n",
              "Total  2593  17415  0.158    (3161.0/20008.0)"
            ]
          },
          "metadata": {
            "tags": []
          }
        },
        {
          "output_type": "execute_result",
          "data": {
            "text/plain": [
              ""
            ]
          },
          "metadata": {
            "tags": []
          },
          "execution_count": 127
        }
      ]
    },
    {
      "metadata": {
        "id": "SHDq7RfX0miT",
        "colab_type": "code",
        "outputId": "b5fc9534-ede2-40cd-eabe-3218acc989db",
        "colab": {
          "base_uri": "https://localhost:8080/",
          "height": 34
        }
      },
      "cell_type": "code",
      "source": [
        "gbm_embeddings.accuracy(valid = True)"
      ],
      "execution_count": 0,
      "outputs": [
        {
          "output_type": "execute_result",
          "data": {
            "text/plain": [
              "[[0.5754513906985252, 0.8429128348660536]]"
            ]
          },
          "metadata": {
            "tags": []
          },
          "execution_count": 130
        }
      ]
    },
    {
      "metadata": {
        "id": "-zXlZg7-0mf9",
        "colab_type": "code",
        "outputId": "029cd950-34c1-475a-88b9-b29c168912b1",
        "colab": {
          "base_uri": "https://localhost:8080/",
          "height": 164
        }
      },
      "cell_type": "code",
      "source": [
        "gbm_embeddings.mcc(valid = True)"
      ],
      "execution_count": 0,
      "outputs": [
        {
          "output_type": "error",
          "ename": "NameError",
          "evalue": "ignored",
          "traceback": [
            "\u001b[0;31m---------------------------------------------------------------------------\u001b[0m",
            "\u001b[0;31mNameError\u001b[0m                                 Traceback (most recent call last)",
            "\u001b[0;32m<ipython-input-1-df866509f34f>\u001b[0m in \u001b[0;36m<module>\u001b[0;34m()\u001b[0m\n\u001b[0;32m----> 1\u001b[0;31m \u001b[0mgbm_embeddings\u001b[0m\u001b[0;34m.\u001b[0m\u001b[0mmcc\u001b[0m\u001b[0;34m(\u001b[0m\u001b[0mvalid\u001b[0m \u001b[0;34m=\u001b[0m \u001b[0;32mTrue\u001b[0m\u001b[0;34m)\u001b[0m\u001b[0;34m\u001b[0m\u001b[0;34m\u001b[0m\u001b[0m\n\u001b[0m",
            "\u001b[0;31mNameError\u001b[0m: name 'gbm_embeddings' is not defined"
          ]
        }
      ]
    },
    {
      "metadata": {
        "id": "5UIXb32n0ma7",
        "colab_type": "code",
        "outputId": "24249544-80b9-4410-e1dd-72a33c7235a1",
        "colab": {
          "base_uri": "https://localhost:8080/",
          "height": 34
        }
      },
      "cell_type": "code",
      "source": [
        "gbm_embeddings.F0point5()"
      ],
      "execution_count": 0,
      "outputs": [
        {
          "output_type": "execute_result",
          "data": {
            "text/plain": [
              "[[0.7490719533858927, 0.9246686785162552]]"
            ]
          },
          "metadata": {
            "tags": []
          },
          "execution_count": 142
        }
      ]
    },
    {
      "metadata": {
        "id": "RDA-13Ko8-Xo",
        "colab_type": "text"
      },
      "cell_type": "markdown",
      "source": [
        "# Adding Summary"
      ]
    },
    {
      "metadata": {
        "id": "PjMxwhsJ0mYq",
        "colab_type": "code",
        "colab": {}
      },
      "cell_type": "code",
      "source": [
        "summary_words = tokenize(reviews['Summary'].ascharacter())"
      ],
      "execution_count": 0,
      "outputs": []
    },
    {
      "metadata": {
        "id": "erMqsqn90mWZ",
        "colab_type": "code",
        "colab": {}
      },
      "cell_type": "code",
      "source": [
        "summary_vecs = w2v_model.transform(summary_words, aggregate_method = 'AVERAGE')\n",
        "summary_vecs.names = ['summary_'+s for s in summary_vecs.names]\n",
        "ext_reviews = ext_reviews.cbind(summary_vecs)"
      ],
      "execution_count": 0,
      "outputs": []
    },
    {
      "metadata": {
        "id": "o0Tb4wDu0mTt",
        "colab_type": "code",
        "colab": {}
      },
      "cell_type": "code",
      "source": [
        "ext_train = ext_reviews[ext_reviews[\"Train\"] == \"Yes\"]\n",
        "ext_test = ext_reviews[ext_reviews[\"Train\"] == \"No\"]\n",
        "predictors = predictors + summary_vecs.names\n"
      ],
      "execution_count": 0,
      "outputs": []
    },
    {
      "metadata": {
        "id": "K8tORY0N0mRH",
        "colab_type": "code",
        "colab": {}
      },
      "cell_type": "code",
      "source": [
        "response = 'PositiveReview'"
      ],
      "execution_count": 0,
      "outputs": []
    },
    {
      "metadata": {
        "id": "9cTwjxMsu5xc",
        "colab_type": "code",
        "outputId": "f1cde594-5415-4b4f-e4e0-681758125412",
        "colab": {
          "base_uri": "https://localhost:8080/",
          "height": 34
        }
      },
      "cell_type": "code",
      "source": [
        "from h2o.estimators import H2OGradientBoostingEstimator\n",
        "\n",
        "gbm_plus_summary = H2OGradientBoostingEstimator(stopping_metric = \"AUC\", stopping_tolerance = 0.001,\n",
        "                                              stopping_rounds = 5, score_tree_interval = 10,\n",
        "                                              model_id = \"gbm_plus_summary.hex\"\n",
        "                                             )\n",
        "gbm_plus_summary.train(x = predictors, y = response, \n",
        "                       training_frame = ext_train, validation_frame = ext_test\n",
        "                      )"
      ],
      "execution_count": 0,
      "outputs": [
        {
          "output_type": "stream",
          "text": [
            "gbm Model Build progress: |███████████████████████████████████████████████| 100%\n"
          ],
          "name": "stdout"
        }
      ]
    },
    {
      "metadata": {
        "id": "iL342r9GFEWO",
        "colab_type": "code",
        "outputId": "2951608f-9fd4-4d2b-d344-0a2bd3786900",
        "colab": {
          "base_uri": "https://localhost:8080/",
          "height": 34
        }
      },
      "cell_type": "code",
      "source": [
        "print(f'AUC on Validation Data: {round(gbm_plus_summary.auc(valid=True),3)}')"
      ],
      "execution_count": 0,
      "outputs": [
        {
          "output_type": "stream",
          "text": [
            "AUC on Validation Data: 0.912\n"
          ],
          "name": "stdout"
        }
      ]
    },
    {
      "metadata": {
        "id": "2ZLQpXszFNFb",
        "colab_type": "code",
        "colab": {}
      },
      "cell_type": "code",
      "source": [
        ""
      ],
      "execution_count": 0,
      "outputs": []
    },
    {
      "metadata": {
        "id": "5B0YSvU0FNCx",
        "colab_type": "code",
        "outputId": "63b25099-02d8-40ef-f0fa-41c846b53379",
        "colab": {
          "base_uri": "https://localhost:8080/",
          "height": 632
        }
      },
      "cell_type": "code",
      "source": [
        "gbm_plus_summary.varimp_plot()"
      ],
      "execution_count": 0,
      "outputs": [
        {
          "output_type": "display_data",
          "data": {
            "image/png": "[encoded data removed]",
            "text/plain": [
              "<Figure size 1008x720 with 1 Axes>"
            ]
          },
          "metadata": {
            "tags": []
          }
        }
      ]
    },
    {
      "metadata": {
        "id": "hbZqg-MrFM_y",
        "colab_type": "code",
        "outputId": "2ce67fa3-8d0b-47d0-9648-4d69bfc730b0",
        "colab": {
          "base_uri": "https://localhost:8080/",
          "height": 758
        }
      },
      "cell_type": "code",
      "source": [
        "pdp_word_vecs = gbm_plus_summary.partial_plot(data = ext_train, cols = ['C12'])"
      ],
      "execution_count": 0,
      "outputs": [
        {
          "output_type": "stream",
          "text": [
            "PartialDependencePlot progress: |█████████████████████████████████████████| 100%\n"
          ],
          "name": "stdout"
        },
        {
          "output_type": "display_data",
          "data": {
            "image/png": "[encoded data removed]",
            "text/plain": [
              "<Figure size 504x720 with 1 Axes>"
            ]
          },
          "metadata": {
            "tags": []
          }
        }
      ]
    },
    {
      "metadata": {
        "id": "CKB9OiA2FM9U",
        "colab_type": "code",
        "colab": {}
      },
      "cell_type": "code",
      "source": [
        "# Get Word Embeddings per Word\n",
        "unique_words = summary_words.asfactor().unique().ascharacter()\n",
        "unique_words.col_names = [\"Word\"]\n",
        "word_embeddings = w2v_model.transform(unique_words, aggregate_method=\"None\")\n",
        "word_embeddings = unique_words.cbind(word_embeddings)\n",
        "word_embeddings = word_embeddings[~(word_embeddings[\"C1\"].isna())]"
      ],
      "execution_count": 0,
      "outputs": []
    },
    {
      "metadata": {
        "id": "7ohsoXJVGyjf",
        "colab_type": "code",
        "outputId": "82bc6fd3-de6a-431b-aad6-45d9a259801e",
        "colab": {
          "base_uri": "https://localhost:8080/",
          "height": 304
        }
      },
      "cell_type": "code",
      "source": [
        "word_embeddings"
      ],
      "execution_count": 0,
      "outputs": [
        {
          "output_type": "display_data",
          "data": {
            "text/html": [
              "<table>\n",
              "<thead>\n",
              "<tr><th>Word     </th><th style=\"text-align: right;\">        C1</th><th style=\"text-align: right;\">         C2</th><th style=\"text-align: right;\">         C3</th><th style=\"text-align: right;\">        C4</th><th style=\"text-align: right;\">        C5</th><th style=\"text-align: right;\">         C6</th><th style=\"text-align: right;\">         C7</th><th style=\"text-align: right;\">        C8</th><th style=\"text-align: right;\">        C9</th><th style=\"text-align: right;\">       C10</th><th style=\"text-align: right;\">       C11</th><th style=\"text-align: right;\">       C12</th><th style=\"text-align: right;\">        C13</th><th style=\"text-align: right;\">        C14</th><th style=\"text-align: right;\">        C15</th><th style=\"text-align: right;\">       C16</th><th style=\"text-align: right;\">        C17</th><th style=\"text-align: right;\">       C18</th><th style=\"text-align: right;\">       C19</th><th style=\"text-align: right;\">        C20</th><th style=\"text-align: right;\">       C21</th><th style=\"text-align: right;\">       C22</th><th style=\"text-align: right;\">         C23</th><th style=\"text-align: right;\">       C24</th><th style=\"text-align: right;\">       C25</th><th style=\"text-align: right;\">       C26</th><th style=\"text-align: right;\">      C27</th><th style=\"text-align: right;\">       C28</th><th style=\"text-align: right;\">        C29</th><th style=\"text-align: right;\">       C30</th><th style=\"text-align: right;\">        C31</th><th style=\"text-align: right;\">       C32</th><th style=\"text-align: right;\">        C33</th><th style=\"text-align: right;\">       C34</th><th style=\"text-align: right;\">       C35</th><th style=\"text-align: right;\">       C36</th><th style=\"text-align: right;\">       C37</th><th style=\"text-align: right;\">        C38</th><th style=\"text-align: right;\">        C39</th><th style=\"text-align: right;\">       C40</th><th style=\"text-align: right;\">       C41</th><th style=\"text-align: right;\">        C42</th><th style=\"text-align: right;\">       C43</th><th style=\"text-align: right;\">       C44</th><th style=\"text-align: right;\">        C45</th><th style=\"text-align: right;\">       C46</th><th style=\"text-align: right;\">       C47</th><th style=\"text-align: right;\">        C48</th><th style=\"text-align: right;\">        C49</th><th style=\"text-align: right;\">       C50</th><th style=\"text-align: right;\">       C51</th><th style=\"text-align: right;\">       C52</th><th style=\"text-align: right;\">      C53</th><th style=\"text-align: right;\">        C54</th><th style=\"text-align: right;\">       C55</th><th style=\"text-align: right;\">       C56</th><th style=\"text-align: right;\">       C57</th><th style=\"text-align: right;\">       C58</th><th style=\"text-align: right;\">       C59</th><th style=\"text-align: right;\">       C60</th><th style=\"text-align: right;\">       C61</th><th style=\"text-align: right;\">       C62</th><th style=\"text-align: right;\">        C63</th><th style=\"text-align: right;\">       C64</th><th style=\"text-align: right;\">       C65</th><th style=\"text-align: right;\">        C66</th><th style=\"text-align: right;\">       C67</th><th style=\"text-align: right;\">        C68</th><th style=\"text-align: right;\">       C69</th><th style=\"text-align: right;\">       C70</th><th style=\"text-align: right;\">       C71</th><th style=\"text-align: right;\">       C72</th><th style=\"text-align: right;\">       C73</th><th style=\"text-align: right;\">       C74</th><th style=\"text-align: right;\">        C75</th><th style=\"text-align: right;\">       C76</th><th style=\"text-align: right;\">       C77</th><th style=\"text-align: right;\">       C78</th><th style=\"text-align: right;\">       C79</th><th style=\"text-align: right;\">       C80</th><th style=\"text-align: right;\">        C81</th><th style=\"text-align: right;\">        C82</th><th style=\"text-align: right;\">        C83</th><th style=\"text-align: right;\">         C84</th><th style=\"text-align: right;\">        C85</th><th style=\"text-align: right;\">       C86</th><th style=\"text-align: right;\">        C87</th><th style=\"text-align: right;\">       C88</th><th style=\"text-align: right;\">       C89</th><th style=\"text-align: right;\">       C90</th><th style=\"text-align: right;\">        C91</th><th style=\"text-align: right;\">       C92</th><th style=\"text-align: right;\">       C93</th><th style=\"text-align: right;\">       C94</th><th style=\"text-align: right;\">       C95</th><th style=\"text-align: right;\">         C96</th><th style=\"text-align: right;\">        C97</th><th style=\"text-align: right;\">      C98</th><th style=\"text-align: right;\">       C99</th><th style=\"text-align: right;\">      C100</th></tr>\n",
              "</thead>\n",
              "<tbody>\n",
              "<tr><td>aa       </td><td style=\"text-align: right;\"> 0.029092 </td><td style=\"text-align: right;\">-0.117329  </td><td style=\"text-align: right;\"> 0.0537625 </td><td style=\"text-align: right;\">-0.0697117</td><td style=\"text-align: right;\"> 0.287874 </td><td style=\"text-align: right;\">-0.00254658</td><td style=\"text-align: right;\"> 0.210048  </td><td style=\"text-align: right;\">-0.136762 </td><td style=\"text-align: right;\"> 0.0427679</td><td style=\"text-align: right;\">-0.334558 </td><td style=\"text-align: right;\">-0.355636 </td><td style=\"text-align: right;\"> 0.579245 </td><td style=\"text-align: right;\">-0.495021  </td><td style=\"text-align: right;\"> 0.270712  </td><td style=\"text-align: right;\">-0.0687201 </td><td style=\"text-align: right;\">-0.730787 </td><td style=\"text-align: right;\">-0.0170917 </td><td style=\"text-align: right;\"> 0.35515  </td><td style=\"text-align: right;\">-0.0558159</td><td style=\"text-align: right;\">-0.259497  </td><td style=\"text-align: right;\"> 0.188917 </td><td style=\"text-align: right;\">-0.0307768</td><td style=\"text-align: right;\">-0.17509    </td><td style=\"text-align: right;\">-0.177578 </td><td style=\"text-align: right;\"> 0.458032 </td><td style=\"text-align: right;\"> 0.0366684</td><td style=\"text-align: right;\">0.0551966</td><td style=\"text-align: right;\"> 0.101793 </td><td style=\"text-align: right;\"> 0.0659445 </td><td style=\"text-align: right;\">-0.361489 </td><td style=\"text-align: right;\">-0.480904  </td><td style=\"text-align: right;\">-0.0313347</td><td style=\"text-align: right;\">-0.0191771 </td><td style=\"text-align: right;\">-0.196597 </td><td style=\"text-align: right;\">-0.0757096</td><td style=\"text-align: right;\"> 0.306963 </td><td style=\"text-align: right;\">-0.100564 </td><td style=\"text-align: right;\">-0.559201  </td><td style=\"text-align: right;\"> 0.0258643 </td><td style=\"text-align: right;\">-0.0533983</td><td style=\"text-align: right;\">-0.283671 </td><td style=\"text-align: right;\">-0.273267  </td><td style=\"text-align: right;\">-0.179011 </td><td style=\"text-align: right;\">-0.312378 </td><td style=\"text-align: right;\">-0.183994  </td><td style=\"text-align: right;\"> 0.0770409</td><td style=\"text-align: right;\">-0.156881 </td><td style=\"text-align: right;\">-0.127337  </td><td style=\"text-align: right;\">-0.0677455 </td><td style=\"text-align: right;\"> 0.21665  </td><td style=\"text-align: right;\"> 0.201273 </td><td style=\"text-align: right;\">-0.607145 </td><td style=\"text-align: right;\">0.0708613</td><td style=\"text-align: right;\"> 0.294312  </td><td style=\"text-align: right;\">-0.431302 </td><td style=\"text-align: right;\">-0.381131 </td><td style=\"text-align: right;\"> 0.0548497</td><td style=\"text-align: right;\">-0.0192432</td><td style=\"text-align: right;\"> 0.336144 </td><td style=\"text-align: right;\">0.385707  </td><td style=\"text-align: right;\">-0.165109 </td><td style=\"text-align: right;\">-0.213158 </td><td style=\"text-align: right;\">-0.0669555 </td><td style=\"text-align: right;\">-0.0242088</td><td style=\"text-align: right;\">-0.1039   </td><td style=\"text-align: right;\">-0.11178   </td><td style=\"text-align: right;\"> 0.160233 </td><td style=\"text-align: right;\"> 0.016812  </td><td style=\"text-align: right;\"> 0.409889 </td><td style=\"text-align: right;\"> 0.266545 </td><td style=\"text-align: right;\"> 0.691305 </td><td style=\"text-align: right;\">-0.207976 </td><td style=\"text-align: right;\">-0.102854 </td><td style=\"text-align: right;\">-0.0932306</td><td style=\"text-align: right;\">-0.00126054</td><td style=\"text-align: right;\">-0.0603053</td><td style=\"text-align: right;\"> 0.548074 </td><td style=\"text-align: right;\">-0.196542 </td><td style=\"text-align: right;\">-0.409358 </td><td style=\"text-align: right;\">-0.0258621</td><td style=\"text-align: right;\"> 0.175579  </td><td style=\"text-align: right;\">-0.312181  </td><td style=\"text-align: right;\"> 0.280491  </td><td style=\"text-align: right;\">-0.350192   </td><td style=\"text-align: right;\"> 0.0191343 </td><td style=\"text-align: right;\"> 0.312428 </td><td style=\"text-align: right;\">-0.0828037 </td><td style=\"text-align: right;\"> 0.172727 </td><td style=\"text-align: right;\">-0.375991 </td><td style=\"text-align: right;\">-0.130456 </td><td style=\"text-align: right;\"> 0.0738062 </td><td style=\"text-align: right;\"> 0.529666 </td><td style=\"text-align: right;\">-0.268026 </td><td style=\"text-align: right;\">-0.079465 </td><td style=\"text-align: right;\">-0.571229 </td><td style=\"text-align: right;\">-0.716438   </td><td style=\"text-align: right;\">-0.343874  </td><td style=\"text-align: right;\">0.0314978</td><td style=\"text-align: right;\"> 0.260141 </td><td style=\"text-align: right;\"> 0.143972 </td></tr>\n",
              "<tr><td>aaa      </td><td style=\"text-align: right;\">-0.124209 </td><td style=\"text-align: right;\"> 0.145792  </td><td style=\"text-align: right;\">-0.156906  </td><td style=\"text-align: right;\"> 0.0116735</td><td style=\"text-align: right;\">-0.0366009</td><td style=\"text-align: right;\">-0.25514   </td><td style=\"text-align: right;\"> 0.00987346</td><td style=\"text-align: right;\">-0.131123 </td><td style=\"text-align: right;\">-0.3346   </td><td style=\"text-align: right;\">-0.16908  </td><td style=\"text-align: right;\">-0.0535209</td><td style=\"text-align: right;\"> 0.096909 </td><td style=\"text-align: right;\">-0.0220011 </td><td style=\"text-align: right;\"> 0.0326328 </td><td style=\"text-align: right;\">-0.0421776 </td><td style=\"text-align: right;\">-0.212571 </td><td style=\"text-align: right;\"> 0.160064  </td><td style=\"text-align: right;\"> 0.0644105</td><td style=\"text-align: right;\">-0.186383 </td><td style=\"text-align: right;\">-0.136889  </td><td style=\"text-align: right;\"> 0.19961  </td><td style=\"text-align: right;\"> 0.115175 </td><td style=\"text-align: right;\"> 0.0388524  </td><td style=\"text-align: right;\"> 0.0227902</td><td style=\"text-align: right;\"> 0.126286 </td><td style=\"text-align: right;\"> 0.212425 </td><td style=\"text-align: right;\">0.145658 </td><td style=\"text-align: right;\"> 0.179555 </td><td style=\"text-align: right;\">-0.124992  </td><td style=\"text-align: right;\"> 0.210767 </td><td style=\"text-align: right;\"> 0.0814623 </td><td style=\"text-align: right;\">-0.0770555</td><td style=\"text-align: right;\"> 0.00265771</td><td style=\"text-align: right;\"> 0.0453787</td><td style=\"text-align: right;\"> 0.0836823</td><td style=\"text-align: right;\">-0.0937575</td><td style=\"text-align: right;\"> 0.280179 </td><td style=\"text-align: right;\">-0.00510491</td><td style=\"text-align: right;\"> 0.237304  </td><td style=\"text-align: right;\">-0.0196796</td><td style=\"text-align: right;\"> 0.139403 </td><td style=\"text-align: right;\">-0.150945  </td><td style=\"text-align: right;\">-0.0181001</td><td style=\"text-align: right;\"> 0.158317 </td><td style=\"text-align: right;\"> 0.162923  </td><td style=\"text-align: right;\"> 0.0970619</td><td style=\"text-align: right;\">-0.113827 </td><td style=\"text-align: right;\"> 0.0362514 </td><td style=\"text-align: right;\">-0.151963  </td><td style=\"text-align: right;\"> 0.107428 </td><td style=\"text-align: right;\">-0.0440289</td><td style=\"text-align: right;\"> 0.31353  </td><td style=\"text-align: right;\">0.0666288</td><td style=\"text-align: right;\"> 0.128978  </td><td style=\"text-align: right;\">-0.0464596</td><td style=\"text-align: right;\">-0.101648 </td><td style=\"text-align: right;\"> 0.0461971</td><td style=\"text-align: right;\"> 0.0256168</td><td style=\"text-align: right;\"> 0.21315  </td><td style=\"text-align: right;\">0.127023  </td><td style=\"text-align: right;\">-0.0988737</td><td style=\"text-align: right;\"> 0.130559 </td><td style=\"text-align: right;\"> 0.0674882 </td><td style=\"text-align: right;\"> 0.0183614</td><td style=\"text-align: right;\">-0.154388 </td><td style=\"text-align: right;\">-0.105995  </td><td style=\"text-align: right;\">-0.278653 </td><td style=\"text-align: right;\"> 0.0319618 </td><td style=\"text-align: right;\">-0.0822952</td><td style=\"text-align: right;\">-0.118171 </td><td style=\"text-align: right;\"> 0.0340789</td><td style=\"text-align: right;\">-0.11196  </td><td style=\"text-align: right;\">-0.0186627</td><td style=\"text-align: right;\">-0.133128 </td><td style=\"text-align: right;\">-0.0841192 </td><td style=\"text-align: right;\"> 0.156409 </td><td style=\"text-align: right;\">-0.110417 </td><td style=\"text-align: right;\">-0.126851 </td><td style=\"text-align: right;\"> 0.0272573</td><td style=\"text-align: right;\"> 0.228992 </td><td style=\"text-align: right;\"> 0.207671  </td><td style=\"text-align: right;\"> 0.2134    </td><td style=\"text-align: right;\">-0.114773  </td><td style=\"text-align: right;\"> 0.0794591  </td><td style=\"text-align: right;\"> 0.124394  </td><td style=\"text-align: right;\">-0.0999802</td><td style=\"text-align: right;\">-0.283893  </td><td style=\"text-align: right;\"> 0.0966613</td><td style=\"text-align: right;\"> 0.0460222</td><td style=\"text-align: right;\"> 0.158783 </td><td style=\"text-align: right;\">-0.142605  </td><td style=\"text-align: right;\"> 0.208611 </td><td style=\"text-align: right;\">-0.0704097</td><td style=\"text-align: right;\">-0.127221 </td><td style=\"text-align: right;\">-0.303552 </td><td style=\"text-align: right;\">-0.190036   </td><td style=\"text-align: right;\">-0.00335812</td><td style=\"text-align: right;\">0.145233 </td><td style=\"text-align: right;\"> 0.0312736</td><td style=\"text-align: right;\">-0.117551 </td></tr>\n",
              "<tr><td>aaah     </td><td style=\"text-align: right;\">-0.212944 </td><td style=\"text-align: right;\"> 0.275176  </td><td style=\"text-align: right;\">-0.00254719</td><td style=\"text-align: right;\">-0.122985 </td><td style=\"text-align: right;\"> 0.137706 </td><td style=\"text-align: right;\">-0.0624594 </td><td style=\"text-align: right;\">-0.00987577</td><td style=\"text-align: right;\">-0.0609369</td><td style=\"text-align: right;\">-0.287903 </td><td style=\"text-align: right;\">-0.106259 </td><td style=\"text-align: right;\">-0.147927 </td><td style=\"text-align: right;\"> 0.0985058</td><td style=\"text-align: right;\"> 0.155889  </td><td style=\"text-align: right;\"> 0.00838968</td><td style=\"text-align: right;\">-0.139703  </td><td style=\"text-align: right;\">-0.0790587</td><td style=\"text-align: right;\">-0.150657  </td><td style=\"text-align: right;\"> 0.0427222</td><td style=\"text-align: right;\">-0.331432 </td><td style=\"text-align: right;\">-0.00552118</td><td style=\"text-align: right;\">-0.123646 </td><td style=\"text-align: right;\"> 0.094539 </td><td style=\"text-align: right;\">-0.085097   </td><td style=\"text-align: right;\">-0.0415384</td><td style=\"text-align: right;\"> 0.193869 </td><td style=\"text-align: right;\">-0.143504 </td><td style=\"text-align: right;\">0.182849 </td><td style=\"text-align: right;\"> 0.108122 </td><td style=\"text-align: right;\">-0.0124985 </td><td style=\"text-align: right;\"> 0.286507 </td><td style=\"text-align: right;\"> 0.0846775 </td><td style=\"text-align: right;\"> 0.329579 </td><td style=\"text-align: right;\"> 0.343261  </td><td style=\"text-align: right;\">-0.0786061</td><td style=\"text-align: right;\">-0.113295 </td><td style=\"text-align: right;\">-0.0128741</td><td style=\"text-align: right;\"> 0.0113414</td><td style=\"text-align: right;\">-0.0486632 </td><td style=\"text-align: right;\"> 0.0377394 </td><td style=\"text-align: right;\">-0.188668 </td><td style=\"text-align: right;\"> 0.0552211</td><td style=\"text-align: right;\">-0.0587902 </td><td style=\"text-align: right;\">-0.0689597</td><td style=\"text-align: right;\"> 0.231622 </td><td style=\"text-align: right;\"> 0.105551  </td><td style=\"text-align: right;\"> 0.0631539</td><td style=\"text-align: right;\"> 0.12082  </td><td style=\"text-align: right;\"> 0.061934  </td><td style=\"text-align: right;\"> 0.056726  </td><td style=\"text-align: right;\"> 0.0948357</td><td style=\"text-align: right;\"> 0.0269059</td><td style=\"text-align: right;\">-0.120303 </td><td style=\"text-align: right;\">0.104962 </td><td style=\"text-align: right;\"> 0.0956343 </td><td style=\"text-align: right;\"> 0.0393345</td><td style=\"text-align: right;\"> 0.18845  </td><td style=\"text-align: right;\">-0.0920131</td><td style=\"text-align: right;\"> 0.0556854</td><td style=\"text-align: right;\"> 0.0207604</td><td style=\"text-align: right;\">0.235515  </td><td style=\"text-align: right;\">-0.0942533</td><td style=\"text-align: right;\">-0.0359505</td><td style=\"text-align: right;\"> 0.0574809 </td><td style=\"text-align: right;\"> 0.0321417</td><td style=\"text-align: right;\"> 0.0249149</td><td style=\"text-align: right;\"> 0.127077  </td><td style=\"text-align: right;\">-0.209047 </td><td style=\"text-align: right;\"> 0.00032689</td><td style=\"text-align: right;\">-0.0887268</td><td style=\"text-align: right;\"> 0.0710756</td><td style=\"text-align: right;\"> 0.0966258</td><td style=\"text-align: right;\">-0.069888 </td><td style=\"text-align: right;\"> 0.191039 </td><td style=\"text-align: right;\">-0.142279 </td><td style=\"text-align: right;\"> 0.201809  </td><td style=\"text-align: right;\"> 0.0805401</td><td style=\"text-align: right;\"> 0.0762053</td><td style=\"text-align: right;\">-0.327359 </td><td style=\"text-align: right;\">-0.105065 </td><td style=\"text-align: right;\"> 0.0295985</td><td style=\"text-align: right;\">-0.0364042 </td><td style=\"text-align: right;\">-0.103658  </td><td style=\"text-align: right;\">-0.00322328</td><td style=\"text-align: right;\"> 0.0340764  </td><td style=\"text-align: right;\"> 0.205072  </td><td style=\"text-align: right;\"> 0.0324688</td><td style=\"text-align: right;\">-0.31178   </td><td style=\"text-align: right;\">-0.0642578</td><td style=\"text-align: right;\"> 0.21138  </td><td style=\"text-align: right;\">-0.185209 </td><td style=\"text-align: right;\"> 0.0263075 </td><td style=\"text-align: right;\"> 0.104409 </td><td style=\"text-align: right;\"> 0.183577 </td><td style=\"text-align: right;\">-0.0211353</td><td style=\"text-align: right;\">-0.314838 </td><td style=\"text-align: right;\">-0.115686   </td><td style=\"text-align: right;\">-0.0212397 </td><td style=\"text-align: right;\">0.074265 </td><td style=\"text-align: right;\"> 0.0164078</td><td style=\"text-align: right;\">-0.0275845</td></tr>\n",
              "<tr><td>aacute   </td><td style=\"text-align: right;\">-0.0793622</td><td style=\"text-align: right;\"> 0.127803  </td><td style=\"text-align: right;\"> 0.147367  </td><td style=\"text-align: right;\">-0.19156  </td><td style=\"text-align: right;\">-0.107474 </td><td style=\"text-align: right;\"> 0.0218987 </td><td style=\"text-align: right;\">-0.00295859</td><td style=\"text-align: right;\">-0.106011 </td><td style=\"text-align: right;\"> 0.193867 </td><td style=\"text-align: right;\">-0.134016 </td><td style=\"text-align: right;\"> 0.0805893</td><td style=\"text-align: right;\">-0.116901 </td><td style=\"text-align: right;\">-0.12396   </td><td style=\"text-align: right;\">-0.159412  </td><td style=\"text-align: right;\"> 0.0558042 </td><td style=\"text-align: right;\"> 0.0856956</td><td style=\"text-align: right;\"> 0.56071   </td><td style=\"text-align: right;\">-0.230821 </td><td style=\"text-align: right;\">-0.419845 </td><td style=\"text-align: right;\">-0.252627  </td><td style=\"text-align: right;\">-0.319596 </td><td style=\"text-align: right;\"> 0.237918 </td><td style=\"text-align: right;\"> 0.0261933  </td><td style=\"text-align: right;\">-0.350931 </td><td style=\"text-align: right;\"> 0.210937 </td><td style=\"text-align: right;\">-0.113507 </td><td style=\"text-align: right;\">0.266292 </td><td style=\"text-align: right;\"> 0.0786942</td><td style=\"text-align: right;\">-0.277101  </td><td style=\"text-align: right;\">-0.247451 </td><td style=\"text-align: right;\">-0.0960284 </td><td style=\"text-align: right;\"> 0.460362 </td><td style=\"text-align: right;\"> 0.209922  </td><td style=\"text-align: right;\"> 0.313798 </td><td style=\"text-align: right;\"> 0.17598  </td><td style=\"text-align: right;\">-0.153172 </td><td style=\"text-align: right;\">-0.421101 </td><td style=\"text-align: right;\">-0.335617  </td><td style=\"text-align: right;\">-0.0847707 </td><td style=\"text-align: right;\">-0.0349524</td><td style=\"text-align: right;\"> 0.527783 </td><td style=\"text-align: right;\">-0.397779  </td><td style=\"text-align: right;\">-0.129655 </td><td style=\"text-align: right;\">-0.245226 </td><td style=\"text-align: right;\"> 0.0620601 </td><td style=\"text-align: right;\"> 0.204425 </td><td style=\"text-align: right;\">-0.198245 </td><td style=\"text-align: right;\"> 0.0823046 </td><td style=\"text-align: right;\"> 0.0763633 </td><td style=\"text-align: right;\"> 0.130602 </td><td style=\"text-align: right;\"> 0.110459 </td><td style=\"text-align: right;\">-0.0854858</td><td style=\"text-align: right;\">0.244522 </td><td style=\"text-align: right;\">-0.152805  </td><td style=\"text-align: right;\">-0.483799 </td><td style=\"text-align: right;\"> 0.107812 </td><td style=\"text-align: right;\">-0.109976 </td><td style=\"text-align: right;\"> 0.117021 </td><td style=\"text-align: right;\">-0.0596762</td><td style=\"text-align: right;\">0.171777  </td><td style=\"text-align: right;\">-0.0656986</td><td style=\"text-align: right;\"> 0.143282 </td><td style=\"text-align: right;\"> 0.388564  </td><td style=\"text-align: right;\"> 0.497382 </td><td style=\"text-align: right;\"> 0.21028  </td><td style=\"text-align: right;\">-0.0426213 </td><td style=\"text-align: right;\">-0.222309 </td><td style=\"text-align: right;\"> 0.0278458 </td><td style=\"text-align: right;\"> 0.0833507</td><td style=\"text-align: right;\"> 0.10999  </td><td style=\"text-align: right;\"> 0.0929554</td><td style=\"text-align: right;\">-0.220818 </td><td style=\"text-align: right;\"> 0.0524959</td><td style=\"text-align: right;\"> 0.123911 </td><td style=\"text-align: right;\">-0.111858  </td><td style=\"text-align: right;\">-0.286596 </td><td style=\"text-align: right;\"> 0.662431 </td><td style=\"text-align: right;\"> 0.0419996</td><td style=\"text-align: right;\"> 0.234035 </td><td style=\"text-align: right;\">-0.0104997</td><td style=\"text-align: right;\"> 0.523431  </td><td style=\"text-align: right;\"> 0.0163563 </td><td style=\"text-align: right;\"> 0.319259  </td><td style=\"text-align: right;\"> 0.17238    </td><td style=\"text-align: right;\"> 0.278368  </td><td style=\"text-align: right;\"> 0.0266614</td><td style=\"text-align: right;\"> 0.00883334</td><td style=\"text-align: right;\"> 0.193916 </td><td style=\"text-align: right;\">-0.122663 </td><td style=\"text-align: right;\">-0.0986248</td><td style=\"text-align: right;\"> 0.00796326</td><td style=\"text-align: right;\"> 0.461812 </td><td style=\"text-align: right;\">-0.0364192</td><td style=\"text-align: right;\">-0.221733 </td><td style=\"text-align: right;\">-0.495739 </td><td style=\"text-align: right;\"> 0.000969264</td><td style=\"text-align: right;\"> 0.20578   </td><td style=\"text-align: right;\">0.0863605</td><td style=\"text-align: right;\">-0.0839808</td><td style=\"text-align: right;\"> 0.0128865</td></tr>\n",
              "<tr><td>abandon  </td><td style=\"text-align: right;\"> 0.0961129</td><td style=\"text-align: right;\"> 0.130876  </td><td style=\"text-align: right;\">-0.168114  </td><td style=\"text-align: right;\"> 0.0328804</td><td style=\"text-align: right;\">-0.0104425</td><td style=\"text-align: right;\">-0.0656396 </td><td style=\"text-align: right;\"> 0.0420641 </td><td style=\"text-align: right;\"> 0.15388  </td><td style=\"text-align: right;\">-0.0286446</td><td style=\"text-align: right;\">-0.336778 </td><td style=\"text-align: right;\">-0.217113 </td><td style=\"text-align: right;\"> 0.037652 </td><td style=\"text-align: right;\">-0.145385  </td><td style=\"text-align: right;\"> 0.173861  </td><td style=\"text-align: right;\">-0.0882732 </td><td style=\"text-align: right;\">-0.183855 </td><td style=\"text-align: right;\">-0.257305  </td><td style=\"text-align: right;\"> 0.120261 </td><td style=\"text-align: right;\">-0.0755236</td><td style=\"text-align: right;\"> 0.0159444 </td><td style=\"text-align: right;\"> 0.0921778</td><td style=\"text-align: right;\"> 0.105462 </td><td style=\"text-align: right;\"> 0.0504931  </td><td style=\"text-align: right;\">-0.0930906</td><td style=\"text-align: right;\"> 0.0604334</td><td style=\"text-align: right;\">-0.0690253</td><td style=\"text-align: right;\">0.175989 </td><td style=\"text-align: right;\"> 0.202165 </td><td style=\"text-align: right;\">-0.151033  </td><td style=\"text-align: right;\"> 0.255897 </td><td style=\"text-align: right;\">-0.00994807</td><td style=\"text-align: right;\">-0.0309803</td><td style=\"text-align: right;\"> 0.0758609 </td><td style=\"text-align: right;\"> 0.125729 </td><td style=\"text-align: right;\">-0.055245 </td><td style=\"text-align: right;\">-0.0564807</td><td style=\"text-align: right;\"> 0.0511892</td><td style=\"text-align: right;\">-0.0368543 </td><td style=\"text-align: right;\">-0.0445167 </td><td style=\"text-align: right;\">-0.20327  </td><td style=\"text-align: right;\"> 0.0720122</td><td style=\"text-align: right;\"> 0.0839004 </td><td style=\"text-align: right;\">-0.104278 </td><td style=\"text-align: right;\">-0.0671818</td><td style=\"text-align: right;\"> 0.247576  </td><td style=\"text-align: right;\">-0.0620911</td><td style=\"text-align: right;\"> 0.0527054</td><td style=\"text-align: right;\"> 0.00438843</td><td style=\"text-align: right;\">-0.00755208</td><td style=\"text-align: right;\">-0.0274413</td><td style=\"text-align: right;\"> 0.258867 </td><td style=\"text-align: right;\"> 0.190153 </td><td style=\"text-align: right;\">0.124677 </td><td style=\"text-align: right;\"> 0.164059  </td><td style=\"text-align: right;\">-0.295873 </td><td style=\"text-align: right;\">-0.191297 </td><td style=\"text-align: right;\"> 0.0474213</td><td style=\"text-align: right;\">-0.0252744</td><td style=\"text-align: right;\"> 0.334392 </td><td style=\"text-align: right;\">0.413136  </td><td style=\"text-align: right;\">-0.0886217</td><td style=\"text-align: right;\"> 0.110169 </td><td style=\"text-align: right;\"> 0.145     </td><td style=\"text-align: right;\"> 0.0474885</td><td style=\"text-align: right;\">-0.174276 </td><td style=\"text-align: right;\">-0.119233  </td><td style=\"text-align: right;\">-0.0129335</td><td style=\"text-align: right;\">-0.10621   </td><td style=\"text-align: right;\"> 0.0404195</td><td style=\"text-align: right;\"> 0.0239245</td><td style=\"text-align: right;\"> 0.0192331</td><td style=\"text-align: right;\">-0.0690288</td><td style=\"text-align: right;\"> 0.0742951</td><td style=\"text-align: right;\">-0.251889 </td><td style=\"text-align: right;\"> 0.242967  </td><td style=\"text-align: right;\"> 0.225046 </td><td style=\"text-align: right;\">-0.0217036</td><td style=\"text-align: right;\"> 0.0360866</td><td style=\"text-align: right;\"> 0.232475 </td><td style=\"text-align: right;\"> 0.107283 </td><td style=\"text-align: right;\"> 0.227597  </td><td style=\"text-align: right;\">-0.227333  </td><td style=\"text-align: right;\"> 0.224694  </td><td style=\"text-align: right;\">-0.203728   </td><td style=\"text-align: right;\"> 0.104616  </td><td style=\"text-align: right;\">-0.038558 </td><td style=\"text-align: right;\">-0.225026  </td><td style=\"text-align: right;\">-0.220667 </td><td style=\"text-align: right;\"> 0.0692103</td><td style=\"text-align: right;\"> 0.0873941</td><td style=\"text-align: right;\">-0.169489  </td><td style=\"text-align: right;\"> 0.0778566</td><td style=\"text-align: right;\"> 0.127415 </td><td style=\"text-align: right;\">-0.265172 </td><td style=\"text-align: right;\">-0.128902 </td><td style=\"text-align: right;\">-0.195607   </td><td style=\"text-align: right;\">-0.0224278 </td><td style=\"text-align: right;\">0.0906718</td><td style=\"text-align: right;\"> 0.0391667</td><td style=\"text-align: right;\"> 0.0546226</td></tr>\n",
              "<tr><td>abbey    </td><td style=\"text-align: right;\">-0.112332 </td><td style=\"text-align: right;\"> 0.158338  </td><td style=\"text-align: right;\"> 0.148338  </td><td style=\"text-align: right;\"> 0.094726 </td><td style=\"text-align: right;\"> 0.140814 </td><td style=\"text-align: right;\">-0.0604904 </td><td style=\"text-align: right;\"> 0.121357  </td><td style=\"text-align: right;\"> 0.0380531</td><td style=\"text-align: right;\">-0.0181357</td><td style=\"text-align: right;\">-0.165251 </td><td style=\"text-align: right;\">-0.0642773</td><td style=\"text-align: right;\"> 0.151096 </td><td style=\"text-align: right;\"> 0.106246  </td><td style=\"text-align: right;\"> 0.11154   </td><td style=\"text-align: right;\"> 0.208481  </td><td style=\"text-align: right;\">-0.225051 </td><td style=\"text-align: right;\">-0.10612   </td><td style=\"text-align: right;\"> 0.101723 </td><td style=\"text-align: right;\">-0.181168 </td><td style=\"text-align: right;\">-0.207858  </td><td style=\"text-align: right;\"> 0.0467698</td><td style=\"text-align: right;\"> 0.173312 </td><td style=\"text-align: right;\"> 4.97139e-05</td><td style=\"text-align: right;\">-0.293072 </td><td style=\"text-align: right;\">-0.0539691</td><td style=\"text-align: right;\"> 0.0719525</td><td style=\"text-align: right;\">0.28094  </td><td style=\"text-align: right;\">-0.0163445</td><td style=\"text-align: right;\">-0.0828139 </td><td style=\"text-align: right;\"> 0.02085  </td><td style=\"text-align: right;\"> 0.156466  </td><td style=\"text-align: right;\"> 0.0690319</td><td style=\"text-align: right;\"> 0.189222  </td><td style=\"text-align: right;\"> 0.0267409</td><td style=\"text-align: right;\"> 0.07676  </td><td style=\"text-align: right;\">-0.176665 </td><td style=\"text-align: right;\"> 0.0754979</td><td style=\"text-align: right;\">-0.0642109 </td><td style=\"text-align: right;\"> 0.0896201 </td><td style=\"text-align: right;\"> 0.0360896</td><td style=\"text-align: right;\"> 0.124172 </td><td style=\"text-align: right;\">-0.00675712</td><td style=\"text-align: right;\">-0.148157 </td><td style=\"text-align: right;\"> 0.174795 </td><td style=\"text-align: right;\"> 0.047244  </td><td style=\"text-align: right;\"> 0.116565 </td><td style=\"text-align: right;\">-0.0451136</td><td style=\"text-align: right;\"> 0.148133  </td><td style=\"text-align: right;\">-0.0225345 </td><td style=\"text-align: right;\">-0.206694 </td><td style=\"text-align: right;\"> 0.361874 </td><td style=\"text-align: right;\"> 0.0434544</td><td style=\"text-align: right;\">0.0949054</td><td style=\"text-align: right;\"> 0.0632008 </td><td style=\"text-align: right;\"> 0.133616 </td><td style=\"text-align: right;\"> 0.0669654</td><td style=\"text-align: right;\">-0.240894 </td><td style=\"text-align: right;\">-0.147546 </td><td style=\"text-align: right;\"> 0.162974 </td><td style=\"text-align: right;\">0.294248  </td><td style=\"text-align: right;\">-0.136943 </td><td style=\"text-align: right;\">-0.141692 </td><td style=\"text-align: right;\"> 0.00752061</td><td style=\"text-align: right;\"> 0.0603378</td><td style=\"text-align: right;\">-0.076466 </td><td style=\"text-align: right;\"> 0.0164519 </td><td style=\"text-align: right;\"> 0.162004 </td><td style=\"text-align: right;\"> 0.0433999 </td><td style=\"text-align: right;\"> 0.0361751</td><td style=\"text-align: right;\"> 0.0241053</td><td style=\"text-align: right;\">-0.0353694</td><td style=\"text-align: right;\">-0.027881 </td><td style=\"text-align: right;\"> 0.130558 </td><td style=\"text-align: right;\"> 0.0834028</td><td style=\"text-align: right;\"> 0.0315313 </td><td style=\"text-align: right;\">-0.0913351</td><td style=\"text-align: right;\">-0.216737 </td><td style=\"text-align: right;\">-0.113998 </td><td style=\"text-align: right;\"> 0.104953 </td><td style=\"text-align: right;\"> 0.0280961</td><td style=\"text-align: right;\"> 0.164537  </td><td style=\"text-align: right;\"> 0.173618  </td><td style=\"text-align: right;\"> 0.205703  </td><td style=\"text-align: right;\"> 0.0718788  </td><td style=\"text-align: right;\"> 0.0901328 </td><td style=\"text-align: right;\"> 0.0800334</td><td style=\"text-align: right;\">-0.00166852</td><td style=\"text-align: right;\"> 0.156503 </td><td style=\"text-align: right;\"> 0.277343 </td><td style=\"text-align: right;\">-0.0793607</td><td style=\"text-align: right;\"> 0.00872952</td><td style=\"text-align: right;\"> 0.206364 </td><td style=\"text-align: right;\">-0.034272 </td><td style=\"text-align: right;\">-0.172689 </td><td style=\"text-align: right;\">-0.194382 </td><td style=\"text-align: right;\">-0.210804   </td><td style=\"text-align: right;\"> 0.116593  </td><td style=\"text-align: right;\">0.0716477</td><td style=\"text-align: right;\"> 0.102395 </td><td style=\"text-align: right;\">-0.113423 </td></tr>\n",
              "<tr><td>abby     </td><td style=\"text-align: right;\">-0.0992604</td><td style=\"text-align: right;\"> 0.00757072</td><td style=\"text-align: right;\"> 0.0377654 </td><td style=\"text-align: right;\"> 0.0874064</td><td style=\"text-align: right;\"> 0.282597 </td><td style=\"text-align: right;\">-0.144245  </td><td style=\"text-align: right;\"> 0.0492591 </td><td style=\"text-align: right;\">-0.0351718</td><td style=\"text-align: right;\">-0.271982 </td><td style=\"text-align: right;\">-0.312834 </td><td style=\"text-align: right;\">-0.0383981</td><td style=\"text-align: right;\"> 0.0795462</td><td style=\"text-align: right;\">-0.00906859</td><td style=\"text-align: right;\"> 0.00476541</td><td style=\"text-align: right;\"> 0.106053  </td><td style=\"text-align: right;\">-0.313807 </td><td style=\"text-align: right;\">-0.152861  </td><td style=\"text-align: right;\">-0.0180068</td><td style=\"text-align: right;\">-0.115894 </td><td style=\"text-align: right;\">-0.0850943 </td><td style=\"text-align: right;\"> 0.0262217</td><td style=\"text-align: right;\"> 0.172865 </td><td style=\"text-align: right;\">-0.0123382  </td><td style=\"text-align: right;\">-0.0354885</td><td style=\"text-align: right;\"> 0.150645 </td><td style=\"text-align: right;\"> 0.236598 </td><td style=\"text-align: right;\">0.171974 </td><td style=\"text-align: right;\"> 0.121753 </td><td style=\"text-align: right;\"> 0.120531  </td><td style=\"text-align: right;\"> 0.343855 </td><td style=\"text-align: right;\">-0.0292948 </td><td style=\"text-align: right;\">-0.0540261</td><td style=\"text-align: right;\">-0.0409229 </td><td style=\"text-align: right;\">-0.0349134</td><td style=\"text-align: right;\"> 0.13663  </td><td style=\"text-align: right;\">-0.0165094</td><td style=\"text-align: right;\">-0.0129217</td><td style=\"text-align: right;\">-0.0184542 </td><td style=\"text-align: right;\"> 0.235634  </td><td style=\"text-align: right;\">-0.0853571</td><td style=\"text-align: right;\">-0.0469468</td><td style=\"text-align: right;\"> 0.0630251 </td><td style=\"text-align: right;\">-0.0881831</td><td style=\"text-align: right;\"> 0.0527737</td><td style=\"text-align: right;\"> 0.123538  </td><td style=\"text-align: right;\"> 0.0989457</td><td style=\"text-align: right;\">-0.187211 </td><td style=\"text-align: right;\"> 0.0611429 </td><td style=\"text-align: right;\"> 0.245037  </td><td style=\"text-align: right;\"> 0.266657 </td><td style=\"text-align: right;\">-0.101034 </td><td style=\"text-align: right;\"> 0.138268 </td><td style=\"text-align: right;\">0.189379 </td><td style=\"text-align: right;\"> 0.00704143</td><td style=\"text-align: right;\"> 0.0173846</td><td style=\"text-align: right;\">-0.0856923</td><td style=\"text-align: right;\">-0.0430289</td><td style=\"text-align: right;\"> 0.0383733</td><td style=\"text-align: right;\"> 0.0935969</td><td style=\"text-align: right;\">0.00537297</td><td style=\"text-align: right;\">-0.0737742</td><td style=\"text-align: right;\"> 0.0072787</td><td style=\"text-align: right;\"> 0.149626  </td><td style=\"text-align: right;\"> 0.133796 </td><td style=\"text-align: right;\">-0.160052 </td><td style=\"text-align: right;\"> 0.00461647</td><td style=\"text-align: right;\">-0.32686  </td><td style=\"text-align: right;\">-0.0520532 </td><td style=\"text-align: right;\"> 0.0703276</td><td style=\"text-align: right;\">-0.120377 </td><td style=\"text-align: right;\">-0.133348 </td><td style=\"text-align: right;\"> 0.170209 </td><td style=\"text-align: right;\"> 0.109575 </td><td style=\"text-align: right;\">-0.158697 </td><td style=\"text-align: right;\"> 0.137537  </td><td style=\"text-align: right;\"> 0.187488 </td><td style=\"text-align: right;\">-0.0903121</td><td style=\"text-align: right;\">-0.0188611</td><td style=\"text-align: right;\"> 0.225503 </td><td style=\"text-align: right;\">-0.0218911</td><td style=\"text-align: right;\"> 0.00877959</td><td style=\"text-align: right;\"> 0.173993  </td><td style=\"text-align: right;\"> 0.0370979 </td><td style=\"text-align: right;\">-0.0169861  </td><td style=\"text-align: right;\"> 0.00679724</td><td style=\"text-align: right;\">-0.0331681</td><td style=\"text-align: right;\">-0.179336  </td><td style=\"text-align: right;\"> 0.269843 </td><td style=\"text-align: right;\"> 0.162457 </td><td style=\"text-align: right;\"> 0.224968 </td><td style=\"text-align: right;\">-0.095319  </td><td style=\"text-align: right;\"> 0.0775771</td><td style=\"text-align: right;\">-0.0759215</td><td style=\"text-align: right;\">-0.190243 </td><td style=\"text-align: right;\">-0.23553  </td><td style=\"text-align: right;\">-0.142207   </td><td style=\"text-align: right;\"> 0.0113891 </td><td style=\"text-align: right;\">0.153511 </td><td style=\"text-align: right;\"> 0.106482 </td><td style=\"text-align: right;\"> 0.095451 </td></tr>\n",
              "<tr><td>abc      </td><td style=\"text-align: right;\">-0.0874269</td><td style=\"text-align: right;\">-0.0106146 </td><td style=\"text-align: right;\">-0.244336  </td><td style=\"text-align: right;\"> 0.147447 </td><td style=\"text-align: right;\"> 0.0692106</td><td style=\"text-align: right;\"> 0.0287798 </td><td style=\"text-align: right;\"> 0.0185378 </td><td style=\"text-align: right;\"> 0.184361 </td><td style=\"text-align: right;\">-0.108835 </td><td style=\"text-align: right;\">-0.228337 </td><td style=\"text-align: right;\"> 0.109491 </td><td style=\"text-align: right;\"> 0.113936 </td><td style=\"text-align: right;\"> 0.35116   </td><td style=\"text-align: right;\"> 0.0323354 </td><td style=\"text-align: right;\"> 0.213424  </td><td style=\"text-align: right;\">-0.330209 </td><td style=\"text-align: right;\"> 0.197537  </td><td style=\"text-align: right;\"> 0.0306247</td><td style=\"text-align: right;\">-0.132873 </td><td style=\"text-align: right;\">-0.395547  </td><td style=\"text-align: right;\">-0.0893825</td><td style=\"text-align: right;\"> 0.161868 </td><td style=\"text-align: right;\">-0.237862   </td><td style=\"text-align: right;\">-0.0405224</td><td style=\"text-align: right;\"> 0.125864 </td><td style=\"text-align: right;\"> 0.547257 </td><td style=\"text-align: right;\">0.399002 </td><td style=\"text-align: right;\"> 0.0977771</td><td style=\"text-align: right;\"> 0.00517692</td><td style=\"text-align: right;\"> 0.0298306</td><td style=\"text-align: right;\">-0.126147  </td><td style=\"text-align: right;\"> 0.030043 </td><td style=\"text-align: right;\"> 0.0777252 </td><td style=\"text-align: right;\">-0.188982 </td><td style=\"text-align: right;\">-0.100234 </td><td style=\"text-align: right;\">-0.036148 </td><td style=\"text-align: right;\"> 0.0328843</td><td style=\"text-align: right;\">-0.124683  </td><td style=\"text-align: right;\"> 0.00889738</td><td style=\"text-align: right;\"> 0.292416 </td><td style=\"text-align: right;\"> 0.259771 </td><td style=\"text-align: right;\">-0.0259392 </td><td style=\"text-align: right;\"> 0.0613932</td><td style=\"text-align: right;\"> 0.0338822</td><td style=\"text-align: right;\"> 0.376977  </td><td style=\"text-align: right;\"> 0.286757 </td><td style=\"text-align: right;\">-0.0971771</td><td style=\"text-align: right;\">-0.0119171 </td><td style=\"text-align: right;\">-0.0920759 </td><td style=\"text-align: right;\"> 0.275435 </td><td style=\"text-align: right;\"> 0.0288037</td><td style=\"text-align: right;\">-0.0312503</td><td style=\"text-align: right;\">0.18381  </td><td style=\"text-align: right;\"> 0.125933  </td><td style=\"text-align: right;\"> 0.10879  </td><td style=\"text-align: right;\"> 0.104151 </td><td style=\"text-align: right;\">-0.142683 </td><td style=\"text-align: right;\">-0.0355806</td><td style=\"text-align: right;\"> 0.04047  </td><td style=\"text-align: right;\">0.313853  </td><td style=\"text-align: right;\">-0.079702 </td><td style=\"text-align: right;\">-0.148019 </td><td style=\"text-align: right;\"> 0.311795  </td><td style=\"text-align: right;\"> 0.101493 </td><td style=\"text-align: right;\">-0.0377235</td><td style=\"text-align: right;\"> 0.0716548 </td><td style=\"text-align: right;\">-0.422893 </td><td style=\"text-align: right;\">-0.045563  </td><td style=\"text-align: right;\">-0.265067 </td><td style=\"text-align: right;\">-0.299464 </td><td style=\"text-align: right;\"> 0.0328671</td><td style=\"text-align: right;\">-0.0460562</td><td style=\"text-align: right;\">-0.0842618</td><td style=\"text-align: right;\">-0.168512 </td><td style=\"text-align: right;\"> 0.20925   </td><td style=\"text-align: right;\">-0.163226 </td><td style=\"text-align: right;\"> 0.0696952</td><td style=\"text-align: right;\"> 0.0409962</td><td style=\"text-align: right;\"> 0.353764 </td><td style=\"text-align: right;\">-0.310763 </td><td style=\"text-align: right;\"> 0.282907  </td><td style=\"text-align: right;\">-0.379944  </td><td style=\"text-align: right;\"> 0.200823  </td><td style=\"text-align: right;\"> 3.67211e-05</td><td style=\"text-align: right;\">-0.0570681 </td><td style=\"text-align: right;\"> 0.139617 </td><td style=\"text-align: right;\">-0.083991  </td><td style=\"text-align: right;\"> 0.249915 </td><td style=\"text-align: right;\"> 0.205391 </td><td style=\"text-align: right;\"> 0.135563 </td><td style=\"text-align: right;\"> 0.266208  </td><td style=\"text-align: right;\"> 0.318388 </td><td style=\"text-align: right;\"> 0.0452756</td><td style=\"text-align: right;\">-0.0859277</td><td style=\"text-align: right;\">-0.0688821</td><td style=\"text-align: right;\">-0.0172225  </td><td style=\"text-align: right;\"> 0.312798  </td><td style=\"text-align: right;\">0.0489874</td><td style=\"text-align: right;\">-0.224337 </td><td style=\"text-align: right;\"> 0.220275 </td></tr>\n",
              "<tr><td>abdominal</td><td style=\"text-align: right;\"> 0.293725 </td><td style=\"text-align: right;\">-0.0558428 </td><td style=\"text-align: right;\"> 0.404912  </td><td style=\"text-align: right;\"> 0.0472041</td><td style=\"text-align: right;\"> 0.103491 </td><td style=\"text-align: right;\"> 0.356606  </td><td style=\"text-align: right;\"> 0.345992  </td><td style=\"text-align: right;\"> 0.353068 </td><td style=\"text-align: right;\">-0.050663 </td><td style=\"text-align: right;\">-0.0568693</td><td style=\"text-align: right;\"> 0.0319735</td><td style=\"text-align: right;\"> 0.311987 </td><td style=\"text-align: right;\">-0.334868  </td><td style=\"text-align: right;\"> 0.125174  </td><td style=\"text-align: right;\">-0.197142  </td><td style=\"text-align: right;\"> 0.433505 </td><td style=\"text-align: right;\">-0.286948  </td><td style=\"text-align: right;\"> 0.336639 </td><td style=\"text-align: right;\">-0.450231 </td><td style=\"text-align: right;\"> 0.268279  </td><td style=\"text-align: right;\"> 0.163815 </td><td style=\"text-align: right;\"> 0.0641673</td><td style=\"text-align: right;\"> 0.0339443  </td><td style=\"text-align: right;\">-0.552234 </td><td style=\"text-align: right;\">-0.200746 </td><td style=\"text-align: right;\">-0.454304 </td><td style=\"text-align: right;\">0.428904 </td><td style=\"text-align: right;\">-0.1922   </td><td style=\"text-align: right;\">-0.308542  </td><td style=\"text-align: right;\"> 0.213843 </td><td style=\"text-align: right;\"> 0.0466128 </td><td style=\"text-align: right;\"> 0.126608 </td><td style=\"text-align: right;\"> 0.225826  </td><td style=\"text-align: right;\"> 0.0534604</td><td style=\"text-align: right;\"> 0.218704 </td><td style=\"text-align: right;\"> 0.238384 </td><td style=\"text-align: right;\">-0.417447 </td><td style=\"text-align: right;\"> 0.656114  </td><td style=\"text-align: right;\"> 0.128734  </td><td style=\"text-align: right;\"> 0.0764218</td><td style=\"text-align: right;\">-0.359587 </td><td style=\"text-align: right;\"> 0.129452  </td><td style=\"text-align: right;\"> 0.248613 </td><td style=\"text-align: right;\">-0.0757423</td><td style=\"text-align: right;\"> 0.215019  </td><td style=\"text-align: right;\"> 0.247813 </td><td style=\"text-align: right;\"> 0.325317 </td><td style=\"text-align: right;\"> 0.0586395 </td><td style=\"text-align: right;\"> 0.194124  </td><td style=\"text-align: right;\"> 0.325379 </td><td style=\"text-align: right;\"> 0.0677686</td><td style=\"text-align: right;\">-0.51167  </td><td style=\"text-align: right;\">0.0862389</td><td style=\"text-align: right;\">-0.252482  </td><td style=\"text-align: right;\">-0.129697 </td><td style=\"text-align: right;\">-0.0995043</td><td style=\"text-align: right;\">-0.459601 </td><td style=\"text-align: right;\">-0.224255 </td><td style=\"text-align: right;\"> 0.0786096</td><td style=\"text-align: right;\">0.0157562 </td><td style=\"text-align: right;\">-0.067592 </td><td style=\"text-align: right;\"> 0.169928 </td><td style=\"text-align: right;\"> 0.02565   </td><td style=\"text-align: right;\">-0.334506 </td><td style=\"text-align: right;\"> 0.0580959</td><td style=\"text-align: right;\">-0.553716  </td><td style=\"text-align: right;\"> 0.169148 </td><td style=\"text-align: right;\"> 0.373757  </td><td style=\"text-align: right;\">-0.537343 </td><td style=\"text-align: right;\"> 0.288834 </td><td style=\"text-align: right;\">-0.231337 </td><td style=\"text-align: right;\"> 0.528632 </td><td style=\"text-align: right;\"> 0.2159   </td><td style=\"text-align: right;\">-0.24029  </td><td style=\"text-align: right;\"> 0.580729  </td><td style=\"text-align: right;\"> 0.314327 </td><td style=\"text-align: right;\"> 0.169101 </td><td style=\"text-align: right;\">-0.461179 </td><td style=\"text-align: right;\">-0.362853 </td><td style=\"text-align: right;\"> 0.0126245</td><td style=\"text-align: right;\">-0.323665  </td><td style=\"text-align: right;\">-0.687987  </td><td style=\"text-align: right;\"> 0.0132862 </td><td style=\"text-align: right;\"> 0.430648   </td><td style=\"text-align: right;\"> 0.120516  </td><td style=\"text-align: right;\">-0.0176405</td><td style=\"text-align: right;\">-0.230256  </td><td style=\"text-align: right;\"> 0.195486 </td><td style=\"text-align: right;\"> 0.421909 </td><td style=\"text-align: right;\">-0.024326 </td><td style=\"text-align: right;\"> 0.139073  </td><td style=\"text-align: right;\"> 0.264333 </td><td style=\"text-align: right;\">-0.348113 </td><td style=\"text-align: right;\">-0.136474 </td><td style=\"text-align: right;\"> 0.27467  </td><td style=\"text-align: right;\"> 0.0294352  </td><td style=\"text-align: right;\">-0.283213  </td><td style=\"text-align: right;\">0.153666 </td><td style=\"text-align: right;\">-0.690078 </td><td style=\"text-align: right;\"> 0.340281 </td></tr>\n",
              "<tr><td>abit     </td><td style=\"text-align: right;\"> 0.0321282</td><td style=\"text-align: right;\"> 0.116811  </td><td style=\"text-align: right;\">-0.0929831 </td><td style=\"text-align: right;\"> 0.0185416</td><td style=\"text-align: right;\"> 0.287501 </td><td style=\"text-align: right;\">-0.160322  </td><td style=\"text-align: right;\"> 0.264717  </td><td style=\"text-align: right;\">-0.0363842</td><td style=\"text-align: right;\"> 0.232894 </td><td style=\"text-align: right;\">-0.240567 </td><td style=\"text-align: right;\">-0.358022 </td><td style=\"text-align: right;\">-0.141797 </td><td style=\"text-align: right;\">-0.00630334</td><td style=\"text-align: right;\"> 0.112397  </td><td style=\"text-align: right;\"> 0.00316758</td><td style=\"text-align: right;\">-0.23527  </td><td style=\"text-align: right;\">-0.00226457</td><td style=\"text-align: right;\">-0.122661 </td><td style=\"text-align: right;\">-0.193882 </td><td style=\"text-align: right;\">-0.20298   </td><td style=\"text-align: right;\">-0.0999669</td><td style=\"text-align: right;\"> 0.105304 </td><td style=\"text-align: right;\"> 0.0565782  </td><td style=\"text-align: right;\">-0.143912 </td><td style=\"text-align: right;\">-0.0801704</td><td style=\"text-align: right;\"> 0.0522887</td><td style=\"text-align: right;\">0.0743367</td><td style=\"text-align: right;\">-0.0255846</td><td style=\"text-align: right;\">-0.0607304 </td><td style=\"text-align: right;\">-0.0120461</td><td style=\"text-align: right;\"> 0.0384002 </td><td style=\"text-align: right;\"> 0.0674068</td><td style=\"text-align: right;\">-0.0764363 </td><td style=\"text-align: right;\"> 0.112436 </td><td style=\"text-align: right;\"> 0.0018254</td><td style=\"text-align: right;\">-0.0448373</td><td style=\"text-align: right;\"> 0.118919 </td><td style=\"text-align: right;\">-0.0437896 </td><td style=\"text-align: right;\">-0.106992  </td><td style=\"text-align: right;\">-0.118145 </td><td style=\"text-align: right;\"> 0.0669293</td><td style=\"text-align: right;\">-0.134818  </td><td style=\"text-align: right;\"> 0.0775202</td><td style=\"text-align: right;\"> 0.526115 </td><td style=\"text-align: right;\"> 0.00837895</td><td style=\"text-align: right;\"> 0.0267773</td><td style=\"text-align: right;\"> 0.0624963</td><td style=\"text-align: right;\">-0.118071  </td><td style=\"text-align: right;\">-0.111429  </td><td style=\"text-align: right;\"> 0.0100915</td><td style=\"text-align: right;\"> 0.195728 </td><td style=\"text-align: right;\"> 0.0790644</td><td style=\"text-align: right;\">0.25703  </td><td style=\"text-align: right;\"> 0.0170343 </td><td style=\"text-align: right;\">-0.100915 </td><td style=\"text-align: right;\">-0.0204315</td><td style=\"text-align: right;\"> 0.174753 </td><td style=\"text-align: right;\">-0.106134 </td><td style=\"text-align: right;\"> 0.222466 </td><td style=\"text-align: right;\">0.141167  </td><td style=\"text-align: right;\">-0.245625 </td><td style=\"text-align: right;\"> 0.167952 </td><td style=\"text-align: right;\">-0.182734  </td><td style=\"text-align: right;\">-0.0754833</td><td style=\"text-align: right;\">-0.194569 </td><td style=\"text-align: right;\">-0.190085  </td><td style=\"text-align: right;\">-0.0273636</td><td style=\"text-align: right;\">-0.0955993 </td><td style=\"text-align: right;\"> 0.178317 </td><td style=\"text-align: right;\">-0.132926 </td><td style=\"text-align: right;\"> 0.298288 </td><td style=\"text-align: right;\"> 0.050834 </td><td style=\"text-align: right;\"> 0.104507 </td><td style=\"text-align: right;\">-0.18236  </td><td style=\"text-align: right;\"> 0.149503  </td><td style=\"text-align: right;\">-0.276008 </td><td style=\"text-align: right;\"> 0.103576 </td><td style=\"text-align: right;\"> 0.164995 </td><td style=\"text-align: right;\"> 0.255704 </td><td style=\"text-align: right;\"> 0.125742 </td><td style=\"text-align: right;\"> 0.00546139</td><td style=\"text-align: right;\"> 0.00533269</td><td style=\"text-align: right;\"> 0.143335  </td><td style=\"text-align: right;\">-0.0241472  </td><td style=\"text-align: right;\"> 0.107779  </td><td style=\"text-align: right;\">-0.159366 </td><td style=\"text-align: right;\">-0.158988  </td><td style=\"text-align: right;\">-0.0575577</td><td style=\"text-align: right;\">-0.216239 </td><td style=\"text-align: right;\"> 0.0849909</td><td style=\"text-align: right;\">-0.0440556 </td><td style=\"text-align: right;\">-0.0449062</td><td style=\"text-align: right;\"> 0.0901259</td><td style=\"text-align: right;\"> 0.0810719</td><td style=\"text-align: right;\">-0.183398 </td><td style=\"text-align: right;\">-0.0750958  </td><td style=\"text-align: right;\">-0.205179  </td><td style=\"text-align: right;\">0.0564096</td><td style=\"text-align: right;\"> 0.115684 </td><td style=\"text-align: right;\"> 0.148199 </td></tr>\n",
              "</tbody>\n",
              "</table>"
            ]
          },
          "metadata": {
            "tags": []
          }
        },
        {
          "output_type": "execute_result",
          "data": {
            "text/plain": [
              ""
            ]
          },
          "metadata": {
            "tags": []
          },
          "execution_count": 42
        }
      ]
    },
    {
      "metadata": {
        "id": "GEKGStF_FM6v",
        "colab_type": "code",
        "outputId": "820a53f1-7926-43fb-eae8-b90d03618c23",
        "colab": {
          "base_uri": "https://localhost:8080/",
          "height": 662
        }
      },
      "cell_type": "code",
      "source": [
        "word_embeddings['C64'].hist()"
      ],
      "execution_count": 0,
      "outputs": [
        {
          "output_type": "error",
          "ename": "TypeError",
          "evalue": "ignored",
          "traceback": [
            "\u001b[0;31m---------------------------------------------------------------------------\u001b[0m",
            "\u001b[0;31mTypeError\u001b[0m                                 Traceback (most recent call last)",
            "\u001b[0;32m<ipython-input-43-ad6eec766e99>\u001b[0m in \u001b[0;36m<module>\u001b[0;34m()\u001b[0m\n\u001b[0;32m----> 1\u001b[0;31m \u001b[0mword_embeddings\u001b[0m\u001b[0;34m[\u001b[0m\u001b[0;34m'C64'\u001b[0m\u001b[0;34m]\u001b[0m\u001b[0;34m.\u001b[0m\u001b[0mhist\u001b[0m\u001b[0;34m(\u001b[0m\u001b[0;34m)\u001b[0m\u001b[0;34m\u001b[0m\u001b[0;34m\u001b[0m\u001b[0m\n\u001b[0m",
            "\u001b[0;32m/usr/local/lib/python3.6/dist-packages/h2o/frame.py\u001b[0m in \u001b[0;36mhist\u001b[0;34m(self, breaks, plot, **kwargs)\u001b[0m\n\u001b[1;32m   2538\u001b[0m             \u001b[0mplt\u001b[0m\u001b[0;34m.\u001b[0m\u001b[0mylabel\u001b[0m\u001b[0;34m(\u001b[0m\u001b[0;34m\"Frequency\"\u001b[0m\u001b[0;34m)\u001b[0m\u001b[0;34m\u001b[0m\u001b[0;34m\u001b[0m\u001b[0m\n\u001b[1;32m   2539\u001b[0m             \u001b[0mplt\u001b[0m\u001b[0;34m.\u001b[0m\u001b[0mtitle\u001b[0m\u001b[0;34m(\u001b[0m\u001b[0;34m\"Histogram of %s\"\u001b[0m \u001b[0;34m%\u001b[0m \u001b[0mself\u001b[0m\u001b[0;34m.\u001b[0m\u001b[0mnames\u001b[0m\u001b[0;34m[\u001b[0m\u001b[0;36m0\u001b[0m\u001b[0;34m]\u001b[0m\u001b[0;34m)\u001b[0m\u001b[0;34m\u001b[0m\u001b[0;34m\u001b[0m\u001b[0m\n\u001b[0;32m-> 2540\u001b[0;31m             \u001b[0mplt\u001b[0m\u001b[0;34m.\u001b[0m\u001b[0mbar\u001b[0m\u001b[0;34m(\u001b[0m\u001b[0mleft\u001b[0m\u001b[0;34m=\u001b[0m\u001b[0mlefts\u001b[0m\u001b[0;34m,\u001b[0m \u001b[0mwidth\u001b[0m\u001b[0;34m=\u001b[0m\u001b[0mwidths\u001b[0m\u001b[0;34m,\u001b[0m \u001b[0mheight\u001b[0m\u001b[0;34m=\u001b[0m\u001b[0mcounts\u001b[0m\u001b[0;34m,\u001b[0m \u001b[0mbottom\u001b[0m\u001b[0;34m=\u001b[0m\u001b[0;36m0\u001b[0m\u001b[0;34m)\u001b[0m\u001b[0;34m\u001b[0m\u001b[0;34m\u001b[0m\u001b[0m\n\u001b[0m\u001b[1;32m   2541\u001b[0m             \u001b[0;32mif\u001b[0m \u001b[0;32mnot\u001b[0m \u001b[0mserver\u001b[0m\u001b[0;34m:\u001b[0m\u001b[0;34m\u001b[0m\u001b[0;34m\u001b[0m\u001b[0m\n\u001b[1;32m   2542\u001b[0m                 \u001b[0mplt\u001b[0m\u001b[0;34m.\u001b[0m\u001b[0mshow\u001b[0m\u001b[0;34m(\u001b[0m\u001b[0;34m)\u001b[0m\u001b[0;34m\u001b[0m\u001b[0;34m\u001b[0m\u001b[0m\n",
            "\u001b[0;31mTypeError\u001b[0m: bar() missing 1 required positional argument: 'x'"
          ]
        },
        {
          "output_type": "display_data",
          "data": {
            "image/png": "[encoded data removed]",
            "text/plain": [
              "<Figure size 576x396 with 1 Axes>"
            ]
          },
          "metadata": {
            "tags": []
          }
        }
      ]
    },
    {
      "metadata": {
        "id": "_3oU8GuRFM4v",
        "colab_type": "code",
        "outputId": "38acac64-6461-4ae6-820e-2c5e1b51e1f8",
        "colab": {
          "base_uri": "https://localhost:8080/",
          "height": 355
        }
      },
      "cell_type": "code",
      "source": [
        "low_c64_words = word_embeddings[word_embeddings[\"C64\"] < -0.8]\n",
        "low_c64_words[[\"Word\", \"C64\"]].head(15)"
      ],
      "execution_count": 0,
      "outputs": [
        {
          "output_type": "display_data",
          "data": {
            "text/html": [
              "<table>\n",
              "<thead>\n",
              "<tr><th>Word           </th><th style=\"text-align: right;\">      C64</th></tr>\n",
              "</thead>\n",
              "<tbody>\n",
              "<tr><td>biodegradable  </td><td style=\"text-align: right;\">-0.850931</td></tr>\n",
              "<tr><td>bisphenol      </td><td style=\"text-align: right;\">-0.898839</td></tr>\n",
              "<tr><td>bowels         </td><td style=\"text-align: right;\">-0.907133</td></tr>\n",
              "<tr><td>bpa            </td><td style=\"text-align: right;\">-0.811818</td></tr>\n",
              "<tr><td>buckwheat      </td><td style=\"text-align: right;\">-1.12285 </td></tr>\n",
              "<tr><td>bulldog        </td><td style=\"text-align: right;\">-0.867981</td></tr>\n",
              "<tr><td>clusters       </td><td style=\"text-align: right;\">-0.884484</td></tr>\n",
              "<tr><td>digesting      </td><td style=\"text-align: right;\">-0.803601</td></tr>\n",
              "<tr><td>eco            </td><td style=\"text-align: right;\">-0.855959</td></tr>\n",
              "<tr><td>engineered     </td><td style=\"text-align: right;\">-0.862782</td></tr>\n",
              "<tr><td>environmentally</td><td style=\"text-align: right;\">-0.892272</td></tr>\n",
              "<tr><td>genetically    </td><td style=\"text-align: right;\">-0.803196</td></tr>\n",
              "<tr><td>immune         </td><td style=\"text-align: right;\">-0.820939</td></tr>\n",
              "<tr><td>intolerance    </td><td style=\"text-align: right;\">-0.882464</td></tr>\n",
              "<tr><td>irritable      </td><td style=\"text-align: right;\">-0.857428</td></tr>\n",
              "</tbody>\n",
              "</table>"
            ]
          },
          "metadata": {
            "tags": []
          }
        },
        {
          "output_type": "execute_result",
          "data": {
            "text/plain": [
              ""
            ]
          },
          "metadata": {
            "tags": []
          },
          "execution_count": 46
        }
      ]
    },
    {
      "metadata": {
        "id": "tjgH8oiAH5OY",
        "colab_type": "code",
        "colab": {}
      },
      "cell_type": "code",
      "source": [
        ""
      ],
      "execution_count": 0,
      "outputs": []
    },
    {
      "metadata": {
        "id": "X3wVOZwkH5Mw",
        "colab_type": "code",
        "colab": {}
      },
      "cell_type": "code",
      "source": [
        ""
      ],
      "execution_count": 0,
      "outputs": []
    },
    {
      "metadata": {
        "id": "P5sGVrVkIGCb",
        "colab_type": "text"
      },
      "cell_type": "markdown",
      "source": [
        "# Predict on New Reviews"
      ]
    },
    {
      "metadata": {
        "id": "5iIW3WcmH5Jo",
        "colab_type": "code",
        "colab": {}
      },
      "cell_type": "code",
      "source": [
        "def predict(reviews, w2v, gbm):\n",
        "    \n",
        "    words = tokenize(reviews[\"Text\"].ascharacter())\n",
        "    reviews_vec = w2v.transform(words, aggregate_method=\"AVERAGE\")\n",
        "    \n",
        "    summary_words = tokenize(reviews[\"Summary\"].ascharacter())\n",
        "    summary_vec = w2v.transform(summary_words, aggregate_method=\"AVERAGE\")\n",
        "    \n",
        "    model_data = reviews.cbind(reviews_vec).cbind(summary_vec)\n",
        "    print(gbm.predict(model_data))\n"
      ],
      "execution_count": 0,
      "outputs": []
    },
    {
      "metadata": {
        "id": "nfiG03E8H5HA",
        "colab_type": "code",
        "colab": {
          "base_uri": "https://localhost:8080/",
          "height": 34
        },
        "outputId": "25c0b874-9c32-4e37-c574-5ccebb355a7e"
      },
      "cell_type": "code",
      "source": [
        "good_review = h2o.H2OFrame([[\"B000EQT574\", \"AISQLBDGS2KXR\", 1, 1, 1263340800, \n",
        "                             \"Delicious\",\n",
        "                             \"These chips are delicious. Salty sweet with a hint of spice. I have no idea how Tamari is supposed to taste, but these chips are awesome. I just finished an entire bag in one day!\"]])\n",
        "\n",
        "good_review.col_names = [\"ProductId\",\"UserId\",\"HelpfulnessNumerator\",\"HelpfulnessDenominator\",\"Time\",\"Summary\",\"Text\"]"
      ],
      "execution_count": 52,
      "outputs": [
        {
          "output_type": "stream",
          "text": [
            "Parse progress: |█████████████████████████████████████████████████████████| 100%\n"
          ],
          "name": "stdout"
        }
      ]
    },
    {
      "metadata": {
        "id": "igs4V2glH5ER",
        "colab_type": "code",
        "colab": {
          "base_uri": "https://localhost:8080/",
          "height": 34
        },
        "outputId": "35125800-cd27-419c-ea7f-afd8b3c7105d"
      },
      "cell_type": "code",
      "source": [
        "bad_review = h2o.H2OFrame([[\"B003BJZMSM\", \"A2JBZHQVQF7MV0\", 1, 2, 1274832000, \n",
        "                            \"Pretty tasteless\",\n",
        "                            \"Quite tasteless and they make you order so many. I am stuck with 12 bags of this tasteless stuff. I am not ordering large amounts of anything from Amazon again. So often I don't like it and I am stuck with so much on hand.\"]])\n",
        "\n",
        "bad_review.col_names = [\"ProductId\",\"UserId\",\"HelpfulnessNumerator\",\"HelpfulnessDenominator\",\"Time\",\"Summary\",\"Text\"]"
      ],
      "execution_count": 53,
      "outputs": [
        {
          "output_type": "stream",
          "text": [
            "Parse progress: |█████████████████████████████████████████████████████████| 100%\n"
          ],
          "name": "stdout"
        }
      ]
    },
    {
      "metadata": {
        "id": "MnKxJ0chH5Bm",
        "colab_type": "code",
        "colab": {
          "base_uri": "https://localhost:8080/",
          "height": 3661
        },
        "outputId": "744dfb0a-04f0-4b62-a6ca-1eae97d5a787"
      },
      "cell_type": "code",
      "source": [
        "# Predict!\n",
        "print(\"Good Review: \")\n",
        "print(predict(good_review, w2v_model, gbm_plus_summary))\n",
        "\n",
        "print(\"Bad Review: \")\n",
        "print(predict(bad_review, w2v_model, gbm_plus_summary))"
      ],
      "execution_count": 56,
      "outputs": [
        {
          "output_type": "stream",
          "text": [
            "Good Review: \n",
            "gbm prediction progress: |████████████████████████████████████████████████| 100%\n"
          ],
          "name": "stdout"
        },
        {
          "output_type": "stream",
          "text": [
            "/usr/local/lib/python3.6/dist-packages/h2o/job.py:69: UserWarning: Test/Validation dataset is missing column 'summary_C1': substituting in a column of NaN\n",
            "  warnings.warn(w)\n",
            "/usr/local/lib/python3.6/dist-packages/h2o/job.py:69: UserWarning: Test/Validation dataset is missing column 'summary_C2': substituting in a column of NaN\n",
            "  warnings.warn(w)\n",
            "/usr/local/lib/python3.6/dist-packages/h2o/job.py:69: UserWarning: Test/Validation dataset is missing column 'summary_C3': substituting in a column of NaN\n",
            "  warnings.warn(w)\n",
            "/usr/local/lib/python3.6/dist-packages/h2o/job.py:69: UserWarning: Test/Validation dataset is missing column 'summary_C4': substituting in a column of NaN\n",
            "  warnings.warn(w)\n",
            "/usr/local/lib/python3.6/dist-packages/h2o/job.py:69: UserWarning: Test/Validation dataset is missing column 'summary_C5': substituting in a column of NaN\n",
            "  warnings.warn(w)\n",
            "/usr/local/lib/python3.6/dist-packages/h2o/job.py:69: UserWarning: Test/Validation dataset is missing column 'summary_C6': substituting in a column of NaN\n",
            "  warnings.warn(w)\n",
            "/usr/local/lib/python3.6/dist-packages/h2o/job.py:69: UserWarning: Test/Validation dataset is missing column 'summary_C7': substituting in a column of NaN\n",
            "  warnings.warn(w)\n",
            "/usr/local/lib/python3.6/dist-packages/h2o/job.py:69: UserWarning: Test/Validation dataset is missing column 'summary_C8': substituting in a column of NaN\n",
            "  warnings.warn(w)\n",
            "/usr/local/lib/python3.6/dist-packages/h2o/job.py:69: UserWarning: Test/Validation dataset is missing column 'summary_C9': substituting in a column of NaN\n",
            "  warnings.warn(w)\n",
            "/usr/local/lib/python3.6/dist-packages/h2o/job.py:69: UserWarning: Test/Validation dataset is missing column 'summary_C10': substituting in a column of NaN\n",
            "  warnings.warn(w)\n",
            "/usr/local/lib/python3.6/dist-packages/h2o/job.py:69: UserWarning: Test/Validation dataset is missing column 'summary_C11': substituting in a column of NaN\n",
            "  warnings.warn(w)\n",
            "/usr/local/lib/python3.6/dist-packages/h2o/job.py:69: UserWarning: Test/Validation dataset is missing column 'summary_C12': substituting in a column of NaN\n",
            "  warnings.warn(w)\n",
            "/usr/local/lib/python3.6/dist-packages/h2o/job.py:69: UserWarning: Test/Validation dataset is missing column 'summary_C13': substituting in a column of NaN\n",
            "  warnings.warn(w)\n",
            "/usr/local/lib/python3.6/dist-packages/h2o/job.py:69: UserWarning: Test/Validation dataset is missing column 'summary_C14': substituting in a column of NaN\n",
            "  warnings.warn(w)\n",
            "/usr/local/lib/python3.6/dist-packages/h2o/job.py:69: UserWarning: Test/Validation dataset is missing column 'summary_C15': substituting in a column of NaN\n",
            "  warnings.warn(w)\n",
            "/usr/local/lib/python3.6/dist-packages/h2o/job.py:69: UserWarning: Test/Validation dataset is missing column 'summary_C16': substituting in a column of NaN\n",
            "  warnings.warn(w)\n",
            "/usr/local/lib/python3.6/dist-packages/h2o/job.py:69: UserWarning: Test/Validation dataset is missing column 'summary_C17': substituting in a column of NaN\n",
            "  warnings.warn(w)\n",
            "/usr/local/lib/python3.6/dist-packages/h2o/job.py:69: UserWarning: Test/Validation dataset is missing column 'summary_C18': substituting in a column of NaN\n",
            "  warnings.warn(w)\n",
            "/usr/local/lib/python3.6/dist-packages/h2o/job.py:69: UserWarning: Test/Validation dataset is missing column 'summary_C19': substituting in a column of NaN\n",
            "  warnings.warn(w)\n",
            "/usr/local/lib/python3.6/dist-packages/h2o/job.py:69: UserWarning: Test/Validation dataset is missing column 'summary_C20': substituting in a column of NaN\n",
            "  warnings.warn(w)\n",
            "/usr/local/lib/python3.6/dist-packages/h2o/job.py:69: UserWarning: Test/Validation dataset is missing column 'summary_C21': substituting in a column of NaN\n",
            "  warnings.warn(w)\n",
            "/usr/local/lib/python3.6/dist-packages/h2o/job.py:69: UserWarning: Test/Validation dataset is missing column 'summary_C22': substituting in a column of NaN\n",
            "  warnings.warn(w)\n",
            "/usr/local/lib/python3.6/dist-packages/h2o/job.py:69: UserWarning: Test/Validation dataset is missing column 'summary_C23': substituting in a column of NaN\n",
            "  warnings.warn(w)\n",
            "/usr/local/lib/python3.6/dist-packages/h2o/job.py:69: UserWarning: Test/Validation dataset is missing column 'summary_C24': substituting in a column of NaN\n",
            "  warnings.warn(w)\n",
            "/usr/local/lib/python3.6/dist-packages/h2o/job.py:69: UserWarning: Test/Validation dataset is missing column 'summary_C25': substituting in a column of NaN\n",
            "  warnings.warn(w)\n",
            "/usr/local/lib/python3.6/dist-packages/h2o/job.py:69: UserWarning: Test/Validation dataset is missing column 'summary_C26': substituting in a column of NaN\n",
            "  warnings.warn(w)\n",
            "/usr/local/lib/python3.6/dist-packages/h2o/job.py:69: UserWarning: Test/Validation dataset is missing column 'summary_C27': substituting in a column of NaN\n",
            "  warnings.warn(w)\n",
            "/usr/local/lib/python3.6/dist-packages/h2o/job.py:69: UserWarning: Test/Validation dataset is missing column 'summary_C28': substituting in a column of NaN\n",
            "  warnings.warn(w)\n",
            "/usr/local/lib/python3.6/dist-packages/h2o/job.py:69: UserWarning: Test/Validation dataset is missing column 'summary_C29': substituting in a column of NaN\n",
            "  warnings.warn(w)\n",
            "/usr/local/lib/python3.6/dist-packages/h2o/job.py:69: UserWarning: Test/Validation dataset is missing column 'summary_C30': substituting in a column of NaN\n",
            "  warnings.warn(w)\n",
            "/usr/local/lib/python3.6/dist-packages/h2o/job.py:69: UserWarning: Test/Validation dataset is missing column 'summary_C31': substituting in a column of NaN\n",
            "  warnings.warn(w)\n",
            "/usr/local/lib/python3.6/dist-packages/h2o/job.py:69: UserWarning: Test/Validation dataset is missing column 'summary_C32': substituting in a column of NaN\n",
            "  warnings.warn(w)\n",
            "/usr/local/lib/python3.6/dist-packages/h2o/job.py:69: UserWarning: Test/Validation dataset is missing column 'summary_C33': substituting in a column of NaN\n",
            "  warnings.warn(w)\n",
            "/usr/local/lib/python3.6/dist-packages/h2o/job.py:69: UserWarning: Test/Validation dataset is missing column 'summary_C34': substituting in a column of NaN\n",
            "  warnings.warn(w)\n",
            "/usr/local/lib/python3.6/dist-packages/h2o/job.py:69: UserWarning: Test/Validation dataset is missing column 'summary_C35': substituting in a column of NaN\n",
            "  warnings.warn(w)\n",
            "/usr/local/lib/python3.6/dist-packages/h2o/job.py:69: UserWarning: Test/Validation dataset is missing column 'summary_C36': substituting in a column of NaN\n",
            "  warnings.warn(w)\n",
            "/usr/local/lib/python3.6/dist-packages/h2o/job.py:69: UserWarning: Test/Validation dataset is missing column 'summary_C37': substituting in a column of NaN\n",
            "  warnings.warn(w)\n",
            "/usr/local/lib/python3.6/dist-packages/h2o/job.py:69: UserWarning: Test/Validation dataset is missing column 'summary_C38': substituting in a column of NaN\n",
            "  warnings.warn(w)\n",
            "/usr/local/lib/python3.6/dist-packages/h2o/job.py:69: UserWarning: Test/Validation dataset is missing column 'summary_C39': substituting in a column of NaN\n",
            "  warnings.warn(w)\n",
            "/usr/local/lib/python3.6/dist-packages/h2o/job.py:69: UserWarning: Test/Validation dataset is missing column 'summary_C40': substituting in a column of NaN\n",
            "  warnings.warn(w)\n",
            "/usr/local/lib/python3.6/dist-packages/h2o/job.py:69: UserWarning: Test/Validation dataset is missing column 'summary_C41': substituting in a column of NaN\n",
            "  warnings.warn(w)\n",
            "/usr/local/lib/python3.6/dist-packages/h2o/job.py:69: UserWarning: Test/Validation dataset is missing column 'summary_C42': substituting in a column of NaN\n",
            "  warnings.warn(w)\n",
            "/usr/local/lib/python3.6/dist-packages/h2o/job.py:69: UserWarning: Test/Validation dataset is missing column 'summary_C43': substituting in a column of NaN\n",
            "  warnings.warn(w)\n",
            "/usr/local/lib/python3.6/dist-packages/h2o/job.py:69: UserWarning: Test/Validation dataset is missing column 'summary_C44': substituting in a column of NaN\n",
            "  warnings.warn(w)\n",
            "/usr/local/lib/python3.6/dist-packages/h2o/job.py:69: UserWarning: Test/Validation dataset is missing column 'summary_C45': substituting in a column of NaN\n",
            "  warnings.warn(w)\n",
            "/usr/local/lib/python3.6/dist-packages/h2o/job.py:69: UserWarning: Test/Validation dataset is missing column 'summary_C46': substituting in a column of NaN\n",
            "  warnings.warn(w)\n",
            "/usr/local/lib/python3.6/dist-packages/h2o/job.py:69: UserWarning: Test/Validation dataset is missing column 'summary_C47': substituting in a column of NaN\n",
            "  warnings.warn(w)\n",
            "/usr/local/lib/python3.6/dist-packages/h2o/job.py:69: UserWarning: Test/Validation dataset is missing column 'summary_C48': substituting in a column of NaN\n",
            "  warnings.warn(w)\n",
            "/usr/local/lib/python3.6/dist-packages/h2o/job.py:69: UserWarning: Test/Validation dataset is missing column 'summary_C49': substituting in a column of NaN\n",
            "  warnings.warn(w)\n",
            "/usr/local/lib/python3.6/dist-packages/h2o/job.py:69: UserWarning: Test/Validation dataset is missing column 'summary_C50': substituting in a column of NaN\n",
            "  warnings.warn(w)\n",
            "/usr/local/lib/python3.6/dist-packages/h2o/job.py:69: UserWarning: Test/Validation dataset is missing column 'summary_C51': substituting in a column of NaN\n",
            "  warnings.warn(w)\n",
            "/usr/local/lib/python3.6/dist-packages/h2o/job.py:69: UserWarning: Test/Validation dataset is missing column 'summary_C52': substituting in a column of NaN\n",
            "  warnings.warn(w)\n",
            "/usr/local/lib/python3.6/dist-packages/h2o/job.py:69: UserWarning: Test/Validation dataset is missing column 'summary_C53': substituting in a column of NaN\n",
            "  warnings.warn(w)\n",
            "/usr/local/lib/python3.6/dist-packages/h2o/job.py:69: UserWarning: Test/Validation dataset is missing column 'summary_C54': substituting in a column of NaN\n",
            "  warnings.warn(w)\n",
            "/usr/local/lib/python3.6/dist-packages/h2o/job.py:69: UserWarning: Test/Validation dataset is missing column 'summary_C55': substituting in a column of NaN\n",
            "  warnings.warn(w)\n",
            "/usr/local/lib/python3.6/dist-packages/h2o/job.py:69: UserWarning: Test/Validation dataset is missing column 'summary_C56': substituting in a column of NaN\n",
            "  warnings.warn(w)\n",
            "/usr/local/lib/python3.6/dist-packages/h2o/job.py:69: UserWarning: Test/Validation dataset is missing column 'summary_C57': substituting in a column of NaN\n",
            "  warnings.warn(w)\n",
            "/usr/local/lib/python3.6/dist-packages/h2o/job.py:69: UserWarning: Test/Validation dataset is missing column 'summary_C58': substituting in a column of NaN\n",
            "  warnings.warn(w)\n",
            "/usr/local/lib/python3.6/dist-packages/h2o/job.py:69: UserWarning: Test/Validation dataset is missing column 'summary_C59': substituting in a column of NaN\n",
            "  warnings.warn(w)\n",
            "/usr/local/lib/python3.6/dist-packages/h2o/job.py:69: UserWarning: Test/Validation dataset is missing column 'summary_C60': substituting in a column of NaN\n",
            "  warnings.warn(w)\n",
            "/usr/local/lib/python3.6/dist-packages/h2o/job.py:69: UserWarning: Test/Validation dataset is missing column 'summary_C61': substituting in a column of NaN\n",
            "  warnings.warn(w)\n",
            "/usr/local/lib/python3.6/dist-packages/h2o/job.py:69: UserWarning: Test/Validation dataset is missing column 'summary_C62': substituting in a column of NaN\n",
            "  warnings.warn(w)\n",
            "/usr/local/lib/python3.6/dist-packages/h2o/job.py:69: UserWarning: Test/Validation dataset is missing column 'summary_C63': substituting in a column of NaN\n",
            "  warnings.warn(w)\n",
            "/usr/local/lib/python3.6/dist-packages/h2o/job.py:69: UserWarning: Test/Validation dataset is missing column 'summary_C64': substituting in a column of NaN\n",
            "  warnings.warn(w)\n",
            "/usr/local/lib/python3.6/dist-packages/h2o/job.py:69: UserWarning: Test/Validation dataset is missing column 'summary_C65': substituting in a column of NaN\n",
            "  warnings.warn(w)\n",
            "/usr/local/lib/python3.6/dist-packages/h2o/job.py:69: UserWarning: Test/Validation dataset is missing column 'summary_C66': substituting in a column of NaN\n",
            "  warnings.warn(w)\n",
            "/usr/local/lib/python3.6/dist-packages/h2o/job.py:69: UserWarning: Test/Validation dataset is missing column 'summary_C67': substituting in a column of NaN\n",
            "  warnings.warn(w)\n",
            "/usr/local/lib/python3.6/dist-packages/h2o/job.py:69: UserWarning: Test/Validation dataset is missing column 'summary_C68': substituting in a column of NaN\n",
            "  warnings.warn(w)\n",
            "/usr/local/lib/python3.6/dist-packages/h2o/job.py:69: UserWarning: Test/Validation dataset is missing column 'summary_C69': substituting in a column of NaN\n",
            "  warnings.warn(w)\n",
            "/usr/local/lib/python3.6/dist-packages/h2o/job.py:69: UserWarning: Test/Validation dataset is missing column 'summary_C70': substituting in a column of NaN\n",
            "  warnings.warn(w)\n",
            "/usr/local/lib/python3.6/dist-packages/h2o/job.py:69: UserWarning: Test/Validation dataset is missing column 'summary_C71': substituting in a column of NaN\n",
            "  warnings.warn(w)\n",
            "/usr/local/lib/python3.6/dist-packages/h2o/job.py:69: UserWarning: Test/Validation dataset is missing column 'summary_C72': substituting in a column of NaN\n",
            "  warnings.warn(w)\n",
            "/usr/local/lib/python3.6/dist-packages/h2o/job.py:69: UserWarning: Test/Validation dataset is missing column 'summary_C73': substituting in a column of NaN\n",
            "  warnings.warn(w)\n",
            "/usr/local/lib/python3.6/dist-packages/h2o/job.py:69: UserWarning: Test/Validation dataset is missing column 'summary_C74': substituting in a column of NaN\n",
            "  warnings.warn(w)\n",
            "/usr/local/lib/python3.6/dist-packages/h2o/job.py:69: UserWarning: Test/Validation dataset is missing column 'summary_C75': substituting in a column of NaN\n",
            "  warnings.warn(w)\n",
            "/usr/local/lib/python3.6/dist-packages/h2o/job.py:69: UserWarning: Test/Validation dataset is missing column 'summary_C76': substituting in a column of NaN\n",
            "  warnings.warn(w)\n",
            "/usr/local/lib/python3.6/dist-packages/h2o/job.py:69: UserWarning: Test/Validation dataset is missing column 'summary_C77': substituting in a column of NaN\n",
            "  warnings.warn(w)\n",
            "/usr/local/lib/python3.6/dist-packages/h2o/job.py:69: UserWarning: Test/Validation dataset is missing column 'summary_C78': substituting in a column of NaN\n",
            "  warnings.warn(w)\n",
            "/usr/local/lib/python3.6/dist-packages/h2o/job.py:69: UserWarning: Test/Validation dataset is missing column 'summary_C79': substituting in a column of NaN\n",
            "  warnings.warn(w)\n",
            "/usr/local/lib/python3.6/dist-packages/h2o/job.py:69: UserWarning: Test/Validation dataset is missing column 'summary_C80': substituting in a column of NaN\n",
            "  warnings.warn(w)\n",
            "/usr/local/lib/python3.6/dist-packages/h2o/job.py:69: UserWarning: Test/Validation dataset is missing column 'summary_C81': substituting in a column of NaN\n",
            "  warnings.warn(w)\n",
            "/usr/local/lib/python3.6/dist-packages/h2o/job.py:69: UserWarning: Test/Validation dataset is missing column 'summary_C82': substituting in a column of NaN\n",
            "  warnings.warn(w)\n",
            "/usr/local/lib/python3.6/dist-packages/h2o/job.py:69: UserWarning: Test/Validation dataset is missing column 'summary_C83': substituting in a column of NaN\n",
            "  warnings.warn(w)\n",
            "/usr/local/lib/python3.6/dist-packages/h2o/job.py:69: UserWarning: Test/Validation dataset is missing column 'summary_C84': substituting in a column of NaN\n",
            "  warnings.warn(w)\n",
            "/usr/local/lib/python3.6/dist-packages/h2o/job.py:69: UserWarning: Test/Validation dataset is missing column 'summary_C85': substituting in a column of NaN\n",
            "  warnings.warn(w)\n",
            "/usr/local/lib/python3.6/dist-packages/h2o/job.py:69: UserWarning: Test/Validation dataset is missing column 'summary_C86': substituting in a column of NaN\n",
            "  warnings.warn(w)\n",
            "/usr/local/lib/python3.6/dist-packages/h2o/job.py:69: UserWarning: Test/Validation dataset is missing column 'summary_C87': substituting in a column of NaN\n",
            "  warnings.warn(w)\n",
            "/usr/local/lib/python3.6/dist-packages/h2o/job.py:69: UserWarning: Test/Validation dataset is missing column 'summary_C88': substituting in a column of NaN\n",
            "  warnings.warn(w)\n",
            "/usr/local/lib/python3.6/dist-packages/h2o/job.py:69: UserWarning: Test/Validation dataset is missing column 'summary_C89': substituting in a column of NaN\n",
            "  warnings.warn(w)\n",
            "/usr/local/lib/python3.6/dist-packages/h2o/job.py:69: UserWarning: Test/Validation dataset is missing column 'summary_C90': substituting in a column of NaN\n",
            "  warnings.warn(w)\n",
            "/usr/local/lib/python3.6/dist-packages/h2o/job.py:69: UserWarning: Test/Validation dataset is missing column 'summary_C91': substituting in a column of NaN\n",
            "  warnings.warn(w)\n",
            "/usr/local/lib/python3.6/dist-packages/h2o/job.py:69: UserWarning: Test/Validation dataset is missing column 'summary_C92': substituting in a column of NaN\n",
            "  warnings.warn(w)\n",
            "/usr/local/lib/python3.6/dist-packages/h2o/job.py:69: UserWarning: Test/Validation dataset is missing column 'summary_C93': substituting in a column of NaN\n",
            "  warnings.warn(w)\n",
            "/usr/local/lib/python3.6/dist-packages/h2o/job.py:69: UserWarning: Test/Validation dataset is missing column 'summary_C94': substituting in a column of NaN\n",
            "  warnings.warn(w)\n",
            "/usr/local/lib/python3.6/dist-packages/h2o/job.py:69: UserWarning: Test/Validation dataset is missing column 'summary_C95': substituting in a column of NaN\n",
            "  warnings.warn(w)\n",
            "/usr/local/lib/python3.6/dist-packages/h2o/job.py:69: UserWarning: Test/Validation dataset is missing column 'summary_C96': substituting in a column of NaN\n",
            "  warnings.warn(w)\n",
            "/usr/local/lib/python3.6/dist-packages/h2o/job.py:69: UserWarning: Test/Validation dataset is missing column 'summary_C97': substituting in a column of NaN\n",
            "  warnings.warn(w)\n",
            "/usr/local/lib/python3.6/dist-packages/h2o/job.py:69: UserWarning: Test/Validation dataset is missing column 'summary_C98': substituting in a column of NaN\n",
            "  warnings.warn(w)\n",
            "/usr/local/lib/python3.6/dist-packages/h2o/job.py:69: UserWarning: Test/Validation dataset is missing column 'summary_C99': substituting in a column of NaN\n",
            "  warnings.warn(w)\n",
            "/usr/local/lib/python3.6/dist-packages/h2o/job.py:69: UserWarning: Test/Validation dataset is missing column 'summary_C100': substituting in a column of NaN\n",
            "  warnings.warn(w)\n"
          ],
          "name": "stderr"
        },
        {
          "output_type": "display_data",
          "data": {
            "text/html": [
              "<table>\n",
              "<thead>\n",
              "<tr><th style=\"text-align: right;\">  predict</th><th style=\"text-align: right;\">      p0</th><th style=\"text-align: right;\">      p1</th></tr>\n",
              "</thead>\n",
              "<tbody>\n",
              "<tr><td style=\"text-align: right;\">        1</td><td style=\"text-align: right;\">0.356042</td><td style=\"text-align: right;\">0.643958</td></tr>\n",
              "</tbody>\n",
              "</table>"
            ]
          },
          "metadata": {
            "tags": []
          }
        },
        {
          "output_type": "stream",
          "text": [
            "\n",
            "None\n",
            "Bad Review: \n",
            "gbm prediction progress: |████████████████████████████████████████████████| 100%\n"
          ],
          "name": "stdout"
        },
        {
          "output_type": "display_data",
          "data": {
            "text/html": [
              "<table>\n",
              "<thead>\n",
              "<tr><th style=\"text-align: right;\">  predict</th><th style=\"text-align: right;\">      p0</th><th style=\"text-align: right;\">      p1</th></tr>\n",
              "</thead>\n",
              "<tbody>\n",
              "<tr><td style=\"text-align: right;\">        0</td><td style=\"text-align: right;\">0.735046</td><td style=\"text-align: right;\">0.264954</td></tr>\n",
              "</tbody>\n",
              "</table>"
            ]
          },
          "metadata": {
            "tags": []
          }
        },
        {
          "output_type": "stream",
          "text": [
            "\n",
            "None\n"
          ],
          "name": "stdout"
        }
      ]
    },
    {
      "metadata": {
        "id": "MTRVvzNvFM12",
        "colab_type": "code",
        "colab": {}
      },
      "cell_type": "code",
      "source": [
        ""
      ],
      "execution_count": 0,
      "outputs": []
    },
    {
      "metadata": {
        "id": "7NFvpQbdFMzA",
        "colab_type": "code",
        "colab": {}
      },
      "cell_type": "code",
      "source": [
        "h2o.cluster().shutdown()"
      ],
      "execution_count": 0,
      "outputs": []
    },
    {
      "metadata": {
        "id": "lgvefCunFMvs",
        "colab_type": "code",
        "colab": {}
      },
      "cell_type": "code",
      "source": [
        ""
      ],
      "execution_count": 0,
      "outputs": []
    },
    {
      "metadata": {
        "id": "vrgxGgHCuyJH",
        "colab_type": "text"
      },
      "cell_type": "markdown",
      "source": [
        "## About the Tokenize function "
      ]
    },
    {
      "metadata": {
        "id": "AfGV77rTsVpf",
        "colab_type": "code",
        "outputId": "661d4fc8-a8a2-4d91-ec1e-27d260cb9cc9",
        "colab": {
          "base_uri": "https://localhost:8080/",
          "height": 34
        }
      },
      "cell_type": "code",
      "source": [
        "test = 'My 2000, a two [] Corgis \"were\" thoroughly spoiled by my late husband  (I spent a year and a half dieting them down a combined total of 25 pounds!)'\n",
        "test = h2o.H2OFrame.from_python({'String': test}).ascharacter()\n"
      ],
      "execution_count": 0,
      "outputs": [
        {
          "output_type": "stream",
          "text": [
            "Parse progress: |█████████████████████████████████████████████████████████| 100%\n"
          ],
          "name": "stdout"
        }
      ]
    },
    {
      "metadata": {
        "id": "8XkHLSsrs_wy",
        "colab_type": "code",
        "outputId": "27e1b58c-ef8a-49f7-cfb7-c2f49b6abaa0",
        "colab": {
          "base_uri": "https://localhost:8080/",
          "height": 78
        }
      },
      "cell_type": "code",
      "source": [
        "test"
      ],
      "execution_count": 0,
      "outputs": [
        {
          "output_type": "display_data",
          "data": {
            "text/html": [
              "<table>\n",
              "<thead>\n",
              "<tr><th>String                                                                                                                                             </th></tr>\n",
              "</thead>\n",
              "<tbody>\n",
              "<tr><td>My 2000, a two [] Corgis \"were\" thoroughly spoiled by my late husband  (I spent a year and a half dieting them down a combined total of 25 pounds!)</td></tr>\n",
              "</tbody>\n",
              "</table>"
            ]
          },
          "metadata": {
            "tags": []
          }
        },
        {
          "output_type": "execute_result",
          "data": {
            "text/plain": [
              ""
            ]
          },
          "metadata": {
            "tags": []
          },
          "execution_count": 84
        }
      ]
    },
    {
      "metadata": {
        "id": "EmmshKJrT-9D",
        "colab_type": "code",
        "outputId": "3ba31115-d544-4bd5-9f26-d3dbf7491aed",
        "colab": {
          "base_uri": "https://localhost:8080/",
          "height": 267
        }
      },
      "cell_type": "code",
      "source": [
        "tokenized_lower = test.tokenize('\\\\W+').tolower()\n",
        "tokenized_lower, len(tokenized_lower)"
      ],
      "execution_count": 0,
      "outputs": [
        {
          "output_type": "display_data",
          "data": {
            "text/html": [
              "<table>\n",
              "<thead>\n",
              "<tr><th>C1        </th></tr>\n",
              "</thead>\n",
              "<tbody>\n",
              "<tr><td>my        </td></tr>\n",
              "<tr><td>2000      </td></tr>\n",
              "<tr><td>a         </td></tr>\n",
              "<tr><td>two       </td></tr>\n",
              "<tr><td>corgis    </td></tr>\n",
              "<tr><td>were      </td></tr>\n",
              "<tr><td>thoroughly</td></tr>\n",
              "<tr><td>spoiled   </td></tr>\n",
              "<tr><td>by        </td></tr>\n",
              "<tr><td>my        </td></tr>\n",
              "</tbody>\n",
              "</table>"
            ]
          },
          "metadata": {
            "tags": []
          }
        },
        {
          "output_type": "execute_result",
          "data": {
            "text/plain": [
              "(, 29)"
            ]
          },
          "metadata": {
            "tags": []
          },
          "execution_count": 85
        }
      ]
    },
    {
      "metadata": {
        "id": "GBj814n3VogO",
        "colab_type": "code",
        "outputId": "d7a1fdfd-35e6-4b27-fb38-ea09c9f9ba6b",
        "colab": {
          "base_uri": "https://localhost:8080/",
          "height": 267
        }
      },
      "cell_type": "code",
      "source": [
        "tokenized_filtered = tokenized_lower[(tokenized_lower.nchar() >=2)|tokenized_lower.isna()]\n",
        "tokenized_filtered, len(tokenized_filtered)"
      ],
      "execution_count": 0,
      "outputs": [
        {
          "output_type": "display_data",
          "data": {
            "text/html": [
              "<table>\n",
              "<thead>\n",
              "<tr><th>C1        </th></tr>\n",
              "</thead>\n",
              "<tbody>\n",
              "<tr><td>my        </td></tr>\n",
              "<tr><td>2000      </td></tr>\n",
              "<tr><td>two       </td></tr>\n",
              "<tr><td>corgis    </td></tr>\n",
              "<tr><td>were      </td></tr>\n",
              "<tr><td>thoroughly</td></tr>\n",
              "<tr><td>spoiled   </td></tr>\n",
              "<tr><td>by        </td></tr>\n",
              "<tr><td>my        </td></tr>\n",
              "<tr><td>late      </td></tr>\n",
              "</tbody>\n",
              "</table>"
            ]
          },
          "metadata": {
            "tags": []
          }
        },
        {
          "output_type": "execute_result",
          "data": {
            "text/plain": [
              "(, 24)"
            ]
          },
          "metadata": {
            "tags": []
          },
          "execution_count": 87
        }
      ]
    },
    {
      "metadata": {
        "id": "H337KacaWZbH",
        "colab_type": "code",
        "colab": {}
      },
      "cell_type": "code",
      "source": [
        "tokenized_words = tokenized_filtered[tokenized_filtered.grep(\"[0-9]\",invert=True,output_logical=True),:]"
      ],
      "execution_count": 0,
      "outputs": []
    },
    {
      "metadata": {
        "id": "7pa_BeZSXkrG",
        "colab_type": "code",
        "outputId": "a59a5664-1699-47e3-9b79-b8cf820781fa",
        "colab": {
          "base_uri": "https://localhost:8080/",
          "height": 267
        }
      },
      "cell_type": "code",
      "source": [
        "tokenized_words, len(tokenized_words)"
      ],
      "execution_count": 0,
      "outputs": [
        {
          "output_type": "display_data",
          "data": {
            "text/html": [
              "<table>\n",
              "<thead>\n",
              "<tr><th>C1        </th></tr>\n",
              "</thead>\n",
              "<tbody>\n",
              "<tr><td>my        </td></tr>\n",
              "<tr><td>two       </td></tr>\n",
              "<tr><td>corgis    </td></tr>\n",
              "<tr><td>were      </td></tr>\n",
              "<tr><td>thoroughly</td></tr>\n",
              "<tr><td>spoiled   </td></tr>\n",
              "<tr><td>by        </td></tr>\n",
              "<tr><td>my        </td></tr>\n",
              "<tr><td>late      </td></tr>\n",
              "<tr><td>husband   </td></tr>\n",
              "</tbody>\n",
              "</table>"
            ]
          },
          "metadata": {
            "tags": []
          }
        },
        {
          "output_type": "execute_result",
          "data": {
            "text/plain": [
              "(, 22)"
            ]
          },
          "metadata": {
            "tags": []
          },
          "execution_count": 90
        }
      ]
    },
    {
      "metadata": {
        "id": "ykCDuVyJXmNW",
        "colab_type": "code",
        "colab": {}
      },
      "cell_type": "code",
      "source": [
        "tokenized_words = tokenized_words[(tokenized_words.isna()) | (~ tokenized_words.isin(STOP_WORDS)),:]"
      ],
      "execution_count": 0,
      "outputs": []
    },
    {
      "metadata": {
        "id": "lM4IuqMLXzA9",
        "colab_type": "code",
        "outputId": "b39ebd00-ec87-459c-c3ad-0a4006ad9335",
        "colab": {
          "base_uri": "https://localhost:8080/",
          "height": 267
        }
      },
      "cell_type": "code",
      "source": [
        "tokenized_words, len(tokenized_words)"
      ],
      "execution_count": 0,
      "outputs": [
        {
          "output_type": "display_data",
          "data": {
            "text/html": [
              "<table>\n",
              "<thead>\n",
              "<tr><th>C1        </th></tr>\n",
              "</thead>\n",
              "<tbody>\n",
              "<tr><td>two       </td></tr>\n",
              "<tr><td>corgis    </td></tr>\n",
              "<tr><td>thoroughly</td></tr>\n",
              "<tr><td>spoiled   </td></tr>\n",
              "<tr><td>late      </td></tr>\n",
              "<tr><td>husband   </td></tr>\n",
              "<tr><td>spent     </td></tr>\n",
              "<tr><td>year      </td></tr>\n",
              "<tr><td>half      </td></tr>\n",
              "<tr><td>dieting   </td></tr>\n",
              "</tbody>\n",
              "</table>"
            ]
          },
          "metadata": {
            "tags": []
          }
        },
        {
          "output_type": "execute_result",
          "data": {
            "text/plain": [
              "(, 22)"
            ]
          },
          "metadata": {
            "tags": []
          },
          "execution_count": 47
        }
      ]
    },
    {
      "metadata": {
        "id": "zpd65N3sX0mE",
        "colab_type": "code",
        "colab": {}
      },
      "cell_type": "code",
      "source": [
        ""
      ],
      "execution_count": 0,
      "outputs": []
    }
  ]
}