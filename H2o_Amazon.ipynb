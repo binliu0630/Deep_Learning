{
  "nbformat": 4,
  "nbformat_minor": 0,
  "metadata": {
    "colab": {
      "name": "H2o_Amazon.ipynb",
      "version": "0.3.2",
      "provenance": [],
      "include_colab_link": true
    },
    "kernelspec": {
      "name": "python3",
      "display_name": "Python 3"
    }
  },
  "cells": [
    {
      "cell_type": "markdown",
      "metadata": {
        "id": "view-in-github",
        "colab_type": "text"
      },
      "source": [
        "<a href=\"https://colab.research.google.com/github/smitaforward/Data_Science/blob/master/H2o_Amazon.ipynb\" target=\"_parent\"><img src=\"https://colab.research.google.com/assets/colab-badge.svg\" alt=\"Open In Colab\"/></a>"
      ]
    },
    {
      "metadata": {
        "id": "Imx__CrdaJxW",
        "colab_type": "code",
        "outputId": "43fb8b9a-04ce-4a80-8e78-39cf34190569",
        "colab": {
          "base_uri": "https://localhost:8080/",
          "height": 170
        }
      },
      "cell_type": "code",
      "source": [
        "! apt-get install default-jre\n",
        "!java -version"
      ],
      "execution_count": 2,
      "outputs": [
        {
          "output_type": "stream",
          "text": [
            "Reading package lists... Done\n",
            "Building dependency tree       \n",
            "Reading state information... Done\n",
            "default-jre is already the newest version (2:1.10-63ubuntu1~02).\n",
            "default-jre set to manually installed.\n",
            "0 upgraded, 0 newly installed, 0 to remove and 8 not upgraded.\n",
            "openjdk version \"10.0.2\" 2018-07-17\n",
            "OpenJDK Runtime Environment (build 10.0.2+13-Ubuntu-1ubuntu0.18.04.4)\n",
            "OpenJDK 64-Bit Server VM (build 10.0.2+13-Ubuntu-1ubuntu0.18.04.4, mixed mode)\n"
          ],
          "name": "stdout"
        }
      ]
    },
    {
      "metadata": {
        "id": "1lYAVfxvaNBK",
        "colab_type": "code",
        "outputId": "ff3f6efc-497b-44db-b99b-f4baf819e529",
        "colab": {
          "base_uri": "https://localhost:8080/",
          "height": 343
        }
      },
      "cell_type": "code",
      "source": [
        "! pip install h2o"
      ],
      "execution_count": 3,
      "outputs": [
        {
          "output_type": "stream",
          "text": [
            "Collecting h2o\n",
            "\u001b[?25l  Downloading https://files.pythonhosted.org/packages/db/0d/e883b46c2ca0fefd24c15ff49180fe35aeaad12d8e42b0ed6e1be1664db8/h2o-3.22.1.4.tar.gz (120.9MB)\n",
            "\u001b[K    100% |████████████████████████████████| 120.9MB 198kB/s \n",
            "\u001b[?25hRequirement already satisfied: requests in /usr/local/lib/python3.6/dist-packages (from h2o) (2.18.4)\n",
            "Requirement already satisfied: tabulate in /usr/local/lib/python3.6/dist-packages (from h2o) (0.8.3)\n",
            "Requirement already satisfied: future in /usr/local/lib/python3.6/dist-packages (from h2o) (0.16.0)\n",
            "Collecting colorama>=0.3.8 (from h2o)\n",
            "  Downloading https://files.pythonhosted.org/packages/4f/a6/728666f39bfff1719fc94c481890b2106837da9318031f71a8424b662e12/colorama-0.4.1-py2.py3-none-any.whl\n",
            "Requirement already satisfied: urllib3<1.23,>=1.21.1 in /usr/local/lib/python3.6/dist-packages (from requests->h2o) (1.22)\n",
            "Requirement already satisfied: idna<2.7,>=2.5 in /usr/local/lib/python3.6/dist-packages (from requests->h2o) (2.6)\n",
            "Requirement already satisfied: chardet<3.1.0,>=3.0.2 in /usr/local/lib/python3.6/dist-packages (from requests->h2o) (3.0.4)\n",
            "Requirement already satisfied: certifi>=2017.4.17 in /usr/local/lib/python3.6/dist-packages (from requests->h2o) (2018.11.29)\n",
            "Building wheels for collected packages: h2o\n",
            "  Building wheel for h2o (setup.py) ... \u001b[?25ldone\n",
            "\u001b[?25h  Stored in directory: /root/.cache/pip/wheels/76/73/b8/8639930fbc56e9f26fac210f5e65dbe05a0c39396ddaf4a685\n",
            "Successfully built h2o\n",
            "Installing collected packages: colorama, h2o\n",
            "Successfully installed colorama-0.4.1 h2o-3.22.1.4\n"
          ],
          "name": "stdout"
        }
      ]
    },
    {
      "metadata": {
        "id": "6nClrNhfa6n5",
        "colab_type": "code",
        "outputId": "f0c3157f-75e6-4fc8-d9ad-2d4107a72df6",
        "colab": {
          "base_uri": "https://localhost:8080/",
          "height": 613
        }
      },
      "cell_type": "code",
      "source": [
        "import h2o\n",
        "h2o.init(max_mem_size='12G')"
      ],
      "execution_count": 4,
      "outputs": [
        {
          "output_type": "stream",
          "text": [
            "Checking whether there is an H2O instance running at http://localhost:54321..... not found.\n",
            "Attempting to start a local H2O server...\n",
            "  Java Version: openjdk version \"10.0.2\" 2018-07-17; OpenJDK Runtime Environment (build 10.0.2+13-Ubuntu-1ubuntu0.18.04.4); OpenJDK 64-Bit Server VM (build 10.0.2+13-Ubuntu-1ubuntu0.18.04.4, mixed mode)\n",
            "  Starting server from /usr/local/lib/python3.6/dist-packages/h2o/backend/bin/h2o.jar\n",
            "  Ice root: /tmp/tmphnd78zaf\n",
            "  JVM stdout: /tmp/tmphnd78zaf/h2o_unknownUser_started_from_python.out\n",
            "  JVM stderr: /tmp/tmphnd78zaf/h2o_unknownUser_started_from_python.err\n",
            "  Server is running at http://127.0.0.1:54321\n",
            "Connecting to H2O server at http://127.0.0.1:54321... successful.\n"
          ],
          "name": "stdout"
        },
        {
          "output_type": "display_data",
          "data": {
            "text/html": [
              "<div style=\"overflow:auto\"><table style=\"width:50%\"><tr><td>H2O cluster uptime:</td>\n",
              "<td>02 secs</td></tr>\n",
              "<tr><td>H2O cluster timezone:</td>\n",
              "<td>Etc/UTC</td></tr>\n",
              "<tr><td>H2O data parsing timezone:</td>\n",
              "<td>UTC</td></tr>\n",
              "<tr><td>H2O cluster version:</td>\n",
              "<td>3.22.1.4</td></tr>\n",
              "<tr><td>H2O cluster version age:</td>\n",
              "<td>10 days </td></tr>\n",
              "<tr><td>H2O cluster name:</td>\n",
              "<td>H2O_from_python_unknownUser_sg2tfx</td></tr>\n",
              "<tr><td>H2O cluster total nodes:</td>\n",
              "<td>1</td></tr>\n",
              "<tr><td>H2O cluster free memory:</td>\n",
              "<td>12 Gb</td></tr>\n",
              "<tr><td>H2O cluster total cores:</td>\n",
              "<td>2</td></tr>\n",
              "<tr><td>H2O cluster allowed cores:</td>\n",
              "<td>2</td></tr>\n",
              "<tr><td>H2O cluster status:</td>\n",
              "<td>accepting new members, healthy</td></tr>\n",
              "<tr><td>H2O connection url:</td>\n",
              "<td>http://127.0.0.1:54321</td></tr>\n",
              "<tr><td>H2O connection proxy:</td>\n",
              "<td>None</td></tr>\n",
              "<tr><td>H2O internal security:</td>\n",
              "<td>False</td></tr>\n",
              "<tr><td>H2O API Extensions:</td>\n",
              "<td>Amazon S3, XGBoost, Algos, AutoML, Core V3, Core V4</td></tr>\n",
              "<tr><td>Python version:</td>\n",
              "<td>3.6.7 final</td></tr></table></div>"
            ],
            "text/plain": [
              "--------------------------  ---------------------------------------------------\n",
              "H2O cluster uptime:         02 secs\n",
              "H2O cluster timezone:       Etc/UTC\n",
              "H2O data parsing timezone:  UTC\n",
              "H2O cluster version:        3.22.1.4\n",
              "H2O cluster version age:    10 days\n",
              "H2O cluster name:           H2O_from_python_unknownUser_sg2tfx\n",
              "H2O cluster total nodes:    1\n",
              "H2O cluster free memory:    12 Gb\n",
              "H2O cluster total cores:    2\n",
              "H2O cluster allowed cores:  2\n",
              "H2O cluster status:         accepting new members, healthy\n",
              "H2O connection url:         http://127.0.0.1:54321\n",
              "H2O connection proxy:\n",
              "H2O internal security:      False\n",
              "H2O API Extensions:         Amazon S3, XGBoost, Algos, AutoML, Core V3, Core V4\n",
              "Python version:             3.6.7 final\n",
              "--------------------------  ---------------------------------------------------"
            ]
          },
          "metadata": {
            "tags": []
          }
        }
      ]
    },
    {
      "metadata": {
        "id": "lHYSBgLUUxNF",
        "colab_type": "text"
      },
      "cell_type": "markdown",
      "source": [
        "# DATA"
      ]
    },
    {
      "metadata": {
        "id": "EBoR50_5btIC",
        "colab_type": "code",
        "outputId": "0480930e-9b0e-4505-f9c5-ed50914891d5",
        "colab": {
          "base_uri": "https://localhost:8080/",
          "height": 34
        }
      },
      "cell_type": "code",
      "source": [
        "# Use local data file or download from GitHub\n",
        "import os\n",
        "docker_data_path = \"/home/h2o/data/nlp/AmazonReviews.csv\"\n",
        "if os.path.isfile(docker_data_path):\n",
        "  data_path = docker_data_path\n",
        "else:\n",
        "  data_path = \"https://s3.amazonaws.com/tomk/h2o-world/megan/AmazonReviews.csv\"\n",
        "\n",
        "\n",
        "# Load data into H2O\n",
        "reviews = h2o.import_file(data_path)"
      ],
      "execution_count": 5,
      "outputs": [
        {
          "output_type": "stream",
          "text": [
            "Parse progress: |█████████████████████████████████████████████████████████| 100%\n"
          ],
          "name": "stdout"
        }
      ]
    },
    {
      "metadata": {
        "id": "MGE6yaEZcwQr",
        "colab_type": "code",
        "colab": {}
      },
      "cell_type": "code",
      "source": [
        "#reviews['PositiveReview'] = reviews['Score']>=4\n",
        "reviews['PositiveReview'] = (reviews['Score'] >= 4).ifelse('1','0')\n"
      ],
      "execution_count": 0,
      "outputs": []
    },
    {
      "metadata": {
        "id": "RRS1KRY9dCq4",
        "colab_type": "code",
        "outputId": "7206a563-7221-496a-82cb-87a705acee9c",
        "colab": {
          "base_uri": "https://localhost:8080/",
          "height": 82
        }
      },
      "cell_type": "code",
      "source": [
        "reviews['PositiveReview'].table()"
      ],
      "execution_count": 27,
      "outputs": [
        {
          "output_type": "display_data",
          "data": {
            "text/html": [
              "<table>\n",
              "<thead>\n",
              "<tr><th style=\"text-align: right;\">  PositiveReview</th><th style=\"text-align: right;\">  Count</th></tr>\n",
              "</thead>\n",
              "<tbody>\n",
              "<tr><td style=\"text-align: right;\">               0</td><td style=\"text-align: right;\">  21791</td></tr>\n",
              "<tr><td style=\"text-align: right;\">               1</td><td style=\"text-align: right;\">  78209</td></tr>\n",
              "</tbody>\n",
              "</table>"
            ]
          },
          "metadata": {
            "tags": []
          }
        },
        {
          "output_type": "execute_result",
          "data": {
            "text/plain": [
              ""
            ]
          },
          "metadata": {
            "tags": []
          },
          "execution_count": 27
        }
      ]
    },
    {
      "metadata": {
        "id": "b2jqo2Vhdk3z",
        "colab_type": "code",
        "outputId": "18ac6a94-c103-4ad4-b63f-3a922f872070",
        "colab": {
          "base_uri": "https://localhost:8080/",
          "height": 884
        }
      },
      "cell_type": "code",
      "source": [
        "reviews.head(2)"
      ],
      "execution_count": 8,
      "outputs": [
        {
          "output_type": "display_data",
          "data": {
            "text/html": [
              "<table>\n",
              "<thead>\n",
              "<tr><th>ProductId  </th><th>UserId        </th><th>Summary                 </th><th style=\"text-align: right;\">  Score</th><th style=\"text-align: right;\">  HelpfulnessDenominator</th><th style=\"text-align: right;\">   Id</th><th>ProfileName   </th><th style=\"text-align: right;\">  HelpfulnessNumerator</th><th style=\"text-align: right;\">       Time</th><th>Text                                                                                                                                                                                                                                                                                                                                                                            </th><th style=\"text-align: right;\">  PositiveReview</th></tr>\n",
              "</thead>\n",
              "<tbody>\n",
              "<tr><td>B00141QYSQ </td><td>A1YS02UZZGRDCT</td><td>Do Not Buy              </td><td style=\"text-align: right;\">      1</td><td style=\"text-align: right;\">                       2</td><td style=\"text-align: right;\">41471</td><td>Evan Eberhardt</td><td style=\"text-align: right;\">                     2</td><td style=\"text-align: right;\">1.34836e+09</td><td>These are made in China (do not buy ANY pet food from China).  Dogswell has been using propylene glycol to soften their treats (what are they thinkng?).  Do not purchase or support this company in any way until they clean up their act.  And for whatever reason Amazon doesn't allow returns of this item, so I had to toss mine out.  Bad business all around on this one.</td><td style=\"text-align: right;\">               0</td></tr>\n",
              "<tr><td>B0089SPEO2 </td><td>A3JOYNYL458QHP</td><td>Less lemon and less zing</td><td style=\"text-align: right;\">      3</td><td style=\"text-align: right;\">                       0</td><td style=\"text-align: right;\">28582</td><td>coleridge     </td><td style=\"text-align: right;\">                     0</td><td style=\"text-align: right;\">1.32391e+09</td><td>Everything is ok, except it just isn't as good as it is in the bags.  Just considerably more bland -- less lemon and less zing.  Boring.                                                                                                                                                                                                                                        </td><td style=\"text-align: right;\">               0</td></tr>\n",
              "</tbody>\n",
              "</table>"
            ]
          },
          "metadata": {
            "tags": []
          }
        },
        {
          "output_type": "execute_result",
          "data": {
            "text/plain": [
              ""
            ]
          },
          "metadata": {
            "tags": []
          },
          "execution_count": 8
        }
      ]
    },
    {
      "metadata": {
        "id": "RXsP7hLPUJgC",
        "colab_type": "text"
      },
      "cell_type": "markdown",
      "source": [
        "# Train Base Model"
      ]
    },
    {
      "metadata": {
        "id": "kRUOY36pdwcS",
        "colab_type": "code",
        "colab": {}
      },
      "cell_type": "code",
      "source": [
        "# find the 80th quantile of time\n",
        "time_split=reviews['Time'].quantile(prob=[0.8])[1]"
      ],
      "execution_count": 0,
      "outputs": []
    },
    {
      "metadata": {
        "id": "vZGMB7VjVAoR",
        "colab_type": "code",
        "colab": {}
      },
      "cell_type": "code",
      "source": [
        "reviews['Train']= (reviews['Time'] < time_split).ifelse('Yes', 'No')"
      ],
      "execution_count": 0,
      "outputs": []
    },
    {
      "metadata": {
        "id": "I18AI5biVB_p",
        "colab_type": "code",
        "colab": {
          "base_uri": "https://localhost:8080/",
          "height": 728
        },
        "outputId": "eb35c280-7a24-4922-926d-852d4f63aa71"
      },
      "cell_type": "code",
      "source": [
        "reviews.tail(2)"
      ],
      "execution_count": 30,
      "outputs": [
        {
          "output_type": "display_data",
          "data": {
            "text/html": [
              "<table>\n",
              "<thead>\n",
              "<tr><th>ProductId  </th><th>UserId       </th><th>Summary                       </th><th style=\"text-align: right;\">  Score</th><th style=\"text-align: right;\">  HelpfulnessDenominator</th><th style=\"text-align: right;\">    Id</th><th>ProfileName       </th><th style=\"text-align: right;\">  HelpfulnessNumerator</th><th style=\"text-align: right;\">       Time</th><th>Text                                                                                                                                                                                                                                                                                                                                                                                                                                                                                                                                                                                                                                                                                                                                                                                                                                                                                                                                                                                                                                                                                                                                                                                                                                                                                                                                                                                                                     </th><th style=\"text-align: right;\">  PositiveReview</th><th>Train  </th></tr>\n",
              "</thead>\n",
              "<tbody>\n",
              "<tr><td>B0009JRH1C </td><td>AVLEDWHKKIPHA</td><td>Good Tea                      </td><td style=\"text-align: right;\">      5</td><td style=\"text-align: right;\">                       6</td><td style=\"text-align: right;\">248838</td><td>Kim               </td><td style=\"text-align: right;\">                     6</td><td style=\"text-align: right;\">1.29704e+09</td><td>A nice big box so you don't have to worry about running out of tea anytime soon.  Flavorful, but mild for anytime of day.  I would recommend this tea.                                                                                                                                                                                                                                                                                                                                                                                                                                                                                                                                                                                                                                                                                                                                                                                                                                                                                                                                                                                                                                                                                                                                                                                                                                                                   </td><td style=\"text-align: right;\">               1</td><td>Yes    </td></tr>\n",
              "<tr><td>B005H6FF3Y </td><td>A7WV4HI6C8WRJ</td><td>Not fit for human consumption.</td><td style=\"text-align: right;\">      1</td><td style=\"text-align: right;\">                      12</td><td style=\"text-align: right;\">149738</td><td>Edward A. Woodward</td><td style=\"text-align: right;\">                    12</td><td style=\"text-align: right;\">1.33065e+09</td><td>I was very excited when i saw this product, i'm one of those people eager to try anything, and I've had exotic meats before in a number of ways, through friends that hunt I've enjoyed home made dishes made from a wide variety of game animals, and i've had less common animals like ostrich, kangaroo, and aligator that i ordered on like and cooked myself, and i've even had a few of these meats as jerky by other companies. I like the meats of the animals they made these jerkies from, i need to stress that point, because otherwise you may think that is what my problem is. it's not, this product was AWFUL!! these were some of the worst cured meat snacks I've ever had.  Is it possible to rate something and give it no stars? because that is what this product deserves. the meat managed somehow to be both bland and surprisingly foul, and coated with enough grease to lubricate an engine. I have tried several of the strips and sticks and found that to be a universal condition. I can only think that the people who wrote the rave reviews for this product did so without tasting it. this is dreadful stuff, suited only for those who simply want the novelty of claiming they ate strange animals and don't care what it tasted like. this meat was not fit for human consumption, in fact, i wouldn't even give it to my dog. I won't be buying anything else from buffalo bob.</td><td style=\"text-align: right;\">               0</td><td>Yes    </td></tr>\n",
              "</tbody>\n",
              "</table>"
            ]
          },
          "metadata": {
            "tags": []
          }
        },
        {
          "output_type": "execute_result",
          "data": {
            "text/plain": [
              ""
            ]
          },
          "metadata": {
            "tags": []
          },
          "execution_count": 30
        }
      ]
    },
    {
      "metadata": {
        "id": "jh-CKog0VjCc",
        "colab_type": "code",
        "colab": {}
      },
      "cell_type": "code",
      "source": [
        "train = reviews[reviews['Train']== 'Yes']\n",
        "valid = reviews[reviews['Train'] == 'No']\n"
      ],
      "execution_count": 0,
      "outputs": []
    },
    {
      "metadata": {
        "id": "HGcz8xImYO9a",
        "colab_type": "code",
        "colab": {
          "base_uri": "https://localhost:8080/",
          "height": 221
        },
        "outputId": "8c075427-df59-49b8-ecb3-7a8a3428d0df"
      },
      "cell_type": "code",
      "source": [
        "reviews.names"
      ],
      "execution_count": 21,
      "outputs": [
        {
          "output_type": "execute_result",
          "data": {
            "text/plain": [
              "['ProductId',\n",
              " 'UserId',\n",
              " 'Summary',\n",
              " 'Score',\n",
              " 'HelpfulnessDenominator',\n",
              " 'Id',\n",
              " 'ProfileName',\n",
              " 'HelpfulnessNumerator',\n",
              " 'Time',\n",
              " 'Text',\n",
              " 'PositiveReview',\n",
              " 'Train']"
            ]
          },
          "metadata": {
            "tags": []
          },
          "execution_count": 21
        }
      ]
    },
    {
      "metadata": {
        "id": "pvpyAr4WYFF4",
        "colab_type": "code",
        "colab": {}
      },
      "cell_type": "code",
      "source": [
        "from h2o.estimators import H2OGradientBoostingEstimator\n",
        "\n",
        "predictors = ['ProductId', 'UserId', 'HelpfulnessDenominator','HelpfulnessNumerator', 'Time']\n",
        "response='PositiveReview'"
      ],
      "execution_count": 0,
      "outputs": []
    },
    {
      "metadata": {
        "id": "tB243s8nYzdS",
        "colab_type": "code",
        "colab": {}
      },
      "cell_type": "code",
      "source": [
        "gbm_baseline = H2OGradientBoostingEstimator(stopping_metric = 'AUC',\n",
        "                                           stopping_tolerance = 0.001,\n",
        "                                           stopping_rounds = 5, \n",
        "                                           score_tree_interval = 10,\n",
        "                                           model_id = 'gbm_baseline.hex')"
      ],
      "execution_count": 0,
      "outputs": []
    },
    {
      "metadata": {
        "id": "qqQxDmPuZIwW",
        "colab_type": "code",
        "colab": {
          "base_uri": "https://localhost:8080/",
          "height": 34
        },
        "outputId": "1b2bab97-a50b-4aef-c4d7-bb76203c9de8"
      },
      "cell_type": "code",
      "source": [
        "gbm_baseline.train(x = predictors, y=response, training_frame=train, validation_frame=valid)"
      ],
      "execution_count": 34,
      "outputs": [
        {
          "output_type": "stream",
          "text": [
            "gbm Model Build progress: |███████████████████████████████████████████████| 100%\n"
          ],
          "name": "stdout"
        }
      ]
    },
    {
      "metadata": {
        "id": "cgi75DKaZZns",
        "colab_type": "code",
        "colab": {
          "base_uri": "https://localhost:8080/",
          "height": 34
        },
        "outputId": "46e276b7-e03c-423d-b537-80e5638fced2"
      },
      "cell_type": "code",
      "source": [
        "print(f'AUC on Validation Data: {round(gbm_baseline.auc(valid=True),3)}')"
      ],
      "execution_count": 36,
      "outputs": [
        {
          "output_type": "stream",
          "text": [
            "AUC on Validation Data: 0.616\n"
          ],
          "name": "stdout"
        }
      ]
    },
    {
      "metadata": {
        "id": "74jUO55FaYNv",
        "colab_type": "code",
        "colab": {
          "base_uri": "https://localhost:8080/",
          "height": 120
        },
        "outputId": "d89560ec-3a95-4122-afd2-dcfb62251047"
      },
      "cell_type": "code",
      "source": [
        "gbm_baseline.confusion_matrix(valid=True)"
      ],
      "execution_count": 37,
      "outputs": [
        {
          "output_type": "stream",
          "text": [
            "Confusion Matrix (Act/Pred) for max f1 @ threshold = 0.45931625811239496: \n"
          ],
          "name": "stdout"
        },
        {
          "output_type": "display_data",
          "data": {
            "text/html": [
              "<div style=\"overflow:auto\"><table style=\"width:50%\"><tr><td><b></b></td>\n",
              "<td><b>0</b></td>\n",
              "<td><b>1</b></td>\n",
              "<td><b>Error</b></td>\n",
              "<td><b>Rate</b></td></tr>\n",
              "<tr><td>0</td>\n",
              "<td>384.0</td>\n",
              "<td>4276.0</td>\n",
              "<td>0.9176</td>\n",
              "<td> (4276.0/4660.0)</td></tr>\n",
              "<tr><td>1</td>\n",
              "<td>128.0</td>\n",
              "<td>15220.0</td>\n",
              "<td>0.0083</td>\n",
              "<td> (128.0/15348.0)</td></tr>\n",
              "<tr><td>Total</td>\n",
              "<td>512.0</td>\n",
              "<td>19496.0</td>\n",
              "<td>0.2201</td>\n",
              "<td> (4404.0/20008.0)</td></tr></table></div>"
            ],
            "text/plain": [
              "       0    1      Error    Rate\n",
              "-----  ---  -----  -------  ----------------\n",
              "0      384  4276   0.9176   (4276.0/4660.0)\n",
              "1      128  15220  0.0083   (128.0/15348.0)\n",
              "Total  512  19496  0.2201   (4404.0/20008.0)"
            ]
          },
          "metadata": {
            "tags": []
          }
        },
        {
          "output_type": "execute_result",
          "data": {
            "text/plain": [
              ""
            ]
          },
          "metadata": {
            "tags": []
          },
          "execution_count": 37
        }
      ]
    },
    {
      "metadata": {
        "id": "XxlKKJ5AbSYY",
        "colab_type": "code",
        "colab": {
          "base_uri": "https://localhost:8080/",
          "height": 612
        },
        "outputId": "bf2bfff1-7124-4a4b-c6be-e29282358b91"
      },
      "cell_type": "code",
      "source": [
        "gbm_baseline.varimp_plot()"
      ],
      "execution_count": 38,
      "outputs": [
        {
          "output_type": "display_data",
          "data": {
            "image/png": "[encoded data removed]",
            "text/plain": [
              "<Figure size 1008x720 with 1 Axes>"
            ]
          },
          "metadata": {
            "tags": []
          }
        }
      ]
    },
    {
      "metadata": {
        "id": "6xh5BYTbbm7j",
        "colab_type": "code",
        "colab": {}
      },
      "cell_type": "code",
      "source": [
        ""
      ],
      "execution_count": 0,
      "outputs": []
    }
  ]
}