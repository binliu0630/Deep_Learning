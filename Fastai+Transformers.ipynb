{
  "nbformat": 4,
  "nbformat_minor": 0,
  "metadata": {
    "colab": {
      "name": "Fastai+Transformers.ipynb",
      "provenance": [],
      "include_colab_link": true
    },
    "kernelspec": {
      "name": "python3",
      "display_name": "Python 3"
    },
    "accelerator": "GPU"
  },
  "cells": [
    {
      "cell_type": "markdown",
      "metadata": {
        "id": "view-in-github",
        "colab_type": "text"
      },
      "source": [
        "<a href=\"https://colab.research.google.com/github/binliu0630/Deep_Learning/blob/master/Fastai%2BTransformers.ipynb\" target=\"_parent\"><img src=\"https://colab.research.google.com/assets/colab-badge.svg\" alt=\"Open In Colab\"/></a>"
      ]
    },
    {
      "cell_type": "markdown",
      "metadata": {
        "id": "zPYiMT_W5IzW",
        "colab_type": "text"
      },
      "source": [
        "## Get Started"
      ]
    },
    {
      "cell_type": "code",
      "metadata": {
        "id": "T8_w_l4o3n3W",
        "colab_type": "code",
        "outputId": "fc939dff-484a-41f1-a85b-2e0e45054816",
        "colab": {
          "base_uri": "https://localhost:8080/",
          "height": 612
        }
      },
      "source": [
        "!pip install transformers"
      ],
      "execution_count": 1,
      "outputs": [
        {
          "output_type": "stream",
          "text": [
            "Collecting transformers\n",
            "\u001b[?25l  Downloading https://files.pythonhosted.org/packages/70/1a/364556102943cacde1ee00fdcae3b1615b39e52649eddbf54953e5b144c9/transformers-2.2.1-py3-none-any.whl (364kB)\n",
            "\r\u001b[K     |█                               | 10kB 27.1MB/s eta 0:00:01\r\u001b[K     |█▉                              | 20kB 3.1MB/s eta 0:00:01\r\u001b[K     |██▊                             | 30kB 4.5MB/s eta 0:00:01\r\u001b[K     |███▋                            | 40kB 2.9MB/s eta 0:00:01\r\u001b[K     |████▌                           | 51kB 3.6MB/s eta 0:00:01\r\u001b[K     |█████▍                          | 61kB 4.3MB/s eta 0:00:01\r\u001b[K     |██████▎                         | 71kB 5.0MB/s eta 0:00:01\r\u001b[K     |███████▏                        | 81kB 5.6MB/s eta 0:00:01\r\u001b[K     |████████                        | 92kB 6.2MB/s eta 0:00:01\r\u001b[K     |█████████                       | 102kB 4.8MB/s eta 0:00:01\r\u001b[K     |█████████▉                      | 112kB 4.8MB/s eta 0:00:01\r\u001b[K     |██████████▊                     | 122kB 4.8MB/s eta 0:00:01\r\u001b[K     |███████████▊                    | 133kB 4.8MB/s eta 0:00:01\r\u001b[K     |████████████▋                   | 143kB 4.8MB/s eta 0:00:01\r\u001b[K     |█████████████▌                  | 153kB 4.8MB/s eta 0:00:01\r\u001b[K     |██████████████▍                 | 163kB 4.8MB/s eta 0:00:01\r\u001b[K     |███████████████▎                | 174kB 4.8MB/s eta 0:00:01\r\u001b[K     |████████████████▏               | 184kB 4.8MB/s eta 0:00:01\r\u001b[K     |█████████████████               | 194kB 4.8MB/s eta 0:00:01\r\u001b[K     |██████████████████              | 204kB 4.8MB/s eta 0:00:01\r\u001b[K     |██████████████████▉             | 215kB 4.8MB/s eta 0:00:01\r\u001b[K     |███████████████████▊            | 225kB 4.8MB/s eta 0:00:01\r\u001b[K     |████████████████████▋           | 235kB 4.8MB/s eta 0:00:01\r\u001b[K     |█████████████████████▌          | 245kB 4.8MB/s eta 0:00:01\r\u001b[K     |██████████████████████▌         | 256kB 4.8MB/s eta 0:00:01\r\u001b[K     |███████████████████████▍        | 266kB 4.8MB/s eta 0:00:01\r\u001b[K     |████████████████████████▎       | 276kB 4.8MB/s eta 0:00:01\r\u001b[K     |█████████████████████████▏      | 286kB 4.8MB/s eta 0:00:01\r\u001b[K     |██████████████████████████      | 296kB 4.8MB/s eta 0:00:01\r\u001b[K     |███████████████████████████     | 307kB 4.8MB/s eta 0:00:01\r\u001b[K     |███████████████████████████▉    | 317kB 4.8MB/s eta 0:00:01\r\u001b[K     |████████████████████████████▊   | 327kB 4.8MB/s eta 0:00:01\r\u001b[K     |█████████████████████████████▋  | 337kB 4.8MB/s eta 0:00:01\r\u001b[K     |██████████████████████████████▌ | 348kB 4.8MB/s eta 0:00:01\r\u001b[K     |███████████████████████████████▍| 358kB 4.8MB/s eta 0:00:01\r\u001b[K     |████████████████████████████████| 368kB 4.8MB/s \n",
            "\u001b[?25hRequirement already satisfied: numpy in /usr/local/lib/python3.6/dist-packages (from transformers) (1.17.4)\n",
            "Requirement already satisfied: boto3 in /usr/local/lib/python3.6/dist-packages (from transformers) (1.10.32)\n",
            "Requirement already satisfied: tqdm in /usr/local/lib/python3.6/dist-packages (from transformers) (4.28.1)\n",
            "Collecting sacremoses\n",
            "\u001b[?25l  Downloading https://files.pythonhosted.org/packages/1f/8e/ed5364a06a9ba720fddd9820155cc57300d28f5f43a6fd7b7e817177e642/sacremoses-0.0.35.tar.gz (859kB)\n",
            "\u001b[K     |████████████████████████████████| 860kB 49.3MB/s \n",
            "\u001b[?25hCollecting sentencepiece\n",
            "\u001b[?25l  Downloading https://files.pythonhosted.org/packages/14/3d/efb655a670b98f62ec32d66954e1109f403db4d937c50d779a75b9763a29/sentencepiece-0.1.83-cp36-cp36m-manylinux1_x86_64.whl (1.0MB)\n",
            "\u001b[K     |████████████████████████████████| 1.0MB 64.5MB/s \n",
            "\u001b[?25hRequirement already satisfied: requests in /usr/local/lib/python3.6/dist-packages (from transformers) (2.21.0)\n",
            "Collecting regex\n",
            "\u001b[?25l  Downloading https://files.pythonhosted.org/packages/e3/8e/cbf2295643d7265e7883326fb4654e643bfc93b3a8a8274d8010a39d8804/regex-2019.11.1-cp36-cp36m-manylinux1_x86_64.whl (643kB)\n",
            "\u001b[K     |████████████████████████████████| 645kB 68.5MB/s \n",
            "\u001b[?25hRequirement already satisfied: botocore<1.14.0,>=1.13.32 in /usr/local/lib/python3.6/dist-packages (from boto3->transformers) (1.13.32)\n",
            "Requirement already satisfied: jmespath<1.0.0,>=0.7.1 in /usr/local/lib/python3.6/dist-packages (from boto3->transformers) (0.9.4)\n",
            "Requirement already satisfied: s3transfer<0.3.0,>=0.2.0 in /usr/local/lib/python3.6/dist-packages (from boto3->transformers) (0.2.1)\n",
            "Requirement already satisfied: six in /usr/local/lib/python3.6/dist-packages (from sacremoses->transformers) (1.12.0)\n",
            "Requirement already satisfied: click in /usr/local/lib/python3.6/dist-packages (from sacremoses->transformers) (7.0)\n",
            "Requirement already satisfied: joblib in /usr/local/lib/python3.6/dist-packages (from sacremoses->transformers) (0.14.0)\n",
            "Requirement already satisfied: chardet<3.1.0,>=3.0.2 in /usr/local/lib/python3.6/dist-packages (from requests->transformers) (3.0.4)\n",
            "Requirement already satisfied: urllib3<1.25,>=1.21.1 in /usr/local/lib/python3.6/dist-packages (from requests->transformers) (1.24.3)\n",
            "Requirement already satisfied: certifi>=2017.4.17 in /usr/local/lib/python3.6/dist-packages (from requests->transformers) (2019.11.28)\n",
            "Requirement already satisfied: idna<2.9,>=2.5 in /usr/local/lib/python3.6/dist-packages (from requests->transformers) (2.8)\n",
            "Requirement already satisfied: docutils<0.16,>=0.10 in /usr/local/lib/python3.6/dist-packages (from botocore<1.14.0,>=1.13.32->boto3->transformers) (0.15.2)\n",
            "Requirement already satisfied: python-dateutil<2.8.1,>=2.1; python_version >= \"2.7\" in /usr/local/lib/python3.6/dist-packages (from botocore<1.14.0,>=1.13.32->boto3->transformers) (2.6.1)\n",
            "Building wheels for collected packages: sacremoses\n",
            "  Building wheel for sacremoses (setup.py) ... \u001b[?25l\u001b[?25hdone\n",
            "  Created wheel for sacremoses: filename=sacremoses-0.0.35-cp36-none-any.whl size=883999 sha256=41ef66467006e2a3aaa65b145cf765dc29861714bb4650646bc1e96d9b704fc5\n",
            "  Stored in directory: /root/.cache/pip/wheels/63/2a/db/63e2909042c634ef551d0d9ac825b2b0b32dede4a6d87ddc94\n",
            "Successfully built sacremoses\n",
            "Installing collected packages: sacremoses, sentencepiece, regex, transformers\n",
            "Successfully installed regex-2019.11.1 sacremoses-0.0.35 sentencepiece-0.1.83 transformers-2.2.1\n"
          ],
          "name": "stdout"
        }
      ]
    },
    {
      "cell_type": "code",
      "metadata": {
        "id": "bzLZjdQl4Uz-",
        "colab_type": "code",
        "outputId": "429405e0-bf04-45fd-b26e-1783f1cb7750",
        "colab": {
          "base_uri": "https://localhost:8080/",
          "height": 97
        }
      },
      "source": [
        "import fastai\n",
        "import transformers\n",
        "print(f'fastai version: {fastai.__version__}')\n",
        "print(f'transformers version: {transformers. __version__}')"
      ],
      "execution_count": 0,
      "outputs": [
        {
          "output_type": "display_data",
          "data": {
            "text/html": [
              "<p style=\"color: red;\">\n",
              "The default version of TensorFlow in Colab will soon switch to TensorFlow 2.x.<br>\n",
              "We recommend you <a href=\"https://www.tensorflow.org/guide/migrate\" target=\"_blank\">upgrade</a> now \n",
              "or ensure your notebook will continue to use TensorFlow 1.x via the <code>%tensorflow_version 1.x</code> magic:\n",
              "<a href=\"https://colab.research.google.com/notebooks/tensorflow_version.ipynb\" target=\"_blank\">more info</a>.</p>\n"
            ],
            "text/plain": [
              "<IPython.core.display.HTML object>"
            ]
          },
          "metadata": {
            "tags": []
          }
        },
        {
          "output_type": "stream",
          "text": [
            "fastai version: 1.0.59\n",
            "transformers version: 2.2.1\n"
          ],
          "name": "stdout"
        }
      ]
    },
    {
      "cell_type": "code",
      "metadata": {
        "id": "dl9AmI-b4fdZ",
        "colab_type": "code",
        "colab": {
          "base_uri": "https://localhost:8080/",
          "height": 63
        },
        "outputId": "b9891a8d-9c9f-461a-bf51-b83e1f7854d5"
      },
      "source": [
        "import numpy as np\n",
        "import pandas as pd\n",
        "from pathlib import Path\n",
        "\n",
        "import os\n",
        "\n",
        "import torch\n",
        "import torch.optim as optim\n",
        "\n",
        "import random\n",
        "\n",
        "# fastai\n",
        "from fastai import *\n",
        "from fastai.text import *\n",
        "from fastai.callback import *\n",
        "\n",
        "# transformer\n",
        "from transformers import PreTrainedModel, PreTrainedTokenizer, PretrainedConfig\n",
        "from transformers import BertForSequenceClassification, BertTokenizer, BertConfig\n",
        "from transformers import RobertaForSequenceClassification, RobertaTokenizer, RobertaConfig\n",
        "from transformers import XLNetForSequenceClassification, XLNetTokenizer, XLNetConfig\n",
        "from transformers import XLMForSequenceClassification, XLMTokenizer, XLMConfig\n",
        "from transformers import DistilBertForSequenceClassification, DistilBertTokenizer, DistilBertConfig "
      ],
      "execution_count": 2,
      "outputs": [
        {
          "output_type": "display_data",
          "data": {
            "text/html": [
              "<p style=\"color: red;\">\n",
              "The default version of TensorFlow in Colab will soon switch to TensorFlow 2.x.<br>\n",
              "We recommend you <a href=\"https://www.tensorflow.org/guide/migrate\" target=\"_blank\">upgrade</a> now \n",
              "or ensure your notebook will continue to use TensorFlow 1.x via the <code>%tensorflow_version 1.x</code> magic:\n",
              "<a href=\"https://colab.research.google.com/notebooks/tensorflow_version.ipynb\" target=\"_blank\">more info</a>.</p>\n"
            ],
            "text/plain": [
              "<IPython.core.display.HTML object>"
            ]
          },
          "metadata": {
            "tags": []
          }
        }
      ]
    },
    {
      "cell_type": "code",
      "metadata": {
        "id": "oSuIToyD59ks",
        "colab_type": "code",
        "outputId": "0a6abee3-13bf-4eda-8a7b-fadf831bf514",
        "colab": {
          "base_uri": "https://localhost:8080/",
          "height": 34
        }
      },
      "source": [
        "torch.cuda.is_available()"
      ],
      "execution_count": 3,
      "outputs": [
        {
          "output_type": "execute_result",
          "data": {
            "text/plain": [
              "True"
            ]
          },
          "metadata": {
            "tags": []
          },
          "execution_count": 3
        }
      ]
    },
    {
      "cell_type": "markdown",
      "metadata": {
        "id": "UYY6Agzi7z7N",
        "colab_type": "text"
      },
      "source": [
        "## Loading the Data"
      ]
    },
    {
      "cell_type": "code",
      "metadata": {
        "id": "MYmIsyEr7VSY",
        "colab_type": "code",
        "colab": {}
      },
      "source": [
        "data_path = \"https://s3.amazonaws.com/tomk/h2o-world/megan/AmazonReviews.csv\"\n",
        "data = pd.read_csv(data_path)"
      ],
      "execution_count": 0,
      "outputs": []
    },
    {
      "cell_type": "code",
      "metadata": {
        "id": "hKz94sgGLA-x",
        "colab_type": "code",
        "colab": {}
      },
      "source": [
        ""
      ],
      "execution_count": 0,
      "outputs": []
    },
    {
      "cell_type": "code",
      "metadata": {
        "id": "45C0907D8UCm",
        "colab_type": "code",
        "outputId": "e63c1291-8deb-460a-ed98-ade19dbea88c",
        "colab": {
          "base_uri": "https://localhost:8080/",
          "height": 111
        }
      },
      "source": [
        "data.head(2)"
      ],
      "execution_count": 0,
      "outputs": [
        {
          "output_type": "execute_result",
          "data": {
            "text/html": [
              "<div>\n",
              "<style scoped>\n",
              "    .dataframe tbody tr th:only-of-type {\n",
              "        vertical-align: middle;\n",
              "    }\n",
              "\n",
              "    .dataframe tbody tr th {\n",
              "        vertical-align: top;\n",
              "    }\n",
              "\n",
              "    .dataframe thead th {\n",
              "        text-align: right;\n",
              "    }\n",
              "</style>\n",
              "<table border=\"1\" class=\"dataframe\">\n",
              "  <thead>\n",
              "    <tr style=\"text-align: right;\">\n",
              "      <th></th>\n",
              "      <th>ProductId</th>\n",
              "      <th>UserId</th>\n",
              "      <th>Summary</th>\n",
              "      <th>Score</th>\n",
              "      <th>HelpfulnessDenominator</th>\n",
              "      <th>Id</th>\n",
              "      <th>ProfileName</th>\n",
              "      <th>HelpfulnessNumerator</th>\n",
              "      <th>Time</th>\n",
              "      <th>Text</th>\n",
              "    </tr>\n",
              "  </thead>\n",
              "  <tbody>\n",
              "    <tr>\n",
              "      <th>0</th>\n",
              "      <td>B00141QYSQ</td>\n",
              "      <td>A1YS02UZZGRDCT</td>\n",
              "      <td>Do Not Buy</td>\n",
              "      <td>1</td>\n",
              "      <td>2</td>\n",
              "      <td>41471</td>\n",
              "      <td>Evan Eberhardt</td>\n",
              "      <td>2</td>\n",
              "      <td>1348358400</td>\n",
              "      <td>These are made in China (do not buy ANY pet fo...</td>\n",
              "    </tr>\n",
              "    <tr>\n",
              "      <th>1</th>\n",
              "      <td>B0089SPEO2</td>\n",
              "      <td>A3JOYNYL458QHP</td>\n",
              "      <td>Less lemon and less zing</td>\n",
              "      <td>3</td>\n",
              "      <td>0</td>\n",
              "      <td>28582</td>\n",
              "      <td>coleridge</td>\n",
              "      <td>0</td>\n",
              "      <td>1323907200</td>\n",
              "      <td>Everything is ok, except it just isn't as good...</td>\n",
              "    </tr>\n",
              "  </tbody>\n",
              "</table>\n",
              "</div>"
            ],
            "text/plain": [
              "    ProductId  ...                                               Text\n",
              "0  B00141QYSQ  ...  These are made in China (do not buy ANY pet fo...\n",
              "1  B0089SPEO2  ...  Everything is ok, except it just isn't as good...\n",
              "\n",
              "[2 rows x 10 columns]"
            ]
          },
          "metadata": {
            "tags": []
          },
          "execution_count": 6
        }
      ]
    },
    {
      "cell_type": "code",
      "metadata": {
        "id": "zTvqTd2u8Ypj",
        "colab_type": "code",
        "colab": {}
      },
      "source": [
        "# create the binary label\n",
        "data['label'] = np.where(data['Score'] > 3, '1', '0')\n",
        "\n",
        "# change score into categorical so it can be the multiclass label\n",
        "data['Score'] = data['Score'].astype('category')\n"
      ],
      "execution_count": 0,
      "outputs": []
    },
    {
      "cell_type": "code",
      "metadata": {
        "id": "XLV7zooI9Bv4",
        "colab_type": "code",
        "outputId": "b23a060b-fb8b-45ba-e245-e3049810c05e",
        "colab": {
          "base_uri": "https://localhost:8080/",
          "height": 80
        }
      },
      "source": [
        "data.sample()"
      ],
      "execution_count": 6,
      "outputs": [
        {
          "output_type": "execute_result",
          "data": {
            "text/html": [
              "<div>\n",
              "<style scoped>\n",
              "    .dataframe tbody tr th:only-of-type {\n",
              "        vertical-align: middle;\n",
              "    }\n",
              "\n",
              "    .dataframe tbody tr th {\n",
              "        vertical-align: top;\n",
              "    }\n",
              "\n",
              "    .dataframe thead th {\n",
              "        text-align: right;\n",
              "    }\n",
              "</style>\n",
              "<table border=\"1\" class=\"dataframe\">\n",
              "  <thead>\n",
              "    <tr style=\"text-align: right;\">\n",
              "      <th></th>\n",
              "      <th>ProductId</th>\n",
              "      <th>UserId</th>\n",
              "      <th>Summary</th>\n",
              "      <th>Score</th>\n",
              "      <th>HelpfulnessDenominator</th>\n",
              "      <th>Id</th>\n",
              "      <th>ProfileName</th>\n",
              "      <th>HelpfulnessNumerator</th>\n",
              "      <th>Time</th>\n",
              "      <th>Text</th>\n",
              "      <th>label</th>\n",
              "    </tr>\n",
              "  </thead>\n",
              "  <tbody>\n",
              "    <tr>\n",
              "      <th>86677</th>\n",
              "      <td>B001FOXYR6</td>\n",
              "      <td>A3J2HADAU4C299</td>\n",
              "      <td>We'll always have Paris</td>\n",
              "      <td>5</td>\n",
              "      <td>1</td>\n",
              "      <td>480074</td>\n",
              "      <td>Phil Scott</td>\n",
              "      <td>1</td>\n",
              "      <td>1279324800</td>\n",
              "      <td>During the winter of 2008 I lived in Paris, su...</td>\n",
              "      <td>1</td>\n",
              "    </tr>\n",
              "  </tbody>\n",
              "</table>\n",
              "</div>"
            ],
            "text/plain": [
              "        ProductId  ... label\n",
              "86677  B001FOXYR6  ...     1\n",
              "\n",
              "[1 rows x 11 columns]"
            ]
          },
          "metadata": {
            "tags": []
          },
          "execution_count": 6
        }
      ]
    },
    {
      "cell_type": "code",
      "metadata": {
        "id": "8qcaR02Z9WD6",
        "colab_type": "code",
        "colab": {}
      },
      "source": [
        "# split the data by timestamp\n",
        "timesplit = data['Time'].quantile(0.8)"
      ],
      "execution_count": 0,
      "outputs": []
    },
    {
      "cell_type": "code",
      "metadata": {
        "id": "Ih5r1J2v9mwe",
        "colab_type": "code",
        "outputId": "005ace3a-86ea-43e9-f465-206af9821140",
        "colab": {
          "base_uri": "https://localhost:8080/",
          "height": 34
        }
      },
      "source": [
        "train = data[data['Time'] < timesplit]\n",
        "test = data[data['Time'] >= timesplit]\n",
        "train.shape, test.shape"
      ],
      "execution_count": 8,
      "outputs": [
        {
          "output_type": "execute_result",
          "data": {
            "text/plain": [
              "((79992, 11), (20008, 11))"
            ]
          },
          "metadata": {
            "tags": []
          },
          "execution_count": 8
        }
      ]
    },
    {
      "cell_type": "markdown",
      "metadata": {
        "id": "kKBsx0zOVImM",
        "colab_type": "text"
      },
      "source": [
        "## FASTAI"
      ]
    },
    {
      "cell_type": "code",
      "metadata": {
        "id": "Kcw6FAxd9o13",
        "colab_type": "code",
        "colab": {
          "base_uri": "https://localhost:8080/",
          "height": 51
        },
        "outputId": "7c066f36-4a01-469e-9772-85ae356d3e99"
      },
      "source": [
        "%%time\n",
        "# prep lm tuning data\n",
        "data_lm = (TextList.from_df(data.loc[:, ['Text']], cols='Text')\n",
        "            .split_by_rand_pct(0.1, seed=1234)\n",
        "            .label_for_lm()\n",
        "            .databunch(bs=bs))"
      ],
      "execution_count": 168,
      "outputs": [
        {
          "output_type": "display_data",
          "data": {
            "text/html": [
              ""
            ],
            "text/plain": [
              "<IPython.core.display.HTML object>"
            ]
          },
          "metadata": {
            "tags": []
          }
        },
        {
          "output_type": "display_data",
          "data": {
            "text/html": [
              ""
            ],
            "text/plain": [
              "<IPython.core.display.HTML object>"
            ]
          },
          "metadata": {
            "tags": []
          }
        },
        {
          "output_type": "stream",
          "text": [
            "CPU times: user 5.41 s, sys: 1.64 s, total: 7.05 s\n",
            "Wall time: 1min 10s\n"
          ],
          "name": "stdout"
        }
      ]
    },
    {
      "cell_type": "code",
      "metadata": {
        "id": "RkCf4i7fY_6v",
        "colab_type": "code",
        "colab": {
          "base_uri": "https://localhost:8080/",
          "height": 34
        },
        "outputId": "070991c4-bce9-4eb7-a558-6a3510e54de6"
      },
      "source": [
        "learner = language_model_learner(data_lm, AWD_LSTM, drop_mult=0.5)"
      ],
      "execution_count": 169,
      "outputs": [
        {
          "output_type": "stream",
          "text": [
            "Downloading https://s3.amazonaws.com/fast-ai-modelzoo/wt103-fwd\n"
          ],
          "name": "stdout"
        },
        {
          "output_type": "display_data",
          "data": {
            "text/html": [
              ""
            ],
            "text/plain": [
              "<IPython.core.display.HTML object>"
            ]
          },
          "metadata": {
            "tags": []
          }
        }
      ]
    },
    {
      "cell_type": "code",
      "metadata": {
        "id": "A1DY03zEY_4D",
        "colab_type": "code",
        "colab": {
          "base_uri": "https://localhost:8080/",
          "height": 296
        },
        "outputId": "3888c7c5-0d0f-45aa-ddd3-e42a69921634"
      },
      "source": [
        "learner.lr_find()\n",
        "learner.recorder.plot()"
      ],
      "execution_count": 170,
      "outputs": [
        {
          "output_type": "display_data",
          "data": {
            "text/html": [
              ""
            ],
            "text/plain": [
              "<IPython.core.display.HTML object>"
            ]
          },
          "metadata": {
            "tags": []
          }
        },
        {
          "output_type": "stream",
          "text": [
            "LR Finder is complete, type {learner_name}.recorder.plot() to see the graph.\n"
          ],
          "name": "stdout"
        },
        {
          "output_type": "display_data",
          "data": {
            "image/png": "[encoded data removed]",
            "text/plain": [
              "<Figure size 432x288 with 1 Axes>"
            ]
          },
          "metadata": {
            "tags": []
          }
        }
      ]
    },
    {
      "cell_type": "code",
      "metadata": {
        "id": "TpTxAhBlY_12",
        "colab_type": "code",
        "colab": {
          "base_uri": "https://localhost:8080/",
          "height": 80
        },
        "outputId": "ef118c49-5844-4970-c56b-48a715c2901a"
      },
      "source": [
        "learner.fit_one_cycle(1, 1e02, moms=(0.8, 0.7))"
      ],
      "execution_count": 171,
      "outputs": [
        {
          "output_type": "display_data",
          "data": {
            "text/html": [
              "<table border=\"1\" class=\"dataframe\">\n",
              "  <thead>\n",
              "    <tr style=\"text-align: left;\">\n",
              "      <th>epoch</th>\n",
              "      <th>train_loss</th>\n",
              "      <th>valid_loss</th>\n",
              "      <th>accuracy</th>\n",
              "      <th>time</th>\n",
              "    </tr>\n",
              "  </thead>\n",
              "  <tbody>\n",
              "    <tr>\n",
              "      <td>0</td>\n",
              "      <td>6.131574</td>\n",
              "      <td>6.065863</td>\n",
              "      <td>0.088210</td>\n",
              "      <td>23:02</td>\n",
              "    </tr>\n",
              "  </tbody>\n",
              "</table>"
            ],
            "text/plain": [
              "<IPython.core.display.HTML object>"
            ]
          },
          "metadata": {
            "tags": []
          }
        }
      ]
    },
    {
      "cell_type": "code",
      "metadata": {
        "id": "OHOX-gseY_zM",
        "colab_type": "code",
        "colab": {
          "base_uri": "https://localhost:8080/",
          "height": 433
        },
        "outputId": "f7147bb0-1fe7-4fd0-b4cb-59eab64a10cc"
      },
      "source": [
        "learner.unfreeze()\n",
        "learner.fit_one_cycle(3, 1e-3, moms=(0.8, 0.7))"
      ],
      "execution_count": 172,
      "outputs": [
        {
          "output_type": "display_data",
          "data": {
            "text/html": [
              "\n",
              "    <div>\n",
              "        <style>\n",
              "            /* Turns off some styling */\n",
              "            progress {\n",
              "                /* gets rid of default border in Firefox and Opera. */\n",
              "                border: none;\n",
              "                /* Needs to be in here for Safari polyfill so background images work as expected. */\n",
              "                background-size: auto;\n",
              "            }\n",
              "            .progress-bar-interrupted, .progress-bar-interrupted::-webkit-progress-bar {\n",
              "                background: #F44336;\n",
              "            }\n",
              "        </style>\n",
              "      <progress value='1' class='' max='3', style='width:300px; height:20px; vertical-align: middle;'></progress>\n",
              "      33.33% [1/3 26:55<53:50]\n",
              "    </div>\n",
              "    \n",
              "<table border=\"1\" class=\"dataframe\">\n",
              "  <thead>\n",
              "    <tr style=\"text-align: left;\">\n",
              "      <th>epoch</th>\n",
              "      <th>train_loss</th>\n",
              "      <th>valid_loss</th>\n",
              "      <th>accuracy</th>\n",
              "      <th>time</th>\n",
              "    </tr>\n",
              "  </thead>\n",
              "  <tbody>\n",
              "    <tr>\n",
              "      <td>0</td>\n",
              "      <td>4.672173</td>\n",
              "      <td>4.310875</td>\n",
              "      <td>0.265734</td>\n",
              "      <td>26:55</td>\n",
              "    </tr>\n",
              "  </tbody>\n",
              "</table><p>\n",
              "\n",
              "    <div>\n",
              "        <style>\n",
              "            /* Turns off some styling */\n",
              "            progress {\n",
              "                /* gets rid of default border in Firefox and Opera. */\n",
              "                border: none;\n",
              "                /* Needs to be in here for Safari polyfill so background images work as expected. */\n",
              "                background-size: auto;\n",
              "            }\n",
              "            .progress-bar-interrupted, .progress-bar-interrupted::-webkit-progress-bar {\n",
              "                background: #F44336;\n",
              "            }\n",
              "        </style>\n",
              "      <progress value='0' class='progress-bar-interrupted' max='32797', style='width:300px; height:20px; vertical-align: middle;'></progress>\n",
              "      Interrupted\n",
              "    </div>\n",
              "    "
            ],
            "text/plain": [
              "<IPython.core.display.HTML object>"
            ]
          },
          "metadata": {
            "tags": []
          }
        },
        {
          "output_type": "error",
          "ename": "KeyboardInterrupt",
          "evalue": "ignored",
          "traceback": [
            "\u001b[0;31m---------------------------------------------------------------------------\u001b[0m",
            "\u001b[0;31mKeyboardInterrupt\u001b[0m                         Traceback (most recent call last)",
            "\u001b[0;32m<ipython-input-172-8862960656e4>\u001b[0m in \u001b[0;36m<module>\u001b[0;34m()\u001b[0m\n\u001b[1;32m      1\u001b[0m \u001b[0mlearner\u001b[0m\u001b[0;34m.\u001b[0m\u001b[0munfreeze\u001b[0m\u001b[0;34m(\u001b[0m\u001b[0;34m)\u001b[0m\u001b[0;34m\u001b[0m\u001b[0;34m\u001b[0m\u001b[0m\n\u001b[0;32m----> 2\u001b[0;31m \u001b[0mlearner\u001b[0m\u001b[0;34m.\u001b[0m\u001b[0mfit_one_cycle\u001b[0m\u001b[0;34m(\u001b[0m\u001b[0;36m3\u001b[0m\u001b[0;34m,\u001b[0m \u001b[0;36m1e-3\u001b[0m\u001b[0;34m,\u001b[0m \u001b[0mmoms\u001b[0m\u001b[0;34m=\u001b[0m\u001b[0;34m(\u001b[0m\u001b[0;36m0.8\u001b[0m\u001b[0;34m,\u001b[0m \u001b[0;36m0.7\u001b[0m\u001b[0;34m)\u001b[0m\u001b[0;34m)\u001b[0m\u001b[0;34m\u001b[0m\u001b[0;34m\u001b[0m\u001b[0m\n\u001b[0m",
            "\u001b[0;32m/usr/local/lib/python3.6/dist-packages/fastai/train.py\u001b[0m in \u001b[0;36mfit_one_cycle\u001b[0;34m(learn, cyc_len, max_lr, moms, div_factor, pct_start, final_div, wd, callbacks, tot_epochs, start_epoch)\u001b[0m\n\u001b[1;32m     21\u001b[0m     callbacks.append(OneCycleScheduler(learn, max_lr, moms=moms, div_factor=div_factor, pct_start=pct_start,\n\u001b[1;32m     22\u001b[0m                                        final_div=final_div, tot_epochs=tot_epochs, start_epoch=start_epoch))\n\u001b[0;32m---> 23\u001b[0;31m     \u001b[0mlearn\u001b[0m\u001b[0;34m.\u001b[0m\u001b[0mfit\u001b[0m\u001b[0;34m(\u001b[0m\u001b[0mcyc_len\u001b[0m\u001b[0;34m,\u001b[0m \u001b[0mmax_lr\u001b[0m\u001b[0;34m,\u001b[0m \u001b[0mwd\u001b[0m\u001b[0;34m=\u001b[0m\u001b[0mwd\u001b[0m\u001b[0;34m,\u001b[0m \u001b[0mcallbacks\u001b[0m\u001b[0;34m=\u001b[0m\u001b[0mcallbacks\u001b[0m\u001b[0;34m)\u001b[0m\u001b[0;34m\u001b[0m\u001b[0;34m\u001b[0m\u001b[0m\n\u001b[0m\u001b[1;32m     24\u001b[0m \u001b[0;34m\u001b[0m\u001b[0m\n\u001b[1;32m     25\u001b[0m def fit_fc(learn:Learner, tot_epochs:int=1, lr:float=defaults.lr,  moms:Tuple[float,float]=(0.95,0.85), start_pct:float=0.72,\n",
            "\u001b[0;32m/usr/local/lib/python3.6/dist-packages/fastai/basic_train.py\u001b[0m in \u001b[0;36mfit\u001b[0;34m(self, epochs, lr, wd, callbacks)\u001b[0m\n\u001b[1;32m    198\u001b[0m         \u001b[0;32melse\u001b[0m\u001b[0;34m:\u001b[0m \u001b[0mself\u001b[0m\u001b[0;34m.\u001b[0m\u001b[0mopt\u001b[0m\u001b[0;34m.\u001b[0m\u001b[0mlr\u001b[0m\u001b[0;34m,\u001b[0m\u001b[0mself\u001b[0m\u001b[0;34m.\u001b[0m\u001b[0mopt\u001b[0m\u001b[0;34m.\u001b[0m\u001b[0mwd\u001b[0m \u001b[0;34m=\u001b[0m \u001b[0mlr\u001b[0m\u001b[0;34m,\u001b[0m\u001b[0mwd\u001b[0m\u001b[0;34m\u001b[0m\u001b[0;34m\u001b[0m\u001b[0m\n\u001b[1;32m    199\u001b[0m         \u001b[0mcallbacks\u001b[0m \u001b[0;34m=\u001b[0m \u001b[0;34m[\u001b[0m\u001b[0mcb\u001b[0m\u001b[0;34m(\u001b[0m\u001b[0mself\u001b[0m\u001b[0;34m)\u001b[0m \u001b[0;32mfor\u001b[0m \u001b[0mcb\u001b[0m \u001b[0;32min\u001b[0m \u001b[0mself\u001b[0m\u001b[0;34m.\u001b[0m\u001b[0mcallback_fns\u001b[0m \u001b[0;34m+\u001b[0m \u001b[0mlistify\u001b[0m\u001b[0;34m(\u001b[0m\u001b[0mdefaults\u001b[0m\u001b[0;34m.\u001b[0m\u001b[0mextra_callback_fns\u001b[0m\u001b[0;34m)\u001b[0m\u001b[0;34m]\u001b[0m \u001b[0;34m+\u001b[0m \u001b[0mlistify\u001b[0m\u001b[0;34m(\u001b[0m\u001b[0mcallbacks\u001b[0m\u001b[0;34m)\u001b[0m\u001b[0;34m\u001b[0m\u001b[0;34m\u001b[0m\u001b[0m\n\u001b[0;32m--> 200\u001b[0;31m         \u001b[0mfit\u001b[0m\u001b[0;34m(\u001b[0m\u001b[0mepochs\u001b[0m\u001b[0;34m,\u001b[0m \u001b[0mself\u001b[0m\u001b[0;34m,\u001b[0m \u001b[0mmetrics\u001b[0m\u001b[0;34m=\u001b[0m\u001b[0mself\u001b[0m\u001b[0;34m.\u001b[0m\u001b[0mmetrics\u001b[0m\u001b[0;34m,\u001b[0m \u001b[0mcallbacks\u001b[0m\u001b[0;34m=\u001b[0m\u001b[0mself\u001b[0m\u001b[0;34m.\u001b[0m\u001b[0mcallbacks\u001b[0m\u001b[0;34m+\u001b[0m\u001b[0mcallbacks\u001b[0m\u001b[0;34m)\u001b[0m\u001b[0;34m\u001b[0m\u001b[0;34m\u001b[0m\u001b[0m\n\u001b[0m\u001b[1;32m    201\u001b[0m \u001b[0;34m\u001b[0m\u001b[0m\n\u001b[1;32m    202\u001b[0m     \u001b[0;32mdef\u001b[0m \u001b[0mcreate_opt\u001b[0m\u001b[0;34m(\u001b[0m\u001b[0mself\u001b[0m\u001b[0;34m,\u001b[0m \u001b[0mlr\u001b[0m\u001b[0;34m:\u001b[0m\u001b[0mFloats\u001b[0m\u001b[0;34m,\u001b[0m \u001b[0mwd\u001b[0m\u001b[0;34m:\u001b[0m\u001b[0mFloats\u001b[0m\u001b[0;34m=\u001b[0m\u001b[0;36m0.\u001b[0m\u001b[0;34m)\u001b[0m\u001b[0;34m->\u001b[0m\u001b[0;32mNone\u001b[0m\u001b[0;34m:\u001b[0m\u001b[0;34m\u001b[0m\u001b[0;34m\u001b[0m\u001b[0m\n",
            "\u001b[0;32m/usr/local/lib/python3.6/dist-packages/fastai/basic_train.py\u001b[0m in \u001b[0;36mfit\u001b[0;34m(epochs, learn, callbacks, metrics)\u001b[0m\n\u001b[1;32m     99\u001b[0m             \u001b[0;32mfor\u001b[0m \u001b[0mxb\u001b[0m\u001b[0;34m,\u001b[0m\u001b[0myb\u001b[0m \u001b[0;32min\u001b[0m \u001b[0mprogress_bar\u001b[0m\u001b[0;34m(\u001b[0m\u001b[0mlearn\u001b[0m\u001b[0;34m.\u001b[0m\u001b[0mdata\u001b[0m\u001b[0;34m.\u001b[0m\u001b[0mtrain_dl\u001b[0m\u001b[0;34m,\u001b[0m \u001b[0mparent\u001b[0m\u001b[0;34m=\u001b[0m\u001b[0mpbar\u001b[0m\u001b[0;34m)\u001b[0m\u001b[0;34m:\u001b[0m\u001b[0;34m\u001b[0m\u001b[0;34m\u001b[0m\u001b[0m\n\u001b[1;32m    100\u001b[0m                 \u001b[0mxb\u001b[0m\u001b[0;34m,\u001b[0m \u001b[0myb\u001b[0m \u001b[0;34m=\u001b[0m \u001b[0mcb_handler\u001b[0m\u001b[0;34m.\u001b[0m\u001b[0mon_batch_begin\u001b[0m\u001b[0;34m(\u001b[0m\u001b[0mxb\u001b[0m\u001b[0;34m,\u001b[0m \u001b[0myb\u001b[0m\u001b[0;34m)\u001b[0m\u001b[0;34m\u001b[0m\u001b[0;34m\u001b[0m\u001b[0m\n\u001b[0;32m--> 101\u001b[0;31m                 \u001b[0mloss\u001b[0m \u001b[0;34m=\u001b[0m \u001b[0mloss_batch\u001b[0m\u001b[0;34m(\u001b[0m\u001b[0mlearn\u001b[0m\u001b[0;34m.\u001b[0m\u001b[0mmodel\u001b[0m\u001b[0;34m,\u001b[0m \u001b[0mxb\u001b[0m\u001b[0;34m,\u001b[0m \u001b[0myb\u001b[0m\u001b[0;34m,\u001b[0m \u001b[0mlearn\u001b[0m\u001b[0;34m.\u001b[0m\u001b[0mloss_func\u001b[0m\u001b[0;34m,\u001b[0m \u001b[0mlearn\u001b[0m\u001b[0;34m.\u001b[0m\u001b[0mopt\u001b[0m\u001b[0;34m,\u001b[0m \u001b[0mcb_handler\u001b[0m\u001b[0;34m)\u001b[0m\u001b[0;34m\u001b[0m\u001b[0;34m\u001b[0m\u001b[0m\n\u001b[0m\u001b[1;32m    102\u001b[0m                 \u001b[0;32mif\u001b[0m \u001b[0mcb_handler\u001b[0m\u001b[0;34m.\u001b[0m\u001b[0mon_batch_end\u001b[0m\u001b[0;34m(\u001b[0m\u001b[0mloss\u001b[0m\u001b[0;34m)\u001b[0m\u001b[0;34m:\u001b[0m \u001b[0;32mbreak\u001b[0m\u001b[0;34m\u001b[0m\u001b[0;34m\u001b[0m\u001b[0m\n\u001b[1;32m    103\u001b[0m \u001b[0;34m\u001b[0m\u001b[0m\n",
            "\u001b[0;32m/usr/local/lib/python3.6/dist-packages/fastai/basic_train.py\u001b[0m in \u001b[0;36mloss_batch\u001b[0;34m(model, xb, yb, loss_func, opt, cb_handler)\u001b[0m\n\u001b[1;32m     36\u001b[0m         \u001b[0;32mif\u001b[0m \u001b[0;32mnot\u001b[0m \u001b[0mcb_handler\u001b[0m\u001b[0;34m.\u001b[0m\u001b[0mon_step_end\u001b[0m\u001b[0;34m(\u001b[0m\u001b[0;34m)\u001b[0m\u001b[0;34m:\u001b[0m     \u001b[0mopt\u001b[0m\u001b[0;34m.\u001b[0m\u001b[0mzero_grad\u001b[0m\u001b[0;34m(\u001b[0m\u001b[0;34m)\u001b[0m\u001b[0;34m\u001b[0m\u001b[0;34m\u001b[0m\u001b[0m\n\u001b[1;32m     37\u001b[0m \u001b[0;34m\u001b[0m\u001b[0m\n\u001b[0;32m---> 38\u001b[0;31m     \u001b[0;32mreturn\u001b[0m \u001b[0mloss\u001b[0m\u001b[0;34m.\u001b[0m\u001b[0mdetach\u001b[0m\u001b[0;34m(\u001b[0m\u001b[0;34m)\u001b[0m\u001b[0;34m.\u001b[0m\u001b[0mcpu\u001b[0m\u001b[0;34m(\u001b[0m\u001b[0;34m)\u001b[0m\u001b[0;34m\u001b[0m\u001b[0;34m\u001b[0m\u001b[0m\n\u001b[0m\u001b[1;32m     39\u001b[0m \u001b[0;34m\u001b[0m\u001b[0m\n\u001b[1;32m     40\u001b[0m def get_preds(model:nn.Module, dl:DataLoader, pbar:Optional[PBar]=None, cb_handler:Optional[CallbackHandler]=None,\n",
            "\u001b[0;31mKeyboardInterrupt\u001b[0m: "
          ]
        }
      ]
    },
    {
      "cell_type": "code",
      "metadata": {
        "id": "Id9_2lSrkl35",
        "colab_type": "code",
        "colab": {}
      },
      "source": [
        "learner.save('learner_ft')"
      ],
      "execution_count": 0,
      "outputs": []
    },
    {
      "cell_type": "code",
      "metadata": {
        "id": "AXspu7RtY_xD",
        "colab_type": "code",
        "colab": {}
      },
      "source": [
        "learner.save_encoder('learner_encoder')"
      ],
      "execution_count": 0,
      "outputs": []
    },
    {
      "cell_type": "code",
      "metadata": {
        "id": "DbPzDyWsY_uz",
        "colab_type": "code",
        "colab": {
          "base_uri": "https://localhost:8080/",
          "height": 17
        },
        "outputId": "677a425c-fd57-4fbc-8f30-265e87c7b64d"
      },
      "source": [
        "data_clas = (TextList.from_df(train, cols='Text', vocab=data_lm.vocab)\n",
        "            .split_by_rand_pct(0.1, seed=1234)\n",
        "            .label_from_df(cols=['label'])\n",
        "            .databunch(bs=bs))"
      ],
      "execution_count": 176,
      "outputs": [
        {
          "output_type": "display_data",
          "data": {
            "text/html": [
              ""
            ],
            "text/plain": [
              "<IPython.core.display.HTML object>"
            ]
          },
          "metadata": {
            "tags": []
          }
        },
        {
          "output_type": "display_data",
          "data": {
            "text/html": [
              ""
            ],
            "text/plain": [
              "<IPython.core.display.HTML object>"
            ]
          },
          "metadata": {
            "tags": []
          }
        }
      ]
    },
    {
      "cell_type": "code",
      "metadata": {
        "id": "XOe1WT7AY_sH",
        "colab_type": "code",
        "colab": {}
      },
      "source": [
        "learner=text_classifier_learner(data_clas, AWD_LSTM, drop_mult=0.3, metrics=[accuracy, AUROC()])\n",
        "learner.load_encoder('learner_encoder');"
      ],
      "execution_count": 0,
      "outputs": []
    },
    {
      "cell_type": "code",
      "metadata": {
        "id": "b-6LtKZXY_pl",
        "colab_type": "code",
        "colab": {
          "base_uri": "https://localhost:8080/",
          "height": 296
        },
        "outputId": "ccb63181-d71a-4b0e-cdd2-a0b9baa431f0"
      },
      "source": [
        "learner.lr_find()\n",
        "learner.recorder.plot()"
      ],
      "execution_count": 180,
      "outputs": [
        {
          "output_type": "display_data",
          "data": {
            "text/html": [
              ""
            ],
            "text/plain": [
              "<IPython.core.display.HTML object>"
            ]
          },
          "metadata": {
            "tags": []
          }
        },
        {
          "output_type": "stream",
          "text": [
            "LR Finder is complete, type {learner_name}.recorder.plot() to see the graph.\n"
          ],
          "name": "stdout"
        },
        {
          "output_type": "display_data",
          "data": {
            "image/png": "[encoded data removed]",
            "text/plain": [
              "<Figure size 432x288 with 1 Axes>"
            ]
          },
          "metadata": {
            "tags": []
          }
        }
      ]
    },
    {
      "cell_type": "code",
      "metadata": {
        "id": "7IR0sU3FY_f3",
        "colab_type": "code",
        "colab": {
          "base_uri": "https://localhost:8080/",
          "height": 80
        },
        "outputId": "59d4158c-0de8-4908-8a52-51d193feab98"
      },
      "source": [
        "learner.fit_one_cycle(1, 1e-1, moms=(0.8, 0.7))"
      ],
      "execution_count": 182,
      "outputs": [
        {
          "output_type": "display_data",
          "data": {
            "text/html": [
              "<table border=\"1\" class=\"dataframe\">\n",
              "  <thead>\n",
              "    <tr style=\"text-align: left;\">\n",
              "      <th>epoch</th>\n",
              "      <th>train_loss</th>\n",
              "      <th>valid_loss</th>\n",
              "      <th>accuracy</th>\n",
              "      <th>auroc</th>\n",
              "      <th>time</th>\n",
              "    </tr>\n",
              "  </thead>\n",
              "  <tbody>\n",
              "    <tr>\n",
              "      <td>0</td>\n",
              "      <td>0.427691</td>\n",
              "      <td>2.042626</td>\n",
              "      <td>0.814602</td>\n",
              "      <td>0.838578</td>\n",
              "      <td>10:59</td>\n",
              "    </tr>\n",
              "  </tbody>\n",
              "</table>"
            ],
            "text/plain": [
              "<IPython.core.display.HTML object>"
            ]
          },
          "metadata": {
            "tags": []
          }
        }
      ]
    },
    {
      "cell_type": "markdown",
      "metadata": {
        "id": "J24EDqdy_k5T",
        "colab_type": "text"
      },
      "source": [
        "## FASTAI + TRANSFORMER"
      ]
    },
    {
      "cell_type": "code",
      "metadata": {
        "id": "IfH-1oNK-MQa",
        "colab_type": "code",
        "colab": {}
      },
      "source": [
        "MODEL_CLASSES = {\n",
        "    'bert': (BertForSequenceClassification, BertTokenizer, BertConfig),\n",
        "    'xlnet': (XLNetForSequenceClassification, XLNetTokenizer, XLNetConfig),\n",
        "    'xlm': (XLMForSequenceClassification, XLMTokenizer, XLMConfig),\n",
        "    'roberta': (RobertaForSequenceClassification, RobertaTokenizer, RobertaConfig),\n",
        "    'distilbert': (DistilBertForSequenceClassification, DistilBertTokenizer, DistilBertConfig)\n",
        "}"
      ],
      "execution_count": 0,
      "outputs": []
    },
    {
      "cell_type": "code",
      "metadata": {
        "id": "bLxLQ6Rf_9t_",
        "colab_type": "code",
        "colab": {}
      },
      "source": [
        "seed = 42\n",
        "use_fp16 = False\n",
        "bs = 4 # 4 for roberta/distibert/xlm\n",
        "\n",
        "model_type = 'roberta'\n",
        "pretrained_model_name = 'roberta-base'\n",
        "\n",
        "model_type = 'bert'\n",
        "pretrained_model_name='bert-base-uncased'\n",
        "\n",
        "model_type = 'distilbert'\n",
        "pretrained_model_name = 'distilbert-base-uncased-distilled-squad'#'distilbert-base-uncased'#'distilbert-base-uncased'\n",
        "\n",
        "model_type = 'xlm'\n",
        "pretrained_model_name = 'xlm-clm-enfr-1024'\n",
        "\n",
        "# model_type = 'xlnet'\n",
        "# pretrained_model_name = 'xlnet-base-cased'"
      ],
      "execution_count": 0,
      "outputs": []
    },
    {
      "cell_type": "code",
      "metadata": {
        "id": "9bx4EBkdALcE",
        "colab_type": "code",
        "colab": {}
      },
      "source": [
        "model_class, tokenizer_class, config_class = MODEL_CLASSES[model_type]"
      ],
      "execution_count": 0,
      "outputs": []
    },
    {
      "cell_type": "code",
      "metadata": {
        "id": "AMOMJWyBAa8j",
        "colab_type": "code",
        "outputId": "2792e3b1-bd54-46ad-e77e-e753a5754a5d",
        "colab": {
          "base_uri": "https://localhost:8080/",
          "height": 187
        }
      },
      "source": [
        "# all the pretrained model for the specific model_class\n",
        "model_class.pretrained_model_archive_map"
      ],
      "execution_count": 143,
      "outputs": [
        {
          "output_type": "execute_result",
          "data": {
            "text/plain": [
              "{'xlm-clm-ende-1024': 'https://s3.amazonaws.com/models.huggingface.co/bert/xlm-clm-ende-1024-pytorch_model.bin',\n",
              " 'xlm-clm-enfr-1024': 'https://s3.amazonaws.com/models.huggingface.co/bert/xlm-clm-enfr-1024-pytorch_model.bin',\n",
              " 'xlm-mlm-100-1280': 'https://s3.amazonaws.com/models.huggingface.co/bert/xlm-mlm-100-1280-pytorch_model.bin',\n",
              " 'xlm-mlm-17-1280': 'https://s3.amazonaws.com/models.huggingface.co/bert/xlm-mlm-17-1280-pytorch_model.bin',\n",
              " 'xlm-mlm-en-2048': 'https://s3.amazonaws.com/models.huggingface.co/bert/xlm-mlm-en-2048-pytorch_model.bin',\n",
              " 'xlm-mlm-ende-1024': 'https://s3.amazonaws.com/models.huggingface.co/bert/xlm-mlm-ende-1024-pytorch_model.bin',\n",
              " 'xlm-mlm-enfr-1024': 'https://s3.amazonaws.com/models.huggingface.co/bert/xlm-mlm-enfr-1024-pytorch_model.bin',\n",
              " 'xlm-mlm-enro-1024': 'https://s3.amazonaws.com/models.huggingface.co/bert/xlm-mlm-enro-1024-pytorch_model.bin',\n",
              " 'xlm-mlm-tlm-xnli15-1024': 'https://s3.amazonaws.com/models.huggingface.co/bert/xlm-mlm-tlm-xnli15-1024-pytorch_model.bin',\n",
              " 'xlm-mlm-xnli15-1024': 'https://s3.amazonaws.com/models.huggingface.co/bert/xlm-mlm-xnli15-1024-pytorch_model.bin'}"
            ]
          },
          "metadata": {
            "tags": []
          },
          "execution_count": 143
        }
      ]
    },
    {
      "cell_type": "code",
      "metadata": {
        "id": "AVoXYSPqAu3_",
        "colab_type": "code",
        "colab": {}
      },
      "source": [
        "def seed_all(seed_value):\n",
        "    random.seed(seed_value) # Python\n",
        "    np.random.seed(seed_value) # cpu vars\n",
        "    torch.manual_seed(seed_value) # cpu  vars\n",
        "    \n",
        "    if torch.cuda.is_available(): \n",
        "        torch.cuda.manual_seed(seed_value)\n",
        "        torch.cuda.manual_seed_all(seed_value) # gpu vars\n",
        "        torch.backends.cudnn.deterministic = True  #needed\n",
        "        torch.backends.cudnn.benchmark = False\n",
        "\n",
        "seed_all(seed)"
      ],
      "execution_count": 0,
      "outputs": []
    },
    {
      "cell_type": "markdown",
      "metadata": {
        "id": "7I1mAUVqGxSi",
        "colab_type": "text"
      },
      "source": [
        "### 1 Setup FASTAI Databunch"
      ]
    },
    {
      "cell_type": "code",
      "metadata": {
        "id": "aeK3w9iaHBzQ",
        "colab_type": "code",
        "colab": {}
      },
      "source": [
        "# load the pretrained tokenizer\n",
        "transformer_tokenizer = tokenizer_class.from_pretrained(pretrained_model_name)"
      ],
      "execution_count": 0,
      "outputs": []
    },
    {
      "cell_type": "code",
      "metadata": {
        "id": "RLzdH0lWM4y0",
        "colab_type": "code",
        "outputId": "c0072b1d-83b9-42a0-9299-9d5f70230c34",
        "colab": {
          "base_uri": "https://localhost:8080/",
          "height": 34
        }
      },
      "source": [
        "transformer_tokenizer.max_len"
      ],
      "execution_count": 146,
      "outputs": [
        {
          "output_type": "execute_result",
          "data": {
            "text/plain": [
              "512"
            ]
          },
          "metadata": {
            "tags": []
          },
          "execution_count": 146
        }
      ]
    },
    {
      "cell_type": "markdown",
      "metadata": {
        "id": "z5ljV67gFDtI",
        "colab_type": "text"
      },
      "source": [
        "###### Create Custom FASTAI TOKENIER from pretrained transformer tokenizer"
      ]
    },
    {
      "cell_type": "code",
      "metadata": {
        "id": "UjnsSRo4Bbef",
        "colab_type": "code",
        "colab": {}
      },
      "source": [
        "class TransformersBaseTokenizer(BaseTokenizer):\n",
        "    \"\"\"Wrapper around PreTrainedTokenizer to be compatible with fast.ai\"\"\"\n",
        "    def __init__(self, pretrained_tokenizer: PreTrainedTokenizer, model_type = 'bert', **kwargs):\n",
        "        self._pretrained_tokenizer = pretrained_tokenizer\n",
        "        self.max_seq_len = pretrained_tokenizer.max_len\n",
        "        self.model_type = model_type\n",
        "\n",
        "    def __call__(self, *args, **kwargs): \n",
        "        return self\n",
        "\n",
        "    def tokenizer(self, t:str) -> List[str]:\n",
        "        \"\"\"Limits the maximum sequence length and add the spesial tokens\"\"\"\n",
        "        CLS = self._pretrained_tokenizer.cls_token\n",
        "        SEP = self._pretrained_tokenizer.sep_token\n",
        "        if self.model_type in ['roberta']:\n",
        "            tokens = self._pretrained_tokenizer.tokenize(t, add_prefix_space=True)[:self.max_seq_len - 2]\n",
        "        else:\n",
        "            tokens = self._pretrained_tokenizer.tokenize(t)[:self.max_seq_len - 2]\n",
        "        return [CLS] + tokens + [SEP]"
      ],
      "execution_count": 0,
      "outputs": []
    },
    {
      "cell_type": "code",
      "metadata": {
        "id": "P_2fFui_EWQn",
        "colab_type": "code",
        "colab": {}
      },
      "source": [
        "transformer_base_tokenizer = TransformersBaseTokenizer(pretrained_tokenizer = transformer_tokenizer, model_type = model_type)\n",
        "fastai_tokenizer = Tokenizer(tok_func = transformer_base_tokenizer, pre_rules=[], post_rules=[])"
      ],
      "execution_count": 0,
      "outputs": []
    },
    {
      "cell_type": "code",
      "metadata": {
        "id": "5wXeP_DVEfi-",
        "colab_type": "code",
        "outputId": "e8e78c7d-9105-4e1e-df3c-0ec991b560ff",
        "colab": {
          "base_uri": "https://localhost:8080/",
          "height": 357
        }
      },
      "source": [
        "tokenizer_class.pretrained_vocab_files_map"
      ],
      "execution_count": 149,
      "outputs": [
        {
          "output_type": "execute_result",
          "data": {
            "text/plain": [
              "{'merges_file': {'xlm-clm-ende-1024': 'https://s3.amazonaws.com/models.huggingface.co/bert/xlm-mlm-ende-1024-merges.txt',\n",
              "  'xlm-clm-enfr-1024': 'https://s3.amazonaws.com/models.huggingface.co/bert/xlm-mlm-enfr-1024-merges.txt',\n",
              "  'xlm-mlm-100-1280': 'https://s3.amazonaws.com/models.huggingface.co/bert/xlm-mlm-100-1280-merges.txt',\n",
              "  'xlm-mlm-17-1280': 'https://s3.amazonaws.com/models.huggingface.co/bert/xlm-mlm-17-1280-merges.txt',\n",
              "  'xlm-mlm-en-2048': 'https://s3.amazonaws.com/models.huggingface.co/bert/xlm-mlm-en-2048-merges.txt',\n",
              "  'xlm-mlm-ende-1024': 'https://s3.amazonaws.com/models.huggingface.co/bert/xlm-mlm-ende-1024-merges.txt',\n",
              "  'xlm-mlm-enfr-1024': 'https://s3.amazonaws.com/models.huggingface.co/bert/xlm-mlm-enfr-1024-merges.txt',\n",
              "  'xlm-mlm-enro-1024': 'https://s3.amazonaws.com/models.huggingface.co/bert/xlm-mlm-enro-1024-merges.txt',\n",
              "  'xlm-mlm-tlm-xnli15-1024': 'https://s3.amazonaws.com/models.huggingface.co/bert/xlm-mlm-tlm-xnli15-1024-merges.txt',\n",
              "  'xlm-mlm-xnli15-1024': 'https://s3.amazonaws.com/models.huggingface.co/bert/xlm-mlm-xnli15-1024-merges.txt'},\n",
              " 'vocab_file': {'xlm-clm-ende-1024': 'https://s3.amazonaws.com/models.huggingface.co/bert/xlm-clm-ende-1024-vocab.json',\n",
              "  'xlm-clm-enfr-1024': 'https://s3.amazonaws.com/models.huggingface.co/bert/xlm-clm-enfr-1024-vocab.json',\n",
              "  'xlm-mlm-100-1280': 'https://s3.amazonaws.com/models.huggingface.co/bert/xlm-mlm-100-1280-vocab.json',\n",
              "  'xlm-mlm-17-1280': 'https://s3.amazonaws.com/models.huggingface.co/bert/xlm-mlm-17-1280-vocab.json',\n",
              "  'xlm-mlm-en-2048': 'https://s3.amazonaws.com/models.huggingface.co/bert/xlm-mlm-en-2048-vocab.json',\n",
              "  'xlm-mlm-ende-1024': 'https://s3.amazonaws.com/models.huggingface.co/bert/xlm-mlm-ende-1024-vocab.json',\n",
              "  'xlm-mlm-enfr-1024': 'https://s3.amazonaws.com/models.huggingface.co/bert/xlm-mlm-enfr-1024-vocab.json',\n",
              "  'xlm-mlm-enro-1024': 'https://s3.amazonaws.com/models.huggingface.co/bert/xlm-mlm-enro-1024-vocab.json',\n",
              "  'xlm-mlm-tlm-xnli15-1024': 'https://s3.amazonaws.com/models.huggingface.co/bert/xlm-mlm-tlm-xnli15-1024-vocab.json',\n",
              "  'xlm-mlm-xnli15-1024': 'https://s3.amazonaws.com/models.huggingface.co/bert/xlm-mlm-xnli15-1024-vocab.json'}}"
            ]
          },
          "metadata": {
            "tags": []
          },
          "execution_count": 149
        }
      ]
    },
    {
      "cell_type": "markdown",
      "metadata": {
        "id": "Ra1uKAv1Fq3J",
        "colab_type": "text"
      },
      "source": [
        "###### Create Custom FASTAI Vocab from the pretrained transformer tokenizer"
      ]
    },
    {
      "cell_type": "code",
      "metadata": {
        "id": "YF64GKh_Ep7_",
        "colab_type": "code",
        "colab": {}
      },
      "source": [
        "class TransformersVocab(Vocab):\n",
        "    def __init__(self, tokenizer: PreTrainedTokenizer):\n",
        "        super(TransformersVocab, self).__init__(itos = [])\n",
        "        self.tokenizer = tokenizer\n",
        "    \n",
        "    def numericalize(self, t:Collection[str]) -> List[int]:\n",
        "        \"Convert a list of tokens `t` to their ids.\"\n",
        "        return self.tokenizer.convert_tokens_to_ids(t)\n",
        "        #return self.tokenizer.encode(t)\n",
        "\n",
        "    def textify(self, nums:Collection[int], sep=' ') -> List[str]:\n",
        "        \"Convert a list of `nums` to their tokens.\"\n",
        "        nums = np.array(nums).tolist()\n",
        "        return sep.join(self.tokenizer.convert_ids_to_tokens(nums)) if sep is not None else self.tokenizer.convert_ids_to_tokens(nums)"
      ],
      "execution_count": 0,
      "outputs": []
    },
    {
      "cell_type": "code",
      "metadata": {
        "id": "aLlu5bBuF82e",
        "colab_type": "code",
        "colab": {}
      },
      "source": [
        "fastai_vocab = TransformersVocab(tokenizer=transformer_tokenizer)"
      ],
      "execution_count": 0,
      "outputs": []
    },
    {
      "cell_type": "markdown",
      "metadata": {
        "id": "bYl02GssHLPo",
        "colab_type": "text"
      },
      "source": [
        "###### Create Custom FASTAI Processor"
      ]
    },
    {
      "cell_type": "code",
      "metadata": {
        "id": "duGkyBJYHWev",
        "colab_type": "code",
        "colab": {}
      },
      "source": [
        "numericalize_processor = NumericalizeProcessor(vocab=fastai_vocab)\n",
        "\n",
        "tokenize_processor = TokenizeProcessor(tokenizer=fastai_tokenizer, include_bos=False, include_eos=False)\n"
      ],
      "execution_count": 0,
      "outputs": []
    },
    {
      "cell_type": "code",
      "metadata": {
        "id": "q4hZJevuHyRB",
        "colab_type": "code",
        "colab": {}
      },
      "source": [
        "fastai_processor = [tokenize_processor, numericalize_processor]"
      ],
      "execution_count": 0,
      "outputs": []
    },
    {
      "cell_type": "markdown",
      "metadata": {
        "id": "CowuQyVwJQtn",
        "colab_type": "text"
      },
      "source": [
        "###### Create Custom FASTAI Databunch"
      ]
    },
    {
      "cell_type": "code",
      "metadata": {
        "id": "LY93k2TIKtPq",
        "colab_type": "code",
        "outputId": "0016b408-d9f8-4fe2-b364-9f55612d1d9c",
        "colab": {
          "base_uri": "https://localhost:8080/",
          "height": 68
        }
      },
      "source": [
        "print('[CLS] token :', transformer_tokenizer.cls_token)\n",
        "print('[SEP] token :', transformer_tokenizer.sep_token)\n",
        "print('[PAD] token :', transformer_tokenizer.pad_token)"
      ],
      "execution_count": 154,
      "outputs": [
        {
          "output_type": "stream",
          "text": [
            "[CLS] token : </s>\n",
            "[SEP] token : </s>\n",
            "[PAD] token : <pad>\n"
          ],
          "name": "stdout"
        }
      ]
    },
    {
      "cell_type": "code",
      "metadata": {
        "id": "drsWa7kpIW6A",
        "colab_type": "code",
        "colab": {}
      },
      "source": [
        "pad_first = bool(model_type in ['xlnet'])\n",
        "pad_idx = transformer_tokenizer.pad_token_id"
      ],
      "execution_count": 0,
      "outputs": []
    },
    {
      "cell_type": "code",
      "metadata": {
        "id": "jtvAUGvdKOQ6",
        "colab_type": "code",
        "outputId": "9bba15c2-9d0c-45d5-86de-bfc12d168d7a",
        "colab": {
          "base_uri": "https://localhost:8080/",
          "height": 17
        }
      },
      "source": [
        "databunch = (TextList.from_df(train, cols='Text', processor=fastai_processor)\n",
        "             .split_by_rand_pct(0.1,seed=seed)\n",
        "             .label_from_df(cols= 'label')\n",
        "             .add_test(test)\n",
        "             .databunch(bs=bs, pad_first=pad_first, pad_idx=pad_idx))"
      ],
      "execution_count": 157,
      "outputs": [
        {
          "output_type": "display_data",
          "data": {
            "text/html": [
              ""
            ],
            "text/plain": [
              "<IPython.core.display.HTML object>"
            ]
          },
          "metadata": {
            "tags": []
          }
        },
        {
          "output_type": "display_data",
          "data": {
            "text/html": [
              ""
            ],
            "text/plain": [
              "<IPython.core.display.HTML object>"
            ]
          },
          "metadata": {
            "tags": []
          }
        },
        {
          "output_type": "display_data",
          "data": {
            "text/html": [
              ""
            ],
            "text/plain": [
              "<IPython.core.display.HTML object>"
            ]
          },
          "metadata": {
            "tags": []
          }
        }
      ]
    },
    {
      "cell_type": "code",
      "metadata": {
        "id": "qWf9nJs-KOD-",
        "colab_type": "code",
        "outputId": "81f8a5ef-955a-48ec-c20b-7eaf13ae36fd",
        "colab": {
          "base_uri": "https://localhost:8080/",
          "height": 309
        }
      },
      "source": [
        "databunch.show_batch(10)"
      ],
      "execution_count": 158,
      "outputs": [
        {
          "output_type": "display_data",
          "data": {
            "text/html": [
              "<table border=\"1\" class=\"dataframe\">\n",
              "  <thead>\n",
              "    <tr style=\"text-align: right;\">\n",
              "      <th>text</th>\n",
              "      <th>target</th>\n",
              "    </tr>\n",
              "  </thead>\n",
              "  <tbody>\n",
              "    <tr>\n",
              "      <td>recently&lt;/w&gt; ,&lt;/w&gt; my&lt;/w&gt; husband&lt;/w&gt; brought&lt;/w&gt; home&lt;/w&gt; one&lt;/w&gt; can&lt;/w&gt; of&lt;/w&gt; sal t- free&lt;/w&gt; sard ines&lt;/w&gt; in&lt;/w&gt; water&lt;/w&gt; (&lt;/w&gt; can&lt;/w&gt; 't&lt;/w&gt; remember&lt;/w&gt; they&lt;/w&gt; type&lt;/w&gt; ,&lt;/w&gt; but&lt;/w&gt; none&lt;/w&gt; of&lt;/w&gt; the&lt;/w&gt; brands&lt;/w&gt; listed&lt;/w&gt; here&lt;/w&gt; )&lt;/w&gt; .&lt;/w&gt; i&lt;/w&gt; had&lt;/w&gt; been&lt;/w&gt; watching&lt;/w&gt; the&lt;/w&gt; bb c&lt;/w&gt; blue&lt;/w&gt; planet&lt;/w&gt; series&lt;/w&gt; recently&lt;/w&gt; ,&lt;/w&gt; and&lt;/w&gt; all&lt;/w&gt; that&lt;/w&gt; footage&lt;/w&gt; of&lt;/w&gt; sard ine&lt;/w&gt; fe asting&lt;/w&gt; by&lt;/w&gt; the&lt;/w&gt; various&lt;/w&gt; ocean&lt;/w&gt; predators&lt;/w&gt; must&lt;/w&gt; have&lt;/w&gt; lodged&lt;/w&gt; somewhere&lt;/w&gt; in&lt;/w&gt; my&lt;/w&gt; sub consciousness&lt;/w&gt; ,&lt;/w&gt; because&lt;/w&gt; i&lt;/w&gt; eyed&lt;/w&gt;</td>\n",
              "      <td>1</td>\n",
              "    </tr>\n",
              "    <tr>\n",
              "      <td>i&lt;/w&gt; love&lt;/w&gt; the&lt;/w&gt; just&lt;/w&gt; cheese&lt;/w&gt; bars&lt;/w&gt; .&lt;/w&gt; it&lt;/w&gt; 's&lt;/w&gt; basically&lt;/w&gt; just&lt;/w&gt; cris ped&lt;/w&gt; cheese&lt;/w&gt; ,&lt;/w&gt; some&lt;/w&gt; of&lt;/w&gt; which&lt;/w&gt; have&lt;/w&gt; pow dered&lt;/w&gt; flav oring&lt;/w&gt; mixed&lt;/w&gt; in&lt;/w&gt; .&lt;/w&gt; this&lt;/w&gt; one&lt;/w&gt; is&lt;/w&gt; pizza&lt;/w&gt; fl avored&lt;/w&gt; ,&lt;/w&gt; which&lt;/w&gt; i&lt;/w&gt; also&lt;/w&gt; liked&lt;/w&gt; .&lt;/w&gt; &lt;&lt;/w&gt; b r&lt;/w&gt; /&lt;/w&gt; &gt;&lt;/w&gt; &lt;&lt;/w&gt; b r&lt;/w&gt; /&lt;/w&gt; &gt;&lt;/w&gt; you&lt;/w&gt; can&lt;/w&gt; do&lt;/w&gt; this&lt;/w&gt; yourself&lt;/w&gt; in&lt;/w&gt; just&lt;/w&gt; a&lt;/w&gt; few&lt;/w&gt; minutes&lt;/w&gt; by&lt;/w&gt; putting&lt;/w&gt; a&lt;/w&gt; little&lt;/w&gt; oil&lt;/w&gt; (&lt;/w&gt; or&lt;/w&gt; p am&lt;/w&gt; )&lt;/w&gt; on&lt;/w&gt; aluminum&lt;/w&gt;</td>\n",
              "      <td>0</td>\n",
              "    </tr>\n",
              "    <tr>\n",
              "      <td>a&lt;/w&gt; little&lt;/w&gt; over&lt;/w&gt; a&lt;/w&gt; week&lt;/w&gt; ago&lt;/w&gt; and&lt;/w&gt; completely&lt;/w&gt; out&lt;/w&gt; of&lt;/w&gt; the&lt;/w&gt; blue&lt;/w&gt; ,&lt;/w&gt; i&lt;/w&gt; started&lt;/w&gt; having&lt;/w&gt; heart&lt;/w&gt; pal pit ations&lt;/w&gt; .&lt;/w&gt; i&lt;/w&gt; 'm&lt;/w&gt; a&lt;/w&gt; 27-year-old&lt;/w&gt; female&lt;/w&gt; and&lt;/w&gt; am&lt;/w&gt; on&lt;/w&gt; no&lt;/w&gt; medications&lt;/w&gt; and&lt;/w&gt; have&lt;/w&gt; no&lt;/w&gt; significant&lt;/w&gt; medical&lt;/w&gt; history&lt;/w&gt; .&lt;/w&gt; the&lt;/w&gt; first&lt;/w&gt; two&lt;/w&gt; days&lt;/w&gt; ,&lt;/w&gt; i&lt;/w&gt; only&lt;/w&gt; noticed&lt;/w&gt; a&lt;/w&gt; few&lt;/w&gt; of&lt;/w&gt; them&lt;/w&gt; .&lt;/w&gt; then&lt;/w&gt; for&lt;/w&gt; the&lt;/w&gt; next&lt;/w&gt; 3&lt;/w&gt; days&lt;/w&gt; ,&lt;/w&gt; i&lt;/w&gt; had&lt;/w&gt; them&lt;/w&gt; much&lt;/w&gt; more&lt;/w&gt; frequently&lt;/w&gt; .&lt;/w&gt; i&lt;/w&gt; could&lt;/w&gt; put&lt;/w&gt; my&lt;/w&gt; fingers&lt;/w&gt;</td>\n",
              "      <td>1</td>\n",
              "    </tr>\n",
              "    <tr>\n",
              "      <td>i&lt;/w&gt; 've&lt;/w&gt; tried&lt;/w&gt; several&lt;/w&gt; of&lt;/w&gt; the&lt;/w&gt; d m r f&lt;/w&gt; soup&lt;/w&gt; and&lt;/w&gt; products&lt;/w&gt; .&lt;/w&gt; some&lt;/w&gt; of&lt;/w&gt; the&lt;/w&gt; sou ps&lt;/w&gt; were&lt;/w&gt; pretty&lt;/w&gt; bl and&lt;/w&gt; and&lt;/w&gt; not&lt;/w&gt; worth&lt;/w&gt; re purchasing&lt;/w&gt; .&lt;/w&gt; some&lt;/w&gt; i&lt;/w&gt; liked&lt;/w&gt; quite&lt;/w&gt; a&lt;/w&gt; bit -- the&lt;/w&gt; split&lt;/w&gt; pe a&lt;/w&gt; ,&lt;/w&gt; the&lt;/w&gt; spring&lt;/w&gt; onion&lt;/w&gt; ,&lt;/w&gt; the&lt;/w&gt; box ed&lt;/w&gt; vegetable&lt;/w&gt; ,&lt;/w&gt; for&lt;/w&gt; example&lt;/w&gt; .&lt;/w&gt; this&lt;/w&gt; instant&lt;/w&gt; soup&lt;/w&gt; from&lt;/w&gt; the&lt;/w&gt; line&lt;/w&gt; is&lt;/w&gt; the&lt;/w&gt; best&lt;/w&gt; .&lt;/w&gt; i&lt;/w&gt; like&lt;/w&gt; it&lt;/w&gt; even&lt;/w&gt; more&lt;/w&gt; than&lt;/w&gt; then&lt;/w&gt;</td>\n",
              "      <td>1</td>\n",
              "    </tr>\n",
              "  </tbody>\n",
              "</table>"
            ],
            "text/plain": [
              "<IPython.core.display.HTML object>"
            ]
          },
          "metadata": {
            "tags": []
          }
        }
      ]
    },
    {
      "cell_type": "code",
      "metadata": {
        "id": "AL9cyaXMMV6e",
        "colab_type": "code",
        "outputId": "5207afbf-fd79-405a-be9c-124fc8049933",
        "colab": {
          "base_uri": "https://localhost:8080/",
          "height": 34
        }
      },
      "source": [
        "databunch.one_batch()[0].shape"
      ],
      "execution_count": 159,
      "outputs": [
        {
          "output_type": "execute_result",
          "data": {
            "text/plain": [
              "torch.Size([4, 512])"
            ]
          },
          "metadata": {
            "tags": []
          },
          "execution_count": 159
        }
      ]
    },
    {
      "cell_type": "markdown",
      "metadata": {
        "id": "0CBbrWy8Nbwx",
        "colab_type": "text"
      },
      "source": [
        "### 2 Setup FASTAI Learner "
      ]
    },
    {
      "cell_type": "markdown",
      "metadata": {
        "id": "l1IReobzNy_r",
        "colab_type": "text"
      },
      "source": [
        "###### Create Custom Transformer Model"
      ]
    },
    {
      "cell_type": "code",
      "metadata": {
        "id": "DEb-ujgEMV35",
        "colab_type": "code",
        "colab": {}
      },
      "source": [
        "# defining our model architecture \n",
        "class CustomTransformerModel(nn.Module):\n",
        "    def __init__(self, transformer_model: PreTrainedModel):\n",
        "        super(CustomTransformerModel,self).__init__()\n",
        "        self.transformer = transformer_model\n",
        "        \n",
        "    def forward(self, input_ids, attention_mask=None):\n",
        "        \n",
        "        #attention_mask = (input_ids!=1).type(input_ids.type()) # Test attention_mask for RoBERTa\n",
        "        \n",
        "        logits = self.transformer(input_ids,\n",
        "                                attention_mask = attention_mask)[0]   \n",
        "        return logits"
      ],
      "execution_count": 0,
      "outputs": []
    },
    {
      "cell_type": "code",
      "metadata": {
        "id": "ihOJYhPfMV1U",
        "colab_type": "code",
        "outputId": "5f8f6c84-4654-4936-c9ca-29f4e3de7397",
        "colab": {
          "base_uri": "https://localhost:8080/",
          "height": 918
        }
      },
      "source": [
        "config = config_class.from_pretrained(pretrained_model_name)\n",
        "config"
      ],
      "execution_count": 161,
      "outputs": [
        {
          "output_type": "stream",
          "text": [
            "100%|██████████| 396/396 [00:00<00:00, 62272.96B/s]\n"
          ],
          "name": "stderr"
        },
        {
          "output_type": "execute_result",
          "data": {
            "text/plain": [
              "{\n",
              "  \"asm\": false,\n",
              "  \"attention_dropout\": 0.1,\n",
              "  \"bos_index\": 0,\n",
              "  \"causal\": false,\n",
              "  \"dropout\": 0.1,\n",
              "  \"emb_dim\": 1024,\n",
              "  \"embed_init_std\": 0.02209708691207961,\n",
              "  \"end_n_top\": 5,\n",
              "  \"eos_index\": 1,\n",
              "  \"finetuning_task\": null,\n",
              "  \"gelu_activation\": true,\n",
              "  \"id2lang\": {\n",
              "    \"0\": \"en\",\n",
              "    \"1\": \"fr\"\n",
              "  },\n",
              "  \"init_std\": 0.02,\n",
              "  \"is_decoder\": false,\n",
              "  \"is_encoder\": true,\n",
              "  \"lang2id\": {\n",
              "    \"en\": 0,\n",
              "    \"fr\": 1\n",
              "  },\n",
              "  \"layer_norm_eps\": 1e-12,\n",
              "  \"mask_index\": 5,\n",
              "  \"max_position_embeddings\": 512,\n",
              "  \"max_vocab\": -1,\n",
              "  \"min_count\": 0,\n",
              "  \"n_heads\": 8,\n",
              "  \"n_langs\": 2,\n",
              "  \"n_layers\": 6,\n",
              "  \"n_words\": 64139,\n",
              "  \"num_labels\": 2,\n",
              "  \"output_attentions\": false,\n",
              "  \"output_hidden_states\": false,\n",
              "  \"output_past\": true,\n",
              "  \"pad_index\": 2,\n",
              "  \"pruned_heads\": {},\n",
              "  \"same_enc_dec\": true,\n",
              "  \"share_inout_emb\": true,\n",
              "  \"sinusoidal_embeddings\": false,\n",
              "  \"start_n_top\": 5,\n",
              "  \"summary_activation\": null,\n",
              "  \"summary_first_dropout\": 0.1,\n",
              "  \"summary_proj_to_labels\": true,\n",
              "  \"summary_type\": \"first\",\n",
              "  \"summary_use_proj\": true,\n",
              "  \"torchscript\": false,\n",
              "  \"unk_index\": 3,\n",
              "  \"use_bfloat16\": false,\n",
              "  \"use_lang_emb\": true\n",
              "}"
            ]
          },
          "metadata": {
            "tags": []
          },
          "execution_count": 161
        }
      ]
    },
    {
      "cell_type": "code",
      "metadata": {
        "id": "gAgMC87p82g9",
        "colab_type": "code",
        "outputId": "24664b4b-c7a0-42b0-dd0c-13930ae525b3",
        "colab": {
          "base_uri": "https://localhost:8080/",
          "height": 34
        }
      },
      "source": [
        "transformer_model = model_class.from_pretrained(pretrained_model_name, config=config)\n",
        "custom_transformer_model = CustomTransformerModel(transformer_model=transformer_model)"
      ],
      "execution_count": 162,
      "outputs": [
        {
          "output_type": "stream",
          "text": [
            "100%|██████████| 830122454/830122454 [00:20<00:00, 41321947.95B/s]\n"
          ],
          "name": "stderr"
        }
      ]
    },
    {
      "cell_type": "markdown",
      "metadata": {
        "id": "Br7_cpBp95O4",
        "colab_type": "text"
      },
      "source": [
        "###### Create FASTAI Learner Model"
      ]
    },
    {
      "cell_type": "code",
      "metadata": {
        "id": "OJp7rkbI82Zv",
        "colab_type": "code",
        "colab": {}
      },
      "source": [
        "from fastai.callbacks import *\n",
        "from transformers import AdamW\n",
        "\n",
        "learner = Learner(databunch, \n",
        "                  custom_transformer_model, \n",
        "                  opt_func = lambda input: AdamW(input,correct_bias=False), \n",
        "                  metrics=[accuracy, AUROC()])\n",
        "\n",
        "# Show graph of learner stats and metrics after each epoch.\n",
        "learner.callbacks.append(ShowGraph(learner))\n",
        "\n",
        "# Put learn in FP16 precision mode. --> Seems to not working\n",
        "if use_fp16: learner = learner.to_fp16()"
      ],
      "execution_count": 0,
      "outputs": []
    },
    {
      "cell_type": "code",
      "metadata": {
        "id": "2F0t1AT082Qn",
        "colab_type": "code",
        "outputId": "c02a4d47-31b1-41d2-c9e5-91e0da19c75c",
        "colab": {
          "base_uri": "https://localhost:8080/",
          "height": 1000
        }
      },
      "source": [
        "learner.summary()"
      ],
      "execution_count": 164,
      "outputs": [
        {
          "output_type": "execute_result",
          "data": {
            "text/plain": [
              "CustomTransformerModel\n",
              "======================================================================\n",
              "Layer (type)         Output Shape         Param #    Trainable \n",
              "======================================================================\n",
              "Embedding            [512, 1024]          524,288    True      \n",
              "______________________________________________________________________\n",
              "Embedding            [512, 1024]          65,678,336 True      \n",
              "______________________________________________________________________\n",
              "LayerNorm            [512, 1024]          2,048      True      \n",
              "______________________________________________________________________\n",
              "Linear               [512, 1024]          1,049,600  True      \n",
              "______________________________________________________________________\n",
              "Linear               [512, 1024]          1,049,600  True      \n",
              "______________________________________________________________________\n",
              "Linear               [512, 1024]          1,049,600  True      \n",
              "______________________________________________________________________\n",
              "Linear               [512, 1024]          1,049,600  True      \n",
              "______________________________________________________________________\n",
              "Linear               [512, 1024]          1,049,600  True      \n",
              "______________________________________________________________________\n",
              "Linear               [512, 1024]          1,049,600  True      \n",
              "______________________________________________________________________\n",
              "Linear               [512, 1024]          1,049,600  True      \n",
              "______________________________________________________________________\n",
              "Linear               [512, 1024]          1,049,600  True      \n",
              "______________________________________________________________________\n",
              "Linear               [512, 1024]          1,049,600  True      \n",
              "______________________________________________________________________\n",
              "Linear               [512, 1024]          1,049,600  True      \n",
              "______________________________________________________________________\n",
              "Linear               [512, 1024]          1,049,600  True      \n",
              "______________________________________________________________________\n",
              "Linear               [512, 1024]          1,049,600  True      \n",
              "______________________________________________________________________\n",
              "Linear               [512, 1024]          1,049,600  True      \n",
              "______________________________________________________________________\n",
              "Linear               [512, 1024]          1,049,600  True      \n",
              "______________________________________________________________________\n",
              "Linear               [512, 1024]          1,049,600  True      \n",
              "______________________________________________________________________\n",
              "Linear               [512, 1024]          1,049,600  True      \n",
              "______________________________________________________________________\n",
              "Linear               [512, 1024]          1,049,600  True      \n",
              "______________________________________________________________________\n",
              "Linear               [512, 1024]          1,049,600  True      \n",
              "______________________________________________________________________\n",
              "Linear               [512, 1024]          1,049,600  True      \n",
              "______________________________________________________________________\n",
              "Linear               [512, 1024]          1,049,600  True      \n",
              "______________________________________________________________________\n",
              "Linear               [512, 1024]          1,049,600  True      \n",
              "______________________________________________________________________\n",
              "Linear               [512, 1024]          1,049,600  True      \n",
              "______________________________________________________________________\n",
              "Linear               [512, 1024]          1,049,600  True      \n",
              "______________________________________________________________________\n",
              "Linear               [512, 1024]          1,049,600  True      \n",
              "______________________________________________________________________\n",
              "LayerNorm            [512, 1024]          2,048      True      \n",
              "______________________________________________________________________\n",
              "LayerNorm            [512, 1024]          2,048      True      \n",
              "______________________________________________________________________\n",
              "LayerNorm            [512, 1024]          2,048      True      \n",
              "______________________________________________________________________\n",
              "LayerNorm            [512, 1024]          2,048      True      \n",
              "______________________________________________________________________\n",
              "LayerNorm            [512, 1024]          2,048      True      \n",
              "______________________________________________________________________\n",
              "LayerNorm            [512, 1024]          2,048      True      \n",
              "______________________________________________________________________\n",
              "Linear               [512, 4096]          4,198,400  True      \n",
              "______________________________________________________________________\n",
              "Linear               [512, 1024]          4,195,328  True      \n",
              "______________________________________________________________________\n",
              "Linear               [512, 4096]          4,198,400  True      \n",
              "______________________________________________________________________\n",
              "Linear               [512, 1024]          4,195,328  True      \n",
              "______________________________________________________________________\n",
              "Linear               [512, 4096]          4,198,400  True      \n",
              "______________________________________________________________________\n",
              "Linear               [512, 1024]          4,195,328  True      \n",
              "______________________________________________________________________\n",
              "Linear               [512, 4096]          4,198,400  True      \n",
              "______________________________________________________________________\n",
              "Linear               [512, 1024]          4,195,328  True      \n",
              "______________________________________________________________________\n",
              "Linear               [512, 4096]          4,198,400  True      \n",
              "______________________________________________________________________\n",
              "Linear               [512, 1024]          4,195,328  True      \n",
              "______________________________________________________________________\n",
              "Linear               [512, 4096]          4,198,400  True      \n",
              "______________________________________________________________________\n",
              "Linear               [512, 1024]          4,195,328  True      \n",
              "______________________________________________________________________\n",
              "LayerNorm            [512, 1024]          2,048      True      \n",
              "______________________________________________________________________\n",
              "LayerNorm            [512, 1024]          2,048      True      \n",
              "______________________________________________________________________\n",
              "LayerNorm            [512, 1024]          2,048      True      \n",
              "______________________________________________________________________\n",
              "LayerNorm            [512, 1024]          2,048      True      \n",
              "______________________________________________________________________\n",
              "LayerNorm            [512, 1024]          2,048      True      \n",
              "______________________________________________________________________\n",
              "LayerNorm            [512, 1024]          2,048      True      \n",
              "______________________________________________________________________\n",
              "Linear               [2]                  2,050      True      \n",
              "______________________________________________________________________\n",
              "Identity             [2]                  0          False     \n",
              "______________________________________________________________________\n",
              "Dropout              [1024]               0          False     \n",
              "______________________________________________________________________\n",
              "Identity             [2]                  0          False     \n",
              "______________________________________________________________________\n",
              "\n",
              "Total params: 141,784,066\n",
              "Total trainable params: 141,784,066\n",
              "Total non-trainable params: 0\n",
              "Optimized with f008a0d09d8\n",
              "Using true weight decay as discussed in https://www.fast.ai/2018/07/02/adam-weight-decay/ \n",
              "Loss function : FlattenedLoss\n",
              "======================================================================\n",
              "Callbacks functions applied \n",
              "    ShowGraph"
            ]
          },
          "metadata": {
            "tags": []
          },
          "execution_count": 164
        }
      ]
    },
    {
      "cell_type": "markdown",
      "metadata": {
        "id": "BJQtu7slI2Wz",
        "colab_type": "text"
      },
      "source": [
        "###### Training FASTAI Learner "
      ]
    },
    {
      "cell_type": "code",
      "metadata": {
        "id": "eJ75fdPM_WOs",
        "colab_type": "code",
        "outputId": "f91b92ef-6e43-49ad-e2d8-778932c4cd36",
        "colab": {
          "base_uri": "https://localhost:8080/",
          "height": 34
        }
      },
      "source": [
        "learner.lr_find()"
      ],
      "execution_count": 165,
      "outputs": [
        {
          "output_type": "display_data",
          "data": {
            "text/html": [
              ""
            ],
            "text/plain": [
              "<IPython.core.display.HTML object>"
            ]
          },
          "metadata": {
            "tags": []
          }
        },
        {
          "output_type": "stream",
          "text": [
            "LR Finder is complete, type {learner_name}.recorder.plot() to see the graph.\n"
          ],
          "name": "stdout"
        }
      ]
    },
    {
      "cell_type": "code",
      "metadata": {
        "id": "De4j-yzX_c9L",
        "colab_type": "code",
        "outputId": "41e44591-e9fb-4be3-f0fc-fe5b28304182",
        "colab": {
          "base_uri": "https://localhost:8080/",
          "height": 313
        }
      },
      "source": [
        "learner.recorder.plot(skip_end=7,suggestion=True)"
      ],
      "execution_count": 166,
      "outputs": [
        {
          "output_type": "stream",
          "text": [
            "Min numerical gradient: 6.31E-07\n",
            "Min loss divided by 10: 1.58E-05\n"
          ],
          "name": "stdout"
        },
        {
          "output_type": "display_data",
          "data": {
            "image/png": "[encoded data removed]",
            "text/plain": [
              "<Figure size 432x288 with 1 Axes>"
            ]
          },
          "metadata": {
            "tags": []
          }
        }
      ]
    },
    {
      "cell_type": "code",
      "metadata": {
        "id": "OJoe28HfThs1",
        "colab_type": "code",
        "colab": {
          "base_uri": "https://localhost:8080/",
          "height": 328
        },
        "outputId": "639fe11a-3fe2-4a5f-f167-ae3cb2e1d021"
      },
      "source": [
        "# result for xlm\n",
        "learner.fit_one_cycle(1,max_lr=1e-05,moms=(0.8,0.7))"
      ],
      "execution_count": 167,
      "outputs": [
        {
          "output_type": "display_data",
          "data": {
            "text/html": [
              "<table border=\"1\" class=\"dataframe\">\n",
              "  <thead>\n",
              "    <tr style=\"text-align: left;\">\n",
              "      <th>epoch</th>\n",
              "      <th>train_loss</th>\n",
              "      <th>valid_loss</th>\n",
              "      <th>accuracy</th>\n",
              "      <th>auroc</th>\n",
              "      <th>time</th>\n",
              "    </tr>\n",
              "  </thead>\n",
              "  <tbody>\n",
              "    <tr>\n",
              "      <td>0</td>\n",
              "      <td>0.281954</td>\n",
              "      <td>0.274387</td>\n",
              "      <td>0.881110</td>\n",
              "      <td>0.928083</td>\n",
              "      <td>26:30</td>\n",
              "    </tr>\n",
              "  </tbody>\n",
              "</table>"
            ],
            "text/plain": [
              "<IPython.core.display.HTML object>"
            ]
          },
          "metadata": {
            "tags": []
          }
        },
        {
          "output_type": "display_data",
          "data": {
            "image/png": "[encoded data removed]",
            "text/plain": [
              "<Figure size 432x288 with 1 Axes>"
            ]
          },
          "metadata": {
            "tags": []
          }
        }
      ]
    },
    {
      "cell_type": "code",
      "metadata": {
        "id": "fV0iTXbdT5RA",
        "colab_type": "code",
        "colab": {}
      },
      "source": [
        ""
      ],
      "execution_count": 0,
      "outputs": []
    },
    {
      "cell_type": "code",
      "metadata": {
        "id": "iDxxdZ4CT4_6",
        "colab_type": "code",
        "colab": {}
      },
      "source": [
        ""
      ],
      "execution_count": 0,
      "outputs": []
    },
    {
      "cell_type": "code",
      "metadata": {
        "id": "1_FZnGr0Nzai",
        "colab_type": "code",
        "colab": {
          "base_uri": "https://localhost:8080/",
          "height": 329
        },
        "outputId": "ea5568c6-a67e-4e9b-97bb-a9b171ae49a1"
      },
      "source": [
        "# result for Distilbert\n",
        "learner.fit_one_cycle(1,max_lr=1e-05,moms=(0.8,0.7))"
      ],
      "execution_count": 67,
      "outputs": [
        {
          "output_type": "display_data",
          "data": {
            "text/html": [
              "<table border=\"1\" class=\"dataframe\">\n",
              "  <thead>\n",
              "    <tr style=\"text-align: left;\">\n",
              "      <th>epoch</th>\n",
              "      <th>train_loss</th>\n",
              "      <th>valid_loss</th>\n",
              "      <th>accuracy</th>\n",
              "      <th>auroc</th>\n",
              "      <th>time</th>\n",
              "    </tr>\n",
              "  </thead>\n",
              "  <tbody>\n",
              "    <tr>\n",
              "      <td>0</td>\n",
              "      <td>0.185406</td>\n",
              "      <td>0.161862</td>\n",
              "      <td>0.938242</td>\n",
              "      <td>0.974768</td>\n",
              "      <td>16:45</td>\n",
              "    </tr>\n",
              "  </tbody>\n",
              "</table>"
            ],
            "text/plain": [
              "<IPython.core.display.HTML object>"
            ]
          },
          "metadata": {
            "tags": []
          }
        },
        {
          "output_type": "display_data",
          "data": {
            "image/png": "[encoded data removed]",
            "text/plain": [
              "<Figure size 432x288 with 1 Axes>"
            ]
          },
          "metadata": {
            "tags": []
          }
        }
      ]
    },
    {
      "cell_type": "code",
      "metadata": {
        "id": "8X3oMTu6NzYH",
        "colab_type": "code",
        "colab": {}
      },
      "source": [
        ""
      ],
      "execution_count": 0,
      "outputs": []
    },
    {
      "cell_type": "code",
      "metadata": {
        "id": "CXsci6xlNzVb",
        "colab_type": "code",
        "colab": {}
      },
      "source": [
        ""
      ],
      "execution_count": 0,
      "outputs": []
    },
    {
      "cell_type": "code",
      "metadata": {
        "id": "53GgxcYDNzMm",
        "colab_type": "code",
        "colab": {}
      },
      "source": [
        ""
      ],
      "execution_count": 0,
      "outputs": []
    },
    {
      "cell_type": "code",
      "metadata": {
        "id": "y2euAeaECgng",
        "colab_type": "code",
        "outputId": "3337e4b6-451d-4336-d794-b674830e6d51",
        "colab": {
          "base_uri": "https://localhost:8080/",
          "height": 328
        }
      },
      "source": [
        "# result for roberta\n",
        "learner.fit_one_cycle(1,max_lr=1e-05,moms=(0.8,0.7))"
      ],
      "execution_count": 37,
      "outputs": [
        {
          "output_type": "display_data",
          "data": {
            "text/html": [
              "<table border=\"1\" class=\"dataframe\">\n",
              "  <thead>\n",
              "    <tr style=\"text-align: left;\">\n",
              "      <th>epoch</th>\n",
              "      <th>train_loss</th>\n",
              "      <th>valid_loss</th>\n",
              "      <th>accuracy</th>\n",
              "      <th>auroc</th>\n",
              "      <th>time</th>\n",
              "    </tr>\n",
              "  </thead>\n",
              "  <tbody>\n",
              "    <tr>\n",
              "      <td>0</td>\n",
              "      <td>0.133809</td>\n",
              "      <td>0.136281</td>\n",
              "      <td>0.950119</td>\n",
              "      <td>0.982782</td>\n",
              "      <td>31:11</td>\n",
              "    </tr>\n",
              "  </tbody>\n",
              "</table>"
            ],
            "text/plain": [
              "<IPython.core.display.HTML object>"
            ]
          },
          "metadata": {
            "tags": []
          }
        },
        {
          "output_type": "display_data",
          "data": {
            "image/png": "[encoded data removed]",
            "text/plain": [
              "<Figure size 432x288 with 1 Axes>"
            ]
          },
          "metadata": {
            "tags": []
          }
        }
      ]
    },
    {
      "cell_type": "code",
      "metadata": {
        "id": "htz7Bqwn_jAv",
        "colab_type": "code",
        "outputId": "66c3c76e-43f0-4706-ec64-b2c59aed2615",
        "colab": {
          "base_uri": "https://localhost:8080/",
          "height": 241
        }
      },
      "source": [
        "learner.show_results(rows=5)"
      ],
      "execution_count": 38,
      "outputs": [
        {
          "output_type": "display_data",
          "data": {
            "text/html": [
              "<table border=\"1\" class=\"dataframe\">\n",
              "  <thead>\n",
              "    <tr style=\"text-align: right;\">\n",
              "      <th>text</th>\n",
              "      <th>target</th>\n",
              "      <th>prediction</th>\n",
              "    </tr>\n",
              "  </thead>\n",
              "  <tbody>\n",
              "    <tr>\n",
              "      <td>&lt;s&gt; ĠI 've Ġordered Ġthis Ġcoffee Ġseveral Ġtimes Ġ&amp; Ġit Ġhas Ġbeen Ġexcellent Ġevery Ġtime . Ġ ĠIt 's Ġnot Ġover - ro asted / bur nt Ġtasting Ġ&amp; Ġthe Ġflavor Ġis Ġvery Ġcomplex . Ġ ĠThe Ġbeans Ġare Ġoily , Ġblack Ġ&amp; ĠI Ġfound Ġno Ġqu akers Ġ( under developed Ġcoffee Ġbeans Ġthat Ġmake Ġcoffee Ġtaste Ġawful Ġ- Ġthey Ġstick Ġout Ġbecause Ġthey Ġdo Ġnot Ġroast / dark en</td>\n",
              "      <td>1</td>\n",
              "      <td>1</td>\n",
              "    </tr>\n",
              "    <tr>\n",
              "      <td>&lt;s&gt; ĠMy Ġ7 Ġmonth Ġold ĠL OV ES Ġreal Ġfood Ġand Ġthe Ġnew Ġorganic Ġfoods Ġon Ġthe Ġmarket Ġhave Ġbeen Ġa Ġgod 's Ġsend . Ġ ĠI Ġbought Ġa Ġbox Ġof Ġthe ĠSweet ĠGinger ĠChicken Ġw / ĠBan anas Ġ&amp; ĠCoconut Ġbased Ġon Ġthe Ġreviews Ġand Ġthe Ġoverall Ġappeal Ġof Ġthe Ġname . Ġ ĠWe Ġare Ġnow Ġfeeding Ġthem Ġto Ġour Ġdog , Ġwhich Ġis Ġappropriate Ġbecause Ġit Ġlooks ,</td>\n",
              "      <td>0</td>\n",
              "      <td>1</td>\n",
              "    </tr>\n",
              "    <tr>\n",
              "      <td>&lt;s&gt; ĠK EEP ĠYOUR ĠREC E IP T . ĠThe Ġproduct Ġis ĠNAS TY ... The Ġproduct Ġis Ġguaranteed ... but Ġthe Ġprocess Ġto Ġget Ġa Ġrefund Ġis Ġon erous Ġ( in Ġmy Ġopinion ). &lt; br Ġ/ &gt;&lt; br Ġ/&gt; \" I Ġam Ġsorry Ġthat Ġyou Ġwere Ġnot Ġsatisfied Ġwith Ġour ĠMayo . Ġ ĠPlease Ġsend Ġa Ġproof Ġof Ġpurchase , Ġa Ġnote Ġwith Ġthe Ġexpiration Ġdate Ġof Ġthe</td>\n",
              "      <td>0</td>\n",
              "      <td>0</td>\n",
              "    </tr>\n",
              "    <tr>\n",
              "      <td>&lt;s&gt; ĠWe 've Ġgone Ġthrough Ġall Ġof Ġthe Ġflavors Ġnow Ġthree Ġtimes . Ġ ĠBoth Ġcats Ġch owed Ġdown Ġquite Ġhappily Ġon Ġthe Ġfood . Ġ ĠThe Ġboy Ġgot Ġquite Ġvocal Ġand Ġins istent Ġthe Ġnext Ġfew Ġdays Ġabout Ġhow Ġmuch Ġhe Ġwanted Ġmore Ġof Ġthe Ġwet Ġfood . Ġ ĠFar , Ġfar Ġmore Ġvocal Ġthan Ġhe Ġgot Ġafter Ġgetting Ġthe Ġ9 ĠLives Ġcanned Ġfood Ġbefore . Ġ ĠJudging Ġfrom</td>\n",
              "      <td>1</td>\n",
              "      <td>1</td>\n",
              "    </tr>\n",
              "  </tbody>\n",
              "</table>"
            ],
            "text/plain": [
              "<IPython.core.display.HTML object>"
            ]
          },
          "metadata": {
            "tags": []
          }
        }
      ]
    },
    {
      "cell_type": "code",
      "metadata": {
        "id": "sD7hsxbi_i-g",
        "colab_type": "code",
        "outputId": "cd73714a-8110-4e42-fb23-cf5beeb46ce2",
        "colab": {
          "base_uri": "https://localhost:8080/",
          "height": 17
        }
      },
      "source": [
        "interp = learner.interpret(ds_type = DatasetType.Valid)\n",
        "#txt_ci = TextClassificationInterpretation.from_learner(learner)"
      ],
      "execution_count": 39,
      "outputs": [
        {
          "output_type": "display_data",
          "data": {
            "text/html": [
              ""
            ],
            "text/plain": [
              "<IPython.core.display.HTML object>"
            ]
          },
          "metadata": {
            "tags": []
          }
        }
      ]
    },
    {
      "cell_type": "code",
      "metadata": {
        "id": "rLhiwpy0_i7a",
        "colab_type": "code",
        "outputId": "6fe9483e-e36d-414c-a0af-5671cdb732a7",
        "colab": {
          "base_uri": "https://localhost:8080/",
          "height": 455
        }
      },
      "source": [
        "interp.plot_confusion_matrix(normalize=False,figsize=(6,6))"
      ],
      "execution_count": 40,
      "outputs": [
        {
          "output_type": "display_data",
          "data": {
            "image/png": "[encoded data removed]",
            "text/plain": [
              "<Figure size 432x432 with 1 Axes>"
            ]
          },
          "metadata": {
            "tags": []
          }
        }
      ]
    },
    {
      "cell_type": "code",
      "metadata": {
        "id": "LoQFWW7B_i3d",
        "colab_type": "code",
        "outputId": "c51b98a2-5dd5-4b3c-a0b6-9903ad21e710",
        "colab": {
          "base_uri": "https://localhost:8080/",
          "height": 455
        }
      },
      "source": [
        "interp.plot_confusion_matrix(normalize=True,figsize=(6,6))"
      ],
      "execution_count": 41,
      "outputs": [
        {
          "output_type": "display_data",
          "data": {
            "image/png": "[encoded data removed]",
            "text/plain": [
              "<Figure size 432x432 with 1 Axes>"
            ]
          },
          "metadata": {
            "tags": []
          }
        }
      ]
    },
    {
      "cell_type": "markdown",
      "metadata": {
        "id": "1IVK2jheJTlr",
        "colab_type": "text"
      },
      "source": [
        ""
      ]
    },
    {
      "cell_type": "markdown",
      "metadata": {
        "id": "WyFYtTIxJTWp",
        "colab_type": "text"
      },
      "source": [
        ""
      ]
    },
    {
      "cell_type": "code",
      "metadata": {
        "id": "wsOrjKnPIwZp",
        "colab_type": "code",
        "outputId": "1811b2b7-5798-4b26-d0eb-6813dd3cbb53",
        "colab": {
          "base_uri": "https://localhost:8080/",
          "height": 17
        }
      },
      "source": [
        "def get_preds_as_nparray(ds_type) -> np.ndarray:\n",
        "    \"\"\"\n",
        "    the get_preds method does not yield the elements in order by default\n",
        "    we borrow the code from the RNNLearner to resort the elements into their correct order\n",
        "    \"\"\"\n",
        "    preds = learner.get_preds(ds_type)[0].detach().cpu().numpy()\n",
        "    sampler = [i for i in databunch.dl(ds_type).sampler]\n",
        "    reverse_sampler = np.argsort(sampler)\n",
        "    return preds[reverse_sampler, :]\n",
        "\n",
        "test_preds = get_preds_as_nparray(DatasetType.Test)"
      ],
      "execution_count": 0,
      "outputs": [
        {
          "output_type": "display_data",
          "data": {
            "text/html": [
              ""
            ],
            "text/plain": [
              "<IPython.core.display.HTML object>"
            ]
          },
          "metadata": {
            "tags": []
          }
        }
      ]
    },
    {
      "cell_type": "code",
      "metadata": {
        "id": "SEWjsL1PFaKA",
        "colab_type": "code",
        "outputId": "38ceb215-8570-43ac-d2d7-c48479212a9c",
        "colab": {
          "base_uri": "https://localhost:8080/",
          "height": 68
        }
      },
      "source": [
        "test['label'].value_counts()"
      ],
      "execution_count": 0,
      "outputs": [
        {
          "output_type": "execute_result",
          "data": {
            "text/plain": [
              "1    15348\n",
              "0     4660\n",
              "Name: label, dtype: int64"
            ]
          },
          "metadata": {
            "tags": []
          },
          "execution_count": 44
        }
      ]
    },
    {
      "cell_type": "code",
      "metadata": {
        "id": "WrH71cv_Ff20",
        "colab_type": "code",
        "outputId": "84d02ed4-f0c3-4057-867f-bfeff0e128a1",
        "colab": {
          "base_uri": "https://localhost:8080/",
          "height": 136
        }
      },
      "source": [
        "learner.get_preds(databunch.test_dl)"
      ],
      "execution_count": 0,
      "outputs": [
        {
          "output_type": "display_data",
          "data": {
            "text/html": [
              ""
            ],
            "text/plain": [
              "<IPython.core.display.HTML object>"
            ]
          },
          "metadata": {
            "tags": []
          }
        },
        {
          "output_type": "execute_result",
          "data": {
            "text/plain": [
              "[tensor([[0.9500, 0.0500],\n",
              "         [0.0098, 0.9902],\n",
              "         [0.2972, 0.7028],\n",
              "         ...,\n",
              "         [0.9730, 0.0270],\n",
              "         [0.9730, 0.0270],\n",
              "         [0.0108, 0.9892]]), tensor([0, 1, 1,  ..., 0, 0, 1])]"
            ]
          },
          "metadata": {
            "tags": []
          },
          "execution_count": 45
        }
      ]
    },
    {
      "cell_type": "code",
      "metadata": {
        "id": "zp1NJ0XjFjnn",
        "colab_type": "code",
        "outputId": "59f90583-b14a-4575-dce0-b43b290900ba",
        "colab": {
          "base_uri": "https://localhost:8080/",
          "height": 54
        }
      },
      "source": [
        "databunch.test_dl"
      ],
      "execution_count": 0,
      "outputs": [
        {
          "output_type": "execute_result",
          "data": {
            "text/plain": [
              "DeviceDataLoader(dl=<torch.utils.data.dataloader.DataLoader object at 0x7fa866dcd9e8>, device=device(type='cuda'), tfms=[], collate_fn=functools.partial(<function pad_collate at 0x7fa86979a488>, pad_idx=0, pad_first=False, backwards=False))"
            ]
          },
          "metadata": {
            "tags": []
          },
          "execution_count": 46
        }
      ]
    },
    {
      "cell_type": "markdown",
      "metadata": {
        "id": "P-mKCcNlJH8I",
        "colab_type": "text"
      },
      "source": [
        "### Reference\n",
        "https://www.kaggle.com/maroberti/fastai-with-transformers-bert-roberta"
      ]
    },
    {
      "cell_type": "code",
      "metadata": {
        "id": "bN2eyUX1OLnd",
        "colab_type": "code",
        "colab": {}
      },
      "source": [
        ""
      ],
      "execution_count": 0,
      "outputs": []
    }
  ]
}