{
  "nbformat": 4,
  "nbformat_minor": 0,
  "metadata": {
    "colab": {
      "name": "Fastai+Transformers.ipynb",
      "provenance": [],
      "include_colab_link": true
    },
    "kernelspec": {
      "name": "python3",
      "display_name": "Python 3"
    },
    "accelerator": "GPU"
  },
  "cells": [
    {
      "cell_type": "markdown",
      "metadata": {
        "id": "view-in-github",
        "colab_type": "text"
      },
      "source": [
        "<a href=\"https://colab.research.google.com/github/binliu0630/Deep_Learning/blob/master/Fastai%2BTransformers.ipynb\" target=\"_parent\"><img src=\"https://colab.research.google.com/assets/colab-badge.svg\" alt=\"Open In Colab\"/></a>"
      ]
    },
    {
      "cell_type": "markdown",
      "metadata": {
        "id": "zPYiMT_W5IzW",
        "colab_type": "text"
      },
      "source": [
        "## Get Started"
      ]
    },
    {
      "cell_type": "code",
      "metadata": {
        "id": "T8_w_l4o3n3W",
        "colab_type": "code",
        "colab": {
          "base_uri": "https://localhost:8080/",
          "height": 632
        },
        "outputId": "28881ec0-af8f-4f7a-e977-a108513f140a"
      },
      "source": [
        "!pip install transformers"
      ],
      "execution_count": 1,
      "outputs": [
        {
          "output_type": "stream",
          "text": [
            "Collecting transformers\n",
            "\u001b[?25l  Downloading https://files.pythonhosted.org/packages/70/1a/364556102943cacde1ee00fdcae3b1615b39e52649eddbf54953e5b144c9/transformers-2.2.1-py3-none-any.whl (364kB)\n",
            "\r\u001b[K     |█                               | 10kB 21.7MB/s eta 0:00:01\r\u001b[K     |█▉                              | 20kB 4.3MB/s eta 0:00:01\r\u001b[K     |██▊                             | 30kB 6.0MB/s eta 0:00:01\r\u001b[K     |███▋                            | 40kB 7.5MB/s eta 0:00:01\r\u001b[K     |████▌                           | 51kB 5.0MB/s eta 0:00:01\r\u001b[K     |█████▍                          | 61kB 5.9MB/s eta 0:00:01\r\u001b[K     |██████▎                         | 71kB 6.7MB/s eta 0:00:01\r\u001b[K     |███████▏                        | 81kB 7.4MB/s eta 0:00:01\r\u001b[K     |████████                        | 92kB 8.2MB/s eta 0:00:01\r\u001b[K     |█████████                       | 102kB 6.6MB/s eta 0:00:01\r\u001b[K     |█████████▉                      | 112kB 6.6MB/s eta 0:00:01\r\u001b[K     |██████████▊                     | 122kB 6.6MB/s eta 0:00:01\r\u001b[K     |███████████▊                    | 133kB 6.6MB/s eta 0:00:01\r\u001b[K     |████████████▋                   | 143kB 6.6MB/s eta 0:00:01\r\u001b[K     |█████████████▌                  | 153kB 6.6MB/s eta 0:00:01\r\u001b[K     |██████████████▍                 | 163kB 6.6MB/s eta 0:00:01\r\u001b[K     |███████████████▎                | 174kB 6.6MB/s eta 0:00:01\r\u001b[K     |████████████████▏               | 184kB 6.6MB/s eta 0:00:01\r\u001b[K     |█████████████████               | 194kB 6.6MB/s eta 0:00:01\r\u001b[K     |██████████████████              | 204kB 6.6MB/s eta 0:00:01\r\u001b[K     |██████████████████▉             | 215kB 6.6MB/s eta 0:00:01\r\u001b[K     |███████████████████▊            | 225kB 6.6MB/s eta 0:00:01\r\u001b[K     |████████████████████▋           | 235kB 6.6MB/s eta 0:00:01\r\u001b[K     |█████████████████████▌          | 245kB 6.6MB/s eta 0:00:01\r\u001b[K     |██████████████████████▌         | 256kB 6.6MB/s eta 0:00:01\r\u001b[K     |███████████████████████▍        | 266kB 6.6MB/s eta 0:00:01\r\u001b[K     |████████████████████████▎       | 276kB 6.6MB/s eta 0:00:01\r\u001b[K     |█████████████████████████▏      | 286kB 6.6MB/s eta 0:00:01\r\u001b[K     |██████████████████████████      | 296kB 6.6MB/s eta 0:00:01\r\u001b[K     |███████████████████████████     | 307kB 6.6MB/s eta 0:00:01\r\u001b[K     |███████████████████████████▉    | 317kB 6.6MB/s eta 0:00:01\r\u001b[K     |████████████████████████████▊   | 327kB 6.6MB/s eta 0:00:01\r\u001b[K     |█████████████████████████████▋  | 337kB 6.6MB/s eta 0:00:01\r\u001b[K     |██████████████████████████████▌ | 348kB 6.6MB/s eta 0:00:01\r\u001b[K     |███████████████████████████████▍| 358kB 6.6MB/s eta 0:00:01\r\u001b[K     |████████████████████████████████| 368kB 6.6MB/s \n",
            "\u001b[?25hRequirement already satisfied: boto3 in /usr/local/lib/python3.6/dist-packages (from transformers) (1.10.32)\n",
            "Collecting sentencepiece\n",
            "\u001b[?25l  Downloading https://files.pythonhosted.org/packages/14/3d/efb655a670b98f62ec32d66954e1109f403db4d937c50d779a75b9763a29/sentencepiece-0.1.83-cp36-cp36m-manylinux1_x86_64.whl (1.0MB)\n",
            "\u001b[K     |████████████████████████████████| 1.0MB 44.3MB/s \n",
            "\u001b[?25hRequirement already satisfied: numpy in /usr/local/lib/python3.6/dist-packages (from transformers) (1.17.4)\n",
            "Requirement already satisfied: tqdm in /usr/local/lib/python3.6/dist-packages (from transformers) (4.28.1)\n",
            "Collecting regex\n",
            "\u001b[?25l  Downloading https://files.pythonhosted.org/packages/e3/8e/cbf2295643d7265e7883326fb4654e643bfc93b3a8a8274d8010a39d8804/regex-2019.11.1-cp36-cp36m-manylinux1_x86_64.whl (643kB)\n",
            "\u001b[K     |████████████████████████████████| 645kB 37.3MB/s \n",
            "\u001b[?25hRequirement already satisfied: requests in /usr/local/lib/python3.6/dist-packages (from transformers) (2.21.0)\n",
            "Collecting sacremoses\n",
            "\u001b[?25l  Downloading https://files.pythonhosted.org/packages/1f/8e/ed5364a06a9ba720fddd9820155cc57300d28f5f43a6fd7b7e817177e642/sacremoses-0.0.35.tar.gz (859kB)\n",
            "\u001b[K     |████████████████████████████████| 860kB 37.4MB/s \n",
            "\u001b[?25hRequirement already satisfied: s3transfer<0.3.0,>=0.2.0 in /usr/local/lib/python3.6/dist-packages (from boto3->transformers) (0.2.1)\n",
            "Requirement already satisfied: jmespath<1.0.0,>=0.7.1 in /usr/local/lib/python3.6/dist-packages (from boto3->transformers) (0.9.4)\n",
            "Requirement already satisfied: botocore<1.14.0,>=1.13.32 in /usr/local/lib/python3.6/dist-packages (from boto3->transformers) (1.13.32)\n",
            "Requirement already satisfied: certifi>=2017.4.17 in /usr/local/lib/python3.6/dist-packages (from requests->transformers) (2019.11.28)\n",
            "Requirement already satisfied: idna<2.9,>=2.5 in /usr/local/lib/python3.6/dist-packages (from requests->transformers) (2.8)\n",
            "Requirement already satisfied: urllib3<1.25,>=1.21.1 in /usr/local/lib/python3.6/dist-packages (from requests->transformers) (1.24.3)\n",
            "Requirement already satisfied: chardet<3.1.0,>=3.0.2 in /usr/local/lib/python3.6/dist-packages (from requests->transformers) (3.0.4)\n",
            "Requirement already satisfied: six in /usr/local/lib/python3.6/dist-packages (from sacremoses->transformers) (1.12.0)\n",
            "Requirement already satisfied: click in /usr/local/lib/python3.6/dist-packages (from sacremoses->transformers) (7.0)\n",
            "Requirement already satisfied: joblib in /usr/local/lib/python3.6/dist-packages (from sacremoses->transformers) (0.14.0)\n",
            "Requirement already satisfied: docutils<0.16,>=0.10 in /usr/local/lib/python3.6/dist-packages (from botocore<1.14.0,>=1.13.32->boto3->transformers) (0.15.2)\n",
            "Requirement already satisfied: python-dateutil<2.8.1,>=2.1; python_version >= \"2.7\" in /usr/local/lib/python3.6/dist-packages (from botocore<1.14.0,>=1.13.32->boto3->transformers) (2.6.1)\n",
            "Building wheels for collected packages: sacremoses\n",
            "  Building wheel for sacremoses (setup.py) ... \u001b[?25l\u001b[?25hdone\n",
            "  Created wheel for sacremoses: filename=sacremoses-0.0.35-cp36-none-any.whl size=883999 sha256=04ec0f4717a98ee64eb2fa49e746ea3aecc25c00407e5279a57692b8496e629e\n",
            "  Stored in directory: /root/.cache/pip/wheels/63/2a/db/63e2909042c634ef551d0d9ac825b2b0b32dede4a6d87ddc94\n",
            "Successfully built sacremoses\n",
            "Installing collected packages: sentencepiece, regex, sacremoses, transformers\n",
            "Successfully installed regex-2019.11.1 sacremoses-0.0.35 sentencepiece-0.1.83 transformers-2.2.1\n"
          ],
          "name": "stdout"
        }
      ]
    },
    {
      "cell_type": "code",
      "metadata": {
        "id": "bzLZjdQl4Uz-",
        "colab_type": "code",
        "colab": {
          "base_uri": "https://localhost:8080/",
          "height": 97
        },
        "outputId": "429405e0-bf04-45fd-b26e-1783f1cb7750"
      },
      "source": [
        "import fastai\n",
        "import transformers\n",
        "print(f'fastai version: {fastai.__version__}')\n",
        "print(f'transformers version: {transformers. __version__}')"
      ],
      "execution_count": 2,
      "outputs": [
        {
          "output_type": "display_data",
          "data": {
            "text/html": [
              "<p style=\"color: red;\">\n",
              "The default version of TensorFlow in Colab will soon switch to TensorFlow 2.x.<br>\n",
              "We recommend you <a href=\"https://www.tensorflow.org/guide/migrate\" target=\"_blank\">upgrade</a> now \n",
              "or ensure your notebook will continue to use TensorFlow 1.x via the <code>%tensorflow_version 1.x</code> magic:\n",
              "<a href=\"https://colab.research.google.com/notebooks/tensorflow_version.ipynb\" target=\"_blank\">more info</a>.</p>\n"
            ],
            "text/plain": [
              "<IPython.core.display.HTML object>"
            ]
          },
          "metadata": {
            "tags": []
          }
        },
        {
          "output_type": "stream",
          "text": [
            "fastai version: 1.0.59\n",
            "transformers version: 2.2.1\n"
          ],
          "name": "stdout"
        }
      ]
    },
    {
      "cell_type": "code",
      "metadata": {
        "id": "dl9AmI-b4fdZ",
        "colab_type": "code",
        "colab": {}
      },
      "source": [
        "import numpy as np\n",
        "import pandas as pd\n",
        "from pathlib import Path\n",
        "\n",
        "import os\n",
        "\n",
        "import torch\n",
        "import torch.optim as optim\n",
        "\n",
        "import random\n",
        "\n",
        "# fastai\n",
        "from fastai import *\n",
        "from fastai.text import *\n",
        "from fastai.callback import *\n",
        "\n",
        "# transformer\n",
        "from transformers import PreTrainedModel, PreTrainedTokenizer, PretrainedConfig\n",
        "from transformers import BertForSequenceClassification, BertTokenizer, BertConfig\n",
        "from transformers import RobertaForSequenceClassification, RobertaTokenizer, RobertaConfig\n",
        "from transformers import XLNetForSequenceClassification, XLNetTokenizer, XLNetConfig\n",
        "from transformers import XLMForSequenceClassification, XLMTokenizer, XLMConfig\n",
        "from transformers import DistilBertForSequenceClassification, DistilBertTokenizer, DistilBertConfig "
      ],
      "execution_count": 0,
      "outputs": []
    },
    {
      "cell_type": "code",
      "metadata": {
        "id": "oSuIToyD59ks",
        "colab_type": "code",
        "colab": {
          "base_uri": "https://localhost:8080/",
          "height": 34
        },
        "outputId": "7856e058-6075-4e84-ecf1-28b10800b208"
      },
      "source": [
        "torch.cuda.is_available()"
      ],
      "execution_count": 4,
      "outputs": [
        {
          "output_type": "execute_result",
          "data": {
            "text/plain": [
              "True"
            ]
          },
          "metadata": {
            "tags": []
          },
          "execution_count": 4
        }
      ]
    },
    {
      "cell_type": "markdown",
      "metadata": {
        "id": "UYY6Agzi7z7N",
        "colab_type": "text"
      },
      "source": [
        "## Loading the Data"
      ]
    },
    {
      "cell_type": "code",
      "metadata": {
        "id": "MYmIsyEr7VSY",
        "colab_type": "code",
        "colab": {}
      },
      "source": [
        "data_path = \"https://s3.amazonaws.com/tomk/h2o-world/megan/AmazonReviews.csv\"\n",
        "data = pd.read_csv(data_path)"
      ],
      "execution_count": 0,
      "outputs": []
    },
    {
      "cell_type": "code",
      "metadata": {
        "id": "hKz94sgGLA-x",
        "colab_type": "code",
        "colab": {}
      },
      "source": [
        ""
      ],
      "execution_count": 0,
      "outputs": []
    },
    {
      "cell_type": "code",
      "metadata": {
        "id": "45C0907D8UCm",
        "colab_type": "code",
        "colab": {
          "base_uri": "https://localhost:8080/",
          "height": 111
        },
        "outputId": "e63c1291-8deb-460a-ed98-ade19dbea88c"
      },
      "source": [
        "data.head(2)"
      ],
      "execution_count": 6,
      "outputs": [
        {
          "output_type": "execute_result",
          "data": {
            "text/html": [
              "<div>\n",
              "<style scoped>\n",
              "    .dataframe tbody tr th:only-of-type {\n",
              "        vertical-align: middle;\n",
              "    }\n",
              "\n",
              "    .dataframe tbody tr th {\n",
              "        vertical-align: top;\n",
              "    }\n",
              "\n",
              "    .dataframe thead th {\n",
              "        text-align: right;\n",
              "    }\n",
              "</style>\n",
              "<table border=\"1\" class=\"dataframe\">\n",
              "  <thead>\n",
              "    <tr style=\"text-align: right;\">\n",
              "      <th></th>\n",
              "      <th>ProductId</th>\n",
              "      <th>UserId</th>\n",
              "      <th>Summary</th>\n",
              "      <th>Score</th>\n",
              "      <th>HelpfulnessDenominator</th>\n",
              "      <th>Id</th>\n",
              "      <th>ProfileName</th>\n",
              "      <th>HelpfulnessNumerator</th>\n",
              "      <th>Time</th>\n",
              "      <th>Text</th>\n",
              "    </tr>\n",
              "  </thead>\n",
              "  <tbody>\n",
              "    <tr>\n",
              "      <th>0</th>\n",
              "      <td>B00141QYSQ</td>\n",
              "      <td>A1YS02UZZGRDCT</td>\n",
              "      <td>Do Not Buy</td>\n",
              "      <td>1</td>\n",
              "      <td>2</td>\n",
              "      <td>41471</td>\n",
              "      <td>Evan Eberhardt</td>\n",
              "      <td>2</td>\n",
              "      <td>1348358400</td>\n",
              "      <td>These are made in China (do not buy ANY pet fo...</td>\n",
              "    </tr>\n",
              "    <tr>\n",
              "      <th>1</th>\n",
              "      <td>B0089SPEO2</td>\n",
              "      <td>A3JOYNYL458QHP</td>\n",
              "      <td>Less lemon and less zing</td>\n",
              "      <td>3</td>\n",
              "      <td>0</td>\n",
              "      <td>28582</td>\n",
              "      <td>coleridge</td>\n",
              "      <td>0</td>\n",
              "      <td>1323907200</td>\n",
              "      <td>Everything is ok, except it just isn't as good...</td>\n",
              "    </tr>\n",
              "  </tbody>\n",
              "</table>\n",
              "</div>"
            ],
            "text/plain": [
              "    ProductId  ...                                               Text\n",
              "0  B00141QYSQ  ...  These are made in China (do not buy ANY pet fo...\n",
              "1  B0089SPEO2  ...  Everything is ok, except it just isn't as good...\n",
              "\n",
              "[2 rows x 10 columns]"
            ]
          },
          "metadata": {
            "tags": []
          },
          "execution_count": 6
        }
      ]
    },
    {
      "cell_type": "code",
      "metadata": {
        "id": "zTvqTd2u8Ypj",
        "colab_type": "code",
        "colab": {}
      },
      "source": [
        "# create the binary label\n",
        "data['label'] = np.where(data['Score'] > 3, '1', '0')\n",
        "\n",
        "# change score into categorical so it can be the multiclass label\n",
        "data['Score'] = data['Score'].astype('category')\n"
      ],
      "execution_count": 0,
      "outputs": []
    },
    {
      "cell_type": "code",
      "metadata": {
        "id": "XLV7zooI9Bv4",
        "colab_type": "code",
        "colab": {
          "base_uri": "https://localhost:8080/",
          "height": 80
        },
        "outputId": "6a74253f-0150-4b36-fd0b-c3a55ec2fbd1"
      },
      "source": [
        "data.sample()"
      ],
      "execution_count": 8,
      "outputs": [
        {
          "output_type": "execute_result",
          "data": {
            "text/html": [
              "<div>\n",
              "<style scoped>\n",
              "    .dataframe tbody tr th:only-of-type {\n",
              "        vertical-align: middle;\n",
              "    }\n",
              "\n",
              "    .dataframe tbody tr th {\n",
              "        vertical-align: top;\n",
              "    }\n",
              "\n",
              "    .dataframe thead th {\n",
              "        text-align: right;\n",
              "    }\n",
              "</style>\n",
              "<table border=\"1\" class=\"dataframe\">\n",
              "  <thead>\n",
              "    <tr style=\"text-align: right;\">\n",
              "      <th></th>\n",
              "      <th>ProductId</th>\n",
              "      <th>UserId</th>\n",
              "      <th>Summary</th>\n",
              "      <th>Score</th>\n",
              "      <th>HelpfulnessDenominator</th>\n",
              "      <th>Id</th>\n",
              "      <th>ProfileName</th>\n",
              "      <th>HelpfulnessNumerator</th>\n",
              "      <th>Time</th>\n",
              "      <th>Text</th>\n",
              "      <th>label</th>\n",
              "    </tr>\n",
              "  </thead>\n",
              "  <tbody>\n",
              "    <tr>\n",
              "      <th>35687</th>\n",
              "      <td>B00016LA8E</td>\n",
              "      <td>A1GTIV0IUBTOE0</td>\n",
              "      <td>Best stuff on earth</td>\n",
              "      <td>5</td>\n",
              "      <td>18</td>\n",
              "      <td>251972</td>\n",
              "      <td>\"kgremill\"</td>\n",
              "      <td>18</td>\n",
              "      <td>1082160000</td>\n",
              "      <td>This is great stuff. All their products are gr...</td>\n",
              "      <td>1</td>\n",
              "    </tr>\n",
              "  </tbody>\n",
              "</table>\n",
              "</div>"
            ],
            "text/plain": [
              "        ProductId  ... label\n",
              "35687  B00016LA8E  ...     1\n",
              "\n",
              "[1 rows x 11 columns]"
            ]
          },
          "metadata": {
            "tags": []
          },
          "execution_count": 8
        }
      ]
    },
    {
      "cell_type": "code",
      "metadata": {
        "id": "8qcaR02Z9WD6",
        "colab_type": "code",
        "colab": {}
      },
      "source": [
        "# split the data by timestamp\n",
        "timesplit = data['Time'].quantile(0.8)"
      ],
      "execution_count": 0,
      "outputs": []
    },
    {
      "cell_type": "code",
      "metadata": {
        "id": "Ih5r1J2v9mwe",
        "colab_type": "code",
        "colab": {
          "base_uri": "https://localhost:8080/",
          "height": 34
        },
        "outputId": "30315737-564c-4846-bff9-645f4467b631"
      },
      "source": [
        "train = data[data['Time'] < timesplit].sample(10000)\n",
        "test = data[data['Time'] >= timesplit]\n",
        "train.shape, test.shape"
      ],
      "execution_count": 10,
      "outputs": [
        {
          "output_type": "execute_result",
          "data": {
            "text/plain": [
              "((10000, 11), (20008, 11))"
            ]
          },
          "metadata": {
            "tags": []
          },
          "execution_count": 10
        }
      ]
    },
    {
      "cell_type": "code",
      "metadata": {
        "id": "Kcw6FAxd9o13",
        "colab_type": "code",
        "colab": {}
      },
      "source": [
        ""
      ],
      "execution_count": 0,
      "outputs": []
    },
    {
      "cell_type": "markdown",
      "metadata": {
        "id": "J24EDqdy_k5T",
        "colab_type": "text"
      },
      "source": [
        "## FASTAI + TRANSFORMER"
      ]
    },
    {
      "cell_type": "code",
      "metadata": {
        "id": "IfH-1oNK-MQa",
        "colab_type": "code",
        "colab": {}
      },
      "source": [
        "MODEL_CLASSES = {\n",
        "    'bert': (BertForSequenceClassification, BertTokenizer, BertConfig),\n",
        "    'xlnet': (XLNetForSequenceClassification, XLNetTokenizer, XLNetConfig),\n",
        "    'xlm': (XLMForSequenceClassification, XLMTokenizer, XLMConfig),\n",
        "    'roberta': (RobertaForSequenceClassification, RobertaTokenizer, RobertaConfig),\n",
        "    'distilbert': (DistilBertForSequenceClassification, DistilBertTokenizer, DistilBertConfig)\n",
        "}"
      ],
      "execution_count": 0,
      "outputs": []
    },
    {
      "cell_type": "code",
      "metadata": {
        "id": "bLxLQ6Rf_9t_",
        "colab_type": "code",
        "colab": {}
      },
      "source": [
        "seed = 42\n",
        "use_fp16 = False\n",
        "bs = 16\n",
        "\n",
        "model_type = 'roberta'\n",
        "pretrained_model_name = 'roberta-base'\n",
        "\n",
        "model_type = 'bert'\n",
        "pretrained_model_name='bert-base-uncased'\n",
        "\n",
        "model_type = 'distilbert'\n",
        "pretrained_model_name = 'distilbert-base-uncased-distilled-squad'#'distilbert-base-uncased'#'distilbert-base-uncased'\n",
        "\n",
        "# model_type = 'xlm'\n",
        "# pretrained_model_name = 'xlm-clm-enfr-1024'\n",
        "\n",
        "#model_type = 'xlnet'\n",
        "#pretrained_model_name = 'xlnet-base-cased'"
      ],
      "execution_count": 0,
      "outputs": []
    },
    {
      "cell_type": "code",
      "metadata": {
        "id": "9bx4EBkdALcE",
        "colab_type": "code",
        "colab": {}
      },
      "source": [
        "model_class, tokenizer_class, config_class = MODEL_CLASSES[model_type]"
      ],
      "execution_count": 0,
      "outputs": []
    },
    {
      "cell_type": "code",
      "metadata": {
        "id": "AMOMJWyBAa8j",
        "colab_type": "code",
        "colab": {
          "base_uri": "https://localhost:8080/",
          "height": 85
        },
        "outputId": "ba2b7ef8-f2a7-4585-efc0-96677005a0d0"
      },
      "source": [
        "# all the pretrained model for the specific model_class\n",
        "model_class.pretrained_model_archive_map"
      ],
      "execution_count": 14,
      "outputs": [
        {
          "output_type": "execute_result",
          "data": {
            "text/plain": [
              "{'distilbert-base-german-cased': 'https://s3.amazonaws.com/models.huggingface.co/bert/distilbert-base-german-cased-pytorch_model.bin',\n",
              " 'distilbert-base-multilingual-cased': 'https://s3.amazonaws.com/models.huggingface.co/bert/distilbert-base-multilingual-cased-pytorch_model.bin',\n",
              " 'distilbert-base-uncased': 'https://s3.amazonaws.com/models.huggingface.co/bert/distilbert-base-uncased-pytorch_model.bin',\n",
              " 'distilbert-base-uncased-distilled-squad': 'https://s3.amazonaws.com/models.huggingface.co/bert/distilbert-base-uncased-distilled-squad-pytorch_model.bin'}"
            ]
          },
          "metadata": {
            "tags": []
          },
          "execution_count": 14
        }
      ]
    },
    {
      "cell_type": "code",
      "metadata": {
        "id": "AVoXYSPqAu3_",
        "colab_type": "code",
        "colab": {}
      },
      "source": [
        "def seed_all(seed_value):\n",
        "    random.seed(seed_value) # Python\n",
        "    np.random.seed(seed_value) # cpu vars\n",
        "    torch.manual_seed(seed_value) # cpu  vars\n",
        "    \n",
        "    if torch.cuda.is_available(): \n",
        "        torch.cuda.manual_seed(seed_value)\n",
        "        torch.cuda.manual_seed_all(seed_value) # gpu vars\n",
        "        torch.backends.cudnn.deterministic = True  #needed\n",
        "        torch.backends.cudnn.benchmark = False\n",
        "\n",
        "seed_all(seed)"
      ],
      "execution_count": 0,
      "outputs": []
    },
    {
      "cell_type": "markdown",
      "metadata": {
        "id": "7I1mAUVqGxSi",
        "colab_type": "text"
      },
      "source": [
        "### 1 Setup FASTAI Databunch"
      ]
    },
    {
      "cell_type": "code",
      "metadata": {
        "id": "aeK3w9iaHBzQ",
        "colab_type": "code",
        "colab": {
          "base_uri": "https://localhost:8080/",
          "height": 34
        },
        "outputId": "cc4c41a3-4638-4a3f-b87a-f665ae1a6f87"
      },
      "source": [
        "# load the pretrained tokenizer\n",
        "transformer_tokenizer = tokenizer_class.from_pretrained(pretrained_model_name)"
      ],
      "execution_count": 16,
      "outputs": [
        {
          "output_type": "stream",
          "text": [
            "100%|██████████| 231508/231508 [00:00<00:00, 875653.62B/s]\n"
          ],
          "name": "stderr"
        }
      ]
    },
    {
      "cell_type": "code",
      "metadata": {
        "id": "RLzdH0lWM4y0",
        "colab_type": "code",
        "colab": {
          "base_uri": "https://localhost:8080/",
          "height": 34
        },
        "outputId": "a29665b8-d7c4-43ff-f805-d61d25ea432a"
      },
      "source": [
        "transformer_tokenizer.max_len"
      ],
      "execution_count": 17,
      "outputs": [
        {
          "output_type": "execute_result",
          "data": {
            "text/plain": [
              "512"
            ]
          },
          "metadata": {
            "tags": []
          },
          "execution_count": 17
        }
      ]
    },
    {
      "cell_type": "markdown",
      "metadata": {
        "id": "z5ljV67gFDtI",
        "colab_type": "text"
      },
      "source": [
        "###### Create Custom FASTAI TOKENIER from pretrained transformer tokenizer"
      ]
    },
    {
      "cell_type": "code",
      "metadata": {
        "id": "UjnsSRo4Bbef",
        "colab_type": "code",
        "colab": {}
      },
      "source": [
        "class TransformersBaseTokenizer(BaseTokenizer):\n",
        "    \"\"\"Wrapper around PreTrainedTokenizer to be compatible with fast.ai\"\"\"\n",
        "    def __init__(self, pretrained_tokenizer: PreTrainedTokenizer, model_type = 'bert', **kwargs):\n",
        "        self._pretrained_tokenizer = pretrained_tokenizer\n",
        "        self.max_seq_len = pretrained_tokenizer.max_len\n",
        "        self.model_type = model_type\n",
        "\n",
        "    def __call__(self, *args, **kwargs): \n",
        "        return self\n",
        "\n",
        "    def tokenizer(self, t:str) -> List[str]:\n",
        "        \"\"\"Limits the maximum sequence length and add the spesial tokens\"\"\"\n",
        "        CLS = self._pretrained_tokenizer.cls_token\n",
        "        SEP = self._pretrained_tokenizer.sep_token\n",
        "        if self.model_type in ['roberta']:\n",
        "            tokens = self._pretrained_tokenizer.tokenize(t, add_prefix_space=True)[:self.max_seq_len - 2]\n",
        "        else:\n",
        "            tokens = self._pretrained_tokenizer.tokenize(t)[:self.max_seq_len - 2]\n",
        "        return [CLS] + tokens + [SEP]"
      ],
      "execution_count": 0,
      "outputs": []
    },
    {
      "cell_type": "code",
      "metadata": {
        "id": "P_2fFui_EWQn",
        "colab_type": "code",
        "colab": {}
      },
      "source": [
        "transformer_base_tokenizer = TransformersBaseTokenizer(pretrained_tokenizer = transformer_tokenizer, model_type = model_type)\n",
        "fastai_tokenizer = Tokenizer(tok_func = transformer_base_tokenizer, pre_rules=[], post_rules=[])"
      ],
      "execution_count": 0,
      "outputs": []
    },
    {
      "cell_type": "code",
      "metadata": {
        "id": "5wXeP_DVEfi-",
        "colab_type": "code",
        "colab": {
          "base_uri": "https://localhost:8080/",
          "height": 85
        },
        "outputId": "6547133b-abaf-4fa8-ebce-09a825c58085"
      },
      "source": [
        "tokenizer_class.pretrained_vocab_files_map"
      ],
      "execution_count": 20,
      "outputs": [
        {
          "output_type": "execute_result",
          "data": {
            "text/plain": [
              "{'vocab_file': {'distilbert-base-german-cased': 'https://s3.amazonaws.com/models.huggingface.co/bert/distilbert-base-german-cased-vocab.txt',\n",
              "  'distilbert-base-multilingual-cased': 'https://s3.amazonaws.com/models.huggingface.co/bert/bert-base-multilingual-cased-vocab.txt',\n",
              "  'distilbert-base-uncased': 'https://s3.amazonaws.com/models.huggingface.co/bert/bert-base-uncased-vocab.txt',\n",
              "  'distilbert-base-uncased-distilled-squad': 'https://s3.amazonaws.com/models.huggingface.co/bert/bert-large-uncased-vocab.txt'}}"
            ]
          },
          "metadata": {
            "tags": []
          },
          "execution_count": 20
        }
      ]
    },
    {
      "cell_type": "markdown",
      "metadata": {
        "id": "Ra1uKAv1Fq3J",
        "colab_type": "text"
      },
      "source": [
        "###### Create Custom FASTAI Vocab from the pretrained transformer tokenizer"
      ]
    },
    {
      "cell_type": "code",
      "metadata": {
        "id": "YF64GKh_Ep7_",
        "colab_type": "code",
        "colab": {}
      },
      "source": [
        "class TransformersVocab(Vocab):\n",
        "    def __init__(self, tokenizer: PreTrainedTokenizer):\n",
        "        super(TransformersVocab, self).__init__(itos = [])\n",
        "        self.tokenizer = tokenizer\n",
        "    \n",
        "    def numericalize(self, t:Collection[str]) -> List[int]:\n",
        "        \"Convert a list of tokens `t` to their ids.\"\n",
        "        return self.tokenizer.convert_tokens_to_ids(t)\n",
        "        #return self.tokenizer.encode(t)\n",
        "\n",
        "    def textify(self, nums:Collection[int], sep=' ') -> List[str]:\n",
        "        \"Convert a list of `nums` to their tokens.\"\n",
        "        nums = np.array(nums).tolist()\n",
        "        return sep.join(self.tokenizer.convert_ids_to_tokens(nums)) if sep is not None else self.tokenizer.convert_ids_to_tokens(nums)"
      ],
      "execution_count": 0,
      "outputs": []
    },
    {
      "cell_type": "code",
      "metadata": {
        "id": "aLlu5bBuF82e",
        "colab_type": "code",
        "colab": {}
      },
      "source": [
        "fastai_vocab = TransformersVocab(tokenizer=transformer_tokenizer)"
      ],
      "execution_count": 0,
      "outputs": []
    },
    {
      "cell_type": "markdown",
      "metadata": {
        "id": "bYl02GssHLPo",
        "colab_type": "text"
      },
      "source": [
        "###### Create Custom FASTAI Processor"
      ]
    },
    {
      "cell_type": "code",
      "metadata": {
        "id": "duGkyBJYHWev",
        "colab_type": "code",
        "colab": {}
      },
      "source": [
        "numericalize_processor = NumericalizeProcessor(vocab=fastai_vocab)\n",
        "\n",
        "tokenize_processor = TokenizeProcessor(tokenizer=fastai_tokenizer, include_bos=False, include_eos=False)\n"
      ],
      "execution_count": 0,
      "outputs": []
    },
    {
      "cell_type": "code",
      "metadata": {
        "id": "q4hZJevuHyRB",
        "colab_type": "code",
        "colab": {}
      },
      "source": [
        "fastai_processor = [tokenize_processor, numericalize_processor]"
      ],
      "execution_count": 0,
      "outputs": []
    },
    {
      "cell_type": "markdown",
      "metadata": {
        "id": "CowuQyVwJQtn",
        "colab_type": "text"
      },
      "source": [
        "###### Create Custom FASTAI Databunch"
      ]
    },
    {
      "cell_type": "code",
      "metadata": {
        "id": "LY93k2TIKtPq",
        "colab_type": "code",
        "colab": {
          "base_uri": "https://localhost:8080/",
          "height": 68
        },
        "outputId": "abac36f3-8cdf-4a14-f140-9e6239eef01f"
      },
      "source": [
        "print('[CLS] token :', transformer_tokenizer.cls_token)\n",
        "print('[SEP] token :', transformer_tokenizer.sep_token)\n",
        "print('[PAD] token :', transformer_tokenizer.pad_token)"
      ],
      "execution_count": 25,
      "outputs": [
        {
          "output_type": "stream",
          "text": [
            "[CLS] token : [CLS]\n",
            "[SEP] token : [SEP]\n",
            "[PAD] token : [PAD]\n"
          ],
          "name": "stdout"
        }
      ]
    },
    {
      "cell_type": "code",
      "metadata": {
        "id": "drsWa7kpIW6A",
        "colab_type": "code",
        "colab": {}
      },
      "source": [
        "pad_first = bool(model_type in ['xlnet'])\n",
        "pad_idx = transformer_tokenizer.pad_token_id"
      ],
      "execution_count": 0,
      "outputs": []
    },
    {
      "cell_type": "code",
      "metadata": {
        "id": "jtvAUGvdKOQ6",
        "colab_type": "code",
        "colab": {
          "base_uri": "https://localhost:8080/",
          "height": 17
        },
        "outputId": "24bb758f-a9d4-481c-d9a3-9a4e93eb82af"
      },
      "source": [
        "databunch = (TextList.from_df(train, cols='Text', processor=fastai_processor)\n",
        "             .split_by_rand_pct(0.1,seed=seed)\n",
        "             .label_from_df(cols= 'label')\n",
        "             .add_test(test)\n",
        "             .databunch(bs=bs, pad_first=pad_first, pad_idx=pad_idx))"
      ],
      "execution_count": 27,
      "outputs": [
        {
          "output_type": "display_data",
          "data": {
            "text/html": [
              ""
            ],
            "text/plain": [
              "<IPython.core.display.HTML object>"
            ]
          },
          "metadata": {
            "tags": []
          }
        },
        {
          "output_type": "display_data",
          "data": {
            "text/html": [
              ""
            ],
            "text/plain": [
              "<IPython.core.display.HTML object>"
            ]
          },
          "metadata": {
            "tags": []
          }
        },
        {
          "output_type": "display_data",
          "data": {
            "text/html": [
              ""
            ],
            "text/plain": [
              "<IPython.core.display.HTML object>"
            ]
          },
          "metadata": {
            "tags": []
          }
        }
      ]
    },
    {
      "cell_type": "code",
      "metadata": {
        "id": "qWf9nJs-KOD-",
        "colab_type": "code",
        "colab": {
          "base_uri": "https://localhost:8080/",
          "height": 529
        },
        "outputId": "e4a687e5-4da8-4937-89ba-c1566d5158ba"
      },
      "source": [
        "databunch.show_batch(10)"
      ],
      "execution_count": 28,
      "outputs": [
        {
          "output_type": "display_data",
          "data": {
            "text/html": [
              "<table border=\"1\" class=\"dataframe\">\n",
              "  <thead>\n",
              "    <tr style=\"text-align: right;\">\n",
              "      <th>text</th>\n",
              "      <th>target</th>\n",
              "    </tr>\n",
              "  </thead>\n",
              "  <tbody>\n",
              "    <tr>\n",
              "      <td>[CLS] this review is for the 24 pack of 3 oz . cans of the wellness brand cat food . &lt; br / &gt; &lt; br / &gt; objective ##ly speaking . . . &lt; br / &gt; the cans are easy to op ##e and they have consistently arrived in excellent condition . there are 24 cans at 3 oz . each . that ' s all i can</td>\n",
              "      <td>1</td>\n",
              "    </tr>\n",
              "    <tr>\n",
              "      <td>[CLS] if you ' re a chip lover , take heart . there are healthy options out there to soothe your craving ##s . r ##w garcia has a soy fl ##ax ##see ##d chip with no trans fat ##s , no g ##lu ##ten , with fiber and omega 3 ##s . &lt; br / &gt; &lt; br / &gt; i ' ve tried many different chip varieties over</td>\n",
              "      <td>1</td>\n",
              "    </tr>\n",
              "    <tr>\n",
              "      <td>[CLS] as a manhattan ##ite , a vegetarian , and someone who takes food very seriously and is always on the lookout for quick , ta ##sty , health ##ful meals , asian cuisine of all stripes comprises a substantial percentage of my diet . i happened upon amazon reviews of this product quite by accident , so sought it out when i was near a gr ##iste ##des ,</td>\n",
              "      <td>1</td>\n",
              "    </tr>\n",
              "    <tr>\n",
              "      <td>[CLS] ingredients : spices , salt , onion , pa ##pr ##ika , garlic , dex ##tro ##se , vegetable oil ( partially hydrogen ##ated soy ##be ##an oil to help protect flavor ) , corn syrup solids , silicon dioxide ( anti ##ca ##king agent ) . &lt; br / &gt; &lt; br / &gt; dad was the plant engineer at ste ##gne ##r food products in cincinnati ,</td>\n",
              "      <td>1</td>\n",
              "    </tr>\n",
              "    <tr>\n",
              "      <td>[CLS] the major difference between the lava ##zza qu ##ali ##ta oro es ##press ##o ( the gold can ) and the lava ##zza italian coffee , caf ##fe es ##press ##o ( the black can ) coffee ##s is that the gold can lava ##zza uses 100 % arabic ##a beans from two different countries and the black can lava ##zza uses 100 % arabic ##a coffee beans from</td>\n",
              "      <td>1</td>\n",
              "    </tr>\n",
              "    <tr>\n",
              "      <td>[CLS] i have a very pick ##y older cat . she is probably extra pick ##y because she ' s old and has trouble digest ##ing some cat foods . this one though is her favorite dry food . she begs for it and waits by her bowl one hour before dinner . my other cat also gets very excited about this food . i ' ve found with other</td>\n",
              "      <td>1</td>\n",
              "    </tr>\n",
              "    <tr>\n",
              "      <td>[CLS] i ' m on a diet and there are times when i just want something crunch ##y . but i also have high blood pressure so a lot of snacks that i use as a treat are too high - sodium for me . i eat rice cakes with peanut butter or cottage cheese once in a while and i happened to see pop ##chi ##ps on amazon .</td>\n",
              "      <td>1</td>\n",
              "    </tr>\n",
              "    <tr>\n",
              "      <td>[CLS] ai ##ght , y ' all . this stuff is exactly the same as the earth ' s best formula . what e ##b doesn ' t want you to know is that it also contains corn syrup . e ##b ' s ingredient list includes \" glucose syrup solids \" instead of \" corn syrup solids . \" but what they don ' t want you to know</td>\n",
              "      <td>1</td>\n",
              "    </tr>\n",
              "    <tr>\n",
              "      <td>[CLS] if you ' ve tried the natural energy bars , you might be familiar with the flavor and textures you ' ll experience with this bar . &lt; br / &gt; &lt; br / &gt; if you aren ' t . . . expect a dense , soft but dry texture . there ' s the off flavor of something designated as \" health food \" that is commercially</td>\n",
              "      <td>0</td>\n",
              "    </tr>\n",
              "    <tr>\n",
              "      <td>[CLS] folks , move along - - don ' t buy this from these people . they are completely inc ##omp ##ete ##nt . the links showed up ran ##ci ##d , so i refused the order ( but they also took two + weeks to ship this nightmare , and made my whole experience the worst i have had w / amazon in 8 years ) . &lt; br</td>\n",
              "      <td>0</td>\n",
              "    </tr>\n",
              "  </tbody>\n",
              "</table>"
            ],
            "text/plain": [
              "<IPython.core.display.HTML object>"
            ]
          },
          "metadata": {
            "tags": []
          }
        }
      ]
    },
    {
      "cell_type": "code",
      "metadata": {
        "id": "AL9cyaXMMV6e",
        "colab_type": "code",
        "colab": {
          "base_uri": "https://localhost:8080/",
          "height": 34
        },
        "outputId": "68cd70dc-8bb7-4aae-dd04-8ce3f2401667"
      },
      "source": [
        "databunch.one_batch()[0].shape"
      ],
      "execution_count": 29,
      "outputs": [
        {
          "output_type": "execute_result",
          "data": {
            "text/plain": [
              "torch.Size([16, 512])"
            ]
          },
          "metadata": {
            "tags": []
          },
          "execution_count": 29
        }
      ]
    },
    {
      "cell_type": "markdown",
      "metadata": {
        "id": "0CBbrWy8Nbwx",
        "colab_type": "text"
      },
      "source": [
        "### 2 Setup FASTAI Learner "
      ]
    },
    {
      "cell_type": "markdown",
      "metadata": {
        "id": "l1IReobzNy_r",
        "colab_type": "text"
      },
      "source": [
        "###### Create Custom Transformer Model"
      ]
    },
    {
      "cell_type": "code",
      "metadata": {
        "id": "DEb-ujgEMV35",
        "colab_type": "code",
        "colab": {}
      },
      "source": [
        "# defining our model architecture \n",
        "class CustomTransformerModel(nn.Module):\n",
        "    def __init__(self, transformer_model: PreTrainedModel):\n",
        "        super(CustomTransformerModel,self).__init__()\n",
        "        self.transformer = transformer_model\n",
        "        \n",
        "    def forward(self, input_ids, attention_mask=None):\n",
        "        \n",
        "        #attention_mask = (input_ids!=1).type(input_ids.type()) # Test attention_mask for RoBERTa\n",
        "        \n",
        "        logits = self.transformer(input_ids,\n",
        "                                attention_mask = attention_mask)[0]   \n",
        "        return logits"
      ],
      "execution_count": 0,
      "outputs": []
    },
    {
      "cell_type": "code",
      "metadata": {
        "id": "ihOJYhPfMV1U",
        "colab_type": "code",
        "colab": {
          "base_uri": "https://localhost:8080/",
          "height": 459
        },
        "outputId": "a1b114f2-b233-4d6d-d738-6c7dcf72dda9"
      },
      "source": [
        "config = config_class.from_pretrained(pretrained_model_name)\n",
        "config"
      ],
      "execution_count": 31,
      "outputs": [
        {
          "output_type": "stream",
          "text": [
            "100%|██████████| 492/492 [00:00<00:00, 136698.30B/s]\n"
          ],
          "name": "stderr"
        },
        {
          "output_type": "execute_result",
          "data": {
            "text/plain": [
              "{\n",
              "  \"activation\": \"gelu\",\n",
              "  \"attention_dropout\": 0.1,\n",
              "  \"dim\": 768,\n",
              "  \"dropout\": 0.1,\n",
              "  \"finetuning_task\": null,\n",
              "  \"hidden_dim\": 3072,\n",
              "  \"initializer_range\": 0.02,\n",
              "  \"is_decoder\": false,\n",
              "  \"max_position_embeddings\": 512,\n",
              "  \"n_heads\": 12,\n",
              "  \"n_layers\": 6,\n",
              "  \"num_labels\": 2,\n",
              "  \"output_attentions\": false,\n",
              "  \"output_hidden_states\": false,\n",
              "  \"output_past\": true,\n",
              "  \"pruned_heads\": {},\n",
              "  \"qa_dropout\": 0.1,\n",
              "  \"seq_classif_dropout\": 0.2,\n",
              "  \"sinusoidal_pos_embds\": false,\n",
              "  \"tie_weights_\": true,\n",
              "  \"torchscript\": false,\n",
              "  \"use_bfloat16\": false,\n",
              "  \"vocab_size\": 30522\n",
              "}"
            ]
          },
          "metadata": {
            "tags": []
          },
          "execution_count": 31
        }
      ]
    },
    {
      "cell_type": "code",
      "metadata": {
        "id": "gAgMC87p82g9",
        "colab_type": "code",
        "colab": {
          "base_uri": "https://localhost:8080/",
          "height": 34
        },
        "outputId": "1a937ee9-e0fc-4e78-c661-df17630429b8"
      },
      "source": [
        "transformer_model = model_class.from_pretrained(pretrained_model_name, config=config)\n",
        "custom_transformer_model = CustomTransformerModel(transformer_model=transformer_model)"
      ],
      "execution_count": 32,
      "outputs": [
        {
          "output_type": "stream",
          "text": [
            "100%|██████████| 265481570/265481570 [00:09<00:00, 26752128.15B/s]\n"
          ],
          "name": "stderr"
        }
      ]
    },
    {
      "cell_type": "markdown",
      "metadata": {
        "id": "Br7_cpBp95O4",
        "colab_type": "text"
      },
      "source": [
        "###### Create FASTAI Learner Model"
      ]
    },
    {
      "cell_type": "code",
      "metadata": {
        "id": "OJp7rkbI82Zv",
        "colab_type": "code",
        "colab": {}
      },
      "source": [
        "from fastai.callbacks import *\n",
        "from transformers import AdamW\n",
        "\n",
        "learner = Learner(databunch, \n",
        "                  custom_transformer_model, \n",
        "                  opt_func = lambda input: AdamW(input,correct_bias=False), \n",
        "                  metrics=[accuracy, AUROC()])\n",
        "\n",
        "# Show graph of learner stats and metrics after each epoch.\n",
        "learner.callbacks.append(ShowGraph(learner))\n",
        "\n",
        "# Put learn in FP16 precision mode. --> Seems to not working\n",
        "if use_fp16: learner = learner.to_fp16()"
      ],
      "execution_count": 0,
      "outputs": []
    },
    {
      "cell_type": "code",
      "metadata": {
        "id": "2F0t1AT082Qn",
        "colab_type": "code",
        "colab": {
          "base_uri": "https://localhost:8080/",
          "height": 1000
        },
        "outputId": "55c07fea-b457-42e1-de39-7c13f779d2ba"
      },
      "source": [
        "learner.summary()"
      ],
      "execution_count": 34,
      "outputs": [
        {
          "output_type": "execute_result",
          "data": {
            "text/plain": [
              "CustomTransformerModel\n",
              "======================================================================\n",
              "Layer (type)         Output Shape         Param #    Trainable \n",
              "======================================================================\n",
              "Embedding            [512, 768]           23,440,896 True      \n",
              "______________________________________________________________________\n",
              "Embedding            [512, 768]           393,216    True      \n",
              "______________________________________________________________________\n",
              "LayerNorm            [512, 768]           1,536      True      \n",
              "______________________________________________________________________\n",
              "Dropout              [512, 768]           0          False     \n",
              "______________________________________________________________________\n",
              "Dropout              [12, 512, 512]       0          False     \n",
              "______________________________________________________________________\n",
              "Linear               [512, 768]           590,592    True      \n",
              "______________________________________________________________________\n",
              "Linear               [512, 768]           590,592    True      \n",
              "______________________________________________________________________\n",
              "Linear               [512, 768]           590,592    True      \n",
              "______________________________________________________________________\n",
              "Linear               [512, 768]           590,592    True      \n",
              "______________________________________________________________________\n",
              "LayerNorm            [512, 768]           1,536      True      \n",
              "______________________________________________________________________\n",
              "Dropout              [512, 768]           0          False     \n",
              "______________________________________________________________________\n",
              "Linear               [512, 3072]          2,362,368  True      \n",
              "______________________________________________________________________\n",
              "Linear               [512, 768]           2,360,064  True      \n",
              "______________________________________________________________________\n",
              "LayerNorm            [512, 768]           1,536      True      \n",
              "______________________________________________________________________\n",
              "Dropout              [12, 512, 512]       0          False     \n",
              "______________________________________________________________________\n",
              "Linear               [512, 768]           590,592    True      \n",
              "______________________________________________________________________\n",
              "Linear               [512, 768]           590,592    True      \n",
              "______________________________________________________________________\n",
              "Linear               [512, 768]           590,592    True      \n",
              "______________________________________________________________________\n",
              "Linear               [512, 768]           590,592    True      \n",
              "______________________________________________________________________\n",
              "LayerNorm            [512, 768]           1,536      True      \n",
              "______________________________________________________________________\n",
              "Dropout              [512, 768]           0          False     \n",
              "______________________________________________________________________\n",
              "Linear               [512, 3072]          2,362,368  True      \n",
              "______________________________________________________________________\n",
              "Linear               [512, 768]           2,360,064  True      \n",
              "______________________________________________________________________\n",
              "LayerNorm            [512, 768]           1,536      True      \n",
              "______________________________________________________________________\n",
              "Dropout              [12, 512, 512]       0          False     \n",
              "______________________________________________________________________\n",
              "Linear               [512, 768]           590,592    True      \n",
              "______________________________________________________________________\n",
              "Linear               [512, 768]           590,592    True      \n",
              "______________________________________________________________________\n",
              "Linear               [512, 768]           590,592    True      \n",
              "______________________________________________________________________\n",
              "Linear               [512, 768]           590,592    True      \n",
              "______________________________________________________________________\n",
              "LayerNorm            [512, 768]           1,536      True      \n",
              "______________________________________________________________________\n",
              "Dropout              [512, 768]           0          False     \n",
              "______________________________________________________________________\n",
              "Linear               [512, 3072]          2,362,368  True      \n",
              "______________________________________________________________________\n",
              "Linear               [512, 768]           2,360,064  True      \n",
              "______________________________________________________________________\n",
              "LayerNorm            [512, 768]           1,536      True      \n",
              "______________________________________________________________________\n",
              "Dropout              [12, 512, 512]       0          False     \n",
              "______________________________________________________________________\n",
              "Linear               [512, 768]           590,592    True      \n",
              "______________________________________________________________________\n",
              "Linear               [512, 768]           590,592    True      \n",
              "______________________________________________________________________\n",
              "Linear               [512, 768]           590,592    True      \n",
              "______________________________________________________________________\n",
              "Linear               [512, 768]           590,592    True      \n",
              "______________________________________________________________________\n",
              "LayerNorm            [512, 768]           1,536      True      \n",
              "______________________________________________________________________\n",
              "Dropout              [512, 768]           0          False     \n",
              "______________________________________________________________________\n",
              "Linear               [512, 3072]          2,362,368  True      \n",
              "______________________________________________________________________\n",
              "Linear               [512, 768]           2,360,064  True      \n",
              "______________________________________________________________________\n",
              "LayerNorm            [512, 768]           1,536      True      \n",
              "______________________________________________________________________\n",
              "Dropout              [12, 512, 512]       0          False     \n",
              "______________________________________________________________________\n",
              "Linear               [512, 768]           590,592    True      \n",
              "______________________________________________________________________\n",
              "Linear               [512, 768]           590,592    True      \n",
              "______________________________________________________________________\n",
              "Linear               [512, 768]           590,592    True      \n",
              "______________________________________________________________________\n",
              "Linear               [512, 768]           590,592    True      \n",
              "______________________________________________________________________\n",
              "LayerNorm            [512, 768]           1,536      True      \n",
              "______________________________________________________________________\n",
              "Dropout              [512, 768]           0          False     \n",
              "______________________________________________________________________\n",
              "Linear               [512, 3072]          2,362,368  True      \n",
              "______________________________________________________________________\n",
              "Linear               [512, 768]           2,360,064  True      \n",
              "______________________________________________________________________\n",
              "LayerNorm            [512, 768]           1,536      True      \n",
              "______________________________________________________________________\n",
              "Dropout              [12, 512, 512]       0          False     \n",
              "______________________________________________________________________\n",
              "Linear               [512, 768]           590,592    True      \n",
              "______________________________________________________________________\n",
              "Linear               [512, 768]           590,592    True      \n",
              "______________________________________________________________________\n",
              "Linear               [512, 768]           590,592    True      \n",
              "______________________________________________________________________\n",
              "Linear               [512, 768]           590,592    True      \n",
              "______________________________________________________________________\n",
              "LayerNorm            [512, 768]           1,536      True      \n",
              "______________________________________________________________________\n",
              "Dropout              [512, 768]           0          False     \n",
              "______________________________________________________________________\n",
              "Linear               [512, 3072]          2,362,368  True      \n",
              "______________________________________________________________________\n",
              "Linear               [512, 768]           2,360,064  True      \n",
              "______________________________________________________________________\n",
              "LayerNorm            [512, 768]           1,536      True      \n",
              "______________________________________________________________________\n",
              "Linear               [768]                590,592    True      \n",
              "______________________________________________________________________\n",
              "Linear               [2]                  1,538      True      \n",
              "______________________________________________________________________\n",
              "Dropout              [768]                0          False     \n",
              "______________________________________________________________________\n",
              "\n",
              "Total params: 66,955,010\n",
              "Total trainable params: 66,955,010\n",
              "Total non-trainable params: 0\n",
              "Optimized with fa866076268\n",
              "Using true weight decay as discussed in https://www.fast.ai/2018/07/02/adam-weight-decay/ \n",
              "Loss function : FlattenedLoss\n",
              "======================================================================\n",
              "Callbacks functions applied \n",
              "    ShowGraph"
            ]
          },
          "metadata": {
            "tags": []
          },
          "execution_count": 34
        }
      ]
    },
    {
      "cell_type": "markdown",
      "metadata": {
        "id": "BJQtu7slI2Wz",
        "colab_type": "text"
      },
      "source": [
        "###### Training FASTAI Learner "
      ]
    },
    {
      "cell_type": "code",
      "metadata": {
        "id": "eJ75fdPM_WOs",
        "colab_type": "code",
        "colab": {
          "base_uri": "https://localhost:8080/",
          "height": 34
        },
        "outputId": "4a939227-b3af-4491-aa45-59d1fe75393c"
      },
      "source": [
        "learner.lr_find()"
      ],
      "execution_count": 35,
      "outputs": [
        {
          "output_type": "display_data",
          "data": {
            "text/html": [
              ""
            ],
            "text/plain": [
              "<IPython.core.display.HTML object>"
            ]
          },
          "metadata": {
            "tags": []
          }
        },
        {
          "output_type": "stream",
          "text": [
            "LR Finder is complete, type {learner_name}.recorder.plot() to see the graph.\n"
          ],
          "name": "stdout"
        }
      ]
    },
    {
      "cell_type": "code",
      "metadata": {
        "id": "De4j-yzX_c9L",
        "colab_type": "code",
        "colab": {
          "base_uri": "https://localhost:8080/",
          "height": 313
        },
        "outputId": "dba4be52-0e14-495c-b112-aeef8c1dd657"
      },
      "source": [
        "learner.recorder.plot(skip_end=7,suggestion=True)"
      ],
      "execution_count": 36,
      "outputs": [
        {
          "output_type": "stream",
          "text": [
            "Min numerical gradient: 6.92E-06\n",
            "Min loss divided by 10: 1.74E-04\n"
          ],
          "name": "stdout"
        },
        {
          "output_type": "display_data",
          "data": {
            "image/png": "[encoded data removed]",
            "text/plain": [
              "<Figure size 432x288 with 1 Axes>"
            ]
          },
          "metadata": {
            "tags": []
          }
        }
      ]
    },
    {
      "cell_type": "code",
      "metadata": {
        "id": "y2euAeaECgng",
        "colab_type": "code",
        "colab": {
          "base_uri": "https://localhost:8080/",
          "height": 328
        },
        "outputId": "885c96e8-a32e-458f-b4ba-c154e6cb2b10"
      },
      "source": [
        "# result for roberta\n",
        "learner.fit_one_cycle(1,max_lr=1e-05,moms=(0.8,0.7))"
      ],
      "execution_count": 37,
      "outputs": [
        {
          "output_type": "display_data",
          "data": {
            "text/html": [
              "<table border=\"1\" class=\"dataframe\">\n",
              "  <thead>\n",
              "    <tr style=\"text-align: left;\">\n",
              "      <th>epoch</th>\n",
              "      <th>train_loss</th>\n",
              "      <th>valid_loss</th>\n",
              "      <th>accuracy</th>\n",
              "      <th>auroc</th>\n",
              "      <th>time</th>\n",
              "    </tr>\n",
              "  </thead>\n",
              "  <tbody>\n",
              "    <tr>\n",
              "      <td>0</td>\n",
              "      <td>0.242207</td>\n",
              "      <td>0.230776</td>\n",
              "      <td>0.901000</td>\n",
              "      <td>0.952809</td>\n",
              "      <td>04:33</td>\n",
              "    </tr>\n",
              "  </tbody>\n",
              "</table>"
            ],
            "text/plain": [
              "<IPython.core.display.HTML object>"
            ]
          },
          "metadata": {
            "tags": []
          }
        },
        {
          "output_type": "display_data",
          "data": {
            "image/png": "[encoded data removed]",
            "text/plain": [
              "<Figure size 432x288 with 1 Axes>"
            ]
          },
          "metadata": {
            "tags": []
          }
        }
      ]
    },
    {
      "cell_type": "code",
      "metadata": {
        "id": "ieMrP91A_jDl",
        "colab_type": "code",
        "colab": {
          "base_uri": "https://localhost:8080/",
          "height": 328
        },
        "outputId": "1f798767-05d7-4237-855c-3c7c6cb58aeb"
      },
      "source": [
        "# result for Distilbert\n",
        "learner.fit_one_cycle(1,max_lr=1e-05,moms=(0.8,0.7))"
      ],
      "execution_count": 38,
      "outputs": [
        {
          "output_type": "display_data",
          "data": {
            "text/html": [
              "<table border=\"1\" class=\"dataframe\">\n",
              "  <thead>\n",
              "    <tr style=\"text-align: left;\">\n",
              "      <th>epoch</th>\n",
              "      <th>train_loss</th>\n",
              "      <th>valid_loss</th>\n",
              "      <th>accuracy</th>\n",
              "      <th>auroc</th>\n",
              "      <th>time</th>\n",
              "    </tr>\n",
              "  </thead>\n",
              "  <tbody>\n",
              "    <tr>\n",
              "      <td>0</td>\n",
              "      <td>0.183002</td>\n",
              "      <td>0.220687</td>\n",
              "      <td>0.910000</td>\n",
              "      <td>0.959429</td>\n",
              "      <td>03:38</td>\n",
              "    </tr>\n",
              "  </tbody>\n",
              "</table>"
            ],
            "text/plain": [
              "<IPython.core.display.HTML object>"
            ]
          },
          "metadata": {
            "tags": []
          }
        },
        {
          "output_type": "display_data",
          "data": {
            "image/png": "[encoded data removed]",
            "text/plain": [
              "<Figure size 432x288 with 1 Axes>"
            ]
          },
          "metadata": {
            "tags": []
          }
        }
      ]
    },
    {
      "cell_type": "code",
      "metadata": {
        "id": "htz7Bqwn_jAv",
        "colab_type": "code",
        "colab": {
          "base_uri": "https://localhost:8080/",
          "height": 289
        },
        "outputId": "f883d77d-662f-4934-b003-3b5e785219d2"
      },
      "source": [
        "learner.show_results(rows=5)"
      ],
      "execution_count": 39,
      "outputs": [
        {
          "output_type": "display_data",
          "data": {
            "text/html": [
              "<table border=\"1\" class=\"dataframe\">\n",
              "  <thead>\n",
              "    <tr style=\"text-align: right;\">\n",
              "      <th>text</th>\n",
              "      <th>target</th>\n",
              "      <th>prediction</th>\n",
              "    </tr>\n",
              "  </thead>\n",
              "  <tbody>\n",
              "    <tr>\n",
              "      <td>[CLS] after feeding my dogs what i thought was a \" premium brand \" food : ( ia ##ms healthy natural ) , and paying for that as well , i stumbled upon this website : [ . . . ] / and found out how it was actually rated . much to my sadness , the ia ##ms premium food that i had been paying so much for ,</td>\n",
              "      <td>1</td>\n",
              "      <td>0</td>\n",
              "    </tr>\n",
              "    <tr>\n",
              "      <td>[CLS] i like this skill ##et sauce . it has a nice flavor and adds a rich ##ness to ta ##co dishes . the overall flavor is not so very different from &lt; a hr ##ef = \" http : / / www . amazon . com / gp / product / b ##00 ##48 ##if ##vc ##m \" &gt; front ##era pouch , en ##chi ##lad ##a skill ##et</td>\n",
              "      <td>1</td>\n",
              "      <td>1</td>\n",
              "    </tr>\n",
              "    <tr>\n",
              "      <td>[CLS] just bought my first package of these , after reading about this thing in a joe csa ##tar ##i ( sp ? ) book on nutrition . didn ' t know what to expect , but i liked it - - on several accounts . first , if the label is true , it ' s got superior nutritional qualities - - a very good combination of typical nutrients</td>\n",
              "      <td>1</td>\n",
              "      <td>1</td>\n",
              "    </tr>\n",
              "    <tr>\n",
              "      <td>[CLS] last year , i purchased a ke ##uri ##g machine . k - cups are extremely convenient and cleanup is so easy . so many varieties of coffee to choose from and they are generally pretty good . i ' ve tried a number of k - cups since last year and reviewed a few here . fast forward to almost a year later . my ke ##uri ##g</td>\n",
              "      <td>1</td>\n",
              "      <td>1</td>\n",
              "    </tr>\n",
              "    <tr>\n",
              "      <td>[CLS] i have been drinking this tea for about a year , on and off . it is the best green tea that i have tasted . i brew it overnight at room temperature , and i find that it has a full , smooth , and mild flavor . &lt; br / &gt; &lt; br / &gt; another writer stated that the flu ##ori ##de levels associated with this</td>\n",
              "      <td>0</td>\n",
              "      <td>1</td>\n",
              "    </tr>\n",
              "  </tbody>\n",
              "</table>"
            ],
            "text/plain": [
              "<IPython.core.display.HTML object>"
            ]
          },
          "metadata": {
            "tags": []
          }
        }
      ]
    },
    {
      "cell_type": "code",
      "metadata": {
        "id": "sD7hsxbi_i-g",
        "colab_type": "code",
        "colab": {
          "base_uri": "https://localhost:8080/",
          "height": 17
        },
        "outputId": "f4ef41cf-fec1-444c-cfaf-1bc4fc943186"
      },
      "source": [
        "interp = learner.interpret(ds_type = DatasetType.Valid)\n",
        "#txt_ci = TextClassificationInterpretation.from_learner(learner)"
      ],
      "execution_count": 40,
      "outputs": [
        {
          "output_type": "display_data",
          "data": {
            "text/html": [
              ""
            ],
            "text/plain": [
              "<IPython.core.display.HTML object>"
            ]
          },
          "metadata": {
            "tags": []
          }
        }
      ]
    },
    {
      "cell_type": "code",
      "metadata": {
        "id": "rLhiwpy0_i7a",
        "colab_type": "code",
        "colab": {
          "base_uri": "https://localhost:8080/",
          "height": 455
        },
        "outputId": "27990238-d98a-4469-9329-47ec84198149"
      },
      "source": [
        "interp.plot_confusion_matrix(normalize=False,figsize=(6,6))"
      ],
      "execution_count": 41,
      "outputs": [
        {
          "output_type": "display_data",
          "data": {
            "image/png": "[encoded data removed]",
            "text/plain": [
              "<Figure size 432x432 with 1 Axes>"
            ]
          },
          "metadata": {
            "tags": []
          }
        }
      ]
    },
    {
      "cell_type": "code",
      "metadata": {
        "id": "LoQFWW7B_i3d",
        "colab_type": "code",
        "colab": {
          "base_uri": "https://localhost:8080/",
          "height": 455
        },
        "outputId": "a1a0ede6-8a94-468a-ae7c-e87439a6d473"
      },
      "source": [
        "interp.plot_confusion_matrix(normalize=True,figsize=(6,6))"
      ],
      "execution_count": 42,
      "outputs": [
        {
          "output_type": "display_data",
          "data": {
            "image/png": "[encoded data removed]",
            "text/plain": [
              "<Figure size 432x432 with 1 Axes>"
            ]
          },
          "metadata": {
            "tags": []
          }
        }
      ]
    },
    {
      "cell_type": "markdown",
      "metadata": {
        "id": "1IVK2jheJTlr",
        "colab_type": "text"
      },
      "source": [
        ""
      ]
    },
    {
      "cell_type": "markdown",
      "metadata": {
        "id": "WyFYtTIxJTWp",
        "colab_type": "text"
      },
      "source": [
        ""
      ]
    },
    {
      "cell_type": "code",
      "metadata": {
        "id": "wsOrjKnPIwZp",
        "colab_type": "code",
        "colab": {
          "base_uri": "https://localhost:8080/",
          "height": 17
        },
        "outputId": "1811b2b7-5798-4b26-d0eb-6813dd3cbb53"
      },
      "source": [
        "def get_preds_as_nparray(ds_type) -> np.ndarray:\n",
        "    \"\"\"\n",
        "    the get_preds method does not yield the elements in order by default\n",
        "    we borrow the code from the RNNLearner to resort the elements into their correct order\n",
        "    \"\"\"\n",
        "    preds = learner.get_preds(ds_type)[0].detach().cpu().numpy()\n",
        "    sampler = [i for i in databunch.dl(ds_type).sampler]\n",
        "    reverse_sampler = np.argsort(sampler)\n",
        "    return preds[reverse_sampler, :]\n",
        "\n",
        "test_preds = get_preds_as_nparray(DatasetType.Test)"
      ],
      "execution_count": 43,
      "outputs": [
        {
          "output_type": "display_data",
          "data": {
            "text/html": [
              ""
            ],
            "text/plain": [
              "<IPython.core.display.HTML object>"
            ]
          },
          "metadata": {
            "tags": []
          }
        }
      ]
    },
    {
      "cell_type": "code",
      "metadata": {
        "id": "SEWjsL1PFaKA",
        "colab_type": "code",
        "colab": {
          "base_uri": "https://localhost:8080/",
          "height": 68
        },
        "outputId": "38ceb215-8570-43ac-d2d7-c48479212a9c"
      },
      "source": [
        "test['label'].value_counts()"
      ],
      "execution_count": 44,
      "outputs": [
        {
          "output_type": "execute_result",
          "data": {
            "text/plain": [
              "1    15348\n",
              "0     4660\n",
              "Name: label, dtype: int64"
            ]
          },
          "metadata": {
            "tags": []
          },
          "execution_count": 44
        }
      ]
    },
    {
      "cell_type": "code",
      "metadata": {
        "id": "WrH71cv_Ff20",
        "colab_type": "code",
        "colab": {
          "base_uri": "https://localhost:8080/",
          "height": 136
        },
        "outputId": "84d02ed4-f0c3-4057-867f-bfeff0e128a1"
      },
      "source": [
        "learner.get_preds(databunch.test_dl)"
      ],
      "execution_count": 45,
      "outputs": [
        {
          "output_type": "display_data",
          "data": {
            "text/html": [
              ""
            ],
            "text/plain": [
              "<IPython.core.display.HTML object>"
            ]
          },
          "metadata": {
            "tags": []
          }
        },
        {
          "output_type": "execute_result",
          "data": {
            "text/plain": [
              "[tensor([[0.9500, 0.0500],\n",
              "         [0.0098, 0.9902],\n",
              "         [0.2972, 0.7028],\n",
              "         ...,\n",
              "         [0.9730, 0.0270],\n",
              "         [0.9730, 0.0270],\n",
              "         [0.0108, 0.9892]]), tensor([0, 1, 1,  ..., 0, 0, 1])]"
            ]
          },
          "metadata": {
            "tags": []
          },
          "execution_count": 45
        }
      ]
    },
    {
      "cell_type": "code",
      "metadata": {
        "id": "zp1NJ0XjFjnn",
        "colab_type": "code",
        "colab": {
          "base_uri": "https://localhost:8080/",
          "height": 54
        },
        "outputId": "59f90583-b14a-4575-dce0-b43b290900ba"
      },
      "source": [
        "databunch.test_dl"
      ],
      "execution_count": 46,
      "outputs": [
        {
          "output_type": "execute_result",
          "data": {
            "text/plain": [
              "DeviceDataLoader(dl=<torch.utils.data.dataloader.DataLoader object at 0x7fa866dcd9e8>, device=device(type='cuda'), tfms=[], collate_fn=functools.partial(<function pad_collate at 0x7fa86979a488>, pad_idx=0, pad_first=False, backwards=False))"
            ]
          },
          "metadata": {
            "tags": []
          },
          "execution_count": 46
        }
      ]
    },
    {
      "cell_type": "markdown",
      "metadata": {
        "id": "P-mKCcNlJH8I",
        "colab_type": "text"
      },
      "source": [
        "### Reference\n",
        "https://www.kaggle.com/maroberti/fastai-with-transformers-bert-roberta"
      ]
    },
    {
      "cell_type": "code",
      "metadata": {
        "id": "bN2eyUX1OLnd",
        "colab_type": "code",
        "colab": {}
      },
      "source": [
        ""
      ],
      "execution_count": 0,
      "outputs": []
    }
  ]
}