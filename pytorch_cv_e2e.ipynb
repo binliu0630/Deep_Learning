{
  "nbformat": 4,
  "nbformat_minor": 0,
  "metadata": {
    "colab": {
      "name": "pytorch_cv_e2e.ipynb",
      "provenance": [],
      "include_colab_link": true
    },
    "kernelspec": {
      "name": "python3",
      "display_name": "Python 3"
    },
    "accelerator": "GPU"
  },
  "cells": [
    {
      "cell_type": "markdown",
      "metadata": {
        "id": "view-in-github",
        "colab_type": "text"
      },
      "source": [
        "<a href=\"https://colab.research.google.com/github/binliu0630/Deep_Learning/blob/master/pytorch_cv_e2e.ipynb\" target=\"_parent\"><img src=\"https://colab.research.google.com/assets/colab-badge.svg\" alt=\"Open In Colab\"/></a>"
      ]
    },
    {
      "cell_type": "markdown",
      "metadata": {
        "id": "7QJx_9OnlY7c",
        "colab_type": "text"
      },
      "source": [
        "## Getting Started"
      ]
    },
    {
      "cell_type": "code",
      "metadata": {
        "id": "XVrYVNMWlvoD",
        "colab_type": "code",
        "colab": {}
      },
      "source": [
        "import torch\n",
        "import torch.nn as nn\n",
        "import torch.nn.functional as F\n",
        "import torchvision\n",
        "import torchvision.transforms as transforms"
      ],
      "execution_count": 0,
      "outputs": []
    },
    {
      "cell_type": "code",
      "metadata": {
        "id": "grfILBOalxCg",
        "colab_type": "code",
        "colab": {
          "base_uri": "https://localhost:8080/",
          "height": 34
        },
        "outputId": "e1824d1e-37b2-406e-d0e5-b047876c4b0d"
      },
      "source": [
        "print(f'torch version: {torch.__version__}')"
      ],
      "execution_count": 2,
      "outputs": [
        {
          "output_type": "stream",
          "text": [
            "torch version: 1.3.1\n"
          ],
          "name": "stdout"
        }
      ]
    },
    {
      "cell_type": "code",
      "metadata": {
        "id": "FSYTjIsol6CT",
        "colab_type": "code",
        "colab": {}
      },
      "source": [
        "import matplotlib.pyplot as plt\n",
        "import numpy as np"
      ],
      "execution_count": 0,
      "outputs": []
    },
    {
      "cell_type": "markdown",
      "metadata": {
        "id": "rkVxCLKqlUuO",
        "colab_type": "text"
      },
      "source": [
        "## Loading the Data"
      ]
    },
    {
      "cell_type": "code",
      "metadata": {
        "id": "1qgfoRAtltLs",
        "colab_type": "code",
        "colab": {}
      },
      "source": [
        "# parameters\n",
        "BATCH_SIZE = 32\n",
        "transform = transforms.Compose([\n",
        "                                transforms.ToTensor()\n",
        "])"
      ],
      "execution_count": 0,
      "outputs": []
    },
    {
      "cell_type": "code",
      "metadata": {
        "id": "Wkj_Aq3CmYPl",
        "colab_type": "code",
        "colab": {}
      },
      "source": [
        "# downlaod data\n",
        "trainset = torchvision.datasets.MNIST(root='./data', train=True, download=True, transform=transform)\n",
        "testset = torchvision.datasets.MNIST(root='./data', train=False, download=True, transform=transform)"
      ],
      "execution_count": 0,
      "outputs": []
    },
    {
      "cell_type": "code",
      "metadata": {
        "id": "tmE5HjlHm2ro",
        "colab_type": "code",
        "colab": {}
      },
      "source": [
        "# load data\n",
        "trainloader = torch.utils.data.DataLoader(trainset, batch_size=BATCH_SIZE, shuffle=True,num_workers=2)\n",
        "testloader = torch.utils.data.DataLoader(testset, batch_size=BATCH_SIZE, shuffle=True, num_workers=2)"
      ],
      "execution_count": 0,
      "outputs": []
    },
    {
      "cell_type": "markdown",
      "metadata": {
        "id": "uZOKjV8tohUw",
        "colab_type": "text"
      },
      "source": [
        "## Exploring the Data"
      ]
    },
    {
      "cell_type": "code",
      "metadata": {
        "id": "iksgdZKWpKaQ",
        "colab_type": "code",
        "colab": {
          "base_uri": "https://localhost:8080/",
          "height": 34
        },
        "outputId": "ac95f72e-7336-4ced-a975-4c569f8dbe8b"
      },
      "source": [
        "# check first image, label\n",
        "trainset[0][0][0, :, :].shape, trainset[0][1]"
      ],
      "execution_count": 29,
      "outputs": [
        {
          "output_type": "execute_result",
          "data": {
            "text/plain": [
              "(torch.Size([28, 28]), 5)"
            ]
          },
          "metadata": {
            "tags": []
          },
          "execution_count": 29
        }
      ]
    },
    {
      "cell_type": "code",
      "metadata": {
        "id": "PMtN4BpUqQPP",
        "colab_type": "code",
        "colab": {
          "base_uri": "https://localhost:8080/",
          "height": 265
        },
        "outputId": "1f9a3775-4130-4b18-afb3-d725b6c0c1a3"
      },
      "source": [
        "plt.imshow(trainset[0][0][0, :, :]);"
      ],
      "execution_count": 30,
      "outputs": [
        {
          "output_type": "display_data",
          "data": {
            "image/png": "[encoded data removed]",
            "text/plain": [
              "<Figure size 432x288 with 1 Axes>"
            ]
          },
          "metadata": {
            "tags": []
          }
        }
      ]
    },
    {
      "cell_type": "code",
      "metadata": {
        "id": "FxRKtIwtogQ6",
        "colab_type": "code",
        "colab": {}
      },
      "source": [
        "# check first batch images, labels\n",
        "def imshow(img):\n",
        "  npimg = img.numpy()\n",
        "  plt.imshow(np.transpose(npimg, (1, 2, 0)))"
      ],
      "execution_count": 0,
      "outputs": []
    },
    {
      "cell_type": "code",
      "metadata": {
        "id": "hNEQI8FOnxEM",
        "colab_type": "code",
        "colab": {
          "base_uri": "https://localhost:8080/",
          "height": 271
        },
        "outputId": "bd4b8bf3-76a4-4590-8300-4ba307a826e4"
      },
      "source": [
        "dataiter = iter(trainloader)\n",
        "images, labels = dataiter.next()\n",
        "\n",
        "imshow(torchvision.utils.make_grid(images)), labels\n"
      ],
      "execution_count": 33,
      "outputs": [
        {
          "output_type": "execute_result",
          "data": {
            "text/plain": [
              "(None,\n",
              " tensor([6, 3, 8, 1, 4, 9, 1, 6, 2, 5, 8, 2, 4, 2, 5, 4, 3, 8, 9, 0, 0, 0, 7, 2,\n",
              "         0, 3, 2, 0, 1, 4, 7, 1]))"
            ]
          },
          "metadata": {
            "tags": []
          },
          "execution_count": 33
        },
        {
          "output_type": "display_data",
          "data": {
            "image/png": "[encoded data removed]",
            "text/plain": [
              "<Figure size 432x288 with 1 Axes>"
            ]
          },
          "metadata": {
            "tags": []
          }
        }
      ]
    },
    {
      "cell_type": "code",
      "metadata": {
        "id": "LdwifOXkrVff",
        "colab_type": "code",
        "colab": {
          "base_uri": "https://localhost:8080/",
          "height": 34
        },
        "outputId": "43617eae-f9c7-4f3e-9c5a-9da1c8c144b7"
      },
      "source": [
        "# the dimentions of the each batch\n",
        "images.shape, labels.shape"
      ],
      "execution_count": 35,
      "outputs": [
        {
          "output_type": "execute_result",
          "data": {
            "text/plain": [
              "(torch.Size([32, 1, 28, 28]), torch.Size([32]))"
            ]
          },
          "metadata": {
            "tags": []
          },
          "execution_count": 35
        }
      ]
    },
    {
      "cell_type": "markdown",
      "metadata": {
        "id": "F8Di81tDrrLk",
        "colab_type": "text"
      },
      "source": [
        "## The Model"
      ]
    },
    {
      "cell_type": "code",
      "metadata": {
        "id": "QAybzXy3rqgO",
        "colab_type": "code",
        "colab": {}
      },
      "source": [
        "class MyModel(nn.Module):\n",
        "  def __init__(self):\n",
        "    super(MyModel, self).__init__()\n",
        "    self.d1 = nn.Linear(28 * 28, 128)\n",
        "    self.dropout = nn.Dropout(p=0.2)\n",
        "    self.d2 = nn.Linear(128, 10)\n",
        "\n",
        "  def forward(self, x):\n",
        "    x = x.flatten(start_dim=1)\n",
        "    x = self.d1(x)\n",
        "    x = F.relu(x)\n",
        "    x = self.dropout(x)\n",
        "    logits = self.d2(x)\n",
        "    out = F.softmax(logits, dim=1)\n",
        "    return out"
      ],
      "execution_count": 0,
      "outputs": []
    },
    {
      "cell_type": "code",
      "metadata": {
        "id": "cTM7ffVBrloM",
        "colab_type": "code",
        "colab": {
          "base_uri": "https://localhost:8080/",
          "height": 51
        },
        "outputId": "679a007b-1695-437e-a6da-01c15249840e"
      },
      "source": [
        "# test model with one batch\n",
        "model = MyModel()\n",
        "for images, labels in trainloader:\n",
        "  print('batch size: {}'.format(images.shape))\n",
        "  out = model(images)\n",
        "  print('output size: {}'.format(out.shape))\n",
        "  break"
      ],
      "execution_count": 45,
      "outputs": [
        {
          "output_type": "stream",
          "text": [
            "batch size: torch.Size([32, 1, 28, 28])\n",
            "output size: torch.Size([32, 10])\n"
          ],
          "name": "stdout"
        }
      ]
    },
    {
      "cell_type": "markdown",
      "metadata": {
        "id": "_v793xFdvk1d",
        "colab_type": "text"
      },
      "source": [
        "## Training the model"
      ]
    },
    {
      "cell_type": "code",
      "metadata": {
        "id": "iqO3hUz9uxDm",
        "colab_type": "code",
        "colab": {}
      },
      "source": [
        "learning_rate = 1e-3\n",
        "num_epochs = 5\n",
        "\n",
        "device = torch.device(\"cuda:0\" if torch.cuda.is_available() else 'cup')"
      ],
      "execution_count": 0,
      "outputs": []
    },
    {
      "cell_type": "code",
      "metadata": {
        "id": "XR9myb_cv93c",
        "colab_type": "code",
        "colab": {}
      },
      "source": [
        "model = MyModel()\n",
        "model = model.to(device)\n",
        "criterion = nn.CrossEntropyLoss()\n",
        "optimizer = torch.optim.Adam(model.parameters(), lr=learning_rate)"
      ],
      "execution_count": 0,
      "outputs": []
    },
    {
      "cell_type": "code",
      "metadata": {
        "id": "PZiEZ5-0wZP-",
        "colab_type": "code",
        "colab": {}
      },
      "source": [
        "# utility function of accuracy for each batch\n",
        "def get_accuracy(output, target, batch_size):\n",
        "  corrects = (torch.max(output, dim=1)[1].view(target.size()).data == target.data).sum()\n",
        "  accuracy = 100. * corrects/batch_size\n",
        "  return accuracy.item() \n"
      ],
      "execution_count": 0,
      "outputs": []
    },
    {
      "cell_type": "code",
      "metadata": {
        "id": "uxVYFeIpxNDQ",
        "colab_type": "code",
        "colab": {
          "base_uri": "https://localhost:8080/",
          "height": 102
        },
        "outputId": "e393ce8f-0b65-4f37-f735-0dfc87a6eb59"
      },
      "source": [
        "for epoch in range(1, num_epochs+1):\n",
        "  train_running_loss = 0.0\n",
        "  train_acc = 0.0\n",
        "  model = model.train()\n",
        "\n",
        "  for i, (images, labels) in enumerate(trainloader):\n",
        "    images = images.to(device)\n",
        "    labels = labels.to(device)\n",
        "    predictions = model(images)\n",
        "    loss = criterion(predictions, labels)\n",
        "    optimizer.zero_grad()\n",
        "    loss.backward()\n",
        "    optimizer.step()\n",
        "\n",
        "    train_running_loss += loss.detach().item()\n",
        "    train_acc += get_accuracy(predictions, labels, BATCH_SIZE)\n",
        "  \n",
        "  model.eval()\n",
        "  print('Epoch: {:d} | Train Loss: {:.4f} | Train Accuracy: {:.2f}%'.format(epoch, train_running_loss/i, train_acc/i))"
      ],
      "execution_count": 63,
      "outputs": [
        {
          "output_type": "stream",
          "text": [
            "Epoch: 1 | Train Loss: 1.5943 | Train Accuracy: 89.03%\n",
            "Epoch: 2 | Train Loss: 1.5291 | Train Accuracy: 93.94%\n",
            "Epoch: 3 | Train Loss: 1.5141 | Train Accuracy: 95.31%\n",
            "Epoch: 4 | Train Loss: 1.5057 | Train Accuracy: 96.04%\n",
            "Epoch: 5 | Train Loss: 1.5005 | Train Accuracy: 96.48%\n"
          ],
          "name": "stdout"
        }
      ]
    },
    {
      "cell_type": "code",
      "metadata": {
        "id": "QN6xiz6_0u9d",
        "colab_type": "code",
        "colab": {
          "base_uri": "https://localhost:8080/",
          "height": 34
        },
        "outputId": "30a13b57-734c-4d35-add0-92fd67b8b62b"
      },
      "source": [
        "test_acc = 0.0\n",
        "for i, (images, labels) in enumerate(testloader, 0):\n",
        "    images = images.to(device)\n",
        "    labels = labels.to(device)\n",
        "    outputs = model(images)\n",
        "    test_acc += get_accuracy(outputs, labels, BATCH_SIZE)\n",
        "        \n",
        "print('Test Accuracy: {:.2f}%'.format( test_acc/i))"
      ],
      "execution_count": 64,
      "outputs": [
        {
          "output_type": "stream",
          "text": [
            "Test Accuracy: 96.67%\n"
          ],
          "name": "stdout"
        }
      ]
    },
    {
      "cell_type": "code",
      "metadata": {
        "id": "iEfL2Zwp15ig",
        "colab_type": "code",
        "colab": {}
      },
      "source": [
        ""
      ],
      "execution_count": 0,
      "outputs": []
    }
  ]
}