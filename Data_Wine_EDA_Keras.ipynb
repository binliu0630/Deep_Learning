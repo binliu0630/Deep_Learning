{
  "nbformat": 4,
  "nbformat_minor": 0,
  "metadata": {
    "colab": {
      "name": "Data_Wine_EDA_Keras.ipynb",
      "version": "0.3.2",
      "provenance": [],
      "include_colab_link": true
    },
    "kernelspec": {
      "name": "python3",
      "display_name": "Python 3"
    }
  },
  "cells": [
    {
      "cell_type": "markdown",
      "metadata": {
        "id": "view-in-github",
        "colab_type": "text"
      },
      "source": [
        "<a href=\"https://colab.research.google.com/github/smitaforward/Data_Science/blob/master/Data_Wine_EDA_Keras.ipynb\" target=\"_parent\"><img src=\"https://colab.research.google.com/assets/colab-badge.svg\" alt=\"Open In Colab\"/></a>"
      ]
    },
    {
      "metadata": {
        "id": "3qKb5EqB1de5",
        "colab_type": "text"
      },
      "cell_type": "markdown",
      "source": [
        "https://www.datacamp.com/community/tutorials/deep-learning-python"
      ]
    },
    {
      "metadata": {
        "id": "WdRLDJ-XYv7H",
        "colab_type": "code",
        "colab": {}
      },
      "cell_type": "code",
      "source": [
        "import pandas as pd\n",
        "import numpy as np\n",
        "import matplotlib.pyplot as plt\n",
        "%matplotlib inline\n"
      ],
      "execution_count": 0,
      "outputs": []
    },
    {
      "metadata": {
        "id": "xqObDXf4ZFLL",
        "colab_type": "code",
        "colab": {}
      },
      "cell_type": "code",
      "source": [
        "# Read in white wine data \n",
        "white =pd.read_csv(\"http://archive.ics.uci.edu/ml/machine-learning-databases/wine-quality/winequality-white.csv\", sep=';')\n",
        "# Read in red wine data\n",
        "red = pd.read_csv(\"http://archive.ics.uci.edu/ml/machine-learning-databases/wine-quality/winequality-red.csv\", sep=';')"
      ],
      "execution_count": 0,
      "outputs": []
    },
    {
      "metadata": {
        "id": "2OAlrdQFZgBw",
        "colab_type": "text"
      },
      "cell_type": "markdown",
      "source": [
        "**EDA**"
      ]
    },
    {
      "metadata": {
        "id": "ebhGPlFRZHfa",
        "colab_type": "code",
        "colab": {
          "base_uri": "https://localhost:8080/",
          "height": 306
        },
        "outputId": "5bb2378f-6869-4087-831a-759d33c98925"
      },
      "cell_type": "code",
      "source": [
        "white.info()"
      ],
      "execution_count": 6,
      "outputs": [
        {
          "output_type": "stream",
          "text": [
            "<class 'pandas.core.frame.DataFrame'>\n",
            "RangeIndex: 4898 entries, 0 to 4897\n",
            "Data columns (total 12 columns):\n",
            "fixed acidity           4898 non-null float64\n",
            "volatile acidity        4898 non-null float64\n",
            "citric acid             4898 non-null float64\n",
            "residual sugar          4898 non-null float64\n",
            "chlorides               4898 non-null float64\n",
            "free sulfur dioxide     4898 non-null float64\n",
            "total sulfur dioxide    4898 non-null float64\n",
            "density                 4898 non-null float64\n",
            "pH                      4898 non-null float64\n",
            "sulphates               4898 non-null float64\n",
            "alcohol                 4898 non-null float64\n",
            "quality                 4898 non-null int64\n",
            "dtypes: float64(11), int64(1)\n",
            "memory usage: 459.3 KB\n"
          ],
          "name": "stdout"
        }
      ]
    },
    {
      "metadata": {
        "id": "03YllnzBZJuJ",
        "colab_type": "code",
        "colab": {
          "base_uri": "https://localhost:8080/",
          "height": 306
        },
        "outputId": "2e691e54-dbaf-4796-b56f-c846ab32a7e9"
      },
      "cell_type": "code",
      "source": [
        "red.info()"
      ],
      "execution_count": 8,
      "outputs": [
        {
          "output_type": "stream",
          "text": [
            "<class 'pandas.core.frame.DataFrame'>\n",
            "RangeIndex: 1599 entries, 0 to 1598\n",
            "Data columns (total 12 columns):\n",
            "fixed acidity           1599 non-null float64\n",
            "volatile acidity        1599 non-null float64\n",
            "citric acid             1599 non-null float64\n",
            "residual sugar          1599 non-null float64\n",
            "chlorides               1599 non-null float64\n",
            "free sulfur dioxide     1599 non-null float64\n",
            "total sulfur dioxide    1599 non-null float64\n",
            "density                 1599 non-null float64\n",
            "pH                      1599 non-null float64\n",
            "sulphates               1599 non-null float64\n",
            "alcohol                 1599 non-null float64\n",
            "quality                 1599 non-null int64\n",
            "dtypes: float64(11), int64(1)\n",
            "memory usage: 150.0 KB\n"
          ],
          "name": "stdout"
        }
      ]
    },
    {
      "metadata": {
        "id": "R1v1AP8BZcUR",
        "colab_type": "code",
        "colab": {
          "base_uri": "https://localhost:8080/",
          "height": 204
        },
        "outputId": "d2e68da8-ee8c-4936-cd6f-04d15373bac4"
      },
      "cell_type": "code",
      "source": [
        "white.head()"
      ],
      "execution_count": 9,
      "outputs": [
        {
          "output_type": "execute_result",
          "data": {
            "text/html": [
              "<div>\n",
              "<style scoped>\n",
              "    .dataframe tbody tr th:only-of-type {\n",
              "        vertical-align: middle;\n",
              "    }\n",
              "\n",
              "    .dataframe tbody tr th {\n",
              "        vertical-align: top;\n",
              "    }\n",
              "\n",
              "    .dataframe thead th {\n",
              "        text-align: right;\n",
              "    }\n",
              "</style>\n",
              "<table border=\"1\" class=\"dataframe\">\n",
              "  <thead>\n",
              "    <tr style=\"text-align: right;\">\n",
              "      <th></th>\n",
              "      <th>fixed acidity</th>\n",
              "      <th>volatile acidity</th>\n",
              "      <th>citric acid</th>\n",
              "      <th>residual sugar</th>\n",
              "      <th>chlorides</th>\n",
              "      <th>free sulfur dioxide</th>\n",
              "      <th>total sulfur dioxide</th>\n",
              "      <th>density</th>\n",
              "      <th>pH</th>\n",
              "      <th>sulphates</th>\n",
              "      <th>alcohol</th>\n",
              "      <th>quality</th>\n",
              "    </tr>\n",
              "  </thead>\n",
              "  <tbody>\n",
              "    <tr>\n",
              "      <th>0</th>\n",
              "      <td>7.0</td>\n",
              "      <td>0.27</td>\n",
              "      <td>0.36</td>\n",
              "      <td>20.7</td>\n",
              "      <td>0.045</td>\n",
              "      <td>45.0</td>\n",
              "      <td>170.0</td>\n",
              "      <td>1.0010</td>\n",
              "      <td>3.00</td>\n",
              "      <td>0.45</td>\n",
              "      <td>8.8</td>\n",
              "      <td>6</td>\n",
              "    </tr>\n",
              "    <tr>\n",
              "      <th>1</th>\n",
              "      <td>6.3</td>\n",
              "      <td>0.30</td>\n",
              "      <td>0.34</td>\n",
              "      <td>1.6</td>\n",
              "      <td>0.049</td>\n",
              "      <td>14.0</td>\n",
              "      <td>132.0</td>\n",
              "      <td>0.9940</td>\n",
              "      <td>3.30</td>\n",
              "      <td>0.49</td>\n",
              "      <td>9.5</td>\n",
              "      <td>6</td>\n",
              "    </tr>\n",
              "    <tr>\n",
              "      <th>2</th>\n",
              "      <td>8.1</td>\n",
              "      <td>0.28</td>\n",
              "      <td>0.40</td>\n",
              "      <td>6.9</td>\n",
              "      <td>0.050</td>\n",
              "      <td>30.0</td>\n",
              "      <td>97.0</td>\n",
              "      <td>0.9951</td>\n",
              "      <td>3.26</td>\n",
              "      <td>0.44</td>\n",
              "      <td>10.1</td>\n",
              "      <td>6</td>\n",
              "    </tr>\n",
              "    <tr>\n",
              "      <th>3</th>\n",
              "      <td>7.2</td>\n",
              "      <td>0.23</td>\n",
              "      <td>0.32</td>\n",
              "      <td>8.5</td>\n",
              "      <td>0.058</td>\n",
              "      <td>47.0</td>\n",
              "      <td>186.0</td>\n",
              "      <td>0.9956</td>\n",
              "      <td>3.19</td>\n",
              "      <td>0.40</td>\n",
              "      <td>9.9</td>\n",
              "      <td>6</td>\n",
              "    </tr>\n",
              "    <tr>\n",
              "      <th>4</th>\n",
              "      <td>7.2</td>\n",
              "      <td>0.23</td>\n",
              "      <td>0.32</td>\n",
              "      <td>8.5</td>\n",
              "      <td>0.058</td>\n",
              "      <td>47.0</td>\n",
              "      <td>186.0</td>\n",
              "      <td>0.9956</td>\n",
              "      <td>3.19</td>\n",
              "      <td>0.40</td>\n",
              "      <td>9.9</td>\n",
              "      <td>6</td>\n",
              "    </tr>\n",
              "  </tbody>\n",
              "</table>\n",
              "</div>"
            ],
            "text/plain": [
              "   fixed acidity  volatile acidity  citric acid  residual sugar  chlorides  \\\n",
              "0            7.0              0.27         0.36            20.7      0.045   \n",
              "1            6.3              0.30         0.34             1.6      0.049   \n",
              "2            8.1              0.28         0.40             6.9      0.050   \n",
              "3            7.2              0.23         0.32             8.5      0.058   \n",
              "4            7.2              0.23         0.32             8.5      0.058   \n",
              "\n",
              "   free sulfur dioxide  total sulfur dioxide  density    pH  sulphates  \\\n",
              "0                 45.0                 170.0   1.0010  3.00       0.45   \n",
              "1                 14.0                 132.0   0.9940  3.30       0.49   \n",
              "2                 30.0                  97.0   0.9951  3.26       0.44   \n",
              "3                 47.0                 186.0   0.9956  3.19       0.40   \n",
              "4                 47.0                 186.0   0.9956  3.19       0.40   \n",
              "\n",
              "   alcohol  quality  \n",
              "0      8.8        6  \n",
              "1      9.5        6  \n",
              "2     10.1        6  \n",
              "3      9.9        6  \n",
              "4      9.9        6  "
            ]
          },
          "metadata": {
            "tags": []
          },
          "execution_count": 9
        }
      ]
    },
    {
      "metadata": {
        "id": "PLVemRdSZpM1",
        "colab_type": "code",
        "colab": {
          "base_uri": "https://localhost:8080/",
          "height": 204
        },
        "outputId": "c0ded458-9241-4caa-97e4-46a102aae992"
      },
      "cell_type": "code",
      "source": [
        "red.head()"
      ],
      "execution_count": 10,
      "outputs": [
        {
          "output_type": "execute_result",
          "data": {
            "text/html": [
              "<div>\n",
              "<style scoped>\n",
              "    .dataframe tbody tr th:only-of-type {\n",
              "        vertical-align: middle;\n",
              "    }\n",
              "\n",
              "    .dataframe tbody tr th {\n",
              "        vertical-align: top;\n",
              "    }\n",
              "\n",
              "    .dataframe thead th {\n",
              "        text-align: right;\n",
              "    }\n",
              "</style>\n",
              "<table border=\"1\" class=\"dataframe\">\n",
              "  <thead>\n",
              "    <tr style=\"text-align: right;\">\n",
              "      <th></th>\n",
              "      <th>fixed acidity</th>\n",
              "      <th>volatile acidity</th>\n",
              "      <th>citric acid</th>\n",
              "      <th>residual sugar</th>\n",
              "      <th>chlorides</th>\n",
              "      <th>free sulfur dioxide</th>\n",
              "      <th>total sulfur dioxide</th>\n",
              "      <th>density</th>\n",
              "      <th>pH</th>\n",
              "      <th>sulphates</th>\n",
              "      <th>alcohol</th>\n",
              "      <th>quality</th>\n",
              "    </tr>\n",
              "  </thead>\n",
              "  <tbody>\n",
              "    <tr>\n",
              "      <th>0</th>\n",
              "      <td>7.4</td>\n",
              "      <td>0.70</td>\n",
              "      <td>0.00</td>\n",
              "      <td>1.9</td>\n",
              "      <td>0.076</td>\n",
              "      <td>11.0</td>\n",
              "      <td>34.0</td>\n",
              "      <td>0.9978</td>\n",
              "      <td>3.51</td>\n",
              "      <td>0.56</td>\n",
              "      <td>9.4</td>\n",
              "      <td>5</td>\n",
              "    </tr>\n",
              "    <tr>\n",
              "      <th>1</th>\n",
              "      <td>7.8</td>\n",
              "      <td>0.88</td>\n",
              "      <td>0.00</td>\n",
              "      <td>2.6</td>\n",
              "      <td>0.098</td>\n",
              "      <td>25.0</td>\n",
              "      <td>67.0</td>\n",
              "      <td>0.9968</td>\n",
              "      <td>3.20</td>\n",
              "      <td>0.68</td>\n",
              "      <td>9.8</td>\n",
              "      <td>5</td>\n",
              "    </tr>\n",
              "    <tr>\n",
              "      <th>2</th>\n",
              "      <td>7.8</td>\n",
              "      <td>0.76</td>\n",
              "      <td>0.04</td>\n",
              "      <td>2.3</td>\n",
              "      <td>0.092</td>\n",
              "      <td>15.0</td>\n",
              "      <td>54.0</td>\n",
              "      <td>0.9970</td>\n",
              "      <td>3.26</td>\n",
              "      <td>0.65</td>\n",
              "      <td>9.8</td>\n",
              "      <td>5</td>\n",
              "    </tr>\n",
              "    <tr>\n",
              "      <th>3</th>\n",
              "      <td>11.2</td>\n",
              "      <td>0.28</td>\n",
              "      <td>0.56</td>\n",
              "      <td>1.9</td>\n",
              "      <td>0.075</td>\n",
              "      <td>17.0</td>\n",
              "      <td>60.0</td>\n",
              "      <td>0.9980</td>\n",
              "      <td>3.16</td>\n",
              "      <td>0.58</td>\n",
              "      <td>9.8</td>\n",
              "      <td>6</td>\n",
              "    </tr>\n",
              "    <tr>\n",
              "      <th>4</th>\n",
              "      <td>7.4</td>\n",
              "      <td>0.70</td>\n",
              "      <td>0.00</td>\n",
              "      <td>1.9</td>\n",
              "      <td>0.076</td>\n",
              "      <td>11.0</td>\n",
              "      <td>34.0</td>\n",
              "      <td>0.9978</td>\n",
              "      <td>3.51</td>\n",
              "      <td>0.56</td>\n",
              "      <td>9.4</td>\n",
              "      <td>5</td>\n",
              "    </tr>\n",
              "  </tbody>\n",
              "</table>\n",
              "</div>"
            ],
            "text/plain": [
              "   fixed acidity  volatile acidity  citric acid  residual sugar  chlorides  \\\n",
              "0            7.4              0.70         0.00             1.9      0.076   \n",
              "1            7.8              0.88         0.00             2.6      0.098   \n",
              "2            7.8              0.76         0.04             2.3      0.092   \n",
              "3           11.2              0.28         0.56             1.9      0.075   \n",
              "4            7.4              0.70         0.00             1.9      0.076   \n",
              "\n",
              "   free sulfur dioxide  total sulfur dioxide  density    pH  sulphates  \\\n",
              "0                 11.0                  34.0   0.9978  3.51       0.56   \n",
              "1                 25.0                  67.0   0.9968  3.20       0.68   \n",
              "2                 15.0                  54.0   0.9970  3.26       0.65   \n",
              "3                 17.0                  60.0   0.9980  3.16       0.58   \n",
              "4                 11.0                  34.0   0.9978  3.51       0.56   \n",
              "\n",
              "   alcohol  quality  \n",
              "0      9.4        5  \n",
              "1      9.8        5  \n",
              "2      9.8        5  \n",
              "3      9.8        6  \n",
              "4      9.4        5  "
            ]
          },
          "metadata": {
            "tags": []
          },
          "execution_count": 10
        }
      ]
    },
    {
      "metadata": {
        "id": "jX9f6lDEZsht",
        "colab_type": "code",
        "colab": {
          "base_uri": "https://localhost:8080/",
          "height": 204
        },
        "outputId": "d69c0f6f-2fb2-4c44-b55d-09aad5b35eea"
      },
      "cell_type": "code",
      "source": [
        "white.tail()"
      ],
      "execution_count": 11,
      "outputs": [
        {
          "output_type": "execute_result",
          "data": {
            "text/html": [
              "<div>\n",
              "<style scoped>\n",
              "    .dataframe tbody tr th:only-of-type {\n",
              "        vertical-align: middle;\n",
              "    }\n",
              "\n",
              "    .dataframe tbody tr th {\n",
              "        vertical-align: top;\n",
              "    }\n",
              "\n",
              "    .dataframe thead th {\n",
              "        text-align: right;\n",
              "    }\n",
              "</style>\n",
              "<table border=\"1\" class=\"dataframe\">\n",
              "  <thead>\n",
              "    <tr style=\"text-align: right;\">\n",
              "      <th></th>\n",
              "      <th>fixed acidity</th>\n",
              "      <th>volatile acidity</th>\n",
              "      <th>citric acid</th>\n",
              "      <th>residual sugar</th>\n",
              "      <th>chlorides</th>\n",
              "      <th>free sulfur dioxide</th>\n",
              "      <th>total sulfur dioxide</th>\n",
              "      <th>density</th>\n",
              "      <th>pH</th>\n",
              "      <th>sulphates</th>\n",
              "      <th>alcohol</th>\n",
              "      <th>quality</th>\n",
              "    </tr>\n",
              "  </thead>\n",
              "  <tbody>\n",
              "    <tr>\n",
              "      <th>4893</th>\n",
              "      <td>6.2</td>\n",
              "      <td>0.21</td>\n",
              "      <td>0.29</td>\n",
              "      <td>1.6</td>\n",
              "      <td>0.039</td>\n",
              "      <td>24.0</td>\n",
              "      <td>92.0</td>\n",
              "      <td>0.99114</td>\n",
              "      <td>3.27</td>\n",
              "      <td>0.50</td>\n",
              "      <td>11.2</td>\n",
              "      <td>6</td>\n",
              "    </tr>\n",
              "    <tr>\n",
              "      <th>4894</th>\n",
              "      <td>6.6</td>\n",
              "      <td>0.32</td>\n",
              "      <td>0.36</td>\n",
              "      <td>8.0</td>\n",
              "      <td>0.047</td>\n",
              "      <td>57.0</td>\n",
              "      <td>168.0</td>\n",
              "      <td>0.99490</td>\n",
              "      <td>3.15</td>\n",
              "      <td>0.46</td>\n",
              "      <td>9.6</td>\n",
              "      <td>5</td>\n",
              "    </tr>\n",
              "    <tr>\n",
              "      <th>4895</th>\n",
              "      <td>6.5</td>\n",
              "      <td>0.24</td>\n",
              "      <td>0.19</td>\n",
              "      <td>1.2</td>\n",
              "      <td>0.041</td>\n",
              "      <td>30.0</td>\n",
              "      <td>111.0</td>\n",
              "      <td>0.99254</td>\n",
              "      <td>2.99</td>\n",
              "      <td>0.46</td>\n",
              "      <td>9.4</td>\n",
              "      <td>6</td>\n",
              "    </tr>\n",
              "    <tr>\n",
              "      <th>4896</th>\n",
              "      <td>5.5</td>\n",
              "      <td>0.29</td>\n",
              "      <td>0.30</td>\n",
              "      <td>1.1</td>\n",
              "      <td>0.022</td>\n",
              "      <td>20.0</td>\n",
              "      <td>110.0</td>\n",
              "      <td>0.98869</td>\n",
              "      <td>3.34</td>\n",
              "      <td>0.38</td>\n",
              "      <td>12.8</td>\n",
              "      <td>7</td>\n",
              "    </tr>\n",
              "    <tr>\n",
              "      <th>4897</th>\n",
              "      <td>6.0</td>\n",
              "      <td>0.21</td>\n",
              "      <td>0.38</td>\n",
              "      <td>0.8</td>\n",
              "      <td>0.020</td>\n",
              "      <td>22.0</td>\n",
              "      <td>98.0</td>\n",
              "      <td>0.98941</td>\n",
              "      <td>3.26</td>\n",
              "      <td>0.32</td>\n",
              "      <td>11.8</td>\n",
              "      <td>6</td>\n",
              "    </tr>\n",
              "  </tbody>\n",
              "</table>\n",
              "</div>"
            ],
            "text/plain": [
              "      fixed acidity  volatile acidity  citric acid  residual sugar  chlorides  \\\n",
              "4893            6.2              0.21         0.29             1.6      0.039   \n",
              "4894            6.6              0.32         0.36             8.0      0.047   \n",
              "4895            6.5              0.24         0.19             1.2      0.041   \n",
              "4896            5.5              0.29         0.30             1.1      0.022   \n",
              "4897            6.0              0.21         0.38             0.8      0.020   \n",
              "\n",
              "      free sulfur dioxide  total sulfur dioxide  density    pH  sulphates  \\\n",
              "4893                 24.0                  92.0  0.99114  3.27       0.50   \n",
              "4894                 57.0                 168.0  0.99490  3.15       0.46   \n",
              "4895                 30.0                 111.0  0.99254  2.99       0.46   \n",
              "4896                 20.0                 110.0  0.98869  3.34       0.38   \n",
              "4897                 22.0                  98.0  0.98941  3.26       0.32   \n",
              "\n",
              "      alcohol  quality  \n",
              "4893     11.2        6  \n",
              "4894      9.6        5  \n",
              "4895      9.4        6  \n",
              "4896     12.8        7  \n",
              "4897     11.8        6  "
            ]
          },
          "metadata": {
            "tags": []
          },
          "execution_count": 11
        }
      ]
    },
    {
      "metadata": {
        "id": "QQMDs9WcZuA9",
        "colab_type": "code",
        "colab": {
          "base_uri": "https://localhost:8080/",
          "height": 204
        },
        "outputId": "37da602c-ce93-4757-ff4b-aa77e255c3c3"
      },
      "cell_type": "code",
      "source": [
        "white.head()"
      ],
      "execution_count": 12,
      "outputs": [
        {
          "output_type": "execute_result",
          "data": {
            "text/html": [
              "<div>\n",
              "<style scoped>\n",
              "    .dataframe tbody tr th:only-of-type {\n",
              "        vertical-align: middle;\n",
              "    }\n",
              "\n",
              "    .dataframe tbody tr th {\n",
              "        vertical-align: top;\n",
              "    }\n",
              "\n",
              "    .dataframe thead th {\n",
              "        text-align: right;\n",
              "    }\n",
              "</style>\n",
              "<table border=\"1\" class=\"dataframe\">\n",
              "  <thead>\n",
              "    <tr style=\"text-align: right;\">\n",
              "      <th></th>\n",
              "      <th>fixed acidity</th>\n",
              "      <th>volatile acidity</th>\n",
              "      <th>citric acid</th>\n",
              "      <th>residual sugar</th>\n",
              "      <th>chlorides</th>\n",
              "      <th>free sulfur dioxide</th>\n",
              "      <th>total sulfur dioxide</th>\n",
              "      <th>density</th>\n",
              "      <th>pH</th>\n",
              "      <th>sulphates</th>\n",
              "      <th>alcohol</th>\n",
              "      <th>quality</th>\n",
              "    </tr>\n",
              "  </thead>\n",
              "  <tbody>\n",
              "    <tr>\n",
              "      <th>0</th>\n",
              "      <td>7.0</td>\n",
              "      <td>0.27</td>\n",
              "      <td>0.36</td>\n",
              "      <td>20.7</td>\n",
              "      <td>0.045</td>\n",
              "      <td>45.0</td>\n",
              "      <td>170.0</td>\n",
              "      <td>1.0010</td>\n",
              "      <td>3.00</td>\n",
              "      <td>0.45</td>\n",
              "      <td>8.8</td>\n",
              "      <td>6</td>\n",
              "    </tr>\n",
              "    <tr>\n",
              "      <th>1</th>\n",
              "      <td>6.3</td>\n",
              "      <td>0.30</td>\n",
              "      <td>0.34</td>\n",
              "      <td>1.6</td>\n",
              "      <td>0.049</td>\n",
              "      <td>14.0</td>\n",
              "      <td>132.0</td>\n",
              "      <td>0.9940</td>\n",
              "      <td>3.30</td>\n",
              "      <td>0.49</td>\n",
              "      <td>9.5</td>\n",
              "      <td>6</td>\n",
              "    </tr>\n",
              "    <tr>\n",
              "      <th>2</th>\n",
              "      <td>8.1</td>\n",
              "      <td>0.28</td>\n",
              "      <td>0.40</td>\n",
              "      <td>6.9</td>\n",
              "      <td>0.050</td>\n",
              "      <td>30.0</td>\n",
              "      <td>97.0</td>\n",
              "      <td>0.9951</td>\n",
              "      <td>3.26</td>\n",
              "      <td>0.44</td>\n",
              "      <td>10.1</td>\n",
              "      <td>6</td>\n",
              "    </tr>\n",
              "    <tr>\n",
              "      <th>3</th>\n",
              "      <td>7.2</td>\n",
              "      <td>0.23</td>\n",
              "      <td>0.32</td>\n",
              "      <td>8.5</td>\n",
              "      <td>0.058</td>\n",
              "      <td>47.0</td>\n",
              "      <td>186.0</td>\n",
              "      <td>0.9956</td>\n",
              "      <td>3.19</td>\n",
              "      <td>0.40</td>\n",
              "      <td>9.9</td>\n",
              "      <td>6</td>\n",
              "    </tr>\n",
              "    <tr>\n",
              "      <th>4</th>\n",
              "      <td>7.2</td>\n",
              "      <td>0.23</td>\n",
              "      <td>0.32</td>\n",
              "      <td>8.5</td>\n",
              "      <td>0.058</td>\n",
              "      <td>47.0</td>\n",
              "      <td>186.0</td>\n",
              "      <td>0.9956</td>\n",
              "      <td>3.19</td>\n",
              "      <td>0.40</td>\n",
              "      <td>9.9</td>\n",
              "      <td>6</td>\n",
              "    </tr>\n",
              "  </tbody>\n",
              "</table>\n",
              "</div>"
            ],
            "text/plain": [
              "   fixed acidity  volatile acidity  citric acid  residual sugar  chlorides  \\\n",
              "0            7.0              0.27         0.36            20.7      0.045   \n",
              "1            6.3              0.30         0.34             1.6      0.049   \n",
              "2            8.1              0.28         0.40             6.9      0.050   \n",
              "3            7.2              0.23         0.32             8.5      0.058   \n",
              "4            7.2              0.23         0.32             8.5      0.058   \n",
              "\n",
              "   free sulfur dioxide  total sulfur dioxide  density    pH  sulphates  \\\n",
              "0                 45.0                 170.0   1.0010  3.00       0.45   \n",
              "1                 14.0                 132.0   0.9940  3.30       0.49   \n",
              "2                 30.0                  97.0   0.9951  3.26       0.44   \n",
              "3                 47.0                 186.0   0.9956  3.19       0.40   \n",
              "4                 47.0                 186.0   0.9956  3.19       0.40   \n",
              "\n",
              "   alcohol  quality  \n",
              "0      8.8        6  \n",
              "1      9.5        6  \n",
              "2     10.1        6  \n",
              "3      9.9        6  \n",
              "4      9.9        6  "
            ]
          },
          "metadata": {
            "tags": []
          },
          "execution_count": 12
        }
      ]
    },
    {
      "metadata": {
        "id": "lRGPVFlpZwj1",
        "colab_type": "code",
        "colab": {
          "base_uri": "https://localhost:8080/",
          "height": 204
        },
        "outputId": "3b760e61-f57c-4cf1-88d3-62abdc02cfbd"
      },
      "cell_type": "code",
      "source": [
        "# take a few sample\n",
        "red.sample(5)"
      ],
      "execution_count": 13,
      "outputs": [
        {
          "output_type": "execute_result",
          "data": {
            "text/html": [
              "<div>\n",
              "<style scoped>\n",
              "    .dataframe tbody tr th:only-of-type {\n",
              "        vertical-align: middle;\n",
              "    }\n",
              "\n",
              "    .dataframe tbody tr th {\n",
              "        vertical-align: top;\n",
              "    }\n",
              "\n",
              "    .dataframe thead th {\n",
              "        text-align: right;\n",
              "    }\n",
              "</style>\n",
              "<table border=\"1\" class=\"dataframe\">\n",
              "  <thead>\n",
              "    <tr style=\"text-align: right;\">\n",
              "      <th></th>\n",
              "      <th>fixed acidity</th>\n",
              "      <th>volatile acidity</th>\n",
              "      <th>citric acid</th>\n",
              "      <th>residual sugar</th>\n",
              "      <th>chlorides</th>\n",
              "      <th>free sulfur dioxide</th>\n",
              "      <th>total sulfur dioxide</th>\n",
              "      <th>density</th>\n",
              "      <th>pH</th>\n",
              "      <th>sulphates</th>\n",
              "      <th>alcohol</th>\n",
              "      <th>quality</th>\n",
              "    </tr>\n",
              "  </thead>\n",
              "  <tbody>\n",
              "    <tr>\n",
              "      <th>1175</th>\n",
              "      <td>6.5</td>\n",
              "      <td>0.610</td>\n",
              "      <td>0.00</td>\n",
              "      <td>2.20</td>\n",
              "      <td>0.095</td>\n",
              "      <td>48.0</td>\n",
              "      <td>59.0</td>\n",
              "      <td>0.99541</td>\n",
              "      <td>3.61</td>\n",
              "      <td>0.70</td>\n",
              "      <td>11.5</td>\n",
              "      <td>6</td>\n",
              "    </tr>\n",
              "    <tr>\n",
              "      <th>1452</th>\n",
              "      <td>6.6</td>\n",
              "      <td>0.580</td>\n",
              "      <td>0.02</td>\n",
              "      <td>2.00</td>\n",
              "      <td>0.062</td>\n",
              "      <td>37.0</td>\n",
              "      <td>53.0</td>\n",
              "      <td>0.99374</td>\n",
              "      <td>3.35</td>\n",
              "      <td>0.76</td>\n",
              "      <td>11.6</td>\n",
              "      <td>7</td>\n",
              "    </tr>\n",
              "    <tr>\n",
              "      <th>266</th>\n",
              "      <td>8.1</td>\n",
              "      <td>0.870</td>\n",
              "      <td>0.00</td>\n",
              "      <td>3.30</td>\n",
              "      <td>0.096</td>\n",
              "      <td>26.0</td>\n",
              "      <td>61.0</td>\n",
              "      <td>1.00025</td>\n",
              "      <td>3.60</td>\n",
              "      <td>0.72</td>\n",
              "      <td>9.8</td>\n",
              "      <td>4</td>\n",
              "    </tr>\n",
              "    <tr>\n",
              "      <th>30</th>\n",
              "      <td>6.7</td>\n",
              "      <td>0.675</td>\n",
              "      <td>0.07</td>\n",
              "      <td>2.40</td>\n",
              "      <td>0.089</td>\n",
              "      <td>17.0</td>\n",
              "      <td>82.0</td>\n",
              "      <td>0.99580</td>\n",
              "      <td>3.35</td>\n",
              "      <td>0.54</td>\n",
              "      <td>10.1</td>\n",
              "      <td>5</td>\n",
              "    </tr>\n",
              "    <tr>\n",
              "      <th>1156</th>\n",
              "      <td>8.5</td>\n",
              "      <td>0.180</td>\n",
              "      <td>0.51</td>\n",
              "      <td>1.75</td>\n",
              "      <td>0.071</td>\n",
              "      <td>45.0</td>\n",
              "      <td>88.0</td>\n",
              "      <td>0.99524</td>\n",
              "      <td>3.33</td>\n",
              "      <td>0.76</td>\n",
              "      <td>11.8</td>\n",
              "      <td>7</td>\n",
              "    </tr>\n",
              "  </tbody>\n",
              "</table>\n",
              "</div>"
            ],
            "text/plain": [
              "      fixed acidity  volatile acidity  citric acid  residual sugar  chlorides  \\\n",
              "1175            6.5             0.610         0.00            2.20      0.095   \n",
              "1452            6.6             0.580         0.02            2.00      0.062   \n",
              "266             8.1             0.870         0.00            3.30      0.096   \n",
              "30              6.7             0.675         0.07            2.40      0.089   \n",
              "1156            8.5             0.180         0.51            1.75      0.071   \n",
              "\n",
              "      free sulfur dioxide  total sulfur dioxide  density    pH  sulphates  \\\n",
              "1175                 48.0                  59.0  0.99541  3.61       0.70   \n",
              "1452                 37.0                  53.0  0.99374  3.35       0.76   \n",
              "266                  26.0                  61.0  1.00025  3.60       0.72   \n",
              "30                   17.0                  82.0  0.99580  3.35       0.54   \n",
              "1156                 45.0                  88.0  0.99524  3.33       0.76   \n",
              "\n",
              "      alcohol  quality  \n",
              "1175     11.5        6  \n",
              "1452     11.6        7  \n",
              "266       9.8        4  \n",
              "30       10.1        5  \n",
              "1156     11.8        7  "
            ]
          },
          "metadata": {
            "tags": []
          },
          "execution_count": 13
        }
      ]
    },
    {
      "metadata": {
        "id": "f8bmmUvqZ48k",
        "colab_type": "code",
        "colab": {
          "base_uri": "https://localhost:8080/",
          "height": 297
        },
        "outputId": "7124666b-eabe-4293-f82d-015bbbba993c"
      },
      "cell_type": "code",
      "source": [
        "# \n",
        "white.describe()"
      ],
      "execution_count": 14,
      "outputs": [
        {
          "output_type": "execute_result",
          "data": {
            "text/html": [
              "<div>\n",
              "<style scoped>\n",
              "    .dataframe tbody tr th:only-of-type {\n",
              "        vertical-align: middle;\n",
              "    }\n",
              "\n",
              "    .dataframe tbody tr th {\n",
              "        vertical-align: top;\n",
              "    }\n",
              "\n",
              "    .dataframe thead th {\n",
              "        text-align: right;\n",
              "    }\n",
              "</style>\n",
              "<table border=\"1\" class=\"dataframe\">\n",
              "  <thead>\n",
              "    <tr style=\"text-align: right;\">\n",
              "      <th></th>\n",
              "      <th>fixed acidity</th>\n",
              "      <th>volatile acidity</th>\n",
              "      <th>citric acid</th>\n",
              "      <th>residual sugar</th>\n",
              "      <th>chlorides</th>\n",
              "      <th>free sulfur dioxide</th>\n",
              "      <th>total sulfur dioxide</th>\n",
              "      <th>density</th>\n",
              "      <th>pH</th>\n",
              "      <th>sulphates</th>\n",
              "      <th>alcohol</th>\n",
              "      <th>quality</th>\n",
              "    </tr>\n",
              "  </thead>\n",
              "  <tbody>\n",
              "    <tr>\n",
              "      <th>count</th>\n",
              "      <td>4898.000000</td>\n",
              "      <td>4898.000000</td>\n",
              "      <td>4898.000000</td>\n",
              "      <td>4898.000000</td>\n",
              "      <td>4898.000000</td>\n",
              "      <td>4898.000000</td>\n",
              "      <td>4898.000000</td>\n",
              "      <td>4898.000000</td>\n",
              "      <td>4898.000000</td>\n",
              "      <td>4898.000000</td>\n",
              "      <td>4898.000000</td>\n",
              "      <td>4898.000000</td>\n",
              "    </tr>\n",
              "    <tr>\n",
              "      <th>mean</th>\n",
              "      <td>6.854788</td>\n",
              "      <td>0.278241</td>\n",
              "      <td>0.334192</td>\n",
              "      <td>6.391415</td>\n",
              "      <td>0.045772</td>\n",
              "      <td>35.308085</td>\n",
              "      <td>138.360657</td>\n",
              "      <td>0.994027</td>\n",
              "      <td>3.188267</td>\n",
              "      <td>0.489847</td>\n",
              "      <td>10.514267</td>\n",
              "      <td>5.877909</td>\n",
              "    </tr>\n",
              "    <tr>\n",
              "      <th>std</th>\n",
              "      <td>0.843868</td>\n",
              "      <td>0.100795</td>\n",
              "      <td>0.121020</td>\n",
              "      <td>5.072058</td>\n",
              "      <td>0.021848</td>\n",
              "      <td>17.007137</td>\n",
              "      <td>42.498065</td>\n",
              "      <td>0.002991</td>\n",
              "      <td>0.151001</td>\n",
              "      <td>0.114126</td>\n",
              "      <td>1.230621</td>\n",
              "      <td>0.885639</td>\n",
              "    </tr>\n",
              "    <tr>\n",
              "      <th>min</th>\n",
              "      <td>3.800000</td>\n",
              "      <td>0.080000</td>\n",
              "      <td>0.000000</td>\n",
              "      <td>0.600000</td>\n",
              "      <td>0.009000</td>\n",
              "      <td>2.000000</td>\n",
              "      <td>9.000000</td>\n",
              "      <td>0.987110</td>\n",
              "      <td>2.720000</td>\n",
              "      <td>0.220000</td>\n",
              "      <td>8.000000</td>\n",
              "      <td>3.000000</td>\n",
              "    </tr>\n",
              "    <tr>\n",
              "      <th>25%</th>\n",
              "      <td>6.300000</td>\n",
              "      <td>0.210000</td>\n",
              "      <td>0.270000</td>\n",
              "      <td>1.700000</td>\n",
              "      <td>0.036000</td>\n",
              "      <td>23.000000</td>\n",
              "      <td>108.000000</td>\n",
              "      <td>0.991723</td>\n",
              "      <td>3.090000</td>\n",
              "      <td>0.410000</td>\n",
              "      <td>9.500000</td>\n",
              "      <td>5.000000</td>\n",
              "    </tr>\n",
              "    <tr>\n",
              "      <th>50%</th>\n",
              "      <td>6.800000</td>\n",
              "      <td>0.260000</td>\n",
              "      <td>0.320000</td>\n",
              "      <td>5.200000</td>\n",
              "      <td>0.043000</td>\n",
              "      <td>34.000000</td>\n",
              "      <td>134.000000</td>\n",
              "      <td>0.993740</td>\n",
              "      <td>3.180000</td>\n",
              "      <td>0.470000</td>\n",
              "      <td>10.400000</td>\n",
              "      <td>6.000000</td>\n",
              "    </tr>\n",
              "    <tr>\n",
              "      <th>75%</th>\n",
              "      <td>7.300000</td>\n",
              "      <td>0.320000</td>\n",
              "      <td>0.390000</td>\n",
              "      <td>9.900000</td>\n",
              "      <td>0.050000</td>\n",
              "      <td>46.000000</td>\n",
              "      <td>167.000000</td>\n",
              "      <td>0.996100</td>\n",
              "      <td>3.280000</td>\n",
              "      <td>0.550000</td>\n",
              "      <td>11.400000</td>\n",
              "      <td>6.000000</td>\n",
              "    </tr>\n",
              "    <tr>\n",
              "      <th>max</th>\n",
              "      <td>14.200000</td>\n",
              "      <td>1.100000</td>\n",
              "      <td>1.660000</td>\n",
              "      <td>65.800000</td>\n",
              "      <td>0.346000</td>\n",
              "      <td>289.000000</td>\n",
              "      <td>440.000000</td>\n",
              "      <td>1.038980</td>\n",
              "      <td>3.820000</td>\n",
              "      <td>1.080000</td>\n",
              "      <td>14.200000</td>\n",
              "      <td>9.000000</td>\n",
              "    </tr>\n",
              "  </tbody>\n",
              "</table>\n",
              "</div>"
            ],
            "text/plain": [
              "       fixed acidity  volatile acidity  citric acid  residual sugar  \\\n",
              "count    4898.000000       4898.000000  4898.000000     4898.000000   \n",
              "mean        6.854788          0.278241     0.334192        6.391415   \n",
              "std         0.843868          0.100795     0.121020        5.072058   \n",
              "min         3.800000          0.080000     0.000000        0.600000   \n",
              "25%         6.300000          0.210000     0.270000        1.700000   \n",
              "50%         6.800000          0.260000     0.320000        5.200000   \n",
              "75%         7.300000          0.320000     0.390000        9.900000   \n",
              "max        14.200000          1.100000     1.660000       65.800000   \n",
              "\n",
              "         chlorides  free sulfur dioxide  total sulfur dioxide      density  \\\n",
              "count  4898.000000          4898.000000           4898.000000  4898.000000   \n",
              "mean      0.045772            35.308085            138.360657     0.994027   \n",
              "std       0.021848            17.007137             42.498065     0.002991   \n",
              "min       0.009000             2.000000              9.000000     0.987110   \n",
              "25%       0.036000            23.000000            108.000000     0.991723   \n",
              "50%       0.043000            34.000000            134.000000     0.993740   \n",
              "75%       0.050000            46.000000            167.000000     0.996100   \n",
              "max       0.346000           289.000000            440.000000     1.038980   \n",
              "\n",
              "                pH    sulphates      alcohol      quality  \n",
              "count  4898.000000  4898.000000  4898.000000  4898.000000  \n",
              "mean      3.188267     0.489847    10.514267     5.877909  \n",
              "std       0.151001     0.114126     1.230621     0.885639  \n",
              "min       2.720000     0.220000     8.000000     3.000000  \n",
              "25%       3.090000     0.410000     9.500000     5.000000  \n",
              "50%       3.180000     0.470000    10.400000     6.000000  \n",
              "75%       3.280000     0.550000    11.400000     6.000000  \n",
              "max       3.820000     1.080000    14.200000     9.000000  "
            ]
          },
          "metadata": {
            "tags": []
          },
          "execution_count": 14
        }
      ]
    },
    {
      "metadata": {
        "id": "8I6LD6zzaAz7",
        "colab_type": "code",
        "colab": {}
      },
      "cell_type": "code",
      "source": [
        "#pd.isnull(red)"
      ],
      "execution_count": 0,
      "outputs": []
    },
    {
      "metadata": {
        "id": "yLPwfGdHaN-R",
        "colab_type": "code",
        "colab": {
          "base_uri": "https://localhost:8080/",
          "height": 344
        },
        "outputId": "f351dbcb-2c66-4bca-9688-d161bd293ac6"
      },
      "cell_type": "code",
      "source": [
        "\n",
        "fig, ax = plt.subplots(1, 2, figsize=(8,4))\n",
        "\n",
        "ax[0].hist(red['alcohol'], 10, facecolor='red', alpha=0.5, label = 'Red Wine')\n",
        "ax[1].hist(white['alcohol'], 10, facecolor = 'white', ec='black', lw=0.5, alpha=0.5, label='White Wine')\n",
        "\n",
        "fig.subplots_adjust(left =0, right=1, bottom=0, top=.8, hspace=0.05, wspace=1)\n",
        "ax[0].set_ylim([0, 1000])\n",
        "ax[0].set_xlabel('Alcohol in % Vol')\n",
        "ax[0].set_ylabel('Freqency')\n",
        "ax[0].legend(loc='best')\n",
        "ax[1].set_xlabel('Alcohol in % Vol')\n",
        "ax[1].set_ylabel('Freqency')\n",
        "ax[1].legend(loc='best')\n",
        "fig.suptitle('Distribution of Alcohol in % Vol')\n",
        "plt.show();"
      ],
      "execution_count": 35,
      "outputs": [
        {
          "output_type": "display_data",
          "data": {
            "image/png": "[encoded data removed]",
            "text/plain": [
              "<Figure size 576x288 with 2 Axes>"
            ]
          },
          "metadata": {
            "tags": []
          }
        }
      ]
    },
    {
      "metadata": {
        "id": "Vzh43cfvhTFy",
        "colab_type": "code",
        "colab": {
          "base_uri": "https://localhost:8080/",
          "height": 308
        },
        "outputId": "dd092c2e-440a-4357-fa2c-23b832e58aaa"
      },
      "cell_type": "code",
      "source": [
        "fig, ax = plt.subplots(1, 2, figsize = (8,4))\n",
        "ax[0].scatter(red['quality'], red['sulphates'], color = 'red')\n",
        "ax[1].scatter(white['quality'], white['sulphates'],color='white',edgecolor='black', lw=0.5)\n",
        "\n",
        "ax[0].set_title('Red Wine')\n",
        "ax[0].set_xlabel('quality')\n",
        "ax[0].set_ylabel('sulphates')\n",
        "ax[0].set_xlim([0,10])\n",
        "ax[0].set_ylim([0,2])\n",
        "\n",
        "ax[1].set_title('White Wine')\n",
        "ax[1].set_xlabel('quality')\n",
        "ax[1].set_ylabel('sulphates')\n",
        "ax[1].set_xlim([0,10])\n",
        "ax[1].set_ylim([0,2.5])\n",
        "fig.subplots_adjust(wspace=0.5)\n",
        "fig.suptitle('Wine Quality by Amont of Sulphates')\n",
        "plt.show();"
      ],
      "execution_count": 48,
      "outputs": [
        {
          "output_type": "display_data",
          "data": {
            "image/png": "[encoded data removed]",
            "text/plain": [
              "<Figure size 576x288 with 2 Axes>"
            ]
          },
          "metadata": {
            "tags": []
          }
        }
      ]
    },
    {
      "metadata": {
        "id": "MU3MhkjJkzNH",
        "colab_type": "code",
        "colab": {
          "base_uri": "https://localhost:8080/",
          "height": 527
        },
        "outputId": "d801b0c6-815c-49c0-83a1-8e2e89e37b12"
      },
      "cell_type": "code",
      "source": [
        "np.random.seed(1234)\n",
        "redlabels=np.unique(red['quality'])\n",
        "whitelabels=np.unique(white['quality'])\n",
        "\n",
        "fig, ax = plt.subplots(1, 2, figsize=(8,4))\n",
        "redcolors=np.random.rand(6,4)\n",
        "whitecolors=np.append(redcolors, np.random.rand(1,4), axis=0)\n",
        "\n",
        "for i in range(len(redcolors)):\n",
        "    redy = red['alcohol'][red.quality == redlabels[i]]\n",
        "    redx = red['volatile acidity'][red.quality == redlabels[i]]\n",
        "    ax[0].scatter(redx, redy, c=redcolors[i])\n",
        "for i in range(len(whitecolors)):\n",
        "    whitey = white['alcohol'][white.quality == whitelabels[i]]\n",
        "    whitex = white['volatile acidity'][white.quality == whitelabels[i]]\n",
        "    ax[1].scatter(whitex, whitey, c=whitecolors[i])\n",
        "    \n",
        "ax[0].set_title(\"Red Wine\")\n",
        "ax[1].set_title(\"White Wine\")\n",
        "ax[0].set_xlim([0,1.7])\n",
        "ax[1].set_xlim([0,1.7])\n",
        "ax[0].set_ylim([5,15.5])\n",
        "ax[1].set_ylim([5,15.5])\n",
        "ax[0].set_xlabel(\"Volatile Acidity\")\n",
        "ax[0].set_ylabel(\"Alcohol\")\n",
        "ax[1].set_xlabel(\"Volatile Acidity\")\n",
        "ax[1].set_ylabel(\"Alcohol\") \n",
        "#ax[0].legend(redlabels, loc='best', bbox_to_anchor=(1.3, 1))\n",
        "ax[1].legend(whitelabels, loc='best', bbox_to_anchor=(1.3, 1))\n",
        "#fig.suptitle(\"Alcohol - Volatile Acidity\")\n",
        "fig.subplots_adjust(top=0.85, wspace=0.7)\n",
        "\n",
        "plt.show();"
      ],
      "execution_count": 8,
      "outputs": [
        {
          "output_type": "stream",
          "text": [
            "'c' argument looks like a single numeric RGB or RGBA sequence, which should be avoided as value-mapping will have precedence in case its length matches with 'x' & 'y'.  Please use a 2-D array with a single row if you really want to specify the same RGB or RGBA value for all points.\n",
            "'c' argument looks like a single numeric RGB or RGBA sequence, which should be avoided as value-mapping will have precedence in case its length matches with 'x' & 'y'.  Please use a 2-D array with a single row if you really want to specify the same RGB or RGBA value for all points.\n",
            "'c' argument looks like a single numeric RGB or RGBA sequence, which should be avoided as value-mapping will have precedence in case its length matches with 'x' & 'y'.  Please use a 2-D array with a single row if you really want to specify the same RGB or RGBA value for all points.\n",
            "'c' argument looks like a single numeric RGB or RGBA sequence, which should be avoided as value-mapping will have precedence in case its length matches with 'x' & 'y'.  Please use a 2-D array with a single row if you really want to specify the same RGB or RGBA value for all points.\n",
            "'c' argument looks like a single numeric RGB or RGBA sequence, which should be avoided as value-mapping will have precedence in case its length matches with 'x' & 'y'.  Please use a 2-D array with a single row if you really want to specify the same RGB or RGBA value for all points.\n",
            "'c' argument looks like a single numeric RGB or RGBA sequence, which should be avoided as value-mapping will have precedence in case its length matches with 'x' & 'y'.  Please use a 2-D array with a single row if you really want to specify the same RGB or RGBA value for all points.\n",
            "'c' argument looks like a single numeric RGB or RGBA sequence, which should be avoided as value-mapping will have precedence in case its length matches with 'x' & 'y'.  Please use a 2-D array with a single row if you really want to specify the same RGB or RGBA value for all points.\n",
            "'c' argument looks like a single numeric RGB or RGBA sequence, which should be avoided as value-mapping will have precedence in case its length matches with 'x' & 'y'.  Please use a 2-D array with a single row if you really want to specify the same RGB or RGBA value for all points.\n",
            "'c' argument looks like a single numeric RGB or RGBA sequence, which should be avoided as value-mapping will have precedence in case its length matches with 'x' & 'y'.  Please use a 2-D array with a single row if you really want to specify the same RGB or RGBA value for all points.\n",
            "'c' argument looks like a single numeric RGB or RGBA sequence, which should be avoided as value-mapping will have precedence in case its length matches with 'x' & 'y'.  Please use a 2-D array with a single row if you really want to specify the same RGB or RGBA value for all points.\n",
            "'c' argument looks like a single numeric RGB or RGBA sequence, which should be avoided as value-mapping will have precedence in case its length matches with 'x' & 'y'.  Please use a 2-D array with a single row if you really want to specify the same RGB or RGBA value for all points.\n",
            "'c' argument looks like a single numeric RGB or RGBA sequence, which should be avoided as value-mapping will have precedence in case its length matches with 'x' & 'y'.  Please use a 2-D array with a single row if you really want to specify the same RGB or RGBA value for all points.\n",
            "'c' argument looks like a single numeric RGB or RGBA sequence, which should be avoided as value-mapping will have precedence in case its length matches with 'x' & 'y'.  Please use a 2-D array with a single row if you really want to specify the same RGB or RGBA value for all points.\n"
          ],
          "name": "stderr"
        },
        {
          "output_type": "display_data",
          "data": {
            "image/png": "[encoded data removed]",
            "text/plain": [
              "<Figure size 576x288 with 2 Axes>"
            ]
          },
          "metadata": {
            "tags": []
          }
        }
      ]
    },
    {
      "metadata": {
        "id": "sU3cHrEco5f4",
        "colab_type": "text"
      },
      "cell_type": "markdown",
      "source": [
        "**Preprocess** **Data** "
      ]
    },
    {
      "metadata": {
        "id": "oImNANw7krX4",
        "colab_type": "code",
        "colab": {}
      },
      "cell_type": "code",
      "source": [
        "red['type']=1\n",
        "white['type']=0\n",
        "\n",
        "wines=red.append(white, ignore_index=True)"
      ],
      "execution_count": 0,
      "outputs": []
    },
    {
      "metadata": {
        "id": "GfqScw8QpOGG",
        "colab_type": "code",
        "colab": {
          "base_uri": "https://localhost:8080/",
          "height": 204
        },
        "outputId": "e5970052-7f77-4e43-aadf-99cdeae044bd"
      },
      "cell_type": "code",
      "source": [
        "wines.tail()"
      ],
      "execution_count": 13,
      "outputs": [
        {
          "output_type": "execute_result",
          "data": {
            "text/html": [
              "<div>\n",
              "<style scoped>\n",
              "    .dataframe tbody tr th:only-of-type {\n",
              "        vertical-align: middle;\n",
              "    }\n",
              "\n",
              "    .dataframe tbody tr th {\n",
              "        vertical-align: top;\n",
              "    }\n",
              "\n",
              "    .dataframe thead th {\n",
              "        text-align: right;\n",
              "    }\n",
              "</style>\n",
              "<table border=\"1\" class=\"dataframe\">\n",
              "  <thead>\n",
              "    <tr style=\"text-align: right;\">\n",
              "      <th></th>\n",
              "      <th>fixed acidity</th>\n",
              "      <th>volatile acidity</th>\n",
              "      <th>citric acid</th>\n",
              "      <th>residual sugar</th>\n",
              "      <th>chlorides</th>\n",
              "      <th>free sulfur dioxide</th>\n",
              "      <th>total sulfur dioxide</th>\n",
              "      <th>density</th>\n",
              "      <th>pH</th>\n",
              "      <th>sulphates</th>\n",
              "      <th>alcohol</th>\n",
              "      <th>quality</th>\n",
              "      <th>type</th>\n",
              "    </tr>\n",
              "  </thead>\n",
              "  <tbody>\n",
              "    <tr>\n",
              "      <th>6492</th>\n",
              "      <td>6.2</td>\n",
              "      <td>0.21</td>\n",
              "      <td>0.29</td>\n",
              "      <td>1.6</td>\n",
              "      <td>0.039</td>\n",
              "      <td>24.0</td>\n",
              "      <td>92.0</td>\n",
              "      <td>0.99114</td>\n",
              "      <td>3.27</td>\n",
              "      <td>0.50</td>\n",
              "      <td>11.2</td>\n",
              "      <td>6</td>\n",
              "      <td>0</td>\n",
              "    </tr>\n",
              "    <tr>\n",
              "      <th>6493</th>\n",
              "      <td>6.6</td>\n",
              "      <td>0.32</td>\n",
              "      <td>0.36</td>\n",
              "      <td>8.0</td>\n",
              "      <td>0.047</td>\n",
              "      <td>57.0</td>\n",
              "      <td>168.0</td>\n",
              "      <td>0.99490</td>\n",
              "      <td>3.15</td>\n",
              "      <td>0.46</td>\n",
              "      <td>9.6</td>\n",
              "      <td>5</td>\n",
              "      <td>0</td>\n",
              "    </tr>\n",
              "    <tr>\n",
              "      <th>6494</th>\n",
              "      <td>6.5</td>\n",
              "      <td>0.24</td>\n",
              "      <td>0.19</td>\n",
              "      <td>1.2</td>\n",
              "      <td>0.041</td>\n",
              "      <td>30.0</td>\n",
              "      <td>111.0</td>\n",
              "      <td>0.99254</td>\n",
              "      <td>2.99</td>\n",
              "      <td>0.46</td>\n",
              "      <td>9.4</td>\n",
              "      <td>6</td>\n",
              "      <td>0</td>\n",
              "    </tr>\n",
              "    <tr>\n",
              "      <th>6495</th>\n",
              "      <td>5.5</td>\n",
              "      <td>0.29</td>\n",
              "      <td>0.30</td>\n",
              "      <td>1.1</td>\n",
              "      <td>0.022</td>\n",
              "      <td>20.0</td>\n",
              "      <td>110.0</td>\n",
              "      <td>0.98869</td>\n",
              "      <td>3.34</td>\n",
              "      <td>0.38</td>\n",
              "      <td>12.8</td>\n",
              "      <td>7</td>\n",
              "      <td>0</td>\n",
              "    </tr>\n",
              "    <tr>\n",
              "      <th>6496</th>\n",
              "      <td>6.0</td>\n",
              "      <td>0.21</td>\n",
              "      <td>0.38</td>\n",
              "      <td>0.8</td>\n",
              "      <td>0.020</td>\n",
              "      <td>22.0</td>\n",
              "      <td>98.0</td>\n",
              "      <td>0.98941</td>\n",
              "      <td>3.26</td>\n",
              "      <td>0.32</td>\n",
              "      <td>11.8</td>\n",
              "      <td>6</td>\n",
              "      <td>0</td>\n",
              "    </tr>\n",
              "  </tbody>\n",
              "</table>\n",
              "</div>"
            ],
            "text/plain": [
              "      fixed acidity  volatile acidity  citric acid  residual sugar  chlorides  \\\n",
              "6492            6.2              0.21         0.29             1.6      0.039   \n",
              "6493            6.6              0.32         0.36             8.0      0.047   \n",
              "6494            6.5              0.24         0.19             1.2      0.041   \n",
              "6495            5.5              0.29         0.30             1.1      0.022   \n",
              "6496            6.0              0.21         0.38             0.8      0.020   \n",
              "\n",
              "      free sulfur dioxide  total sulfur dioxide  density    pH  sulphates  \\\n",
              "6492                 24.0                  92.0  0.99114  3.27       0.50   \n",
              "6493                 57.0                 168.0  0.99490  3.15       0.46   \n",
              "6494                 30.0                 111.0  0.99254  2.99       0.46   \n",
              "6495                 20.0                 110.0  0.98869  3.34       0.38   \n",
              "6496                 22.0                  98.0  0.98941  3.26       0.32   \n",
              "\n",
              "      alcohol  quality  type  \n",
              "6492     11.2        6     0  \n",
              "6493      9.6        5     0  \n",
              "6494      9.4        6     0  \n",
              "6495     12.8        7     0  \n",
              "6496     11.8        6     0  "
            ]
          },
          "metadata": {
            "tags": []
          },
          "execution_count": 13
        }
      ]
    },
    {
      "metadata": {
        "id": "jDiCWPf9pPXO",
        "colab_type": "code",
        "colab": {
          "base_uri": "https://localhost:8080/",
          "height": 336
        },
        "outputId": "c8acd022-ac9e-40fa-930e-518ac0683f32"
      },
      "cell_type": "code",
      "source": [
        "import seaborn as sns\n",
        "corr=wines.corr()\n",
        "sns.heatmap(corr,\n",
        "            xticklabels=corr.columns.values,\n",
        "            yticklabels=corr.columns.values)\n",
        "sns.plt.show();"
      ],
      "execution_count": 16,
      "outputs": [
        {
          "output_type": "display_data",
          "data": {
            "image/png": "[encoded data removed]",
            "text/plain": [
              "<Figure size 432x288 with 2 Axes>"
            ]
          },
          "metadata": {
            "tags": []
          }
        }
      ]
    },
    {
      "metadata": {
        "id": "XPkIjGV5qlGg",
        "colab_type": "code",
        "colab": {}
      },
      "cell_type": "code",
      "source": [
        "from sklearn.model_selection import train_test_split\n",
        "\n",
        "X = wines.iloc[:, 0:11]\n",
        "y=np.ravel(wines['type'])"
      ],
      "execution_count": 0,
      "outputs": []
    },
    {
      "metadata": {
        "id": "S_QQd_j7poHD",
        "colab_type": "code",
        "colab": {
          "base_uri": "https://localhost:8080/",
          "height": 34
        },
        "outputId": "e389436f-ede0-48e3-eddc-823b11540d44"
      },
      "cell_type": "code",
      "source": [
        "y"
      ],
      "execution_count": 29,
      "outputs": [
        {
          "output_type": "execute_result",
          "data": {
            "text/plain": [
              "array([1, 1, 1, ..., 0, 0, 0])"
            ]
          },
          "metadata": {
            "tags": []
          },
          "execution_count": 29
        }
      ]
    },
    {
      "metadata": {
        "id": "USs1fPaRqXeN",
        "colab_type": "code",
        "colab": {}
      },
      "cell_type": "code",
      "source": [
        "X_train, X_test, y_train, y_test = train_test_split(X, y, test_size=0.3, random_state=1234)"
      ],
      "execution_count": 0,
      "outputs": []
    },
    {
      "metadata": {
        "id": "gf_sBvmbqb7c",
        "colab_type": "code",
        "colab": {
          "base_uri": "https://localhost:8080/",
          "height": 204
        },
        "outputId": "73dc8fc4-d6a1-4be9-bba3-d4677ec2ec55"
      },
      "cell_type": "code",
      "source": [
        ""
      ],
      "execution_count": 31,
      "outputs": [
        {
          "output_type": "execute_result",
          "data": {
            "text/html": [
              "<div>\n",
              "<style scoped>\n",
              "    .dataframe tbody tr th:only-of-type {\n",
              "        vertical-align: middle;\n",
              "    }\n",
              "\n",
              "    .dataframe tbody tr th {\n",
              "        vertical-align: top;\n",
              "    }\n",
              "\n",
              "    .dataframe thead th {\n",
              "        text-align: right;\n",
              "    }\n",
              "</style>\n",
              "<table border=\"1\" class=\"dataframe\">\n",
              "  <thead>\n",
              "    <tr style=\"text-align: right;\">\n",
              "      <th></th>\n",
              "      <th>fixed acidity</th>\n",
              "      <th>volatile acidity</th>\n",
              "      <th>citric acid</th>\n",
              "      <th>residual sugar</th>\n",
              "      <th>chlorides</th>\n",
              "      <th>free sulfur dioxide</th>\n",
              "      <th>total sulfur dioxide</th>\n",
              "      <th>density</th>\n",
              "      <th>pH</th>\n",
              "      <th>sulphates</th>\n",
              "      <th>alcohol</th>\n",
              "    </tr>\n",
              "  </thead>\n",
              "  <tbody>\n",
              "    <tr>\n",
              "      <th>4533</th>\n",
              "      <td>5.3</td>\n",
              "      <td>0.210</td>\n",
              "      <td>0.29</td>\n",
              "      <td>0.70</td>\n",
              "      <td>0.028</td>\n",
              "      <td>11.0</td>\n",
              "      <td>66.0</td>\n",
              "      <td>0.99215</td>\n",
              "      <td>3.30</td>\n",
              "      <td>0.40</td>\n",
              "      <td>9.8</td>\n",
              "    </tr>\n",
              "    <tr>\n",
              "      <th>2992</th>\n",
              "      <td>5.7</td>\n",
              "      <td>0.135</td>\n",
              "      <td>0.30</td>\n",
              "      <td>4.60</td>\n",
              "      <td>0.042</td>\n",
              "      <td>19.0</td>\n",
              "      <td>101.0</td>\n",
              "      <td>0.99460</td>\n",
              "      <td>3.31</td>\n",
              "      <td>0.42</td>\n",
              "      <td>9.3</td>\n",
              "    </tr>\n",
              "    <tr>\n",
              "      <th>4934</th>\n",
              "      <td>6.9</td>\n",
              "      <td>0.380</td>\n",
              "      <td>0.29</td>\n",
              "      <td>13.65</td>\n",
              "      <td>0.048</td>\n",
              "      <td>52.0</td>\n",
              "      <td>189.0</td>\n",
              "      <td>0.99784</td>\n",
              "      <td>3.00</td>\n",
              "      <td>0.60</td>\n",
              "      <td>9.5</td>\n",
              "    </tr>\n",
              "    <tr>\n",
              "      <th>3392</th>\n",
              "      <td>7.4</td>\n",
              "      <td>0.350</td>\n",
              "      <td>0.31</td>\n",
              "      <td>17.95</td>\n",
              "      <td>0.062</td>\n",
              "      <td>42.0</td>\n",
              "      <td>187.0</td>\n",
              "      <td>1.00020</td>\n",
              "      <td>3.27</td>\n",
              "      <td>0.64</td>\n",
              "      <td>9.1</td>\n",
              "    </tr>\n",
              "    <tr>\n",
              "      <th>3953</th>\n",
              "      <td>6.5</td>\n",
              "      <td>0.210</td>\n",
              "      <td>0.28</td>\n",
              "      <td>1.40</td>\n",
              "      <td>0.046</td>\n",
              "      <td>26.0</td>\n",
              "      <td>66.0</td>\n",
              "      <td>0.99199</td>\n",
              "      <td>3.43</td>\n",
              "      <td>0.48</td>\n",
              "      <td>11.1</td>\n",
              "    </tr>\n",
              "  </tbody>\n",
              "</table>\n",
              "</div>"
            ],
            "text/plain": [
              "      fixed acidity  volatile acidity  citric acid  residual sugar  chlorides  \\\n",
              "4533            5.3             0.210         0.29            0.70      0.028   \n",
              "2992            5.7             0.135         0.30            4.60      0.042   \n",
              "4934            6.9             0.380         0.29           13.65      0.048   \n",
              "3392            7.4             0.350         0.31           17.95      0.062   \n",
              "3953            6.5             0.210         0.28            1.40      0.046   \n",
              "\n",
              "      free sulfur dioxide  total sulfur dioxide  density    pH  sulphates  \\\n",
              "4533                 11.0                  66.0  0.99215  3.30       0.40   \n",
              "2992                 19.0                 101.0  0.99460  3.31       0.42   \n",
              "4934                 52.0                 189.0  0.99784  3.00       0.60   \n",
              "3392                 42.0                 187.0  1.00020  3.27       0.64   \n",
              "3953                 26.0                  66.0  0.99199  3.43       0.48   \n",
              "\n",
              "      alcohol  \n",
              "4533      9.8  \n",
              "2992      9.3  \n",
              "4934      9.5  \n",
              "3392      9.1  \n",
              "3953     11.1  "
            ]
          },
          "metadata": {
            "tags": []
          },
          "execution_count": 31
        }
      ]
    },
    {
      "metadata": {
        "id": "BopjeYOgtL8R",
        "colab_type": "code",
        "colab": {}
      },
      "cell_type": "code",
      "source": [
        "from sklearn.preprocessing import StandardScaler\n",
        "scaler=StandardScaler().fit(X_train)\n",
        "X_train=scaler.transform(X_train)\n",
        "X_test=scaler.transform(X_test)"
      ],
      "execution_count": 0,
      "outputs": []
    },
    {
      "metadata": {
        "id": "fGYh7uLBtRlI",
        "colab_type": "code",
        "colab": {}
      },
      "cell_type": "code",
      "source": [
        "from keras.models import Sequential\n",
        "from keras.layers import Dense\n",
        "model = Sequential()\n",
        "model.add(Dense(12, activation='relu', input_shape=(11,)))\n",
        "model.add(Dense(8, activation='relu'))\n",
        "model.add(Dense(1, activation='sigmoid'))"
      ],
      "execution_count": 0,
      "outputs": []
    },
    {
      "metadata": {
        "id": "_kRp12RUtidV",
        "colab_type": "code",
        "colab": {
          "base_uri": "https://localhost:8080/",
          "height": 238
        },
        "outputId": "b0bc08a8-b440-41bf-eef6-411e814391cc"
      },
      "cell_type": "code",
      "source": [
        "model.summary()"
      ],
      "execution_count": 53,
      "outputs": [
        {
          "output_type": "stream",
          "text": [
            "_________________________________________________________________\n",
            "Layer (type)                 Output Shape              Param #   \n",
            "=================================================================\n",
            "dense_4 (Dense)              (None, 12)                144       \n",
            "_________________________________________________________________\n",
            "dense_5 (Dense)              (None, 8)                 104       \n",
            "_________________________________________________________________\n",
            "dense_6 (Dense)              (None, 1)                 9         \n",
            "=================================================================\n",
            "Total params: 257\n",
            "Trainable params: 257\n",
            "Non-trainable params: 0\n",
            "_________________________________________________________________\n"
          ],
          "name": "stdout"
        }
      ]
    },
    {
      "metadata": {
        "id": "UP4Epv8Mv03c",
        "colab_type": "code",
        "colab": {
          "base_uri": "https://localhost:8080/",
          "height": 935
        },
        "outputId": "3a6247f1-9172-4c2a-ed67-8c6572bd9c45"
      },
      "cell_type": "code",
      "source": [
        "model.get_config()"
      ],
      "execution_count": 38,
      "outputs": [
        {
          "output_type": "execute_result",
          "data": {
            "text/plain": [
              "{'layers': [{'class_name': 'Dense',\n",
              "   'config': {'activation': 'relu',\n",
              "    'activity_regularizer': None,\n",
              "    'batch_input_shape': (None, 11),\n",
              "    'bias_constraint': None,\n",
              "    'bias_initializer': {'class_name': 'Zeros', 'config': {}},\n",
              "    'bias_regularizer': None,\n",
              "    'dtype': 'float32',\n",
              "    'kernel_constraint': None,\n",
              "    'kernel_initializer': {'class_name': 'VarianceScaling',\n",
              "     'config': {'distribution': 'uniform',\n",
              "      'mode': 'fan_avg',\n",
              "      'scale': 1.0,\n",
              "      'seed': None}},\n",
              "    'kernel_regularizer': None,\n",
              "    'name': 'dense_1',\n",
              "    'trainable': True,\n",
              "    'units': 12,\n",
              "    'use_bias': True}},\n",
              "  {'class_name': 'Dense',\n",
              "   'config': {'activation': 'relu',\n",
              "    'activity_regularizer': None,\n",
              "    'bias_constraint': None,\n",
              "    'bias_initializer': {'class_name': 'Zeros', 'config': {}},\n",
              "    'bias_regularizer': None,\n",
              "    'kernel_constraint': None,\n",
              "    'kernel_initializer': {'class_name': 'VarianceScaling',\n",
              "     'config': {'distribution': 'uniform',\n",
              "      'mode': 'fan_avg',\n",
              "      'scale': 1.0,\n",
              "      'seed': None}},\n",
              "    'kernel_regularizer': None,\n",
              "    'name': 'dense_2',\n",
              "    'trainable': True,\n",
              "    'units': 8,\n",
              "    'use_bias': True}},\n",
              "  {'class_name': 'Dense',\n",
              "   'config': {'activation': 'sigmoid',\n",
              "    'activity_regularizer': None,\n",
              "    'bias_constraint': None,\n",
              "    'bias_initializer': {'class_name': 'Zeros', 'config': {}},\n",
              "    'bias_regularizer': None,\n",
              "    'kernel_constraint': None,\n",
              "    'kernel_initializer': {'class_name': 'VarianceScaling',\n",
              "     'config': {'distribution': 'uniform',\n",
              "      'mode': 'fan_avg',\n",
              "      'scale': 1.0,\n",
              "      'seed': None}},\n",
              "    'kernel_regularizer': None,\n",
              "    'name': 'dense_3',\n",
              "    'trainable': True,\n",
              "    'units': 1,\n",
              "    'use_bias': True}}],\n",
              " 'name': 'sequential_1'}"
            ]
          },
          "metadata": {
            "tags": []
          },
          "execution_count": 38
        }
      ]
    },
    {
      "metadata": {
        "id": "9M84jx_7v8tT",
        "colab_type": "code",
        "colab": {
          "base_uri": "https://localhost:8080/",
          "height": 1360
        },
        "outputId": "3df1dd78-4eae-4f75-d22f-4c8b18f9e266"
      },
      "cell_type": "code",
      "source": [
        "model.get_weights()"
      ],
      "execution_count": 39,
      "outputs": [
        {
          "output_type": "execute_result",
          "data": {
            "text/plain": [
              "[array([[ 2.84851313e-01, -1.32329255e-01, -1.54657245e-01,\n",
              "          2.07552850e-01, -3.35624546e-01, -3.48102272e-01,\n",
              "          2.76701748e-01, -3.59363973e-01, -4.82510567e-01,\n",
              "         -2.54715979e-01,  2.34705210e-01, -1.88446999e-01],\n",
              "        [ 1.59107566e-01, -1.73758090e-01,  1.96296990e-01,\n",
              "         -1.99802101e-01,  1.42147720e-01, -1.51675016e-01,\n",
              "          2.87050307e-01,  1.36805415e-01,  7.45483637e-02,\n",
              "          2.57438421e-02, -2.12143928e-01, -4.31583822e-02],\n",
              "        [ 4.14344966e-01,  2.27266550e-03, -2.41842002e-01,\n",
              "          3.14478517e-01, -1.54101461e-01,  4.45223033e-01,\n",
              "         -1.04521006e-01, -1.34265095e-01, -2.50950277e-01,\n",
              "         -7.16071725e-02, -4.48132783e-01, -4.88159031e-01],\n",
              "        [ 3.67659569e-01, -2.46504813e-01,  3.93440306e-01,\n",
              "          1.69584334e-01, -4.78760570e-01, -2.17748672e-01,\n",
              "         -1.87187970e-01,  4.44895446e-01,  3.89093757e-02,\n",
              "         -5.76071441e-02,  1.51185393e-02, -3.62764150e-01],\n",
              "        [ 1.10542059e-01, -2.94882387e-01,  2.01047838e-01,\n",
              "         -2.58119047e-01, -1.32062465e-01,  3.43109071e-01,\n",
              "         -2.74741352e-01, -1.83983386e-01, -4.82543588e-01,\n",
              "          3.16765189e-01, -3.95543188e-01,  5.61165810e-03],\n",
              "        [-3.69532526e-01, -6.42385483e-02,  2.82584906e-01,\n",
              "         -6.75353110e-02,  3.27272594e-01,  4.54996884e-01,\n",
              "         -4.18449581e-01, -3.85492980e-01, -4.15448844e-01,\n",
              "         -4.02216226e-01, -1.31252527e-01, -9.68286991e-02],\n",
              "        [-4.22179699e-04,  3.91622782e-02,  2.63725638e-01,\n",
              "         -3.28693986e-02,  7.62413740e-02, -3.81832123e-02,\n",
              "         -3.94340187e-01,  2.43652523e-01,  3.47284317e-01,\n",
              "         -3.36837292e-01, -1.44452989e-01, -4.69719768e-01],\n",
              "        [-1.39724195e-01,  2.05209672e-01,  1.58409059e-01,\n",
              "         -4.83821720e-01, -2.33109504e-01,  5.52930832e-02,\n",
              "         -1.18824840e-01, -4.38624114e-01, -4.76016790e-01,\n",
              "         -1.66746646e-01,  4.17615175e-01, -2.64679343e-01],\n",
              "        [ 2.06443250e-01,  1.02827609e-01, -7.83133507e-02,\n",
              "         -3.89723897e-01,  2.65168488e-01,  4.60220098e-01,\n",
              "          4.07365441e-01,  3.06764185e-01, -4.45393026e-02,\n",
              "          4.70564604e-01,  4.53468144e-01,  2.14063108e-01],\n",
              "        [-5.08913934e-01,  2.64096022e-01, -2.15967119e-01,\n",
              "         -1.04661405e-01, -3.48061621e-01, -4.00586069e-01,\n",
              "         -4.02941287e-01,  1.11573517e-01,  2.22268999e-01,\n",
              "         -4.90804911e-01,  1.73100173e-01, -2.10833669e-01],\n",
              "        [-8.10881853e-02, -1.57792538e-01,  3.05703878e-01,\n",
              "         -3.43987077e-01,  3.44380558e-01,  6.45403266e-02,\n",
              "         -1.05141431e-01, -2.12659150e-01,  2.28769541e-01,\n",
              "         -2.57934332e-01,  2.33698070e-01,  8.06868076e-04]], dtype=float32),\n",
              " array([0., 0., 0., 0., 0., 0., 0., 0., 0., 0., 0., 0.], dtype=float32),\n",
              " array([[-0.3708675 , -0.35482132, -0.08633855, -0.13680059,  0.21919656,\n",
              "         -0.4492384 , -0.20491448, -0.3442269 ],\n",
              "        [ 0.45939767,  0.18255115,  0.28864622, -0.24703762, -0.28542662,\n",
              "          0.00376302,  0.13422161, -0.01261044],\n",
              "        [ 0.2841692 ,  0.46631253,  0.3028857 , -0.21788388,  0.36150646,\n",
              "         -0.3275803 ,  0.2598771 ,  0.07063228],\n",
              "        [-0.29820445,  0.5144887 ,  0.02206194, -0.31835994, -0.25791293,\n",
              "          0.14659423, -0.09797424,  0.21202052],\n",
              "        [ 0.34173673, -0.42943442,  0.3620022 ,  0.40402293, -0.0970664 ,\n",
              "         -0.1348607 , -0.51189584, -0.5214036 ],\n",
              "        [ 0.4906956 ,  0.45039642, -0.5367261 , -0.52413005, -0.31301042,\n",
              "         -0.15192127,  0.35431594,  0.02816242],\n",
              "        [ 0.42387807, -0.21077839,  0.4365452 , -0.5204143 ,  0.23793346,\n",
              "          0.4964006 , -0.05560315, -0.20041302],\n",
              "        [-0.25169736,  0.07687086, -0.46698114, -0.24081096,  0.14187247,\n",
              "         -0.06118548,  0.16526443,  0.22089487],\n",
              "        [ 0.29093415, -0.18056545,  0.4404884 ,  0.24846536,  0.24322957,\n",
              "         -0.28745896, -0.05457881, -0.3937494 ],\n",
              "        [ 0.03871179, -0.31502867, -0.25418296,  0.13650978, -0.00772792,\n",
              "          0.23363298,  0.13127166,  0.39487767],\n",
              "        [ 0.2869469 ,  0.20937681,  0.45572555, -0.11449876, -0.3630363 ,\n",
              "          0.5119618 ,  0.06415558, -0.32470554],\n",
              "        [-0.23332635,  0.10841876, -0.4577993 ,  0.37247372,  0.35543495,\n",
              "         -0.34579617,  0.11587423, -0.35908553]], dtype=float32),\n",
              " array([0., 0., 0., 0., 0., 0., 0., 0.], dtype=float32),\n",
              " array([[ 0.5937706 ],\n",
              "        [ 0.5510752 ],\n",
              "        [ 0.15060759],\n",
              "        [-0.35462195],\n",
              "        [-0.2683496 ],\n",
              "        [ 0.64237833],\n",
              "        [ 0.4995258 ],\n",
              "        [ 0.693439  ]], dtype=float32),\n",
              " array([0.], dtype=float32)]"
            ]
          },
          "metadata": {
            "tags": []
          },
          "execution_count": 39
        }
      ]
    },
    {
      "metadata": {
        "id": "duMkpkgQwBlZ",
        "colab_type": "code",
        "colab": {}
      },
      "cell_type": "code",
      "source": [
        "model.compile(loss='binary_crossentropy',\n",
        "             optimizer='adam',\n",
        "             metrics=['accuracy'])"
      ],
      "execution_count": 0,
      "outputs": []
    },
    {
      "metadata": {
        "id": "vtOO3eG6wTJu",
        "colab_type": "code",
        "colab": {
          "base_uri": "https://localhost:8080/",
          "height": 714
        },
        "outputId": "ab5e6b71-228d-4403-e215-bb132e4f048f"
      },
      "cell_type": "code",
      "source": [
        "model.fit(X_train, y_train, epochs=20, batch_size=1, verbose=1)"
      ],
      "execution_count": 55,
      "outputs": [
        {
          "output_type": "stream",
          "text": [
            "Epoch 1/20\n",
            "4547/4547 [==============================] - 5s 1ms/step - loss: 0.0845 - acc: 0.9762\n",
            "Epoch 2/20\n",
            "4547/4547 [==============================] - 5s 998us/step - loss: 0.0265 - acc: 0.9945\n",
            "Epoch 3/20\n",
            "4547/4547 [==============================] - 4s 966us/step - loss: 0.0211 - acc: 0.9960\n",
            "Epoch 4/20\n",
            "4547/4547 [==============================] - 4s 975us/step - loss: 0.0177 - acc: 0.9965\n",
            "Epoch 5/20\n",
            "4547/4547 [==============================] - 4s 979us/step - loss: 0.0167 - acc: 0.9965\n",
            "Epoch 6/20\n",
            "4547/4547 [==============================] - 4s 979us/step - loss: 0.0146 - acc: 0.9965\n",
            "Epoch 7/20\n",
            "4547/4547 [==============================] - 4s 972us/step - loss: 0.0131 - acc: 0.9971\n",
            "Epoch 8/20\n",
            "4547/4547 [==============================] - 4s 969us/step - loss: 0.0128 - acc: 0.9971\n",
            "Epoch 9/20\n",
            "4547/4547 [==============================] - 4s 960us/step - loss: 0.0117 - acc: 0.9976\n",
            "Epoch 10/20\n",
            "4547/4547 [==============================] - 4s 971us/step - loss: 0.0126 - acc: 0.9971\n",
            "Epoch 11/20\n",
            "4547/4547 [==============================] - 4s 978us/step - loss: 0.0102 - acc: 0.9976\n",
            "Epoch 12/20\n",
            "4547/4547 [==============================] - 4s 973us/step - loss: 0.0105 - acc: 0.9971\n",
            "Epoch 13/20\n",
            "4547/4547 [==============================] - 4s 976us/step - loss: 0.0102 - acc: 0.9971\n",
            "Epoch 14/20\n",
            "4547/4547 [==============================] - 4s 961us/step - loss: 0.0098 - acc: 0.9976\n",
            "Epoch 15/20\n",
            "4547/4547 [==============================] - 4s 964us/step - loss: 0.0090 - acc: 0.9976\n",
            "Epoch 16/20\n",
            "4547/4547 [==============================] - 4s 962us/step - loss: 0.0093 - acc: 0.9971\n",
            "Epoch 17/20\n",
            "4547/4547 [==============================] - 4s 964us/step - loss: 0.0090 - acc: 0.9978\n",
            "Epoch 18/20\n",
            "4547/4547 [==============================] - 4s 979us/step - loss: 0.0082 - acc: 0.9980\n",
            "Epoch 19/20\n",
            "4547/4547 [==============================] - 4s 973us/step - loss: 0.0084 - acc: 0.9978\n",
            "Epoch 20/20\n",
            "4547/4547 [==============================] - 4s 975us/step - loss: 0.0068 - acc: 0.9980\n"
          ],
          "name": "stdout"
        },
        {
          "output_type": "execute_result",
          "data": {
            "text/plain": [
              "<keras.callbacks.History at 0x7f5ed3268c18>"
            ]
          },
          "metadata": {
            "tags": []
          },
          "execution_count": 55
        }
      ]
    },
    {
      "metadata": {
        "id": "KNx4GZ3xwb7W",
        "colab_type": "code",
        "colab": {}
      },
      "cell_type": "code",
      "source": [
        "y_pred = model.predict_classes(X_test)"
      ],
      "execution_count": 0,
      "outputs": []
    },
    {
      "metadata": {
        "id": "_q4LDtU_xGna",
        "colab_type": "code",
        "colab": {
          "base_uri": "https://localhost:8080/",
          "height": 102
        },
        "outputId": "122b5b09-f686-464d-bed3-4fbafb91bd37"
      },
      "cell_type": "code",
      "source": [
        "y_pred[:5]"
      ],
      "execution_count": 65,
      "outputs": [
        {
          "output_type": "execute_result",
          "data": {
            "text/plain": [
              "array([[0],\n",
              "       [0],\n",
              "       [0],\n",
              "       [1],\n",
              "       [1]], dtype=int32)"
            ]
          },
          "metadata": {
            "tags": []
          },
          "execution_count": 65
        }
      ]
    },
    {
      "metadata": {
        "id": "gRlAaYlhxJVR",
        "colab_type": "code",
        "colab": {
          "base_uri": "https://localhost:8080/",
          "height": 34
        },
        "outputId": "12195afe-3d8e-43ad-90c3-e0b9feb839c2"
      },
      "cell_type": "code",
      "source": [
        "score=model.evaluate(X_test, y_test, verbose=1)"
      ],
      "execution_count": 45,
      "outputs": [
        {
          "output_type": "stream",
          "text": [
            "1950/1950 [==============================] - 0s 35us/step\n"
          ],
          "name": "stdout"
        }
      ]
    },
    {
      "metadata": {
        "id": "AAroUhIU3pkV",
        "colab_type": "code",
        "colab": {
          "base_uri": "https://localhost:8080/",
          "height": 34
        },
        "outputId": "71a5984a-6e88-4a61-b7d9-6d8a5206d420"
      },
      "cell_type": "code",
      "source": [
        "score"
      ],
      "execution_count": 46,
      "outputs": [
        {
          "output_type": "execute_result",
          "data": {
            "text/plain": [
              "[0.03618138741940642, 0.9953846153846154]"
            ]
          },
          "metadata": {
            "tags": []
          },
          "execution_count": 46
        }
      ]
    },
    {
      "metadata": {
        "id": "0-5L8I6s3rm1",
        "colab_type": "code",
        "colab": {}
      },
      "cell_type": "code",
      "source": [
        "from sklearn.metrics import confusion_matrix, precision_score, recall_score, f1_score, cohen_kappa_score"
      ],
      "execution_count": 0,
      "outputs": []
    },
    {
      "metadata": {
        "id": "N9e4ALEq4UKo",
        "colab_type": "code",
        "colab": {
          "base_uri": "https://localhost:8080/",
          "height": 51
        },
        "outputId": "cbbcf7f6-5757-4729-d99e-fb0ae9aa043f"
      },
      "cell_type": "code",
      "source": [
        "confusion_matrix(y_test, y_pred)"
      ],
      "execution_count": 66,
      "outputs": [
        {
          "output_type": "execute_result",
          "data": {
            "text/plain": [
              "array([[1454,    6],\n",
              "       [   6,  484]])"
            ]
          },
          "metadata": {
            "tags": []
          },
          "execution_count": 66
        }
      ]
    },
    {
      "metadata": {
        "id": "eB7iIBKs4qbG",
        "colab_type": "code",
        "colab": {
          "base_uri": "https://localhost:8080/",
          "height": 34
        },
        "outputId": "089e8588-33e1-49d0-9287-c624ce5e1615"
      },
      "cell_type": "code",
      "source": [
        "precision_score(y_test, y_pred)"
      ],
      "execution_count": 67,
      "outputs": [
        {
          "output_type": "execute_result",
          "data": {
            "text/plain": [
              "0.9877551020408163"
            ]
          },
          "metadata": {
            "tags": []
          },
          "execution_count": 67
        }
      ]
    },
    {
      "metadata": {
        "id": "BjMhzWMU7sk-",
        "colab_type": "code",
        "colab": {
          "base_uri": "https://localhost:8080/",
          "height": 34
        },
        "outputId": "5ec4a76b-4f17-4649-99da-c1da14b7f1af"
      },
      "cell_type": "code",
      "source": [
        "recall_score(y_test, y_pred)"
      ],
      "execution_count": 68,
      "outputs": [
        {
          "output_type": "execute_result",
          "data": {
            "text/plain": [
              "0.9877551020408163"
            ]
          },
          "metadata": {
            "tags": []
          },
          "execution_count": 68
        }
      ]
    },
    {
      "metadata": {
        "id": "Lg1UMMCe7weF",
        "colab_type": "code",
        "colab": {
          "base_uri": "https://localhost:8080/",
          "height": 34
        },
        "outputId": "573a3d6e-3318-43bb-8aee-a4761845182a"
      },
      "cell_type": "code",
      "source": [
        "f1_score(y_test, y_pred)"
      ],
      "execution_count": 69,
      "outputs": [
        {
          "output_type": "execute_result",
          "data": {
            "text/plain": [
              "0.9877551020408163"
            ]
          },
          "metadata": {
            "tags": []
          },
          "execution_count": 69
        }
      ]
    },
    {
      "metadata": {
        "id": "bM7dmb-s71Gl",
        "colab_type": "code",
        "colab": {
          "base_uri": "https://localhost:8080/",
          "height": 34
        },
        "outputId": "6c914912-2142-439e-82d8-190695dba545"
      },
      "cell_type": "code",
      "source": [
        "cohen_kappa_score(y_test, y_pred)"
      ],
      "execution_count": 70,
      "outputs": [
        {
          "output_type": "execute_result",
          "data": {
            "text/plain": [
              "0.9836455129997205"
            ]
          },
          "metadata": {
            "tags": []
          },
          "execution_count": 70
        }
      ]
    },
    {
      "metadata": {
        "id": "a8YNgnEL8V8M",
        "colab_type": "text"
      },
      "cell_type": "markdown",
      "source": [
        "# Predict \"Quality\" of the wine as a continuous variable"
      ]
    },
    {
      "metadata": {
        "id": "01GR0gx9740k",
        "colab_type": "code",
        "colab": {}
      },
      "cell_type": "code",
      "source": [
        "y = wines['quality']"
      ],
      "execution_count": 0,
      "outputs": []
    },
    {
      "metadata": {
        "id": "AlXJBtxc8P3S",
        "colab_type": "code",
        "colab": {}
      },
      "cell_type": "code",
      "source": [
        "X = wines.drop('quality', axis = 1) "
      ],
      "execution_count": 0,
      "outputs": []
    },
    {
      "metadata": {
        "id": "zPzIawbe9fp_",
        "colab_type": "code",
        "colab": {}
      },
      "cell_type": "code",
      "source": [
        "from sklearn.preprocessing import StandardScaler\n"
      ],
      "execution_count": 0,
      "outputs": []
    },
    {
      "metadata": {
        "id": "Ibdsuh_H9gJX",
        "colab_type": "code",
        "colab": {
          "base_uri": "https://localhost:8080/",
          "height": 85
        },
        "outputId": "7e34b7c6-cd6a-48ce-bc69-f7164dcc3559"
      },
      "cell_type": "code",
      "source": [
        "X = StandardScaler().fit_transform(X)"
      ],
      "execution_count": 28,
      "outputs": [
        {
          "output_type": "stream",
          "text": [
            "/usr/local/lib/python3.6/dist-packages/sklearn/preprocessing/data.py:625: DataConversionWarning: Data with input dtype int64, float64 were all converted to float64 by StandardScaler.\n",
            "  return self.partial_fit(X, y)\n",
            "/usr/local/lib/python3.6/dist-packages/sklearn/base.py:462: DataConversionWarning: Data with input dtype int64, float64 were all converted to float64 by StandardScaler.\n",
            "  return self.fit(X, **fit_params).transform(X)\n"
          ],
          "name": "stderr"
        }
      ]
    },
    {
      "metadata": {
        "id": "eAo0Vi8Ir8_2",
        "colab_type": "code",
        "colab": {
          "base_uri": "https://localhost:8080/",
          "height": 34
        },
        "outputId": "3913cbbf-ba0c-4aeb-dc4c-b7160e47e6f7"
      },
      "cell_type": "code",
      "source": [
        "from keras.models import Sequential\n",
        "from keras.layers import Dense\n",
        "\n"
      ],
      "execution_count": 30,
      "outputs": [
        {
          "output_type": "stream",
          "text": [
            "Using TensorFlow backend.\n"
          ],
          "name": "stderr"
        }
      ]
    },
    {
      "metadata": {
        "id": "T679OCims-VG",
        "colab_type": "code",
        "colab": {
          "base_uri": "https://localhost:8080/",
          "height": 1717
        },
        "outputId": "d0202d6b-cc0e-4c70-ecf8-293b64a90667"
      },
      "cell_type": "code",
      "source": [
        "import numpy as np\n",
        "from sklearn.model_selection import StratifiedKFold\n",
        "from keras.optimizers import RMSprop, SGD\n",
        "\n",
        "seed = 9\n",
        "\n",
        "np.random.seed(seed)\n",
        "\n",
        "kfold=StratifiedKFold(n_splits=5, shuffle=True, random_state=seed)\n",
        "for train, test in kfold.split(X, y):\n",
        "  model=Sequential()\n",
        "  model.add(Dense(128, input_dim=12, activation='relu'))\n",
        "  model.add(Dense(128, activation='relu'))\n",
        "  model.add(Dense(64, activation='relu'))\n",
        "  model.add(Dense(1))\n",
        "  #model.compile(optimizer=RMSprop(lr=0.001), loss='mse', metrics=['mae'])\n",
        "  model.compile(optimizer=SGD(lr=0.01), loss='mse', metrics=['mae'])\n",
        "  \n",
        "  model.fit(X[train], y[train], epochs=10, verbose=1)"
      ],
      "execution_count": 61,
      "outputs": [
        {
          "output_type": "stream",
          "text": [
            "Epoch 1/10\n",
            "5195/5195 [==============================] - 2s 379us/step - loss: 1.5534 - mean_absolute_error: 0.8559\n",
            "Epoch 2/10\n",
            "5195/5195 [==============================] - 0s 64us/step - loss: 0.5645 - mean_absolute_error: 0.5867\n",
            "Epoch 3/10\n",
            "5195/5195 [==============================] - 0s 64us/step - loss: 0.5177 - mean_absolute_error: 0.5589\n",
            "Epoch 4/10\n",
            "5195/5195 [==============================] - 0s 63us/step - loss: 0.4937 - mean_absolute_error: 0.5458\n",
            "Epoch 5/10\n",
            "5195/5195 [==============================] - 0s 63us/step - loss: 0.4824 - mean_absolute_error: 0.5438\n",
            "Epoch 6/10\n",
            "5195/5195 [==============================] - 0s 64us/step - loss: 0.4814 - mean_absolute_error: 0.5397\n",
            "Epoch 7/10\n",
            "5195/5195 [==============================] - 0s 65us/step - loss: 0.4714 - mean_absolute_error: 0.5327\n",
            "Epoch 8/10\n",
            "5195/5195 [==============================] - 0s 62us/step - loss: 0.4604 - mean_absolute_error: 0.5304\n",
            "Epoch 9/10\n",
            "5195/5195 [==============================] - 0s 63us/step - loss: 0.4554 - mean_absolute_error: 0.5273\n",
            "Epoch 10/10\n",
            "5195/5195 [==============================] - 0s 63us/step - loss: 0.4599 - mean_absolute_error: 0.5288\n",
            "Epoch 1/10\n",
            "5197/5197 [==============================] - 2s 386us/step - loss: 1.8357 - mean_absolute_error: 0.8938\n",
            "Epoch 2/10\n",
            "5197/5197 [==============================] - 0s 62us/step - loss: 0.5602 - mean_absolute_error: 0.5801\n",
            "Epoch 3/10\n",
            "5197/5197 [==============================] - 0s 65us/step - loss: 0.5113 - mean_absolute_error: 0.5544\n",
            "Epoch 4/10\n",
            "5197/5197 [==============================] - 0s 63us/step - loss: 0.4859 - mean_absolute_error: 0.5414\n",
            "Epoch 5/10\n",
            "5197/5197 [==============================] - 0s 59us/step - loss: 0.4828 - mean_absolute_error: 0.5402\n",
            "Epoch 6/10\n",
            "5197/5197 [==============================] - 0s 62us/step - loss: 0.4709 - mean_absolute_error: 0.5364\n",
            "Epoch 7/10\n",
            "5197/5197 [==============================] - 0s 62us/step - loss: 0.4604 - mean_absolute_error: 0.5273\n",
            "Epoch 8/10\n",
            "5197/5197 [==============================] - 0s 64us/step - loss: 0.4598 - mean_absolute_error: 0.5272\n",
            "Epoch 9/10\n",
            "5197/5197 [==============================] - 0s 62us/step - loss: 0.4498 - mean_absolute_error: 0.5226\n",
            "Epoch 10/10\n",
            "5197/5197 [==============================] - 0s 63us/step - loss: 0.4522 - mean_absolute_error: 0.5263\n",
            "Epoch 1/10\n",
            "5197/5197 [==============================] - 2s 390us/step - loss: 1.4216 - mean_absolute_error: 0.8413\n",
            "Epoch 2/10\n",
            "5197/5197 [==============================] - 0s 64us/step - loss: 0.5802 - mean_absolute_error: 0.5885\n",
            "Epoch 3/10\n",
            "5197/5197 [==============================] - 0s 63us/step - loss: 0.5338 - mean_absolute_error: 0.5654\n",
            "Epoch 4/10\n",
            "5197/5197 [==============================] - 0s 65us/step - loss: 0.4991 - mean_absolute_error: 0.5452\n",
            "Epoch 5/10\n",
            "5197/5197 [==============================] - 0s 63us/step - loss: 0.4838 - mean_absolute_error: 0.5398\n",
            "Epoch 6/10\n",
            "5197/5197 [==============================] - 0s 62us/step - loss: 0.4716 - mean_absolute_error: 0.5370\n",
            "Epoch 7/10\n",
            "5197/5197 [==============================] - 0s 63us/step - loss: 0.4629 - mean_absolute_error: 0.5319\n",
            "Epoch 8/10\n",
            "5197/5197 [==============================] - 0s 62us/step - loss: 0.4637 - mean_absolute_error: 0.5300\n",
            "Epoch 9/10\n",
            "5197/5197 [==============================] - 0s 62us/step - loss: 0.4553 - mean_absolute_error: 0.5248\n",
            "Epoch 10/10\n",
            "5197/5197 [==============================] - 0s 60us/step - loss: 0.4449 - mean_absolute_error: 0.5197\n",
            "Epoch 1/10\n",
            "5199/5199 [==============================] - 2s 399us/step - loss: 1.6333 - mean_absolute_error: 0.8580\n",
            "Epoch 2/10\n",
            "5199/5199 [==============================] - 0s 63us/step - loss: 0.5829 - mean_absolute_error: 0.5933\n",
            "Epoch 3/10\n",
            "5199/5199 [==============================] - 0s 63us/step - loss: 0.5207 - mean_absolute_error: 0.5604\n",
            "Epoch 4/10\n",
            "5199/5199 [==============================] - 0s 65us/step - loss: 0.5042 - mean_absolute_error: 0.5534\n",
            "Epoch 5/10\n",
            "5199/5199 [==============================] - 0s 62us/step - loss: 0.4876 - mean_absolute_error: 0.5422\n",
            "Epoch 6/10\n",
            "5199/5199 [==============================] - 0s 62us/step - loss: 0.4883 - mean_absolute_error: 0.5461\n",
            "Epoch 7/10\n",
            "5199/5199 [==============================] - 0s 62us/step - loss: 0.4734 - mean_absolute_error: 0.5373\n",
            "Epoch 8/10\n",
            "5199/5199 [==============================] - 0s 62us/step - loss: 0.4668 - mean_absolute_error: 0.5327\n",
            "Epoch 9/10\n",
            "5199/5199 [==============================] - 0s 63us/step - loss: 0.4629 - mean_absolute_error: 0.5314\n",
            "Epoch 10/10\n",
            "5199/5199 [==============================] - 0s 62us/step - loss: 0.4590 - mean_absolute_error: 0.5302\n",
            "Epoch 1/10\n",
            "5200/5200 [==============================] - 2s 409us/step - loss: 1.5444 - mean_absolute_error: 0.8517\n",
            "Epoch 2/10\n",
            "5200/5200 [==============================] - 0s 62us/step - loss: 0.5692 - mean_absolute_error: 0.5877\n",
            "Epoch 3/10\n",
            "5200/5200 [==============================] - 0s 64us/step - loss: 0.5185 - mean_absolute_error: 0.5605\n",
            "Epoch 4/10\n",
            "5200/5200 [==============================] - 0s 62us/step - loss: 0.4930 - mean_absolute_error: 0.5458\n",
            "Epoch 5/10\n",
            "5200/5200 [==============================] - 0s 63us/step - loss: 0.4906 - mean_absolute_error: 0.5459\n",
            "Epoch 6/10\n",
            "5200/5200 [==============================] - 0s 64us/step - loss: 0.4690 - mean_absolute_error: 0.5336\n",
            "Epoch 7/10\n",
            "5200/5200 [==============================] - 0s 64us/step - loss: 0.4675 - mean_absolute_error: 0.5318\n",
            "Epoch 8/10\n",
            "5200/5200 [==============================] - 0s 64us/step - loss: 0.4655 - mean_absolute_error: 0.5342\n",
            "Epoch 9/10\n",
            "5200/5200 [==============================] - 0s 63us/step - loss: 0.4586 - mean_absolute_error: 0.5266\n",
            "Epoch 10/10\n",
            "5200/5200 [==============================] - 0s 63us/step - loss: 0.4432 - mean_absolute_error: 0.5199\n"
          ],
          "name": "stdout"
        }
      ]
    },
    {
      "metadata": {
        "id": "y_JVOnwMvCuY",
        "colab_type": "code",
        "colab": {
          "base_uri": "https://localhost:8080/",
          "height": 34
        },
        "outputId": "63436a79-54b9-4406-d3f2-52912cfb93cb"
      },
      "cell_type": "code",
      "source": [
        "y_pred = model.predict(X[test])\n",
        "from sklearn.metrics import r2_score\n",
        "r2_score(y[test], y_pred)"
      ],
      "execution_count": 62,
      "outputs": [
        {
          "output_type": "execute_result",
          "data": {
            "text/plain": [
              "0.26858484286145656"
            ]
          },
          "metadata": {
            "tags": []
          },
          "execution_count": 62
        }
      ]
    },
    {
      "metadata": {
        "id": "6p_yCVTot18o",
        "colab_type": "code",
        "colab": {}
      },
      "cell_type": "code",
      "source": [
        "mse_value, mae_value = model.evaluate(X[test], y[test], verbose=0)"
      ],
      "execution_count": 0,
      "outputs": []
    },
    {
      "metadata": {
        "id": "TWgJUDHLuvJC",
        "colab_type": "code",
        "colab": {
          "base_uri": "https://localhost:8080/",
          "height": 34
        },
        "outputId": "efc868a0-9455-400a-883c-ba5c2615e69a"
      },
      "cell_type": "code",
      "source": [
        "print(mse_value)"
      ],
      "execution_count": 48,
      "outputs": [
        {
          "output_type": "stream",
          "text": [
            "0.5513920274806555\n"
          ],
          "name": "stdout"
        }
      ]
    },
    {
      "metadata": {
        "id": "lRzpZjOFuxS5",
        "colab_type": "code",
        "colab": {
          "base_uri": "https://localhost:8080/",
          "height": 34
        },
        "outputId": "069b22a3-24cf-4447-e4de-cc4b49f9d88e"
      },
      "cell_type": "code",
      "source": [
        "print(mae_value)"
      ],
      "execution_count": 49,
      "outputs": [
        {
          "output_type": "stream",
          "text": [
            "0.5704282896741133\n"
          ],
          "name": "stdout"
        }
      ]
    },
    {
      "metadata": {
        "id": "AMgQe62SuzES",
        "colab_type": "code",
        "colab": {
          "base_uri": "https://localhost:8080/",
          "height": 34
        },
        "outputId": "11dc2bcc-b5da-4332-bc9d-f11166c712c7"
      },
      "cell_type": "code",
      "source": [
        "from sklearn.metrics import r2_score\n",
        "r2_score(y[test], y_pred)"
      ],
      "execution_count": 50,
      "outputs": [
        {
          "output_type": "execute_result",
          "data": {
            "text/plain": [
              "0.27446439945435375"
            ]
          },
          "metadata": {
            "tags": []
          },
          "execution_count": 50
        }
      ]
    },
    {
      "metadata": {
        "id": "qHVDcd6ZvI0X",
        "colab_type": "code",
        "colab": {}
      },
      "cell_type": "code",
      "source": [
        ""
      ],
      "execution_count": 0,
      "outputs": []
    }
  ]
}