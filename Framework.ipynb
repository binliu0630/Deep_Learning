{
  "nbformat": 4,
  "nbformat_minor": 0,
  "metadata": {
    "colab": {
      "name": "Framework.ipynb",
      "version": "0.3.2",
      "provenance": [],
      "include_colab_link": true
    },
    "kernelspec": {
      "name": "python3",
      "display_name": "Python 3"
    }
  },
  "cells": [
    {
      "cell_type": "markdown",
      "metadata": {
        "id": "view-in-github",
        "colab_type": "text"
      },
      "source": [
        "<a href=\"https://colab.research.google.com/github/smitaforward/Data_Science/blob/master/Framework.ipynb\" target=\"_parent\"><img src=\"https://colab.research.google.com/assets/colab-badge.svg\" alt=\"Open In Colab\"/></a>"
      ]
    },
    {
      "metadata": {
        "id": "sJMdwL5fzPcL",
        "colab_type": "text"
      },
      "cell_type": "markdown",
      "source": [
        "**DATA**"
      ]
    },
    {
      "metadata": {
        "id": "m4wMkDBSzNav",
        "colab_type": "code",
        "colab": {}
      },
      "cell_type": "code",
      "source": [
        ""
      ],
      "execution_count": 0,
      "outputs": []
    },
    {
      "metadata": {
        "id": "zmF18L-BzYBX",
        "colab_type": "text"
      },
      "cell_type": "markdown",
      "source": [
        "**EDA**"
      ]
    },
    {
      "metadata": {
        "id": "yUVdyk8mzcDL",
        "colab_type": "code",
        "colab": {}
      },
      "cell_type": "code",
      "source": [
        ""
      ],
      "execution_count": 0,
      "outputs": []
    },
    {
      "metadata": {
        "id": "0TnBkOWVziQ0",
        "colab_type": "text"
      },
      "cell_type": "markdown",
      "source": [
        "**Data Prep**"
      ]
    },
    {
      "metadata": {
        "id": "0hBSqjc_zlNo",
        "colab_type": "code",
        "colab": {}
      },
      "cell_type": "code",
      "source": [
        ""
      ],
      "execution_count": 0,
      "outputs": []
    },
    {
      "metadata": {
        "id": "3Whs_DNpzltW",
        "colab_type": "text"
      },
      "cell_type": "markdown",
      "source": [
        "**Classic**: RF with H20"
      ]
    },
    {
      "metadata": {
        "id": "bHs1Heb3ztQa",
        "colab_type": "code",
        "colab": {}
      },
      "cell_type": "code",
      "source": [
        ""
      ],
      "execution_count": 0,
      "outputs": []
    },
    {
      "metadata": {
        "id": "PGua15gaztwN",
        "colab_type": "text"
      },
      "cell_type": "markdown",
      "source": [
        "**DP**"
      ]
    },
    {
      "metadata": {
        "id": "jkKwOH4OzvQi",
        "colab_type": "code",
        "colab": {}
      },
      "cell_type": "code",
      "source": [
        ""
      ],
      "execution_count": 0,
      "outputs": []
    }
  ]
}