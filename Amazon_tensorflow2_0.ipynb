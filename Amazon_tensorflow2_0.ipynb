{
  "nbformat": 4,
  "nbformat_minor": 0,
  "metadata": {
    "colab": {
      "name": "Amazon_tensorflow2.0.ipynb",
      "version": "0.3.2",
      "provenance": [],
      "include_colab_link": true
    },
    "kernelspec": {
      "name": "python3",
      "display_name": "Python 3"
    }
  },
  "cells": [
    {
      "cell_type": "markdown",
      "metadata": {
        "id": "view-in-github",
        "colab_type": "text"
      },
      "source": [
        "<a href=\"https://colab.research.google.com/github/smitaforward/Data_Science/blob/master/Amazon_tensorflow2_0.ipynb\" target=\"_parent\"><img src=\"https://colab.research.google.com/assets/colab-badge.svg\" alt=\"Open In Colab\"/></a>"
      ]
    },
    {
      "metadata": {
        "id": "iLgXXoFuxayL",
        "colab_type": "code",
        "colab": {
          "base_uri": "https://localhost:8080/",
          "height": 510
        },
        "outputId": "9b99479f-4b40-4926-d92e-f2ed5ff501a7"
      },
      "cell_type": "code",
      "source": [
        "!pip install tensorflow-gpu==2.0.0-alpha0\n",
        "# !pip install tensorflow==2.0.0-alpha0"
      ],
      "execution_count": 1,
      "outputs": [
        {
          "output_type": "stream",
          "text": [
            "Collecting tensorflow-gpu==2.0.0-alpha0\n",
            "\u001b[?25l  Downloading https://files.pythonhosted.org/packages/1a/66/32cffad095253219d53f6b6c2a436637bbe45ac4e7be0244557210dc3918/tensorflow_gpu-2.0.0a0-cp36-cp36m-manylinux1_x86_64.whl (332.1MB)\n",
            "\u001b[K    100% |████████████████████████████████| 332.1MB 57kB/s \n",
            "\u001b[?25hRequirement already satisfied: gast>=0.2.0 in /usr/local/lib/python3.6/dist-packages (from tensorflow-gpu==2.0.0-alpha0) (0.2.2)\n",
            "Collecting google-pasta>=0.1.2 (from tensorflow-gpu==2.0.0-alpha0)\n",
            "\u001b[?25l  Downloading https://files.pythonhosted.org/packages/8c/96/adbd4eafe72ce9b5ca6f168fbf109386e1b601f7c59926a11e9d7b7a5b44/google_pasta-0.1.4-py3-none-any.whl (51kB)\n",
            "\u001b[K    100% |████████████████████████████████| 61kB 21.2MB/s \n",
            "\u001b[?25hRequirement already satisfied: termcolor>=1.1.0 in /usr/local/lib/python3.6/dist-packages (from tensorflow-gpu==2.0.0-alpha0) (1.1.0)\n",
            "Requirement already satisfied: keras-applications>=1.0.6 in /usr/local/lib/python3.6/dist-packages (from tensorflow-gpu==2.0.0-alpha0) (1.0.7)\n",
            "Requirement already satisfied: wheel>=0.26 in /usr/local/lib/python3.6/dist-packages (from tensorflow-gpu==2.0.0-alpha0) (0.33.1)\n",
            "Requirement already satisfied: protobuf>=3.6.1 in /usr/local/lib/python3.6/dist-packages (from tensorflow-gpu==2.0.0-alpha0) (3.6.1)\n",
            "Requirement already satisfied: absl-py>=0.7.0 in /usr/local/lib/python3.6/dist-packages (from tensorflow-gpu==2.0.0-alpha0) (0.7.0)\n",
            "Requirement already satisfied: keras-preprocessing>=1.0.5 in /usr/local/lib/python3.6/dist-packages (from tensorflow-gpu==2.0.0-alpha0) (1.0.9)\n",
            "Requirement already satisfied: astor>=0.6.0 in /usr/local/lib/python3.6/dist-packages (from tensorflow-gpu==2.0.0-alpha0) (0.7.1)\n",
            "Requirement already satisfied: six>=1.10.0 in /usr/local/lib/python3.6/dist-packages (from tensorflow-gpu==2.0.0-alpha0) (1.11.0)\n",
            "Collecting tf-estimator-nightly<1.14.0.dev2019030116,>=1.14.0.dev2019030115 (from tensorflow-gpu==2.0.0-alpha0)\n",
            "\u001b[?25l  Downloading https://files.pythonhosted.org/packages/13/82/f16063b4eed210dc2ab057930ac1da4fbe1e91b7b051a6c8370b401e6ae7/tf_estimator_nightly-1.14.0.dev2019030115-py2.py3-none-any.whl (411kB)\n",
            "\u001b[K    100% |████████████████████████████████| 419kB 12.0MB/s \n",
            "\u001b[?25hCollecting tb-nightly<1.14.0a20190302,>=1.14.0a20190301 (from tensorflow-gpu==2.0.0-alpha0)\n",
            "\u001b[?25l  Downloading https://files.pythonhosted.org/packages/a9/51/aa1d756644bf4624c03844115e4ac4058eff77acd786b26315f051a4b195/tb_nightly-1.14.0a20190301-py3-none-any.whl (3.0MB)\n",
            "\u001b[K    100% |████████████████████████████████| 3.0MB 7.0MB/s \n",
            "\u001b[?25hRequirement already satisfied: numpy<2.0,>=1.14.5 in /usr/local/lib/python3.6/dist-packages (from tensorflow-gpu==2.0.0-alpha0) (1.14.6)\n",
            "Requirement already satisfied: grpcio>=1.8.6 in /usr/local/lib/python3.6/dist-packages (from tensorflow-gpu==2.0.0-alpha0) (1.15.0)\n",
            "Requirement already satisfied: h5py in /usr/local/lib/python3.6/dist-packages (from keras-applications>=1.0.6->tensorflow-gpu==2.0.0-alpha0) (2.8.0)\n",
            "Requirement already satisfied: setuptools in /usr/local/lib/python3.6/dist-packages (from protobuf>=3.6.1->tensorflow-gpu==2.0.0-alpha0) (40.8.0)\n",
            "Requirement already satisfied: werkzeug>=0.11.15 in /usr/local/lib/python3.6/dist-packages (from tb-nightly<1.14.0a20190302,>=1.14.0a20190301->tensorflow-gpu==2.0.0-alpha0) (0.14.1)\n",
            "Requirement already satisfied: markdown>=2.6.8 in /usr/local/lib/python3.6/dist-packages (from tb-nightly<1.14.0a20190302,>=1.14.0a20190301->tensorflow-gpu==2.0.0-alpha0) (3.0.1)\n",
            "Installing collected packages: google-pasta, tf-estimator-nightly, tb-nightly, tensorflow-gpu\n",
            "Successfully installed google-pasta-0.1.4 tb-nightly-1.14.0a20190301 tensorflow-gpu-2.0.0a0 tf-estimator-nightly-1.14.0.dev2019030115\n"
          ],
          "name": "stdout"
        }
      ]
    },
    {
      "metadata": {
        "id": "UQ631rmxxbuR",
        "colab_type": "code",
        "colab": {
          "base_uri": "https://localhost:8080/",
          "height": 34
        },
        "outputId": "68ef238d-3485-486b-cc19-e04789301720"
      },
      "cell_type": "code",
      "source": [
        "import tensorflow as tf\n",
        "print(tf.__version__)"
      ],
      "execution_count": 2,
      "outputs": [
        {
          "output_type": "stream",
          "text": [
            "2.0.0-alpha0\n"
          ],
          "name": "stdout"
        }
      ]
    },
    {
      "metadata": {
        "id": "MDsu4hZOyn1R",
        "colab_type": "code",
        "colab": {}
      },
      "cell_type": "code",
      "source": [
        "from tensorflow import keras\n",
        "import numpy as np\n",
        "import pandas as pd"
      ],
      "execution_count": 0,
      "outputs": []
    },
    {
      "metadata": {
        "id": "CbJLB6frypxQ",
        "colab_type": "text"
      },
      "cell_type": "markdown",
      "source": [
        "# Amazon comments"
      ]
    },
    {
      "metadata": {
        "id": "KJ3ER5Qzyov3",
        "colab_type": "code",
        "colab": {}
      },
      "cell_type": "code",
      "source": [
        " data_path = \"https://s3.amazonaws.com/tomk/h2o-world/megan/AmazonReviews.csv\"\n",
        "data = pd.read_csv(data_path)"
      ],
      "execution_count": 0,
      "outputs": []
    },
    {
      "metadata": {
        "id": "efVH6iaCynyu",
        "colab_type": "code",
        "colab": {
          "base_uri": "https://localhost:8080/",
          "height": 204
        },
        "outputId": "0fe2f3ed-944c-4ae8-8a66-23daeca8034a"
      },
      "cell_type": "code",
      "source": [
        "data.head()"
      ],
      "execution_count": 13,
      "outputs": [
        {
          "output_type": "execute_result",
          "data": {
            "text/html": [
              "<div>\n",
              "<style scoped>\n",
              "    .dataframe tbody tr th:only-of-type {\n",
              "        vertical-align: middle;\n",
              "    }\n",
              "\n",
              "    .dataframe tbody tr th {\n",
              "        vertical-align: top;\n",
              "    }\n",
              "\n",
              "    .dataframe thead th {\n",
              "        text-align: right;\n",
              "    }\n",
              "</style>\n",
              "<table border=\"1\" class=\"dataframe\">\n",
              "  <thead>\n",
              "    <tr style=\"text-align: right;\">\n",
              "      <th></th>\n",
              "      <th>ProductId</th>\n",
              "      <th>UserId</th>\n",
              "      <th>Summary</th>\n",
              "      <th>Score</th>\n",
              "      <th>HelpfulnessDenominator</th>\n",
              "      <th>Id</th>\n",
              "      <th>ProfileName</th>\n",
              "      <th>HelpfulnessNumerator</th>\n",
              "      <th>Time</th>\n",
              "      <th>Text</th>\n",
              "    </tr>\n",
              "  </thead>\n",
              "  <tbody>\n",
              "    <tr>\n",
              "      <th>0</th>\n",
              "      <td>B00141QYSQ</td>\n",
              "      <td>A1YS02UZZGRDCT</td>\n",
              "      <td>Do Not Buy</td>\n",
              "      <td>1</td>\n",
              "      <td>2</td>\n",
              "      <td>41471</td>\n",
              "      <td>Evan Eberhardt</td>\n",
              "      <td>2</td>\n",
              "      <td>1348358400</td>\n",
              "      <td>These are made in China (do not buy ANY pet fo...</td>\n",
              "    </tr>\n",
              "    <tr>\n",
              "      <th>1</th>\n",
              "      <td>B0089SPEO2</td>\n",
              "      <td>A3JOYNYL458QHP</td>\n",
              "      <td>Less lemon and less zing</td>\n",
              "      <td>3</td>\n",
              "      <td>0</td>\n",
              "      <td>28582</td>\n",
              "      <td>coleridge</td>\n",
              "      <td>0</td>\n",
              "      <td>1323907200</td>\n",
              "      <td>Everything is ok, except it just isn't as good...</td>\n",
              "    </tr>\n",
              "    <tr>\n",
              "      <th>2</th>\n",
              "      <td>B001PMCDK2</td>\n",
              "      <td>A14TTMM0Z03Y2W</td>\n",
              "      <td>my cat goes crazy for these!</td>\n",
              "      <td>5</td>\n",
              "      <td>0</td>\n",
              "      <td>389965</td>\n",
              "      <td>Lindsay S. Bradford</td>\n",
              "      <td>0</td>\n",
              "      <td>1310601600</td>\n",
              "      <td>Best cat treat ever. There isn't anything comp...</td>\n",
              "    </tr>\n",
              "    <tr>\n",
              "      <th>3</th>\n",
              "      <td>B002Q8JOSI</td>\n",
              "      <td>A17UQD2RSSQH5X</td>\n",
              "      <td>My dogs tell me these treats are YUMMY</td>\n",
              "      <td>5</td>\n",
              "      <td>1</td>\n",
              "      <td>212536</td>\n",
              "      <td>in the dark</td>\n",
              "      <td>1</td>\n",
              "      <td>1316131200</td>\n",
              "      <td>My two Corgis were thoroughly spoiled by my la...</td>\n",
              "    </tr>\n",
              "    <tr>\n",
              "      <th>4</th>\n",
              "      <td>B00176G870</td>\n",
              "      <td>A2F2MZW8EOGH5J</td>\n",
              "      <td>Yummy to the tummy</td>\n",
              "      <td>5</td>\n",
              "      <td>0</td>\n",
              "      <td>115971</td>\n",
              "      <td>daemoncycler \"When you arrive at a fork in th...</td>\n",
              "      <td>0</td>\n",
              "      <td>1334793600</td>\n",
              "      <td>We used to have drive down to the specialty pe...</td>\n",
              "    </tr>\n",
              "  </tbody>\n",
              "</table>\n",
              "</div>"
            ],
            "text/plain": [
              "    ProductId          UserId                                 Summary  Score  \\\n",
              "0  B00141QYSQ  A1YS02UZZGRDCT                              Do Not Buy      1   \n",
              "1  B0089SPEO2  A3JOYNYL458QHP                Less lemon and less zing      3   \n",
              "2  B001PMCDK2  A14TTMM0Z03Y2W            my cat goes crazy for these!      5   \n",
              "3  B002Q8JOSI  A17UQD2RSSQH5X  My dogs tell me these treats are YUMMY      5   \n",
              "4  B00176G870  A2F2MZW8EOGH5J                      Yummy to the tummy      5   \n",
              "\n",
              "   HelpfulnessDenominator      Id  \\\n",
              "0                       2   41471   \n",
              "1                       0   28582   \n",
              "2                       0  389965   \n",
              "3                       1  212536   \n",
              "4                       0  115971   \n",
              "\n",
              "                                        ProfileName  HelpfulnessNumerator  \\\n",
              "0                                    Evan Eberhardt                     2   \n",
              "1                                         coleridge                     0   \n",
              "2                               Lindsay S. Bradford                     0   \n",
              "3                                       in the dark                     1   \n",
              "4  daemoncycler \"When you arrive at a fork in th...                     0   \n",
              "\n",
              "         Time                                               Text  \n",
              "0  1348358400  These are made in China (do not buy ANY pet fo...  \n",
              "1  1323907200  Everything is ok, except it just isn't as good...  \n",
              "2  1310601600  Best cat treat ever. There isn't anything comp...  \n",
              "3  1316131200  My two Corgis were thoroughly spoiled by my la...  \n",
              "4  1334793600  We used to have drive down to the specialty pe...  "
            ]
          },
          "metadata": {
            "tags": []
          },
          "execution_count": 13
        }
      ]
    },
    {
      "metadata": {
        "id": "vM5U8puGyniK",
        "colab_type": "code",
        "colab": {}
      },
      "cell_type": "code",
      "source": [
        ""
      ],
      "execution_count": 0,
      "outputs": []
    },
    {
      "metadata": {
        "id": "g2gdfKT_ynfF",
        "colab_type": "code",
        "colab": {}
      },
      "cell_type": "code",
      "source": [
        ""
      ],
      "execution_count": 0,
      "outputs": []
    },
    {
      "metadata": {
        "id": "Jy6qy71GyncX",
        "colab_type": "code",
        "colab": {}
      },
      "cell_type": "code",
      "source": [
        ""
      ],
      "execution_count": 0,
      "outputs": []
    },
    {
      "metadata": {
        "id": "xqDJfVYCyiTJ",
        "colab_type": "text"
      },
      "cell_type": "markdown",
      "source": [
        "# Quick Example About IMDB"
      ]
    },
    {
      "metadata": {
        "id": "HWX5uzcCyTXh",
        "colab_type": "code",
        "colab": {
          "base_uri": "https://localhost:8080/",
          "height": 51
        },
        "outputId": "c35fcfd1-b507-41c5-9c86-0ab63572b2ae"
      },
      "cell_type": "code",
      "source": [
        "imdb = keras.datasets.imdb\n",
        "(train_data, train_labels), (test_data, test_labels) = imdb.load_data(num_words = 10000)"
      ],
      "execution_count": 4,
      "outputs": [
        {
          "output_type": "stream",
          "text": [
            "Downloading data from https://storage.googleapis.com/tensorflow/tf-keras-datasets/imdb.npz\n",
            "17465344/17464789 [==============================] - 0s 0us/step\n"
          ],
          "name": "stdout"
        }
      ]
    },
    {
      "metadata": {
        "id": "Duc5MickzjXR",
        "colab_type": "text"
      },
      "cell_type": "markdown",
      "source": [
        "Explore the data"
      ]
    },
    {
      "metadata": {
        "id": "XV-SjmOuzLGy",
        "colab_type": "code",
        "colab": {
          "base_uri": "https://localhost:8080/",
          "height": 34
        },
        "outputId": "22916fd1-34b7-4e62-c9ef-6edb0c634c13"
      },
      "cell_type": "code",
      "source": [
        "print(f'Training entries:{len(train_data)}, labels: {len(train_labels)}')"
      ],
      "execution_count": 5,
      "outputs": [
        {
          "output_type": "stream",
          "text": [
            "Training entries:25000, labels: 25000\n"
          ],
          "name": "stdout"
        }
      ]
    },
    {
      "metadata": {
        "id": "1fcz7xFazgE_",
        "colab_type": "code",
        "colab": {
          "base_uri": "https://localhost:8080/",
          "height": 54
        },
        "outputId": "579a5112-f457-45f2-f731-117709e21e70"
      },
      "cell_type": "code",
      "source": [
        "print(train_data[0])"
      ],
      "execution_count": 6,
      "outputs": [
        {
          "output_type": "stream",
          "text": [
            "[1, 14, 22, 16, 43, 530, 973, 1622, 1385, 65, 458, 4468, 66, 3941, 4, 173, 36, 256, 5, 25, 100, 43, 838, 112, 50, 670, 2, 9, 35, 480, 284, 5, 150, 4, 172, 112, 167, 2, 336, 385, 39, 4, 172, 4536, 1111, 17, 546, 38, 13, 447, 4, 192, 50, 16, 6, 147, 2025, 19, 14, 22, 4, 1920, 4613, 469, 4, 22, 71, 87, 12, 16, 43, 530, 38, 76, 15, 13, 1247, 4, 22, 17, 515, 17, 12, 16, 626, 18, 2, 5, 62, 386, 12, 8, 316, 8, 106, 5, 4, 2223, 5244, 16, 480, 66, 3785, 33, 4, 130, 12, 16, 38, 619, 5, 25, 124, 51, 36, 135, 48, 25, 1415, 33, 6, 22, 12, 215, 28, 77, 52, 5, 14, 407, 16, 82, 2, 8, 4, 107, 117, 5952, 15, 256, 4, 2, 7, 3766, 5, 723, 36, 71, 43, 530, 476, 26, 400, 317, 46, 7, 4, 2, 1029, 13, 104, 88, 4, 381, 15, 297, 98, 32, 2071, 56, 26, 141, 6, 194, 7486, 18, 4, 226, 22, 21, 134, 476, 26, 480, 5, 144, 30, 5535, 18, 51, 36, 28, 224, 92, 25, 104, 4, 226, 65, 16, 38, 1334, 88, 12, 16, 283, 5, 16, 4472, 113, 103, 32, 15, 16, 5345, 19, 178, 32]\n"
          ],
          "name": "stdout"
        }
      ]
    },
    {
      "metadata": {
        "id": "9Qt5Jt2ZznY1",
        "colab_type": "code",
        "colab": {
          "base_uri": "https://localhost:8080/",
          "height": 34
        },
        "outputId": "ae37578b-48bc-49b1-9252-90ac552b528b"
      },
      "cell_type": "code",
      "source": [
        "print(len(train_data[0]), len(train_data[1]))"
      ],
      "execution_count": 7,
      "outputs": [
        {
          "output_type": "stream",
          "text": [
            "218 189\n"
          ],
          "name": "stdout"
        }
      ]
    },
    {
      "metadata": {
        "id": "ctaxbgj2HzwU",
        "colab_type": "code",
        "colab": {}
      },
      "cell_type": "code",
      "source": [
        "# A dictionary mapping words to an integer index\n",
        "word_index = imdb.get_word_index()"
      ],
      "execution_count": 0,
      "outputs": []
    },
    {
      "metadata": {
        "id": "a6305Hw2zwhN",
        "colab_type": "code",
        "colab": {
          "base_uri": "https://localhost:8080/",
          "height": 54
        },
        "outputId": "cb3c23fa-e83d-498b-dfd5-be567d41bad4"
      },
      "cell_type": "code",
      "source": [
        "# The first indices are reserved\n",
        "word_index = {k:(v+3) for k,v in word_index.items()} \n",
        "word_index[\"<PAD>\"] = 0\n",
        "word_index[\"<START>\"] = 1\n",
        "word_index[\"<UNK>\"] = 2  # unknown\n",
        "word_index[\"<UNUSED>\"] = 3\n",
        "\n",
        "reverse_word_index = dict([(value, key) for (key, value) in word_index.items()])\n",
        "\n",
        "def decode_review(text):\n",
        "    return ' '.join([reverse_word_index.get(i, '?') for i in text])\n",
        "  \n",
        "decode_review(train_data[0])"
      ],
      "execution_count": 13,
      "outputs": [
        {
          "output_type": "execute_result",
          "data": {
            "text/plain": [
              "\"<START> in with i like horrible business chinese charm would killer waited which explosion ? going at fun ? film make like lame character has novel <UNK> a all final sense ? real ? find character nothing <UNK> second perhaps they ? find valuable cover this city an br overall ? horror has i ? should shop was in with ? delightful 00 despite ? with their people is i like horrible an well it br garbage ? with this genre this is i taken that <UNK> ? she sex is and house and after ? ? product bud i final which returned be ? does is i an annoying ? film where if at man it's film sent be ? with is comedy you than some ? in perfect i get <UNK> and ? think plot windows it fun ? <UNK> the lou ? sequence at their like horrible wanted on getting night just the ? <UNK> rich br any other ? couple it someone then he decade more on why ? can't ajay that ? family with for still wanted on final ? such his lindsay that if at you interesting how film any ? family would i an g other is i once ? i boot seen could he it i pitiful was every he\""
            ]
          },
          "metadata": {
            "tags": []
          },
          "execution_count": 13
        }
      ]
    },
    {
      "metadata": {
        "id": "Bo8kdqoy0jyv",
        "colab_type": "text"
      },
      "cell_type": "markdown",
      "source": [
        "Prep the data"
      ]
    },
    {
      "metadata": {
        "id": "VHi72dxwz-X6",
        "colab_type": "code",
        "colab": {}
      },
      "cell_type": "code",
      "source": [
        "train_data = keras.preprocessing.sequence.pad_sequences(train_data,\n",
        "                                                        value=word_index[\"<PAD>\"],\n",
        "                                                        padding='post',\n",
        "                                                        maxlen=256)\n",
        "\n",
        "test_data = keras.preprocessing.sequence.pad_sequences(test_data,\n",
        "                                                       value=word_index[\"<PAD>\"],\n",
        "                                                       padding='post',\n",
        "                                                       maxlen=256)"
      ],
      "execution_count": 0,
      "outputs": []
    },
    {
      "metadata": {
        "id": "IjtaescM0lNm",
        "colab_type": "code",
        "colab": {
          "base_uri": "https://localhost:8080/",
          "height": 34
        },
        "outputId": "bbc35852-686c-4bc9-87d5-8f07adceb880"
      },
      "cell_type": "code",
      "source": [
        "print(len(train_data[0]), len(train_data[1]))"
      ],
      "execution_count": 16,
      "outputs": [
        {
          "output_type": "stream",
          "text": [
            "256 256\n"
          ],
          "name": "stdout"
        }
      ]
    },
    {
      "metadata": {
        "id": "02kpZ1_Y0p2m",
        "colab_type": "code",
        "colab": {
          "base_uri": "https://localhost:8080/",
          "height": 340
        },
        "outputId": "5123254e-eb74-4b5e-943e-a87820ce8db8"
      },
      "cell_type": "code",
      "source": [
        "print(train_data[0])"
      ],
      "execution_count": 17,
      "outputs": [
        {
          "output_type": "stream",
          "text": [
            "[   1   14   22   16   43  530  973 1622 1385   65  458 4468   66 3941\n",
            "    4  173   36  256    5   25  100   43  838  112   50  670    2    9\n",
            "   35  480  284    5  150    4  172  112  167    2  336  385   39    4\n",
            "  172 4536 1111   17  546   38   13  447    4  192   50   16    6  147\n",
            " 2025   19   14   22    4 1920 4613  469    4   22   71   87   12   16\n",
            "   43  530   38   76   15   13 1247    4   22   17  515   17   12   16\n",
            "  626   18    2    5   62  386   12    8  316    8  106    5    4 2223\n",
            " 5244   16  480   66 3785   33    4  130   12   16   38  619    5   25\n",
            "  124   51   36  135   48   25 1415   33    6   22   12  215   28   77\n",
            "   52    5   14  407   16   82    2    8    4  107  117 5952   15  256\n",
            "    4    2    7 3766    5  723   36   71   43  530  476   26  400  317\n",
            "   46    7    4    2 1029   13  104   88    4  381   15  297   98   32\n",
            " 2071   56   26  141    6  194 7486   18    4  226   22   21  134  476\n",
            "   26  480    5  144   30 5535   18   51   36   28  224   92   25  104\n",
            "    4  226   65   16   38 1334   88   12   16  283    5   16 4472  113\n",
            "  103   32   15   16 5345   19  178   32    0    0    0    0    0    0\n",
            "    0    0    0    0    0    0    0    0    0    0    0    0    0    0\n",
            "    0    0    0    0    0    0    0    0    0    0    0    0    0    0\n",
            "    0    0    0    0]\n"
          ],
          "name": "stdout"
        }
      ]
    },
    {
      "metadata": {
        "id": "5ss9w5G9571U",
        "colab_type": "text"
      },
      "cell_type": "markdown",
      "source": [
        "## Toy Model"
      ]
    },
    {
      "metadata": {
        "id": "92CVNRYu1BWQ",
        "colab_type": "text"
      },
      "cell_type": "markdown",
      "source": [
        "Build the model"
      ]
    },
    {
      "metadata": {
        "id": "7JGW7Hs80vKX",
        "colab_type": "code",
        "colab": {
          "base_uri": "https://localhost:8080/",
          "height": 289
        },
        "outputId": "1c343274-78d6-4552-ca40-d4a193b78dc1"
      },
      "cell_type": "code",
      "source": [
        "# input shape is the vocabulary count used for the movie reviews (10,000 words)\n",
        "vocab_size = 10000\n",
        "\n",
        "model = keras.Sequential()\n",
        "model.add(keras.layers.Embedding(vocab_size, 16))\n",
        "model.add(keras.layers.GlobalAveragePooling1D())\n",
        "model.add(keras.layers.Dense(16, activation='relu'))\n",
        "model.add(keras.layers.Dense(1, activation='sigmoid'))\n",
        "\n",
        "model.summary()"
      ],
      "execution_count": 34,
      "outputs": [
        {
          "output_type": "stream",
          "text": [
            "Model: \"sequential_3\"\n",
            "_________________________________________________________________\n",
            "Layer (type)                 Output Shape              Param #   \n",
            "=================================================================\n",
            "embedding_2 (Embedding)      (None, None, 16)          160000    \n",
            "_________________________________________________________________\n",
            "global_average_pooling1d_2 ( (None, 16)                0         \n",
            "_________________________________________________________________\n",
            "dense_4 (Dense)              (None, 16)                272       \n",
            "_________________________________________________________________\n",
            "dense_5 (Dense)              (None, 1)                 17        \n",
            "=================================================================\n",
            "Total params: 160,289\n",
            "Trainable params: 160,289\n",
            "Non-trainable params: 0\n",
            "_________________________________________________________________\n"
          ],
          "name": "stdout"
        }
      ]
    },
    {
      "metadata": {
        "id": "6oQvq6sv1ikf",
        "colab_type": "code",
        "colab": {}
      },
      "cell_type": "code",
      "source": [
        "model.compile(optimizer='adam',\n",
        "              loss='binary_crossentropy',\n",
        "              metrics=['accuracy'])"
      ],
      "execution_count": 0,
      "outputs": []
    },
    {
      "metadata": {
        "id": "MOD2HXKd21XB",
        "colab_type": "text"
      },
      "cell_type": "markdown",
      "source": [
        "Train the model"
      ]
    },
    {
      "metadata": {
        "id": "yymGCn-t2EeT",
        "colab_type": "code",
        "colab": {}
      },
      "cell_type": "code",
      "source": [
        "# create validation set\n",
        "x_val = train_data[:10000]\n",
        "partial_x_train = train_data[10000:]\n",
        "\n",
        "y_val = train_labels[:10000]\n",
        "partial_y_train = train_labels[10000:]"
      ],
      "execution_count": 0,
      "outputs": []
    },
    {
      "metadata": {
        "id": "or8eFQSy2S0p",
        "colab_type": "code",
        "colab": {
          "base_uri": "https://localhost:8080/",
          "height": 1394
        },
        "outputId": "06e27d11-5781-4954-8aef-194a584f520d"
      },
      "cell_type": "code",
      "source": [
        "history = model.fit(partial_x_train,\n",
        "                    partial_y_train,\n",
        "                    epochs=40,\n",
        "                    batch_size=512,\n",
        "                    validation_data=(x_val, y_val),\n",
        "                    verbose=1) # means print out the training info"
      ],
      "execution_count": 21,
      "outputs": [
        {
          "output_type": "stream",
          "text": [
            "Train on 15000 samples, validate on 10000 samples\n",
            "Epoch 1/40\n",
            "15000/15000 [==============================] - 1s 93us/sample - loss: 0.6914 - accuracy: 0.6069 - val_loss: 0.6884 - val_accuracy: 0.7118\n",
            "Epoch 2/40\n",
            "15000/15000 [==============================] - 1s 70us/sample - loss: 0.6832 - accuracy: 0.7348 - val_loss: 0.6774 - val_accuracy: 0.7399\n",
            "Epoch 3/40\n",
            "15000/15000 [==============================] - 1s 67us/sample - loss: 0.6658 - accuracy: 0.7581 - val_loss: 0.6558 - val_accuracy: 0.7565\n",
            "Epoch 4/40\n",
            "15000/15000 [==============================] - 1s 68us/sample - loss: 0.6366 - accuracy: 0.7686 - val_loss: 0.6231 - val_accuracy: 0.7608\n",
            "Epoch 5/40\n",
            "15000/15000 [==============================] - 1s 81us/sample - loss: 0.5956 - accuracy: 0.7976 - val_loss: 0.5816 - val_accuracy: 0.7912\n",
            "Epoch 6/40\n",
            "15000/15000 [==============================] - 1s 68us/sample - loss: 0.5468 - accuracy: 0.8218 - val_loss: 0.5364 - val_accuracy: 0.8110\n",
            "Epoch 7/40\n",
            "15000/15000 [==============================] - 1s 67us/sample - loss: 0.4955 - accuracy: 0.8379 - val_loss: 0.4897 - val_accuracy: 0.8287\n",
            "Epoch 8/40\n",
            "15000/15000 [==============================] - 1s 67us/sample - loss: 0.4470 - accuracy: 0.8558 - val_loss: 0.4493 - val_accuracy: 0.8403\n",
            "Epoch 9/40\n",
            "15000/15000 [==============================] - 1s 67us/sample - loss: 0.4043 - accuracy: 0.8698 - val_loss: 0.4149 - val_accuracy: 0.8508\n",
            "Epoch 10/40\n",
            "15000/15000 [==============================] - 1s 68us/sample - loss: 0.3679 - accuracy: 0.8805 - val_loss: 0.3878 - val_accuracy: 0.8562\n",
            "Epoch 11/40\n",
            "15000/15000 [==============================] - 1s 67us/sample - loss: 0.3378 - accuracy: 0.8891 - val_loss: 0.3659 - val_accuracy: 0.8631\n",
            "Epoch 12/40\n",
            "15000/15000 [==============================] - 1s 66us/sample - loss: 0.3127 - accuracy: 0.8947 - val_loss: 0.3492 - val_accuracy: 0.8673\n",
            "Epoch 13/40\n",
            "15000/15000 [==============================] - 1s 66us/sample - loss: 0.2921 - accuracy: 0.9009 - val_loss: 0.3348 - val_accuracy: 0.8730\n",
            "Epoch 14/40\n",
            "15000/15000 [==============================] - 1s 68us/sample - loss: 0.2735 - accuracy: 0.9073 - val_loss: 0.3242 - val_accuracy: 0.8753\n",
            "Epoch 15/40\n",
            "15000/15000 [==============================] - 1s 68us/sample - loss: 0.2578 - accuracy: 0.9119 - val_loss: 0.3157 - val_accuracy: 0.8781\n",
            "Epoch 16/40\n",
            "15000/15000 [==============================] - 1s 67us/sample - loss: 0.2436 - accuracy: 0.9169 - val_loss: 0.3085 - val_accuracy: 0.8771\n",
            "Epoch 17/40\n",
            "15000/15000 [==============================] - 1s 67us/sample - loss: 0.2303 - accuracy: 0.9211 - val_loss: 0.3026 - val_accuracy: 0.8798\n",
            "Epoch 18/40\n",
            "15000/15000 [==============================] - 1s 67us/sample - loss: 0.2186 - accuracy: 0.9249 - val_loss: 0.2982 - val_accuracy: 0.8827\n",
            "Epoch 19/40\n",
            "15000/15000 [==============================] - 1s 67us/sample - loss: 0.2079 - accuracy: 0.9279 - val_loss: 0.2938 - val_accuracy: 0.8841\n",
            "Epoch 20/40\n",
            "15000/15000 [==============================] - 1s 67us/sample - loss: 0.1983 - accuracy: 0.9321 - val_loss: 0.2911 - val_accuracy: 0.8832\n",
            "Epoch 21/40\n",
            "15000/15000 [==============================] - 1s 66us/sample - loss: 0.1883 - accuracy: 0.9376 - val_loss: 0.2888 - val_accuracy: 0.8837\n",
            "Epoch 22/40\n",
            "15000/15000 [==============================] - 1s 67us/sample - loss: 0.1801 - accuracy: 0.9411 - val_loss: 0.2873 - val_accuracy: 0.8849\n",
            "Epoch 23/40\n",
            "15000/15000 [==============================] - 1s 67us/sample - loss: 0.1718 - accuracy: 0.9451 - val_loss: 0.2871 - val_accuracy: 0.8840\n",
            "Epoch 24/40\n",
            "15000/15000 [==============================] - 1s 66us/sample - loss: 0.1646 - accuracy: 0.9481 - val_loss: 0.2860 - val_accuracy: 0.8842\n",
            "Epoch 25/40\n",
            "15000/15000 [==============================] - 1s 66us/sample - loss: 0.1571 - accuracy: 0.9509 - val_loss: 0.2854 - val_accuracy: 0.8854\n",
            "Epoch 26/40\n",
            "15000/15000 [==============================] - 1s 67us/sample - loss: 0.1505 - accuracy: 0.9537 - val_loss: 0.2867 - val_accuracy: 0.8840\n",
            "Epoch 27/40\n",
            "15000/15000 [==============================] - 1s 66us/sample - loss: 0.1443 - accuracy: 0.9561 - val_loss: 0.2867 - val_accuracy: 0.8847\n",
            "Epoch 28/40\n",
            "15000/15000 [==============================] - 1s 66us/sample - loss: 0.1383 - accuracy: 0.9581 - val_loss: 0.2879 - val_accuracy: 0.8846\n",
            "Epoch 29/40\n",
            "15000/15000 [==============================] - 1s 67us/sample - loss: 0.1330 - accuracy: 0.9613 - val_loss: 0.2902 - val_accuracy: 0.8841\n",
            "Epoch 30/40\n",
            "15000/15000 [==============================] - 1s 66us/sample - loss: 0.1275 - accuracy: 0.9627 - val_loss: 0.2901 - val_accuracy: 0.8855\n",
            "Epoch 31/40\n",
            "15000/15000 [==============================] - 1s 66us/sample - loss: 0.1219 - accuracy: 0.9656 - val_loss: 0.2919 - val_accuracy: 0.8861\n",
            "Epoch 32/40\n",
            "15000/15000 [==============================] - 1s 68us/sample - loss: 0.1169 - accuracy: 0.9679 - val_loss: 0.2939 - val_accuracy: 0.8859\n",
            "Epoch 33/40\n",
            "15000/15000 [==============================] - 1s 66us/sample - loss: 0.1122 - accuracy: 0.9691 - val_loss: 0.2968 - val_accuracy: 0.8840\n",
            "Epoch 34/40\n",
            "15000/15000 [==============================] - 1s 67us/sample - loss: 0.1079 - accuracy: 0.9701 - val_loss: 0.2995 - val_accuracy: 0.8842\n",
            "Epoch 35/40\n",
            "15000/15000 [==============================] - 1s 66us/sample - loss: 0.1037 - accuracy: 0.9723 - val_loss: 0.3030 - val_accuracy: 0.8830\n",
            "Epoch 36/40\n",
            "15000/15000 [==============================] - 1s 67us/sample - loss: 0.0996 - accuracy: 0.9738 - val_loss: 0.3050 - val_accuracy: 0.8832\n",
            "Epoch 37/40\n",
            "15000/15000 [==============================] - 1s 66us/sample - loss: 0.0954 - accuracy: 0.9750 - val_loss: 0.3081 - val_accuracy: 0.8821\n",
            "Epoch 38/40\n",
            "15000/15000 [==============================] - 1s 66us/sample - loss: 0.0917 - accuracy: 0.9770 - val_loss: 0.3123 - val_accuracy: 0.8821\n",
            "Epoch 39/40\n",
            "15000/15000 [==============================] - 1s 66us/sample - loss: 0.0885 - accuracy: 0.9777 - val_loss: 0.3168 - val_accuracy: 0.8808\n",
            "Epoch 40/40\n",
            "15000/15000 [==============================] - 1s 67us/sample - loss: 0.0846 - accuracy: 0.9793 - val_loss: 0.3195 - val_accuracy: 0.8812\n"
          ],
          "name": "stdout"
        }
      ]
    },
    {
      "metadata": {
        "id": "WHeCiV4M29rt",
        "colab_type": "text"
      },
      "cell_type": "markdown",
      "source": [
        "Evaluate the model"
      ]
    },
    {
      "metadata": {
        "id": "yMYbBcsC2WT5",
        "colab_type": "code",
        "colab": {
          "base_uri": "https://localhost:8080/",
          "height": 51
        },
        "outputId": "36ee4fb8-03ea-4632-f996-06352029954a"
      },
      "cell_type": "code",
      "source": [
        "results = model.evaluate(test_data, test_labels)\n",
        "\n",
        "print(results)"
      ],
      "execution_count": 22,
      "outputs": [
        {
          "output_type": "stream",
          "text": [
            "25000/25000 [==============================] - 1s 40us/sample - loss: 0.3416 - accuracy: 0.8694\n",
            "[0.3415939032173157, 0.86944]\n"
          ],
          "name": "stdout"
        }
      ]
    },
    {
      "metadata": {
        "id": "guXwfhj33Deq",
        "colab_type": "text"
      },
      "cell_type": "markdown",
      "source": [
        "Graph of accuracy and loss overtime"
      ]
    },
    {
      "metadata": {
        "id": "zsJC1_Ch2bUQ",
        "colab_type": "code",
        "colab": {
          "base_uri": "https://localhost:8080/",
          "height": 34
        },
        "outputId": "058f13be-e52e-4e1d-a4d6-b0c95dfef5ea"
      },
      "cell_type": "code",
      "source": [
        "history_dict = history.history\n",
        "history_dict.keys()"
      ],
      "execution_count": 23,
      "outputs": [
        {
          "output_type": "execute_result",
          "data": {
            "text/plain": [
              "dict_keys(['loss', 'accuracy', 'val_loss', 'val_accuracy'])"
            ]
          },
          "metadata": {
            "tags": []
          },
          "execution_count": 23
        }
      ]
    },
    {
      "metadata": {
        "id": "2u2Aj8-33NOS",
        "colab_type": "code",
        "colab": {
          "base_uri": "https://localhost:8080/",
          "height": 376
        },
        "outputId": "97a0067d-953a-43e4-9201-327d9ad0c8f1"
      },
      "cell_type": "code",
      "source": [
        "import matplotlib.pyplot as plt\n",
        "\n",
        "acc = history_dict['accuracy']\n",
        "val_acc = history_dict['val_accuracy']\n",
        "loss = history_dict['loss']\n",
        "val_loss = history_dict['val_loss']\n",
        "\n",
        "epochs = range(1, len(acc) + 1)\n",
        "\n",
        "# \"bo\" is for \"blue dot\"\n",
        "plt.plot(epochs, loss, 'bo', label='Training loss')\n",
        "# b is for \"solid blue line\"\n",
        "plt.plot(epochs, val_loss, 'b', label='Validation loss')\n",
        "plt.title('Training and validation loss')\n",
        "plt.xlabel('Epochs')\n",
        "plt.ylabel('Loss')\n",
        "plt.legend()\n",
        "\n",
        "plt.show()"
      ],
      "execution_count": 24,
      "outputs": [
        {
          "output_type": "display_data",
          "data": {
            "image/png": "[encoded data removed]",
            "text/plain": [
              "<Figure size 576x396 with 1 Axes>"
            ]
          },
          "metadata": {
            "tags": []
          }
        }
      ]
    },
    {
      "metadata": {
        "id": "1rzQ7kvo3XYx",
        "colab_type": "code",
        "colab": {
          "base_uri": "https://localhost:8080/",
          "height": 376
        },
        "outputId": "acfbef40-aeee-460f-a874-77d22def3fe1"
      },
      "cell_type": "code",
      "source": [
        "plt.clf()   # clear figure\n",
        "\n",
        "plt.plot(epochs, acc, 'bo', label='Training acc')\n",
        "plt.plot(epochs, val_acc, 'b', label='Validation acc')\n",
        "plt.title('Training and validation accuracy')\n",
        "plt.xlabel('Epochs')\n",
        "plt.ylabel('Accuracy')\n",
        "plt.legend()\n",
        "\n",
        "plt.show()"
      ],
      "execution_count": 25,
      "outputs": [
        {
          "output_type": "display_data",
          "data": {
            "image/png": "[encoded data removed]",
            "text/plain": [
              "<Figure size 576x396 with 1 Axes>"
            ]
          },
          "metadata": {
            "tags": []
          }
        }
      ]
    },
    {
      "metadata": {
        "id": "y-FEefjF6Gvy",
        "colab_type": "text"
      },
      "cell_type": "markdown",
      "source": [
        "## seqCNN"
      ]
    },
    {
      "metadata": {
        "id": "sV9L5SfZ6LFY",
        "colab_type": "text"
      },
      "cell_type": "markdown",
      "source": [
        "Build the model"
      ]
    },
    {
      "metadata": {
        "id": "WWDp2vCF6BHa",
        "colab_type": "code",
        "colab": {}
      },
      "cell_type": "code",
      "source": [
        "def _get_last_layer_units_and_activation(num_classes):\n",
        "    \"\"\"Gets the # units and activation function for the last network layer.\n",
        "\n",
        "    # Arguments\n",
        "        num_classes: int, number of classes.\n",
        "\n",
        "    # Returns\n",
        "        units, activation values.\n",
        "    \"\"\"\n",
        "    if num_classes == 2:\n",
        "        activation = 'sigmoid'\n",
        "        units = 1\n",
        "    else:\n",
        "        activation = 'softmax'\n",
        "        units = num_classes\n",
        "    return units, activation"
      ],
      "execution_count": 0,
      "outputs": []
    },
    {
      "metadata": {
        "id": "f9vHHbSk6CK0",
        "colab_type": "code",
        "colab": {}
      },
      "cell_type": "code",
      "source": [
        "from tensorflow.keras import models\n",
        "from tensorflow.keras import initializers\n",
        "from tensorflow.keras import regularizers\n",
        "\n",
        "from tensorflow.keras.layers import Dense\n",
        "from tensorflow.keras.layers import Dropout\n",
        "from tensorflow.keras.layers import Embedding\n",
        "from tensorflow.keras.layers import SeparableConv1D\n",
        "from tensorflow.keras.layers import MaxPooling1D\n",
        "from tensorflow.keras.layers import GlobalAveragePooling1D\n",
        "\n",
        "def sepcnn_model(blocks,\n",
        "                 filters,\n",
        "                 kernel_size,\n",
        "                 embedding_dim,\n",
        "                 dropout_rate,\n",
        "                 pool_size,\n",
        "                 input_shape,\n",
        "                 num_classes,\n",
        "                 num_features,\n",
        "                 use_pretrained_embedding=False,\n",
        "                 is_embedding_trainable=False,\n",
        "                 embedding_matrix=None):\n",
        "    \"\"\"Creates an instance of a separable CNN model.\n",
        "\n",
        "    # Arguments\n",
        "        blocks: int, number of pairs of sepCNN and pooling blocks in the model.\n",
        "        filters: int, output dimension of the layers.\n",
        "        kernel_size: int, length of the convolution window.\n",
        "        embedding_dim: int, dimension of the embedding vectors.\n",
        "        dropout_rate: float, percentage of input to drop at Dropout layers.\n",
        "        pool_size: int, factor by which to downscale input at MaxPooling layer.\n",
        "        input_shape: tuple, shape of input to the model.\n",
        "        num_classes: int, number of output classes.\n",
        "        num_features: int, number of words (embedding input dimension).\n",
        "        use_pretrained_embedding: bool, true if pre-trained embedding is on.\n",
        "        is_embedding_trainable: bool, true if embedding layer is trainable.\n",
        "        embedding_matrix: dict, dictionary with embedding coefficients.\n",
        "\n",
        "    # Returns\n",
        "        A sepCNN model instance.\n",
        "    \"\"\"\n",
        "    op_units, op_activation = _get_last_layer_units_and_activation(num_classes)\n",
        "    model = models.Sequential()\n",
        "\n",
        "    # Add embedding layer. If pre-trained embedding is used add weights to the\n",
        "    # embeddings layer and set trainable to input is_embedding_trainable flag.\n",
        "    if use_pretrained_embedding:\n",
        "        model.add(Embedding(input_dim=num_features,\n",
        "                            output_dim=embedding_dim,\n",
        "                            input_length=input_shape[0],\n",
        "                            weights=[embedding_matrix],\n",
        "                            trainable=is_embedding_trainable))\n",
        "    else:\n",
        "      model.add(Embedding(input_dim=num_features, \n",
        "                          output_dim=embedding_dim))\n",
        "      \n",
        "#         model.add(Embedding(input_dim=num_features,\n",
        "#                             output_dim=embedding_dim,\n",
        "#                             input_length=input_shape[0]))\n",
        "\n",
        "\n",
        "\n",
        "    for _ in range(blocks-1):\n",
        "        model.add(Dropout(rate=dropout_rate))\n",
        "        model.add(SeparableConv1D(filters=filters,\n",
        "                                  kernel_size=kernel_size,\n",
        "                                  activation='relu',\n",
        "                                  bias_initializer='random_uniform',\n",
        "                                  depthwise_initializer='random_uniform',\n",
        "                                  padding='same'))\n",
        "        model.add(SeparableConv1D(filters=filters,\n",
        "                                  kernel_size=kernel_size,\n",
        "                                  activation='relu',\n",
        "                                  bias_initializer='random_uniform',\n",
        "                                  depthwise_initializer='random_uniform',\n",
        "                                  padding='same'))\n",
        "        model.add(MaxPooling1D(pool_size=pool_size))\n",
        "#       model.add(Dropout(rate=dropout_rate))\n",
        "      \n",
        "\n",
        "    model.add(SeparableConv1D(filters=filters * 2,\n",
        "                              kernel_size=kernel_size,\n",
        "                              activation='relu',\n",
        "                              bias_initializer='random_uniform',\n",
        "                              depthwise_initializer='random_uniform',\n",
        "                              padding='same'))\n",
        "    model.add(SeparableConv1D(filters=filters * 2,\n",
        "                              kernel_size=kernel_size,\n",
        "                              activation='relu',\n",
        "                              bias_initializer='random_uniform',\n",
        "                              depthwise_initializer='random_uniform',\n",
        "                              padding='same'))\n",
        "    model.add(GlobalAveragePooling1D())\n",
        "    model.add(Dropout(rate=dropout_rate))\n",
        "    model.add(Dense(op_units, activation=op_activation))\n",
        "    return model"
      ],
      "execution_count": 0,
      "outputs": []
    },
    {
      "metadata": {
        "id": "upjfXKm7indD",
        "colab_type": "code",
        "colab": {}
      },
      "cell_type": "code",
      "source": [
        "blocks=1\n",
        "filters=64\n",
        "kernel_size=3\n",
        "embedding_dim=200\n",
        "dropout_rate=0.2\n",
        "pool_size=3\n",
        "\n",
        "input_shape=partial_x_train.shape[1:]\n",
        "num_classes=2\n",
        "num_features = min(len(word_index) + 1, vocab_size)"
      ],
      "execution_count": 0,
      "outputs": []
    },
    {
      "metadata": {
        "id": "IZ0Tke6Gg-nE",
        "colab_type": "code",
        "colab": {}
      },
      "cell_type": "code",
      "source": [
        "model = sepcnn_model(blocks=blocks,\n",
        "                                     filters=filters,\n",
        "                                     kernel_size=kernel_size,\n",
        "                                     embedding_dim=embedding_dim,\n",
        "                                     dropout_rate=dropout_rate,\n",
        "                                     pool_size=pool_size,\n",
        "                                     input_shape=input_shape,\n",
        "                                     num_classes=num_classes,\n",
        "                                     num_features=num_features,\n",
        "                        is_embedding_trainable = True)"
      ],
      "execution_count": 0,
      "outputs": []
    },
    {
      "metadata": {
        "id": "iwxJa0GdhFNU",
        "colab_type": "code",
        "colab": {
          "base_uri": "https://localhost:8080/",
          "height": 357
        },
        "outputId": "658f2639-1ece-432d-ee3b-8dc2c99fd867"
      },
      "cell_type": "code",
      "source": [
        "model.summary()"
      ],
      "execution_count": 68,
      "outputs": [
        {
          "output_type": "stream",
          "text": [
            "Model: \"sequential_9\"\n",
            "_________________________________________________________________\n",
            "Layer (type)                 Output Shape              Param #   \n",
            "=================================================================\n",
            "embedding_8 (Embedding)      (None, None, 200)         2000000   \n",
            "_________________________________________________________________\n",
            "separable_conv1d_18 (Separab (None, None, 128)         26328     \n",
            "_________________________________________________________________\n",
            "separable_conv1d_19 (Separab (None, None, 128)         16896     \n",
            "_________________________________________________________________\n",
            "global_average_pooling1d_8 ( (None, 128)               0         \n",
            "_________________________________________________________________\n",
            "dropout_9 (Dropout)          (None, 128)               0         \n",
            "_________________________________________________________________\n",
            "dense_11 (Dense)             (None, 1)                 129       \n",
            "=================================================================\n",
            "Total params: 2,043,353\n",
            "Trainable params: 2,043,353\n",
            "Non-trainable params: 0\n",
            "_________________________________________________________________\n"
          ],
          "name": "stdout"
        }
      ]
    },
    {
      "metadata": {
        "id": "6zoFyWq-65JA",
        "colab_type": "text"
      },
      "cell_type": "markdown",
      "source": [
        "Train the model"
      ]
    },
    {
      "metadata": {
        "id": "EfWyOyJBlt8B",
        "colab_type": "code",
        "colab": {}
      },
      "cell_type": "code",
      "source": [
        "# Compile model with learning parameters.\n",
        "learning_rate=1e-3\n",
        "epochs=100\n",
        "batch_size=128\n",
        "loss = 'binary_crossentropy'\n",
        "optimizer = tf.keras.optimizers.Adam(lr=learning_rate)\n",
        "model.compile(optimizer=optimizer, loss=loss, metrics=['acc'])\n",
        "\n",
        "callbacks = [keras.callbacks.EarlyStopping(\n",
        "        monitor='val_loss', patience=2)]"
      ],
      "execution_count": 0,
      "outputs": []
    },
    {
      "metadata": {
        "id": "GMlBgnMZmj4h",
        "colab_type": "code",
        "colab": {}
      },
      "cell_type": "code",
      "source": [
        "x_val = train_data[:10000]\n",
        "partial_x_train = train_data[10000:]\n",
        "\n",
        "y_val = train_labels[:10000]\n",
        "partial_y_train = train_labels[10000:]"
      ],
      "execution_count": 0,
      "outputs": []
    },
    {
      "metadata": {
        "id": "bBIBSSybmS4Z",
        "colab_type": "code",
        "colab": {
          "base_uri": "https://localhost:8080/",
          "height": 238
        },
        "outputId": "f4bb800d-7ee5-40a8-e87b-3f5959311004"
      },
      "cell_type": "code",
      "source": [
        "history = model.fit(\n",
        "            partial_x_train,\n",
        "            partial_y_train,\n",
        "            epochs=epochs,\n",
        "            callbacks=callbacks,\n",
        "            validation_data=(x_val, y_val),\n",
        "            verbose=1,  # Logs once per epoch.\n",
        "            batch_size=batch_size)"
      ],
      "execution_count": 72,
      "outputs": [
        {
          "output_type": "stream",
          "text": [
            "Train on 15000 samples, validate on 10000 samples\n",
            "Epoch 1/100\n",
            "15000/15000 [==============================] - 45s 3ms/sample - loss: 0.6933 - acc: 0.5007 - val_loss: 0.6933 - val_acc: 0.4947\n",
            "Epoch 2/100\n",
            "15000/15000 [==============================] - 45s 3ms/sample - loss: 0.6730 - acc: 0.5595 - val_loss: 0.5338 - val_acc: 0.7498\n",
            "Epoch 3/100\n",
            "15000/15000 [==============================] - 45s 3ms/sample - loss: 0.3540 - acc: 0.8497 - val_loss: 0.3019 - val_acc: 0.8777\n",
            "Epoch 4/100\n",
            "15000/15000 [==============================] - 45s 3ms/sample - loss: 0.2185 - acc: 0.9175 - val_loss: 0.2878 - val_acc: 0.8856\n",
            "Epoch 5/100\n",
            "15000/15000 [==============================] - 45s 3ms/sample - loss: 0.1573 - acc: 0.9432 - val_loss: 0.3040 - val_acc: 0.8863\n",
            "Epoch 6/100\n",
            "15000/15000 [==============================] - 45s 3ms/sample - loss: 0.1141 - acc: 0.9584 - val_loss: 0.3377 - val_acc: 0.8840\n"
          ],
          "name": "stdout"
        }
      ]
    },
    {
      "metadata": {
        "id": "mZRF_wO9Q-VS",
        "colab_type": "text"
      },
      "cell_type": "markdown",
      "source": [
        "Evaluate the model"
      ]
    },
    {
      "metadata": {
        "id": "L6z5AaUsDxpT",
        "colab_type": "code",
        "colab": {
          "base_uri": "https://localhost:8080/",
          "height": 34
        },
        "outputId": "4b6e4fd8-7df6-4efa-d4a9-7bf119858d28"
      },
      "cell_type": "code",
      "source": [
        "results = model.evaluate(test_data, test_labels)"
      ],
      "execution_count": 73,
      "outputs": [
        {
          "output_type": "stream",
          "text": [
            "25000/25000 [==============================] - 22s 870us/sample - loss: 0.3644 - acc: 0.8692\n"
          ],
          "name": "stdout"
        }
      ]
    },
    {
      "metadata": {
        "id": "DFnffRXDmi2a",
        "colab_type": "code",
        "colab": {
          "base_uri": "https://localhost:8080/",
          "height": 34
        },
        "outputId": "e2785faf-86a1-4011-970e-75728337b059"
      },
      "cell_type": "code",
      "source": [
        "print(results)"
      ],
      "execution_count": 74,
      "outputs": [
        {
          "output_type": "stream",
          "text": [
            "[0.364426405954361, 0.86924]\n"
          ],
          "name": "stdout"
        }
      ]
    },
    {
      "metadata": {
        "id": "Gx0JlQUCmizA",
        "colab_type": "code",
        "colab": {}
      },
      "cell_type": "code",
      "source": [
        ""
      ],
      "execution_count": 0,
      "outputs": []
    },
    {
      "metadata": {
        "id": "tMjm69Cemilw",
        "colab_type": "code",
        "colab": {}
      },
      "cell_type": "code",
      "source": [
        ""
      ],
      "execution_count": 0,
      "outputs": []
    },
    {
      "metadata": {
        "id": "otF9Kefs6cxZ",
        "colab_type": "code",
        "colab": {}
      },
      "cell_type": "code",
      "source": [
        "\"\"\"Module to train sequence model.\n",
        "Vectorizes training and validation texts into sequences and uses that for\n",
        "training a sequence model - a sepCNN model. We use sequence model for text\n",
        "classification when the ratio of number of samples to number of words per\n",
        "sample for the given dataset is very large (>~15K).\n",
        "\"\"\"\n",
        "from __future__ import absolute_import\n",
        "from __future__ import division\n",
        "from __future__ import print_function\n",
        "\n",
        "import argparse\n",
        "import time\n",
        "\n",
        "\n",
        "FLAGS = None\n",
        "\n",
        "# Limit on the number of features. We use the top 10K features.\n",
        "TOP_K = 10000\n",
        "\n",
        "def get_num_classes(labels):\n",
        "    \"\"\"Gets the total number of classes.\n",
        "    # Arguments\n",
        "        labels: list, label values.\n",
        "            There should be at lease one sample for values in the\n",
        "            range (0, num_classes -1)\n",
        "    # Returns\n",
        "        int, total number of classes.\n",
        "    # Raises\n",
        "        ValueError: if any label value in the range(0, num_classes - 1)\n",
        "            is missing or if number of classes is <= 1.\n",
        "    \"\"\"\n",
        "    num_classes = max(labels) + 1\n",
        "    missing_classes = [i for i in range(num_classes) if i not in labels]\n",
        "    if len(missing_classes):\n",
        "        raise ValueError('Missing samples with label value(s) '\n",
        "                         '{missing_classes}. Please make sure you have '\n",
        "                         'at least one sample for every label value '\n",
        "                         'in the range(0, {max_class})'.format(\n",
        "                            missing_classes=missing_classes,\n",
        "                            max_class=num_classes - 1))\n",
        "\n",
        "    if num_classes <= 1:\n",
        "        raise ValueError('Invalid number of labels: {num_classes}.'\n",
        "                         'Please make sure there are at least two classes '\n",
        "                         'of samples'.format(num_classes=num_classes))\n",
        "    return num_classes\n",
        "\n",
        "\n",
        "\n",
        "def train_sequence_model(data,word_index,\n",
        "                         learning_rate=1e-3,\n",
        "                         epochs=100,\n",
        "                         batch_size=128,\n",
        "                         blocks=2,\n",
        "                         filters=64,\n",
        "                         dropout_rate=0.2,\n",
        "                         embedding_dim=200,\n",
        "                         kernel_size=3,\n",
        "                         pool_size=3):\n",
        "    \"\"\"Trains sequence model on the given dataset.\n",
        "    # Arguments\n",
        "        data: tuples of training and test data(not text) and labels.\n",
        "        word_index:\n",
        "        learning_rate: float, learning rate for training model.\n",
        "        epochs: int, number of epochs.\n",
        "        batch_size: int, number of samples per batch.\n",
        "        blocks: int, number of pairs of sepCNN and pooling blocks in the model.\n",
        "        filters: int, output dimension of sepCNN layers in the model.\n",
        "        dropout_rate: float: percentage of input to drop at Dropout layers.\n",
        "        embedding_dim: int, dimension of the embedding vectors.\n",
        "        kernel_size: int, length of the convolution window.\n",
        "        pool_size: int, factor by which to downscale input at MaxPooling layer.\n",
        "    # Raises\n",
        "        ValueError: If validation data has label values which were not seen\n",
        "            in the training data.\n",
        "    \"\"\"\n",
        "    # Get the data.\n",
        "    # (train_texts, train_labels), (val_texts, val_labels) = data\n",
        "    \n",
        "    (train_data, train_labels), (test_data, test_labels) = data\n",
        "    \n",
        "    train_data = tf.keras.preprocessing.sequence.pad_sequences(train_data,\n",
        "                                                        #value=word_index[\"<PAD>\"],\n",
        "                                                        padding='post',\n",
        "                                                        maxlen=256)\n",
        "    test_data = tf.keras.preprocessing.sequence.pad_sequences(test_data,\n",
        "                                                       #value=word_index[\"<PAD>\"],\n",
        "                                                       padding='post',\n",
        "                                                       maxlen=256)\n",
        "    x_train = train_data[:15000]\n",
        "    y_train = train_labels[:15000]\n",
        "    \n",
        "    x_val = train_data[15000:]\n",
        "    y_val = train_labels[15000:]\n",
        "\n",
        "    # Verify that validation labels are in the same range as training labels.\n",
        "    num_classes = get_num_classes(train_labels)\n",
        "    unexpected_labels = [v for v in test_labels if v not in range(num_classes)]\n",
        "    if len(unexpected_labels):\n",
        "        raise ValueError('Unexpected label values found in the validation set:'\n",
        "                         ' {unexpected_labels}. Please make sure that the '\n",
        "                         'labels in the validation set are in the same range '\n",
        "                         'as training labels.'.format(\n",
        "                             unexpected_labels=unexpected_labels))\n",
        "\n",
        "    # Vectorize texts.\n",
        "#     x_train, x_val, word_index = vectorize_data.sequence_vectorize(\n",
        "#             train_texts, val_texts)\n",
        "    word_index = word_index\n",
        "\n",
        "    # Number of features will be the embedding input dimension. Add 1 for the\n",
        "    # reserved index 0.\n",
        "    num_features = min(len(word_index) + 1, TOP_K)\n",
        "\n",
        "    # Create model instance.\n",
        "    model = sepcnn_model(blocks=blocks,\n",
        "                                     filters=filters,\n",
        "                                     kernel_size=kernel_size,\n",
        "                                     embedding_dim=embedding_dim,\n",
        "                                     dropout_rate=dropout_rate,\n",
        "                                     pool_size=pool_size,\n",
        "                                     input_shape=x_train.shape[1:],\n",
        "                                     num_classes=num_classes,\n",
        "                                     num_features=num_features,\n",
        "                        is_embedding_trainable = True)\n",
        "\n",
        "    # Compile model with learning parameters.\n",
        "    if num_classes == 2:\n",
        "        loss = 'binary_crossentropy'\n",
        "    else:\n",
        "        loss = 'sparse_categorical_crossentropy'\n",
        "    optimizer = tf.keras.optimizers.Adam(lr=learning_rate)\n",
        "    model.compile(optimizer=optimizer, loss=loss, metrics=['acc'])\n",
        "\n",
        "    # Create callback for early stopping on validation loss. If the loss does\n",
        "    # not decrease in two consecutive tries, stop training.\n",
        "    callbacks = [tf.keras.callbacks.EarlyStopping(\n",
        "        monitor='val_loss', patience=2)]\n",
        "\n",
        "    # Train and validate model.\n",
        "    history = model.fit(\n",
        "            x_train,\n",
        "            y_train,\n",
        "            epochs=epochs,\n",
        "            callbacks=callbacks,\n",
        "            validation_data=(x_val, y_val),\n",
        "            verbose=2,  # Logs once per epoch.\n",
        "            batch_size=batch_size)\n",
        "\n",
        "    # Print results.\n",
        "    history = history.history\n",
        "    print('Validation accuracy: {acc}, loss: {loss}'.format(\n",
        "            acc=history['val_acc'][-1], loss=history['val_loss'][-1]))\n",
        "\n",
        "    # Save model.\n",
        "    model.save('imdb_sepcnn_model.h5')\n",
        "    return history['val_acc'][-1], history['val_loss'][-1]"
      ],
      "execution_count": 0,
      "outputs": []
    },
    {
      "metadata": {
        "id": "R_LIwfOr-hfB",
        "colab_type": "code",
        "colab": {
          "base_uri": "https://localhost:8080/",
          "height": 949
        },
        "outputId": "5b340fe1-faea-4864-8c9e-295b8c160aac"
      },
      "cell_type": "code",
      "source": [
        " # Using the IMDB movie reviews dataset to demonstrate\n",
        "    # training sequence model.\n",
        "    imdb = tf.keras.datasets.imdb\n",
        "    data = imdb.load_data(num_words = 10000)\n",
        "    word_index = imdb.get_word_index()\n",
        "    train_sequence_model(data, word_index)\n"
      ],
      "execution_count": 11,
      "outputs": [
        {
          "output_type": "stream",
          "text": [
            "Train on 15000 samples, validate on 10000 samples\n",
            "Epoch 1/100\n",
            " - 53s - loss: 0.6932 - acc: 0.5000 - val_loss: 0.6932 - val_acc: 0.4967\n",
            "Epoch 2/100\n",
            " - 52s - loss: 0.6932 - acc: 0.4988 - val_loss: 0.6932 - val_acc: 0.4967\n",
            "Epoch 3/100\n",
            " - 52s - loss: 0.6933 - acc: 0.4983 - val_loss: 0.6932 - val_acc: 0.4967\n",
            "Epoch 4/100\n"
          ],
          "name": "stdout"
        },
        {
          "output_type": "error",
          "ename": "KeyboardInterrupt",
          "evalue": "ignored",
          "traceback": [
            "\u001b[0;31m---------------------------------------------------------------------------\u001b[0m",
            "\u001b[0;31mKeyboardInterrupt\u001b[0m                         Traceback (most recent call last)",
            "\u001b[0;32m<ipython-input-11-d19016fada41>\u001b[0m in \u001b[0;36m<module>\u001b[0;34m()\u001b[0m\n\u001b[1;32m      3\u001b[0m \u001b[0mword_index\u001b[0m \u001b[0;34m=\u001b[0m \u001b[0mimdb\u001b[0m\u001b[0;34m.\u001b[0m\u001b[0mget_word_index\u001b[0m\u001b[0;34m(\u001b[0m\u001b[0;34m)\u001b[0m\u001b[0;34m\u001b[0m\u001b[0;34m\u001b[0m\u001b[0m\n\u001b[1;32m      4\u001b[0m \u001b[0mword_index\u001b[0m\u001b[0;34m[\u001b[0m\u001b[0;34m\"<PAD>\"\u001b[0m\u001b[0;34m]\u001b[0m \u001b[0;34m=\u001b[0m \u001b[0;36m0\u001b[0m\u001b[0;34m\u001b[0m\u001b[0;34m\u001b[0m\u001b[0m\n\u001b[0;32m----> 5\u001b[0;31m \u001b[0mtrain_sequence_model\u001b[0m\u001b[0;34m(\u001b[0m\u001b[0mdata\u001b[0m\u001b[0;34m,\u001b[0m \u001b[0mword_index\u001b[0m\u001b[0;34m)\u001b[0m\u001b[0;34m\u001b[0m\u001b[0;34m\u001b[0m\u001b[0m\n\u001b[0m",
            "\u001b[0;32m<ipython-input-10-8e364ff8aa1a>\u001b[0m in \u001b[0;36mtrain_sequence_model\u001b[0;34m(data, word_index, learning_rate, epochs, batch_size, blocks, filters, dropout_rate, embedding_dim, kernel_size, pool_size)\u001b[0m\n\u001b[1;32m    146\u001b[0m             \u001b[0mvalidation_data\u001b[0m\u001b[0;34m=\u001b[0m\u001b[0;34m(\u001b[0m\u001b[0mx_val\u001b[0m\u001b[0;34m,\u001b[0m \u001b[0my_val\u001b[0m\u001b[0;34m)\u001b[0m\u001b[0;34m,\u001b[0m\u001b[0;34m\u001b[0m\u001b[0;34m\u001b[0m\u001b[0m\n\u001b[1;32m    147\u001b[0m             \u001b[0mverbose\u001b[0m\u001b[0;34m=\u001b[0m\u001b[0;36m2\u001b[0m\u001b[0;34m,\u001b[0m  \u001b[0;31m# Logs once per epoch.\u001b[0m\u001b[0;34m\u001b[0m\u001b[0;34m\u001b[0m\u001b[0m\n\u001b[0;32m--> 148\u001b[0;31m             batch_size=batch_size)\n\u001b[0m\u001b[1;32m    149\u001b[0m \u001b[0;34m\u001b[0m\u001b[0m\n\u001b[1;32m    150\u001b[0m     \u001b[0;31m# Print results.\u001b[0m\u001b[0;34m\u001b[0m\u001b[0;34m\u001b[0m\u001b[0;34m\u001b[0m\u001b[0m\n",
            "\u001b[0;32m/usr/local/lib/python3.6/dist-packages/tensorflow/python/keras/engine/training.py\u001b[0m in \u001b[0;36mfit\u001b[0;34m(self, x, y, batch_size, epochs, verbose, callbacks, validation_split, validation_data, shuffle, class_weight, sample_weight, initial_epoch, steps_per_epoch, validation_steps, max_queue_size, workers, use_multiprocessing, **kwargs)\u001b[0m\n\u001b[1;32m    878\u001b[0m           \u001b[0minitial_epoch\u001b[0m\u001b[0;34m=\u001b[0m\u001b[0minitial_epoch\u001b[0m\u001b[0;34m,\u001b[0m\u001b[0;34m\u001b[0m\u001b[0;34m\u001b[0m\u001b[0m\n\u001b[1;32m    879\u001b[0m           \u001b[0msteps_per_epoch\u001b[0m\u001b[0;34m=\u001b[0m\u001b[0msteps_per_epoch\u001b[0m\u001b[0;34m,\u001b[0m\u001b[0;34m\u001b[0m\u001b[0;34m\u001b[0m\u001b[0m\n\u001b[0;32m--> 880\u001b[0;31m           validation_steps=validation_steps)\n\u001b[0m\u001b[1;32m    881\u001b[0m \u001b[0;34m\u001b[0m\u001b[0m\n\u001b[1;32m    882\u001b[0m   def evaluate(self,\n",
            "\u001b[0;32m/usr/local/lib/python3.6/dist-packages/tensorflow/python/keras/engine/training_arrays.py\u001b[0m in \u001b[0;36mmodel_iteration\u001b[0;34m(model, inputs, targets, sample_weights, batch_size, epochs, verbose, callbacks, val_inputs, val_targets, val_sample_weights, shuffle, initial_epoch, steps_per_epoch, validation_steps, mode, validation_in_fit, **kwargs)\u001b[0m\n\u001b[1;32m    327\u001b[0m \u001b[0;34m\u001b[0m\u001b[0m\n\u001b[1;32m    328\u001b[0m         \u001b[0;31m# Get outputs.\u001b[0m\u001b[0;34m\u001b[0m\u001b[0;34m\u001b[0m\u001b[0;34m\u001b[0m\u001b[0m\n\u001b[0;32m--> 329\u001b[0;31m         \u001b[0mbatch_outs\u001b[0m \u001b[0;34m=\u001b[0m \u001b[0mf\u001b[0m\u001b[0;34m(\u001b[0m\u001b[0mins_batch\u001b[0m\u001b[0;34m)\u001b[0m\u001b[0;34m\u001b[0m\u001b[0;34m\u001b[0m\u001b[0m\n\u001b[0m\u001b[1;32m    330\u001b[0m         \u001b[0;32mif\u001b[0m \u001b[0;32mnot\u001b[0m \u001b[0misinstance\u001b[0m\u001b[0;34m(\u001b[0m\u001b[0mbatch_outs\u001b[0m\u001b[0;34m,\u001b[0m \u001b[0mlist\u001b[0m\u001b[0;34m)\u001b[0m\u001b[0;34m:\u001b[0m\u001b[0;34m\u001b[0m\u001b[0;34m\u001b[0m\u001b[0m\n\u001b[1;32m    331\u001b[0m           \u001b[0mbatch_outs\u001b[0m \u001b[0;34m=\u001b[0m \u001b[0;34m[\u001b[0m\u001b[0mbatch_outs\u001b[0m\u001b[0;34m]\u001b[0m\u001b[0;34m\u001b[0m\u001b[0;34m\u001b[0m\u001b[0m\n",
            "\u001b[0;32m/usr/local/lib/python3.6/dist-packages/tensorflow/python/keras/backend.py\u001b[0m in \u001b[0;36m__call__\u001b[0;34m(self, inputs)\u001b[0m\n\u001b[1;32m   3074\u001b[0m \u001b[0;34m\u001b[0m\u001b[0m\n\u001b[1;32m   3075\u001b[0m     fetched = self._callable_fn(*array_vals,\n\u001b[0;32m-> 3076\u001b[0;31m                                 run_metadata=self.run_metadata)\n\u001b[0m\u001b[1;32m   3077\u001b[0m     \u001b[0mself\u001b[0m\u001b[0;34m.\u001b[0m\u001b[0m_call_fetch_callbacks\u001b[0m\u001b[0;34m(\u001b[0m\u001b[0mfetched\u001b[0m\u001b[0;34m[\u001b[0m\u001b[0;34m-\u001b[0m\u001b[0mlen\u001b[0m\u001b[0;34m(\u001b[0m\u001b[0mself\u001b[0m\u001b[0;34m.\u001b[0m\u001b[0m_fetches\u001b[0m\u001b[0;34m)\u001b[0m\u001b[0;34m:\u001b[0m\u001b[0;34m]\u001b[0m\u001b[0;34m)\u001b[0m\u001b[0;34m\u001b[0m\u001b[0;34m\u001b[0m\u001b[0m\n\u001b[1;32m   3078\u001b[0m     return nest.pack_sequence_as(self._outputs_structure,\n",
            "\u001b[0;32m/usr/local/lib/python3.6/dist-packages/tensorflow/python/client/session.py\u001b[0m in \u001b[0;36m__call__\u001b[0;34m(self, *args, **kwargs)\u001b[0m\n\u001b[1;32m   1437\u001b[0m           ret = tf_session.TF_SessionRunCallable(\n\u001b[1;32m   1438\u001b[0m               \u001b[0mself\u001b[0m\u001b[0;34m.\u001b[0m\u001b[0m_session\u001b[0m\u001b[0;34m.\u001b[0m\u001b[0m_session\u001b[0m\u001b[0;34m,\u001b[0m \u001b[0mself\u001b[0m\u001b[0;34m.\u001b[0m\u001b[0m_handle\u001b[0m\u001b[0;34m,\u001b[0m \u001b[0margs\u001b[0m\u001b[0;34m,\u001b[0m \u001b[0mstatus\u001b[0m\u001b[0;34m,\u001b[0m\u001b[0;34m\u001b[0m\u001b[0;34m\u001b[0m\u001b[0m\n\u001b[0;32m-> 1439\u001b[0;31m               run_metadata_ptr)\n\u001b[0m\u001b[1;32m   1440\u001b[0m         \u001b[0;32mif\u001b[0m \u001b[0mrun_metadata\u001b[0m\u001b[0;34m:\u001b[0m\u001b[0;34m\u001b[0m\u001b[0;34m\u001b[0m\u001b[0m\n\u001b[1;32m   1441\u001b[0m           \u001b[0mproto_data\u001b[0m \u001b[0;34m=\u001b[0m \u001b[0mtf_session\u001b[0m\u001b[0;34m.\u001b[0m\u001b[0mTF_GetBuffer\u001b[0m\u001b[0;34m(\u001b[0m\u001b[0mrun_metadata_ptr\u001b[0m\u001b[0;34m)\u001b[0m\u001b[0;34m\u001b[0m\u001b[0;34m\u001b[0m\u001b[0m\n",
            "\u001b[0;31mKeyboardInterrupt\u001b[0m: "
          ]
        }
      ]
    },
    {
      "metadata": {
        "id": "H70RqNJa67GI",
        "colab_type": "text"
      },
      "cell_type": "markdown",
      "source": [
        ""
      ]
    }
  ]
}