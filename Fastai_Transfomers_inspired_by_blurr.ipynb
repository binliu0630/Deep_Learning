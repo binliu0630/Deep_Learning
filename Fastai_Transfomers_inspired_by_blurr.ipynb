{
  "nbformat": 4,
  "nbformat_minor": 0,
  "metadata": {
    "colab": {
      "name": "Fastai_Transfomers_inspired_by_blurr.ipynb",
      "provenance": [],
      "machine_shape": "hm",
      "authorship_tag": "ABX9TyPdcpwoSSo9LkvEuaQOc3Sa",
      "include_colab_link": true
    },
    "kernelspec": {
      "name": "python3",
      "display_name": "Python 3"
    },
    "accelerator": "GPU"
  },
  "cells": [
    {
      "cell_type": "markdown",
      "metadata": {
        "id": "view-in-github",
        "colab_type": "text"
      },
      "source": [
        "<a href=\"https://colab.research.google.com/github/binliu0630/Deep_Learning/blob/master/Fastai_Transfomers_inspired_by_blurr.ipynb\" target=\"_parent\"><img src=\"https://colab.research.google.com/assets/colab-badge.svg\" alt=\"Open In Colab\"/></a>"
      ]
    },
    {
      "cell_type": "code",
      "metadata": {
        "id": "Qi3Ss6GOWp9g",
        "colab_type": "code",
        "colab": {
          "base_uri": "https://localhost:8080/",
          "height": 1000
        },
        "outputId": "7374369e-3f26-4050-f5db-2abad128c516"
      },
      "source": [
        "!pip install transformers\n",
        "!pip install fastai2"
      ],
      "execution_count": 1,
      "outputs": [
        {
          "output_type": "stream",
          "text": [
            "Collecting transformers\n",
            "\u001b[?25l  Downloading https://files.pythonhosted.org/packages/cd/38/c9527aa055241c66c4d785381eaf6f80a28c224cae97daa1f8b183b5fabb/transformers-2.9.0-py3-none-any.whl (635kB)\n",
            "\u001b[K     |████████████████████████████████| 645kB 2.8MB/s \n",
            "\u001b[?25hRequirement already satisfied: requests in /usr/local/lib/python3.6/dist-packages (from transformers) (2.23.0)\n",
            "Requirement already satisfied: numpy in /usr/local/lib/python3.6/dist-packages (from transformers) (1.18.4)\n",
            "Requirement already satisfied: regex!=2019.12.17 in /usr/local/lib/python3.6/dist-packages (from transformers) (2019.12.20)\n",
            "Requirement already satisfied: tqdm>=4.27 in /usr/local/lib/python3.6/dist-packages (from transformers) (4.41.1)\n",
            "Collecting sacremoses\n",
            "\u001b[?25l  Downloading https://files.pythonhosted.org/packages/7d/34/09d19aff26edcc8eb2a01bed8e98f13a1537005d31e95233fd48216eed10/sacremoses-0.0.43.tar.gz (883kB)\n",
            "\u001b[K     |████████████████████████████████| 890kB 14.0MB/s \n",
            "\u001b[?25hCollecting tokenizers==0.7.0\n",
            "\u001b[?25l  Downloading https://files.pythonhosted.org/packages/14/e5/a26eb4716523808bb0a799fcfdceb6ebf77a18169d9591b2f46a9adb87d9/tokenizers-0.7.0-cp36-cp36m-manylinux1_x86_64.whl (3.8MB)\n",
            "\u001b[K     |████████████████████████████████| 3.8MB 13.5MB/s \n",
            "\u001b[?25hRequirement already satisfied: dataclasses; python_version < \"3.7\" in /usr/local/lib/python3.6/dist-packages (from transformers) (0.7)\n",
            "Collecting sentencepiece\n",
            "\u001b[?25l  Downloading https://files.pythonhosted.org/packages/98/2c/8df20f3ac6c22ac224fff307ebc102818206c53fc454ecd37d8ac2060df5/sentencepiece-0.1.86-cp36-cp36m-manylinux1_x86_64.whl (1.0MB)\n",
            "\u001b[K     |████████████████████████████████| 1.0MB 43.3MB/s \n",
            "\u001b[?25hRequirement already satisfied: filelock in /usr/local/lib/python3.6/dist-packages (from transformers) (3.0.12)\n",
            "Requirement already satisfied: urllib3!=1.25.0,!=1.25.1,<1.26,>=1.21.1 in /usr/local/lib/python3.6/dist-packages (from requests->transformers) (1.24.3)\n",
            "Requirement already satisfied: idna<3,>=2.5 in /usr/local/lib/python3.6/dist-packages (from requests->transformers) (2.9)\n",
            "Requirement already satisfied: chardet<4,>=3.0.2 in /usr/local/lib/python3.6/dist-packages (from requests->transformers) (3.0.4)\n",
            "Requirement already satisfied: certifi>=2017.4.17 in /usr/local/lib/python3.6/dist-packages (from requests->transformers) (2020.4.5.1)\n",
            "Requirement already satisfied: six in /usr/local/lib/python3.6/dist-packages (from sacremoses->transformers) (1.12.0)\n",
            "Requirement already satisfied: click in /usr/local/lib/python3.6/dist-packages (from sacremoses->transformers) (7.1.2)\n",
            "Requirement already satisfied: joblib in /usr/local/lib/python3.6/dist-packages (from sacremoses->transformers) (0.14.1)\n",
            "Building wheels for collected packages: sacremoses\n",
            "  Building wheel for sacremoses (setup.py) ... \u001b[?25l\u001b[?25hdone\n",
            "  Created wheel for sacremoses: filename=sacremoses-0.0.43-cp36-none-any.whl size=893260 sha256=e82072b29ec42dd6f6ad68a61a9b4904d9b2c39152935be3509ff102da82bf69\n",
            "  Stored in directory: /root/.cache/pip/wheels/29/3c/fd/7ce5c3f0666dab31a50123635e6fb5e19ceb42ce38d4e58f45\n",
            "Successfully built sacremoses\n",
            "Installing collected packages: sacremoses, tokenizers, sentencepiece, transformers\n",
            "Successfully installed sacremoses-0.0.43 sentencepiece-0.1.86 tokenizers-0.7.0 transformers-2.9.0\n",
            "Collecting fastai2\n",
            "\u001b[?25l  Downloading https://files.pythonhosted.org/packages/26/4f/0f61bb0d376eb47c20430639bac4946ca0cffcd7e693fb86698656324f2d/fastai2-0.0.17-py3-none-any.whl (190kB)\n",
            "\u001b[K     |████████████████████████████████| 194kB 2.8MB/s \n",
            "\u001b[?25hRequirement already satisfied: pyyaml in /usr/local/lib/python3.6/dist-packages (from fastai2) (3.13)\n",
            "Requirement already satisfied: pillow in /usr/local/lib/python3.6/dist-packages (from fastai2) (7.0.0)\n",
            "Collecting fastcore\n",
            "  Downloading https://files.pythonhosted.org/packages/dd/f3/8cd2e1ed981b0ddbe4d56e5d44f52c9e56d27ac7d53c30abb534d10c82c2/fastcore-0.1.17-py3-none-any.whl\n",
            "Requirement already satisfied: fastprogress>=0.1.22 in /usr/local/lib/python3.6/dist-packages (from fastai2) (0.2.3)\n",
            "Requirement already satisfied: torch>=1.3.0 in /usr/local/lib/python3.6/dist-packages (from fastai2) (1.5.0+cu101)\n",
            "Requirement already satisfied: pandas in /usr/local/lib/python3.6/dist-packages (from fastai2) (1.0.3)\n",
            "Requirement already satisfied: scipy in /usr/local/lib/python3.6/dist-packages (from fastai2) (1.4.1)\n",
            "Requirement already satisfied: requests in /usr/local/lib/python3.6/dist-packages (from fastai2) (2.23.0)\n",
            "Requirement already satisfied: scikit-learn in /usr/local/lib/python3.6/dist-packages (from fastai2) (0.22.2.post1)\n",
            "Requirement already satisfied: torchvision>=0.5 in /usr/local/lib/python3.6/dist-packages (from fastai2) (0.6.0+cu101)\n",
            "Requirement already satisfied: matplotlib in /usr/local/lib/python3.6/dist-packages (from fastai2) (3.2.1)\n",
            "Requirement already satisfied: spacy in /usr/local/lib/python3.6/dist-packages (from fastai2) (2.2.4)\n",
            "Requirement already satisfied: dataclasses>='0.7'; python_version < \"3.7\" in /usr/local/lib/python3.6/dist-packages (from fastcore->fastai2) (0.7)\n",
            "Requirement already satisfied: numpy in /usr/local/lib/python3.6/dist-packages (from fastcore->fastai2) (1.18.4)\n",
            "Requirement already satisfied: future in /usr/local/lib/python3.6/dist-packages (from torch>=1.3.0->fastai2) (0.16.0)\n",
            "Requirement already satisfied: python-dateutil>=2.6.1 in /usr/local/lib/python3.6/dist-packages (from pandas->fastai2) (2.8.1)\n",
            "Requirement already satisfied: pytz>=2017.2 in /usr/local/lib/python3.6/dist-packages (from pandas->fastai2) (2018.9)\n",
            "Requirement already satisfied: chardet<4,>=3.0.2 in /usr/local/lib/python3.6/dist-packages (from requests->fastai2) (3.0.4)\n",
            "Requirement already satisfied: idna<3,>=2.5 in /usr/local/lib/python3.6/dist-packages (from requests->fastai2) (2.9)\n",
            "Requirement already satisfied: urllib3!=1.25.0,!=1.25.1,<1.26,>=1.21.1 in /usr/local/lib/python3.6/dist-packages (from requests->fastai2) (1.24.3)\n",
            "Requirement already satisfied: certifi>=2017.4.17 in /usr/local/lib/python3.6/dist-packages (from requests->fastai2) (2020.4.5.1)\n",
            "Requirement already satisfied: joblib>=0.11 in /usr/local/lib/python3.6/dist-packages (from scikit-learn->fastai2) (0.14.1)\n",
            "Requirement already satisfied: kiwisolver>=1.0.1 in /usr/local/lib/python3.6/dist-packages (from matplotlib->fastai2) (1.2.0)\n",
            "Requirement already satisfied: pyparsing!=2.0.4,!=2.1.2,!=2.1.6,>=2.0.1 in /usr/local/lib/python3.6/dist-packages (from matplotlib->fastai2) (2.4.7)\n",
            "Requirement already satisfied: cycler>=0.10 in /usr/local/lib/python3.6/dist-packages (from matplotlib->fastai2) (0.10.0)\n",
            "Requirement already satisfied: murmurhash<1.1.0,>=0.28.0 in /usr/local/lib/python3.6/dist-packages (from spacy->fastai2) (1.0.2)\n",
            "Requirement already satisfied: setuptools in /usr/local/lib/python3.6/dist-packages (from spacy->fastai2) (46.1.3)\n",
            "Requirement already satisfied: catalogue<1.1.0,>=0.0.7 in /usr/local/lib/python3.6/dist-packages (from spacy->fastai2) (1.0.0)\n",
            "Requirement already satisfied: wasabi<1.1.0,>=0.4.0 in /usr/local/lib/python3.6/dist-packages (from spacy->fastai2) (0.6.0)\n",
            "Requirement already satisfied: preshed<3.1.0,>=3.0.2 in /usr/local/lib/python3.6/dist-packages (from spacy->fastai2) (3.0.2)\n",
            "Requirement already satisfied: cymem<2.1.0,>=2.0.2 in /usr/local/lib/python3.6/dist-packages (from spacy->fastai2) (2.0.3)\n",
            "Requirement already satisfied: srsly<1.1.0,>=1.0.2 in /usr/local/lib/python3.6/dist-packages (from spacy->fastai2) (1.0.2)\n",
            "Requirement already satisfied: tqdm<5.0.0,>=4.38.0 in /usr/local/lib/python3.6/dist-packages (from spacy->fastai2) (4.41.1)\n",
            "Requirement already satisfied: blis<0.5.0,>=0.4.0 in /usr/local/lib/python3.6/dist-packages (from spacy->fastai2) (0.4.1)\n",
            "Requirement already satisfied: plac<1.2.0,>=0.9.6 in /usr/local/lib/python3.6/dist-packages (from spacy->fastai2) (1.1.3)\n",
            "Requirement already satisfied: thinc==7.4.0 in /usr/local/lib/python3.6/dist-packages (from spacy->fastai2) (7.4.0)\n",
            "Requirement already satisfied: six>=1.5 in /usr/local/lib/python3.6/dist-packages (from python-dateutil>=2.6.1->pandas->fastai2) (1.12.0)\n",
            "Requirement already satisfied: importlib-metadata>=0.20; python_version < \"3.8\" in /usr/local/lib/python3.6/dist-packages (from catalogue<1.1.0,>=0.0.7->spacy->fastai2) (1.6.0)\n",
            "Requirement already satisfied: zipp>=0.5 in /usr/local/lib/python3.6/dist-packages (from importlib-metadata>=0.20; python_version < \"3.8\"->catalogue<1.1.0,>=0.0.7->spacy->fastai2) (3.1.0)\n",
            "Installing collected packages: fastcore, fastai2\n",
            "Successfully installed fastai2-0.0.17 fastcore-0.1.17\n"
          ],
          "name": "stdout"
        }
      ]
    },
    {
      "cell_type": "code",
      "metadata": {
        "id": "y5Ztzub9MtOw",
        "colab_type": "code",
        "colab": {}
      },
      "source": [
        "import sys, inspect\n",
        "from enum import Enum\n",
        "\n",
        "import pandas as pd\n",
        "import torch\n",
        "\n",
        "from transformers import *\n",
        "from fastai2.text.all import *"
      ],
      "execution_count": 0,
      "outputs": []
    },
    {
      "cell_type": "code",
      "metadata": {
        "id": "UKOsnsKdWjxn",
        "colab_type": "code",
        "colab": {
          "base_uri": "https://localhost:8080/",
          "height": 34
        },
        "outputId": "03e98b4d-2f93-4bc8-eb15-8a4652fa9591"
      },
      "source": [
        "torch.cuda.current_device()"
      ],
      "execution_count": 3,
      "outputs": [
        {
          "output_type": "execute_result",
          "data": {
            "text/plain": [
              "0"
            ]
          },
          "metadata": {
            "tags": []
          },
          "execution_count": 3
        }
      ]
    },
    {
      "cell_type": "code",
      "metadata": {
        "id": "kScjGm_sXCmM",
        "colab_type": "code",
        "colab": {
          "base_uri": "https://localhost:8080/",
          "height": 34
        },
        "outputId": "700428db-a0a9-4ea9-c4b9-416e0d612363"
      },
      "source": [
        "torch.cuda.get_device_name()"
      ],
      "execution_count": 4,
      "outputs": [
        {
          "output_type": "execute_result",
          "data": {
            "text/plain": [
              "'Tesla P100-PCIE-16GB'"
            ]
          },
          "metadata": {
            "tags": []
          },
          "execution_count": 4
        }
      ]
    },
    {
      "cell_type": "markdown",
      "metadata": {
        "id": "dgVBNg_NfWj1",
        "colab_type": "text"
      },
      "source": [
        "## PREP HELP FUNCTION"
      ]
    },
    {
      "cell_type": "code",
      "metadata": {
        "id": "drFI3kmNXGak",
        "colab_type": "code",
        "colab": {}
      },
      "source": [
        "def str_to_class(classname):\n",
        "  \"converts string representation to class\"\n",
        "  return getattr(sys.modules[__name__], classname)"
      ],
      "execution_count": 0,
      "outputs": []
    },
    {
      "cell_type": "code",
      "metadata": {
        "id": "0-nc1UavXft_",
        "colab_type": "code",
        "colab": {}
      },
      "source": [
        "class Singleton:\n",
        "  def __init__(self, cls):\n",
        "    self._cls, self._instance = cls, None\n",
        "  \n",
        "  def __call__(self, *args, **kwargs):\n",
        "    if self._instance == None: self._instance = self._cls(*args, **kwargs)\n",
        "    return self._instance"
      ],
      "execution_count": 0,
      "outputs": []
    },
    {
      "cell_type": "code",
      "metadata": {
        "id": "_km8J4Of0Cet",
        "colab_type": "code",
        "colab": {
          "base_uri": "https://localhost:8080/",
          "height": 164
        },
        "outputId": "77fccc3b-f215-4fcf-fe7e-868ef19175ac"
      },
      "source": [
        "df"
      ],
      "execution_count": 11,
      "outputs": [
        {
          "output_type": "error",
          "ename": "NameError",
          "evalue": "ignored",
          "traceback": [
            "\u001b[0;31m---------------------------------------------------------------------------\u001b[0m",
            "\u001b[0;31mNameError\u001b[0m                                 Traceback (most recent call last)",
            "\u001b[0;32m<ipython-input-11-00cf07b74dcd>\u001b[0m in \u001b[0;36m<module>\u001b[0;34m()\u001b[0m\n\u001b[0;32m----> 1\u001b[0;31m \u001b[0mdf\u001b[0m\u001b[0;34m\u001b[0m\u001b[0;34m\u001b[0m\u001b[0m\n\u001b[0m",
            "\u001b[0;31mNameError\u001b[0m: name 'df' is not defined"
          ]
        }
      ]
    },
    {
      "cell_type": "code",
      "metadata": {
        "id": "Bb2Y1u7Y2DkJ",
        "colab_type": "code",
        "colab": {}
      },
      "source": [
        "@Singleton\n",
        "class ModelHelper():\n",
        "    \n",
        "    def __init__(self):\n",
        "        # get hf classes (tokenizers, configs, models, etc...)\n",
        "        transformer_classes = inspect.getmembers(sys.modules[__name__], \n",
        "                                                 lambda member: inspect.isclass(member)\n",
        "                                                 and member.__module__.startswith('transformers.'))\n",
        "        \n",
        "        # build a df that we can query against to get various transformers objects/info\n",
        "        self._df = pd.DataFrame(transformer_classes, columns=['class_name', 'class_location'])\n",
        "        \n",
        "        # add the module each class is included in\n",
        "        self._df['module'] = self._df.class_location.apply(lambda v: v.__module__)\n",
        "        \n",
        "        # remove class_location (don't need it anymore)\n",
        "        self._df.drop(labels=['class_location'], axis=1, inplace=True)\n",
        "        \n",
        "        # break up the module into separate cols\n",
        "        module_parts_df = self._df.module.str.split(\".\", n = -1, expand = True) \n",
        "        for i in range(len(module_parts_df.columns)):\n",
        "            self._df[f'module_part_{i}'] = module_parts_df[i]\n",
        "\n",
        "        # using module part 1, break up the functional area and arch into separate cols\n",
        "        module_part_1_df = self._df.module_part_1.str.split(\"_\", n = 1, expand = True) \n",
        "        self._df[['functional_area', 'arch']] = module_part_1_df\n",
        "        \n",
        "        # if functional area = modeling, pull out the task it is built for\n",
        "        model_type_df = self._df[(self._df.functional_area == 'modeling')].class_name.str.split('For', n=1, expand=True)\n",
        "        \n",
        "        model_type_df[1] = np.where(model_type_df[1].notnull(), \n",
        "                                    'For' + model_type_df[1].astype(str), \n",
        "                                    model_type_df[1])\n",
        "        \n",
        "        self._df['model_task'] = model_type_df[1]\n",
        "        \n",
        "        model_type_df = self._df[(self._df.functional_area == 'modeling')].class_name.str.split('With', n=1, expand=True)\n",
        "        model_type_df[1] = np.where(model_type_df[1].notnull(), \n",
        "                                    'With' + model_type_df[1].astype(str), \n",
        "                                    self._df[(self._df.functional_area == 'modeling')].model_task)\n",
        "        \n",
        "        self._df['model_task'] = model_type_df[1]\n",
        "        \n",
        "        # look at what we're going to remove (use to verify we're just getting rid of stuff we want too)\n",
        "        # df[~df['hf_class_type'].isin(['modeling', 'configuration', 'tokenization'])]\n",
        "        \n",
        "        # only need these 3 functional areas for our querying purposes\n",
        "        self._df = self._df[self._df['functional_area'].isin(['modeling', 'configuration', 'tokenization'])]\n",
        "        \n",
        "    def get_architectures(self): \n",
        "        \"\"\"Used to get all the architectures supported by your `Transformers` install\"\"\"\n",
        "        return self._df[(self._df.arch.notna()) & (self._df.arch != None)].arch.unique().tolist()\n",
        "    \n",
        "    def get_config(self, arch): \n",
        "        \"\"\"Used the locate the name of the configuration class for a given architecture\"\"\"\n",
        "        return self._df[(self._df.functional_area == 'configuration') & (self._df.arch == arch)].class_name.values[0]\n",
        "    \n",
        "    def get_tokenizers(self, arch): \n",
        "        \"\"\"Used to get the available huggingface tokenizers for a given architecture. Note: There may be \n",
        "        multiple tokenizers and so this returns a list.\n",
        "        \"\"\"\n",
        "        return self._df[(self._df.functional_area == 'tokenization') & (self._df.arch == arch)].class_name.values\n",
        "    \n",
        "    def get_tasks(self, arch=None): \n",
        "        \"\"\"Get the type of tasks for which there is a custom model for (*optional: by architecture*). \n",
        "        There are a number of customized models built for specific tasks like token classification, \n",
        "        question/answering, LM, etc....\n",
        "        \"\"\"\n",
        "        query = ['model_task.notna()']\n",
        "        if (arch): query.append(f'arch == \"{arch}\"')\n",
        "\n",
        "        return self._df.query(' & '.join(query), engine='python').model_task.unique().tolist()\n",
        "    \n",
        "    def get_models(self, arch=None, task=None):\n",
        "        \"\"\"The transformer models available for use (optional: by architecture | task)\"\"\"\n",
        "        query = ['functional_area == \"modeling\"']\n",
        "        if (arch): query.append(f'arch == \"{arch}\"')\n",
        "        if (task): query.append(f'model_task == \"{task}\"')\n",
        "\n",
        "        return self._df.query(' & '.join(query)).class_name.tolist()\n",
        "    \n",
        "    def get_classes_for_model(self, model_name_or_enum):\n",
        "        \"\"\"Get tokenizers, config, and model for a given model name / enum\"\"\"\n",
        "        model_name = model_name_or_enum if isinstance(model_name_or_enum, str) else model_name_or_enum.name\n",
        "\n",
        "        meta = self._df[self._df.class_name == model_name]\n",
        "        tokenizers = self.get_tokenizers(meta.arch.values[0])\n",
        "        config = self.get_config(meta.arch.values[0])\n",
        "\n",
        "        return ([str_to_class(tok) for tok in tokenizers], str_to_class(config), str_to_class(model_name))\n",
        "    \n",
        "    def get_model_architecture(self, model_name_or_enum):\n",
        "        \"\"\"Get the architecture for a given model name / enum\"\"\"\n",
        "        model_name = model_name_or_enum if isinstance(model_name_or_enum, str) else model_name_or_enum.name\n",
        "        return self._df[self._df.class_name == model_name].arch.values[0]\n",
        "    \n",
        "    def get_auto_hf_objects(self, pretrained_model_name_or_path, task, config=None):\n",
        "        \"\"\"Returns the architecture (str), tokenizer (obj), config (obj), and model (obj) \n",
        "        given a known pre-trained model name or path and a task using Hugginface `AutoModel` capabilities.  \n",
        "        If a `config` is passed in, it will be  used when building the model, else the default configuration \n",
        "        will be used (e.g., `AutoConfig.from_pretrained(...)`)\n",
        "        \"\"\"\n",
        "        tokenizer = AutoTokenizer.from_pretrained(pretrained_model_name_or_path)\n",
        "        config = AutoConfig.from_pretrained(pretrained_model_name_or_path) if (config is None) else config\n",
        "\n",
        "        model = str_to_class(f'AutoModel{task.name}').from_pretrained(pretrained_model_name_or_path, \n",
        "                                                                      config=config)\n",
        "        arch = self.get_model_architecture(type(model).__name__)\n",
        "\n",
        "        return (arch, tokenizer, config, model)\n",
        "    \n",
        "    def get_hf_objects(self, pretrained_model_name_or_path, tokenizer_cls, model_cls, config=None): \n",
        "        \"\"\"Returns the architecture (str), tokenizer (class), config (class), and model (class) \n",
        "        given a known pre-trained model name or path, a tokenizer class, and model class.  If a `config` object \n",
        "        is passed in, it will be used when building the model, else the default configuration will be used.\n",
        "        \"\"\"\n",
        "        tokenizer = tokenizer_cls.from_pretrained(pretrained_model_name_or_path)\n",
        "\n",
        "        if (config is None):\n",
        "            model = str_to_class(model_cls.name).from_pretrained(pretrained_model_name_or_path)\n",
        "            config = model.config\n",
        "        else:\n",
        "            model = str_to_class(model_cls.name).from_pretrained(pretrained_model_name_or_path, config=config)\n",
        "\n",
        "        arch = self.get_model_architecture(type(model).__name__)\n",
        "\n",
        "        return (arch, tokenizer, config, model)"
      ],
      "execution_count": 0,
      "outputs": []
    },
    {
      "cell_type": "code",
      "metadata": {
        "id": "_JwktyZq3Wx5",
        "colab_type": "code",
        "colab": {}
      },
      "source": [
        "MODEL_HELPER = ModelHelper()"
      ],
      "execution_count": 0,
      "outputs": []
    },
    {
      "cell_type": "code",
      "metadata": {
        "id": "YSr8El8g3bLi",
        "colab_type": "code",
        "colab": {}
      },
      "source": [
        "HF_ARCHITECTURES = Enum('HF_ARCHITECTURES', MODEL_HELPER.get_architectures())"
      ],
      "execution_count": 0,
      "outputs": []
    },
    {
      "cell_type": "code",
      "metadata": {
        "id": "MucrUB9S3opG",
        "colab_type": "code",
        "colab": {
          "base_uri": "https://localhost:8080/",
          "height": 54
        },
        "outputId": "5827930f-bade-4548-bd93-9bba08fd8f36"
      },
      "source": [
        "L(HF_ARCHITECTURES)"
      ],
      "execution_count": 15,
      "outputs": [
        {
          "output_type": "execute_result",
          "data": {
            "text/plain": [
              "(#40) [<HF_ARCHITECTURES.transfo_xl: 1>,<HF_ARCHITECTURES.albert: 2>,<HF_ARCHITECTURES.auto: 3>,<HF_ARCHITECTURES.bart: 4>,<HF_ARCHITECTURES.bert: 5>,<HF_ARCHITECTURES.bert_japanese: 6>,<HF_ARCHITECTURES.ctrl: 7>,<HF_ARCHITECTURES.camembert: 8>,<HF_ARCHITECTURES.utils: 9>,<HF_ARCHITECTURES.distilbert: 10>...]"
            ]
          },
          "metadata": {
            "tags": []
          },
          "execution_count": 15
        }
      ]
    },
    {
      "cell_type": "code",
      "metadata": {
        "id": "4eXhPbdQ3p-V",
        "colab_type": "code",
        "colab": {}
      },
      "source": [
        "HF_TASKS_ALL = Enum('HF_TASKS_ALL', MODEL_HELPER.get_tasks())\n",
        "HF_TASKS_AUTO = Enum('HF_TASKS_AUTO', MODEL_HELPER.get_tasks('auto'))"
      ],
      "execution_count": 0,
      "outputs": []
    },
    {
      "cell_type": "code",
      "metadata": {
        "id": "a9k54tec37Co",
        "colab_type": "code",
        "colab": {
          "base_uri": "https://localhost:8080/",
          "height": 54
        },
        "outputId": "aecfb988-d996-413a-dd24-b44612aa1d61"
      },
      "source": [
        "L(HF_TASKS_ALL)"
      ],
      "execution_count": 17,
      "outputs": [
        {
          "output_type": "execute_result",
          "data": {
            "text/plain": [
              "(#12) [<HF_TASKS_ALL.ForMaskedLM: 1>,<HF_TASKS_ALL.ForQuestionAnswering: 2>,<HF_TASKS_ALL.ForSequenceClassification: 3>,<HF_TASKS_ALL.ForTokenClassification: 4>,<HF_TASKS_ALL.ForMultipleChoice: 5>,<HF_TASKS_ALL.ForPreTraining: 6>,<HF_TASKS_ALL.WithLMHead: 7>,<HF_TASKS_ALL.ForConditionalGeneration: 8>,<HF_TASKS_ALL.ForNextSentencePrediction: 9>,<HF_TASKS_ALL.ForQuestionAnsweringSimple: 10>...]"
            ]
          },
          "metadata": {
            "tags": []
          },
          "execution_count": 17
        }
      ]
    },
    {
      "cell_type": "code",
      "metadata": {
        "id": "7KVF5tkZ39AA",
        "colab_type": "code",
        "colab": {
          "base_uri": "https://localhost:8080/",
          "height": 54
        },
        "outputId": "0bb7e555-11c7-4e37-c5d5-2111e083ac75"
      },
      "source": [
        "L(HF_TASKS_AUTO)"
      ],
      "execution_count": 18,
      "outputs": [
        {
          "output_type": "execute_result",
          "data": {
            "text/plain": [
              "(#6) [<HF_TASKS_AUTO.ForMultipleChoice: 1>,<HF_TASKS_AUTO.ForPreTraining: 2>,<HF_TASKS_AUTO.ForQuestionAnswering: 3>,<HF_TASKS_AUTO.ForSequenceClassification: 4>,<HF_TASKS_AUTO.ForTokenClassification: 5>,<HF_TASKS_AUTO.WithLMHead: 6>]"
            ]
          },
          "metadata": {
            "tags": []
          },
          "execution_count": 18
        }
      ]
    },
    {
      "cell_type": "code",
      "metadata": {
        "id": "LuTstJop4AoZ",
        "colab_type": "code",
        "colab": {}
      },
      "source": [
        "HF_MODELS = Enum('HF_MODELS', MODEL_HELPER.get_models())"
      ],
      "execution_count": 0,
      "outputs": []
    },
    {
      "cell_type": "code",
      "metadata": {
        "id": "Xw3oyY-J4MWS",
        "colab_type": "code",
        "colab": {
          "base_uri": "https://localhost:8080/",
          "height": 54
        },
        "outputId": "a7959911-5474-49c8-f481-ab80bcea3ec0"
      },
      "source": [
        "L(HF_MODELS)"
      ],
      "execution_count": 20,
      "outputs": [
        {
          "output_type": "execute_result",
          "data": {
            "text/plain": [
              "(#193) [<HF_MODELS.AdaptiveEmbedding: 1>,<HF_MODELS.AlbertForMaskedLM: 2>,<HF_MODELS.AlbertForQuestionAnswering: 3>,<HF_MODELS.AlbertForSequenceClassification: 4>,<HF_MODELS.AlbertForTokenClassification: 5>,<HF_MODELS.AlbertModel: 6>,<HF_MODELS.AlbertPreTrainedModel: 7>,<HF_MODELS.AutoModel: 8>,<HF_MODELS.AutoModelForMultipleChoice: 9>,<HF_MODELS.AutoModelForPreTraining: 10>...]"
            ]
          },
          "metadata": {
            "tags": []
          },
          "execution_count": 20
        }
      ]
    },
    {
      "cell_type": "code",
      "metadata": {
        "id": "C4GH8Zw54OU8",
        "colab_type": "code",
        "colab": {}
      },
      "source": [
        ""
      ],
      "execution_count": 0,
      "outputs": []
    },
    {
      "cell_type": "code",
      "metadata": {
        "id": "F9gpTtm8j5EU",
        "colab_type": "code",
        "colab": {}
      },
      "source": [
        ""
      ],
      "execution_count": 0,
      "outputs": []
    },
    {
      "cell_type": "markdown",
      "metadata": {
        "id": "Gbou8aMT7_yt",
        "colab_type": "text"
      },
      "source": [
        "## DATA"
      ]
    },
    {
      "cell_type": "code",
      "metadata": {
        "id": "BbiJ4d1-nIF5",
        "colab_type": "code",
        "colab": {
          "base_uri": "https://localhost:8080/",
          "height": 34
        },
        "outputId": "d2c4f2db-7b74-4a60-a0af-f7f4e141549d"
      },
      "source": [
        "# path = untar_data(URLs.IMDB_SAMPLE)\n",
        "# path.ls()"
      ],
      "execution_count": 50,
      "outputs": [
        {
          "output_type": "execute_result",
          "data": {
            "text/plain": [
              "(#1) [Path('/root/.fastai/data/imdb_sample/texts.csv')]"
            ]
          },
          "metadata": {
            "tags": []
          },
          "execution_count": 50
        }
      ]
    },
    {
      "cell_type": "code",
      "metadata": {
        "id": "uRolZknLoIsi",
        "colab_type": "code",
        "colab": {
          "base_uri": "https://localhost:8080/",
          "height": 187
        },
        "outputId": "f46593fd-9557-4732-e1ef-d0f66b94ff81"
      },
      "source": [
        "# imdb_df = pd.read_csv(path/'texts.csv')\n",
        "# imdb_df.info()"
      ],
      "execution_count": 52,
      "outputs": [
        {
          "output_type": "stream",
          "text": [
            "<class 'pandas.core.frame.DataFrame'>\n",
            "RangeIndex: 1000 entries, 0 to 999\n",
            "Data columns (total 3 columns):\n",
            " #   Column    Non-Null Count  Dtype \n",
            "---  ------    --------------  ----- \n",
            " 0   label     1000 non-null   object\n",
            " 1   text      1000 non-null   object\n",
            " 2   is_valid  1000 non-null   bool  \n",
            "dtypes: bool(1), object(2)\n",
            "memory usage: 16.7+ KB\n"
          ],
          "name": "stdout"
        }
      ]
    },
    {
      "cell_type": "code",
      "metadata": {
        "id": "6AiBiIeL5dYw",
        "colab_type": "code",
        "colab": {
          "base_uri": "https://localhost:8080/",
          "height": 54
        },
        "outputId": "3aa8d1f5-1851-4000-e837-efbe767e1aab"
      },
      "source": [
        "# path = untar_data(URLs.IMDB)\n",
        "\n",
        "path.ls()"
      ],
      "execution_count": 53,
      "outputs": [
        {
          "output_type": "execute_result",
          "data": {
            "text/plain": [
              "(#7) [Path('/root/.fastai/data/imdb/tmp_clas'),Path('/root/.fastai/data/imdb/imdb.vocab'),Path('/root/.fastai/data/imdb/test'),Path('/root/.fastai/data/imdb/unsup'),Path('/root/.fastai/data/imdb/README'),Path('/root/.fastai/data/imdb/tmp_lm'),Path('/root/.fastai/data/imdb/train')]"
            ]
          },
          "metadata": {
            "tags": []
          },
          "execution_count": 53
        }
      ]
    },
    {
      "cell_type": "code",
      "metadata": {
        "id": "Zsa9eQsBoF2U",
        "colab_type": "code",
        "colab": {
          "base_uri": "https://localhost:8080/",
          "height": 54
        },
        "outputId": "51831606-e51f-45d6-8b88-6dbdc3037013"
      },
      "source": [
        "(path/'train').ls()"
      ],
      "execution_count": 54,
      "outputs": [
        {
          "output_type": "execute_result",
          "data": {
            "text/plain": [
              "(#4) [Path('/root/.fastai/data/imdb/train/neg'),Path('/root/.fastai/data/imdb/train/unsupBow.feat'),Path('/root/.fastai/data/imdb/train/pos'),Path('/root/.fastai/data/imdb/train/labeledBow.feat')]"
            ]
          },
          "metadata": {
            "tags": []
          },
          "execution_count": 54
        }
      ]
    },
    {
      "cell_type": "code",
      "metadata": {
        "id": "CdOS668-uOBB",
        "colab_type": "code",
        "colab": {}
      },
      "source": [
        "# Download the IMDB data from kaggle"
      ],
      "execution_count": 0,
      "outputs": []
    },
    {
      "cell_type": "code",
      "metadata": {
        "id": "josYZwcfp3vb",
        "colab_type": "code",
        "colab": {
          "base_uri": "https://localhost:8080/",
          "height": 204
        },
        "outputId": "21ead7a3-e2c3-424e-9462-aa8a73bc0845"
      },
      "source": [
        "!pip install kaggle"
      ],
      "execution_count": 57,
      "outputs": [
        {
          "output_type": "stream",
          "text": [
            "Requirement already satisfied: kaggle in /usr/local/lib/python3.6/dist-packages (1.5.6)\n",
            "Requirement already satisfied: python-dateutil in /usr/local/lib/python3.6/dist-packages (from kaggle) (2.8.1)\n",
            "Requirement already satisfied: certifi in /usr/local/lib/python3.6/dist-packages (from kaggle) (2020.4.5.1)\n",
            "Requirement already satisfied: urllib3<1.25,>=1.21.1 in /usr/local/lib/python3.6/dist-packages (from kaggle) (1.24.3)\n",
            "Requirement already satisfied: requests in /usr/local/lib/python3.6/dist-packages (from kaggle) (2.23.0)\n",
            "Requirement already satisfied: tqdm in /usr/local/lib/python3.6/dist-packages (from kaggle) (4.41.1)\n",
            "Requirement already satisfied: six>=1.10 in /usr/local/lib/python3.6/dist-packages (from kaggle) (1.12.0)\n",
            "Requirement already satisfied: python-slugify in /usr/local/lib/python3.6/dist-packages (from kaggle) (4.0.0)\n",
            "Requirement already satisfied: idna<3,>=2.5 in /usr/local/lib/python3.6/dist-packages (from requests->kaggle) (2.9)\n",
            "Requirement already satisfied: chardet<4,>=3.0.2 in /usr/local/lib/python3.6/dist-packages (from requests->kaggle) (3.0.4)\n",
            "Requirement already satisfied: text-unidecode>=1.3 in /usr/local/lib/python3.6/dist-packages (from python-slugify->kaggle) (1.3)\n"
          ],
          "name": "stdout"
        }
      ]
    },
    {
      "cell_type": "code",
      "metadata": {
        "id": "B_UvY4GtqFta",
        "colab_type": "code",
        "colab": {}
      },
      "source": [
        "!mkdir .kaggle"
      ],
      "execution_count": 0,
      "outputs": []
    },
    {
      "cell_type": "code",
      "metadata": {
        "id": "8n9A2zCSp-Hx",
        "colab_type": "code",
        "colab": {}
      },
      "source": [
        "import json\n",
        "token = {\"username\":\"binliu0630\",\"key\":\"8fbf745edbb9799f7f8f45f516701290\"}\n",
        "with open('/content/.kaggle/kaggle.json', 'w') as file:\n",
        "    json.dump(token, file)"
      ],
      "execution_count": 0,
      "outputs": []
    },
    {
      "cell_type": "code",
      "metadata": {
        "id": "aPCp_wgaqP3K",
        "colab_type": "code",
        "colab": {}
      },
      "source": [
        "!cp /content/.kaggle/kaggle.json ~/.kaggle/kaggle.json"
      ],
      "execution_count": 0,
      "outputs": []
    },
    {
      "cell_type": "code",
      "metadata": {
        "id": "Gqob-SYBqP1b",
        "colab_type": "code",
        "colab": {
          "base_uri": "https://localhost:8080/",
          "height": 51
        },
        "outputId": "7021fcab-7fe3-443f-a336-e24456156767"
      },
      "source": [
        "\n",
        "!kaggle config set -n path -v{/content}"
      ],
      "execution_count": 63,
      "outputs": [
        {
          "output_type": "stream",
          "text": [
            "Warning: Your Kaggle API key is readable by other users on this system! To fix this, you can run 'chmod 600 /root/.kaggle/kaggle.json'\n",
            "- path is now set to: {/content}\n"
          ],
          "name": "stdout"
        }
      ]
    },
    {
      "cell_type": "code",
      "metadata": {
        "id": "aD1aHwu3qPyT",
        "colab_type": "code",
        "colab": {}
      },
      "source": [
        "!chmod 600 /root/.kaggle/kaggle.json"
      ],
      "execution_count": 0,
      "outputs": []
    },
    {
      "cell_type": "code",
      "metadata": {
        "id": "UcgsJxeDpMKS",
        "colab_type": "code",
        "colab": {
          "base_uri": "https://localhost:8080/",
          "height": 68
        },
        "outputId": "99702120-d5e5-4cd8-bd44-391ef0098a6b"
      },
      "source": [
        "!kaggle datasets download -d lakshmi25npathi/imdb-dataset-of-50k-movie-reviews"
      ],
      "execution_count": 66,
      "outputs": [
        {
          "output_type": "stream",
          "text": [
            "Downloading imdb-dataset-of-50k-movie-reviews.zip to {/content}/datasets/lakshmi25npathi/imdb-dataset-of-50k-movie-reviews\n",
            "\r  0% 0.00/25.7M [00:00<?, ?B/s]\r 19% 5.00M/25.7M [00:00<00:00, 33.8MB/s]\n",
            "\r100% 25.7M/25.7M [00:00<00:00, 102MB/s] \n"
          ],
          "name": "stdout"
        }
      ]
    },
    {
      "cell_type": "code",
      "metadata": {
        "id": "QSjSIKi8qssN",
        "colab_type": "code",
        "colab": {}
      },
      "source": [
        "!cd {/content}/datasets/lakshmi25npathi/imdb-dataset-of-50k-movie-reviews"
      ],
      "execution_count": 0,
      "outputs": []
    },
    {
      "cell_type": "code",
      "metadata": {
        "id": "_ZYXm43sp0pb",
        "colab_type": "code",
        "colab": {
          "base_uri": "https://localhost:8080/",
          "height": 34
        },
        "outputId": "779d0f7f-2017-48da-9488-c6c272019c3b"
      },
      "source": [
        "!ls {/content}/datasets/lakshmi25npathi/imdb-dataset-of-50k-movie-reviews"
      ],
      "execution_count": 72,
      "outputs": [
        {
          "output_type": "stream",
          "text": [
            "imdb-dataset-of-50k-movie-reviews.zip\n"
          ],
          "name": "stdout"
        }
      ]
    },
    {
      "cell_type": "code",
      "metadata": {
        "id": "1E5UJIdLrBws",
        "colab_type": "code",
        "colab": {
          "base_uri": "https://localhost:8080/",
          "height": 51
        },
        "outputId": "d186f08b-f042-4a06-d1c7-24a213d2dc1d"
      },
      "source": [
        "!unzip {/content}/datasets/lakshmi25npathi/imdb-dataset-of-50k-movie-reviews/imdb-dataset-of-50k-movie-reviews.zip"
      ],
      "execution_count": 73,
      "outputs": [
        {
          "output_type": "stream",
          "text": [
            "Archive:  {/content}/datasets/lakshmi25npathi/imdb-dataset-of-50k-movie-reviews/imdb-dataset-of-50k-movie-reviews.zip\n",
            "  inflating: IMDB Dataset.csv        \n"
          ],
          "name": "stdout"
        }
      ]
    },
    {
      "cell_type": "code",
      "metadata": {
        "id": "iGtHE6GarO2s",
        "colab_type": "code",
        "colab": {}
      },
      "source": [
        "imdb_df = pd.read_csv('IMDB Dataset.csv')"
      ],
      "execution_count": 0,
      "outputs": []
    },
    {
      "cell_type": "code",
      "metadata": {
        "id": "xAY5wSWNrV14",
        "colab_type": "code",
        "colab": {
          "base_uri": "https://localhost:8080/",
          "height": 459
        },
        "outputId": "f60c84e5-eb66-4f3c-a4b1-22b17fa206d9"
      },
      "source": [
        "imdb_df.head()"
      ],
      "execution_count": 76,
      "outputs": [
        {
          "output_type": "execute_result",
          "data": {
            "text/html": [
              "<div>\n",
              "<style scoped>\n",
              "    .dataframe tbody tr th:only-of-type {\n",
              "        vertical-align: middle;\n",
              "    }\n",
              "\n",
              "    .dataframe tbody tr th {\n",
              "        vertical-align: top;\n",
              "    }\n",
              "\n",
              "    .dataframe thead th {\n",
              "        text-align: right;\n",
              "    }\n",
              "</style>\n",
              "<table border=\"1\" class=\"dataframe\">\n",
              "  <thead>\n",
              "    <tr style=\"text-align: right;\">\n",
              "      <th></th>\n",
              "      <th>review</th>\n",
              "      <th>sentiment</th>\n",
              "    </tr>\n",
              "  </thead>\n",
              "  <tbody>\n",
              "    <tr>\n",
              "      <th>0</th>\n",
              "      <td>One of the other reviewers has mentioned that after watching just 1 Oz episode you'll be hooked. They are right, as this is exactly what happened with me.&lt;br /&gt;&lt;br /&gt;The first thing that struck me about Oz was its brutality and unflinching scenes of violence, which set in right from the word GO. Trust me, this is not a show for the faint hearted or timid. This show pulls no punches with regards to drugs, sex or violence. Its is hardcore, in the classic use of the word.&lt;br /&gt;&lt;br /&gt;It is called OZ as that is the nickname given to the Oswald Maximum Security State Penitentary. It focuses main...</td>\n",
              "      <td>positive</td>\n",
              "    </tr>\n",
              "    <tr>\n",
              "      <th>1</th>\n",
              "      <td>A wonderful little production. &lt;br /&gt;&lt;br /&gt;The filming technique is very unassuming- very old-time-BBC fashion and gives a comforting, and sometimes discomforting, sense of realism to the entire piece. &lt;br /&gt;&lt;br /&gt;The actors are extremely well chosen- Michael Sheen not only \"has got all the polari\" but he has all the voices down pat too! You can truly see the seamless editing guided by the references to Williams' diary entries, not only is it well worth the watching but it is a terrificly written and performed piece. A masterful production about one of the great master's of comedy and his ...</td>\n",
              "      <td>positive</td>\n",
              "    </tr>\n",
              "    <tr>\n",
              "      <th>2</th>\n",
              "      <td>I thought this was a wonderful way to spend time on a too hot summer weekend, sitting in the air conditioned theater and watching a light-hearted comedy. The plot is simplistic, but the dialogue is witty and the characters are likable (even the well bread suspected serial killer). While some may be disappointed when they realize this is not Match Point 2: Risk Addiction, I thought it was proof that Woody Allen is still fully in control of the style many of us have grown to love.&lt;br /&gt;&lt;br /&gt;This was the most I'd laughed at one of Woody's comedies in years (dare I say a decade?). While I've ...</td>\n",
              "      <td>positive</td>\n",
              "    </tr>\n",
              "    <tr>\n",
              "      <th>3</th>\n",
              "      <td>Basically there's a family where a little boy (Jake) thinks there's a zombie in his closet &amp; his parents are fighting all the time.&lt;br /&gt;&lt;br /&gt;This movie is slower than a soap opera... and suddenly, Jake decides to become Rambo and kill the zombie.&lt;br /&gt;&lt;br /&gt;OK, first of all when you're going to make a film you must Decide if its a thriller or a drama! As a drama the movie is watchable. Parents are divorcing &amp; arguing like in real life. And then we have Jake with his closet which totally ruins all the film! I expected to see a BOOGEYMAN similar movie, and instead i watched a drama with so...</td>\n",
              "      <td>negative</td>\n",
              "    </tr>\n",
              "    <tr>\n",
              "      <th>4</th>\n",
              "      <td>Petter Mattei's \"Love in the Time of Money\" is a visually stunning film to watch. Mr. Mattei offers us a vivid portrait about human relations. This is a movie that seems to be telling us what money, power and success do to people in the different situations we encounter. &lt;br /&gt;&lt;br /&gt;This being a variation on the Arthur Schnitzler's play about the same theme, the director transfers the action to the present time New York where all these different characters meet and connect. Each one is connected in one way, or another to the next person, but no one seems to know the previous point of conta...</td>\n",
              "      <td>positive</td>\n",
              "    </tr>\n",
              "  </tbody>\n",
              "</table>\n",
              "</div>"
            ],
            "text/plain": [
              "                                                                                                                                                                                                                                                                                                                                                                                                                                                                                                                                                                                                                    review sentiment\n",
              "0  One of the other reviewers has mentioned that after watching just 1 Oz episode you'll be hooked. They are right, as this is exactly what happened with me.<br /><br />The first thing that struck me about Oz was its brutality and unflinching scenes of violence, which set in right from the word GO. Trust me, this is not a show for the faint hearted or timid. This show pulls no punches with regards to drugs, sex or violence. Its is hardcore, in the classic use of the word.<br /><br />It is called OZ as that is the nickname given to the Oswald Maximum Security State Penitentary. It focuses main...  positive\n",
              "1  A wonderful little production. <br /><br />The filming technique is very unassuming- very old-time-BBC fashion and gives a comforting, and sometimes discomforting, sense of realism to the entire piece. <br /><br />The actors are extremely well chosen- Michael Sheen not only \"has got all the polari\" but he has all the voices down pat too! You can truly see the seamless editing guided by the references to Williams' diary entries, not only is it well worth the watching but it is a terrificly written and performed piece. A masterful production about one of the great master's of comedy and his ...  positive\n",
              "2  I thought this was a wonderful way to spend time on a too hot summer weekend, sitting in the air conditioned theater and watching a light-hearted comedy. The plot is simplistic, but the dialogue is witty and the characters are likable (even the well bread suspected serial killer). While some may be disappointed when they realize this is not Match Point 2: Risk Addiction, I thought it was proof that Woody Allen is still fully in control of the style many of us have grown to love.<br /><br />This was the most I'd laughed at one of Woody's comedies in years (dare I say a decade?). While I've ...  positive\n",
              "3  Basically there's a family where a little boy (Jake) thinks there's a zombie in his closet & his parents are fighting all the time.<br /><br />This movie is slower than a soap opera... and suddenly, Jake decides to become Rambo and kill the zombie.<br /><br />OK, first of all when you're going to make a film you must Decide if its a thriller or a drama! As a drama the movie is watchable. Parents are divorcing & arguing like in real life. And then we have Jake with his closet which totally ruins all the film! I expected to see a BOOGEYMAN similar movie, and instead i watched a drama with so...  negative\n",
              "4  Petter Mattei's \"Love in the Time of Money\" is a visually stunning film to watch. Mr. Mattei offers us a vivid portrait about human relations. This is a movie that seems to be telling us what money, power and success do to people in the different situations we encounter. <br /><br />This being a variation on the Arthur Schnitzler's play about the same theme, the director transfers the action to the present time New York where all these different characters meet and connect. Each one is connected in one way, or another to the next person, but no one seems to know the previous point of conta...  positive"
            ]
          },
          "metadata": {
            "tags": []
          },
          "execution_count": 76
        }
      ]
    },
    {
      "cell_type": "code",
      "metadata": {
        "id": "rp5gdsCak9qE",
        "colab_type": "code",
        "colab": {}
      },
      "source": [
        "model_path = Path('models') \n"
      ],
      "execution_count": 0,
      "outputs": []
    },
    {
      "cell_type": "code",
      "metadata": {
        "id": "mbTjP6JE5ype",
        "colab_type": "code",
        "colab": {}
      },
      "source": [
        "class HF_BaseInput(list): pass"
      ],
      "execution_count": 0,
      "outputs": []
    },
    {
      "cell_type": "code",
      "metadata": {
        "id": "odDtVSu86O6L",
        "colab_type": "code",
        "colab": {}
      },
      "source": [
        "#export\n",
        "class HF_Tokenizer():\n",
        "    \"\"\"huggingface friendly tokenization function.\"\"\"\n",
        "    def __init__(self, hf_arch, hf_tokenizer, mode='str', list_split_func=str.split, **kwargs):\n",
        "        store_attr(self, 'hf_arch, hf_tokenizer, mode, list_split_func')\n",
        "\n",
        "    def __call__(self, items): \n",
        "        for txt in items: yield self._tokenize(txt)\n",
        "\n",
        "    def _tokenize(self, txt):   \n",
        "        if (self.mode == 'str'): \n",
        "            return self.hf_tokenizer.tokenize(txt)\n",
        "        \n",
        "        if (self.mode == 'list'):\n",
        "            try: tokens = ast.literal_eval(txt)\n",
        "            except: \n",
        "                tokens = self.list_split_func(txt)\n",
        "            finally:\n",
        "                return [sub_toks for entity in tokens for sub_toks in self.hf_tokenizer.tokenize(entity)]"
      ],
      "execution_count": 0,
      "outputs": []
    },
    {
      "cell_type": "code",
      "metadata": {
        "id": "_CLcisSV6R1E",
        "colab_type": "code",
        "colab": {}
      },
      "source": [
        "@typedispatch\n",
        "def build_hf_input(task, tokenizer, a_tok_ids, b_tok_ids=None, targets=None,\n",
        "                   max_length=512, pad_to_max_length=True, truncation_strategy='longest_first'):\n",
        "\n",
        "    res = tokenizer.prepare_for_model(a_tok_ids, b_tok_ids, \n",
        "                                       max_length=max_length, pad_to_max_length=pad_to_max_length,\n",
        "                                       truncation_strategy=truncation_strategy, return_tensors='pt')\n",
        "    \n",
        "    input_ids = res['input_ids'][0]\n",
        "    token_type_ids = res['token_type_ids'][0] if ('token_type_ids' in res) else torch.tensor([-9999]) \n",
        "    attention_mask = res['attention_mask'][0] if ('attention_mask' in res) else torch.tensor([-9999]) \n",
        "    \n",
        "    return HF_BaseInput([input_ids, token_type_ids, attention_mask]), targets"
      ],
      "execution_count": 0,
      "outputs": []
    },
    {
      "cell_type": "code",
      "metadata": {
        "id": "U-ltBAb26Wfc",
        "colab_type": "code",
        "colab": {}
      },
      "source": [
        "class HF_BatchTransform(Transform):\n",
        "    \"\"\"Handles everything you need to assemble a mini-batch of inputs and targets\"\"\"\n",
        "    def __init__(self, hf_arch, hf_tokenizer, max_seq_len=512, truncation_strategy='longest_first', task=None):\n",
        "        \n",
        "        self.hf_arch = hf_arch\n",
        "        self.hf_tokenizer = hf_tokenizer\n",
        "        store_attr(self, 'max_seq_len, truncation_strategy, task')\n",
        "        \n",
        "    def encodes(self, samples):\n",
        "        \n",
        "        encoded_samples = []\n",
        "        for idx, sample in enumerate(samples):\n",
        "            \n",
        "            if (isinstance(sample[0], tuple)):\n",
        "                a_tok_ids = sample[0][0].tolist()\n",
        "                b_tok_ids = sample[0][1].tolist()\n",
        "            else:\n",
        "                a_tok_ids = sample[0].tolist()\n",
        "                b_tok_ids = None\n",
        "\n",
        "            hf_base_input, targets = build_hf_input(self.task, self.hf_tokenizer, \n",
        "                                                    a_tok_ids, b_tok_ids, sample[1:],\n",
        "                                                    self.max_seq_len, True, self.truncation_strategy)\n",
        "            \n",
        "            encoded_samples.append((hf_base_input, *targets))\n",
        "            \n",
        "        return encoded_samples"
      ],
      "execution_count": 0,
      "outputs": []
    },
    {
      "cell_type": "code",
      "metadata": {
        "id": "9hmwyDuB6bB8",
        "colab_type": "code",
        "colab": {}
      },
      "source": [
        "class HF_TextBlock(TransformBlock):\n",
        "    \n",
        "    @delegates(Numericalize.__init__)\n",
        "    def __init__(self, tok_tfms, hf_arch, hf_tokenizer, hf_batch_tfm=None, vocab=None, task=None,\n",
        "                 max_seq_len=512, **kwargs):\n",
        "\n",
        "        if hf_batch_tfm is None:\n",
        "            hf_batch_tfm = HF_BatchTransform(hf_arch, hf_tokenizer, max_seq_len=max_seq_len,\n",
        "                                             truncation_strategy='longest_first', task=task)\n",
        "            \n",
        "        return super().__init__(type_tfms=[*tok_tfms, Numericalize(vocab, **kwargs)],\n",
        "                                dl_type=SortedDL, \n",
        "                                dls_kwargs={ 'before_batch': hf_batch_tfm })\n",
        "\n",
        "    @classmethod\n",
        "    @delegates(Tokenizer.from_df, keep=True)\n",
        "    def from_df(cls, text_cols_lists, hf_arch, hf_tokenizer, hf_batch_tfm=None, vocab=None, task=None, \n",
        "                tok_func_mode='str', res_col_names=None, max_seq_len=512, **kwargs):\n",
        "        \"\"\"Creates a HF_TextBlock via a pandas DataFrame\"\"\"\n",
        "        \n",
        "        # grab hf tokenizer class to do the actual tokenization (via tok_func) and its vocab\n",
        "        tokenizer_cls = partial(HF_Tokenizer, hf_arch=hf_arch, hf_tokenizer=hf_tokenizer, mode=tok_func_mode)\n",
        "        if (vocab is None): vocab = list(hf_tokenizer.get_vocab())\n",
        "\n",
        "        # build the column name(s) returned after tokenization\n",
        "        if (res_col_names is None): res_col_names = [ f'text{i}' for i in range(len(text_cols_lists)) ] \n",
        "    \n",
        "        tok_tfms = [ Tokenizer.from_df(text_cols, \n",
        "                                       res_col_name=res_col_name, \n",
        "                                       tok_func=tokenizer_cls,\n",
        "                                       rules=[], **kwargs) \n",
        "                    for text_cols, res_col_name in zip(text_cols_lists, res_col_names) ]\n",
        "  \n",
        "        return cls(tok_tfms, hf_arch=hf_arch, hf_tokenizer=hf_tokenizer, hf_batch_tfm=hf_batch_tfm, \n",
        "                   vocab=vocab, task=task, max_seq_len=max_seq_len)"
      ],
      "execution_count": 0,
      "outputs": []
    },
    {
      "cell_type": "code",
      "metadata": {
        "id": "Mp2ou7Ws6f9B",
        "colab_type": "code",
        "colab": {
          "base_uri": "https://localhost:8080/",
          "height": 17
        },
        "outputId": "9125f2a1-9415-48dd-f06b-48f3738d8124"
      },
      "source": [
        "# single input\n",
        "blocks = (\n",
        "    HF_TextBlock.from_df(text_cols_lists=[['review']], hf_arch=hf_arch, hf_tokenizer=hf_tokenizer),\n",
        "    CategoryBlock\n",
        ")\n",
        "\n",
        "def get_x(x): return x.text0\n",
        "\n",
        "#dblock = DataBlock(blocks=blocks, get_x=get_x, get_y=ColReader('label'), splitter=ColSplitter(col='is_valid'))\n",
        "dblock = DataBlock(blocks=blocks, get_x=get_x, get_y=ColReader('sentiment'), splitter=RandomSplitter(0.2))\n",
        "\n",
        "dls = dblock.dataloaders(imdb_df, bs=4)"
      ],
      "execution_count": 81,
      "outputs": [
        {
          "output_type": "display_data",
          "data": {
            "text/html": [
              ""
            ],
            "text/plain": [
              "<IPython.core.display.HTML object>"
            ]
          },
          "metadata": {
            "tags": []
          }
        }
      ]
    },
    {
      "cell_type": "code",
      "metadata": {
        "id": "0KWysD0f7Fux",
        "colab_type": "code",
        "colab": {}
      },
      "source": [
        "@typedispatch\n",
        "def show_batch(x:HF_BaseInput, y, samples, hf_tokenizer, skip_special_tokens=True, ctxs=None, max_n=6, **kwargs):        \n",
        "    if ctxs is None: ctxs = get_empty_df(min(len(samples), max_n))\n",
        "    \n",
        "    samples = L((TitledStr(hf_tokenizer.decode(inp, skip_special_tokens=skip_special_tokens).replace(hf_tokenizer.pad_token, '')),*s[1:]) \n",
        "                for inp, s in zip(x[0], samples))\n",
        "    \n",
        "    ctxs = show_batch[object](x, y, samples, max_n=max_n, ctxs=ctxs, **kwargs)\n",
        "\n",
        "    display_df(pd.DataFrame(ctxs))\n",
        "    return ctxs"
      ],
      "execution_count": 0,
      "outputs": []
    },
    {
      "cell_type": "code",
      "metadata": {
        "id": "2fojOw_j6oZ-",
        "colab_type": "code",
        "colab": {
          "base_uri": "https://localhost:8080/",
          "height": 570
        },
        "outputId": "60036fc3-4bcd-4936-c459-6b79ed19f777"
      },
      "source": [
        "dls.show_batch(hf_tokenizer=hf_tokenizer, max_n=2)"
      ],
      "execution_count": 83,
      "outputs": [
        {
          "output_type": "display_data",
          "data": {
            "text/html": [
              "<table border=\"1\" class=\"dataframe\">\n",
              "  <thead>\n",
              "    <tr style=\"text-align: right;\">\n",
              "      <th></th>\n",
              "      <th>text</th>\n",
              "      <th>category</th>\n",
              "    </tr>\n",
              "  </thead>\n",
              "  <tbody>\n",
              "    <tr>\n",
              "      <th>0</th>\n",
              "      <td>Match 1: Tag Team Table Match Bubba Ray and Spike Dudley vs Eddie Guerrero and Chris Benoit Bubba Ray and Spike Dudley started things off with a Tag Team Table Match against Eddie Guerrero and Chris Benoit. According to the rules of the match, both opponents have to go through tables in order to get the win. Benoit and Guerrero heated up early on by taking turns hammering first Spike and then Bubba Ray. A German suplex by Benoit to Bubba took the wind out of the Dudley brother. Spike tried to help his brother, but the referee restrained him while Benoit and Guerrero ganged up on him in the corner. With Benoit stomping away on Bubba, Guerrero set up a table outside. Spike dashed into the ring and somersaulted over the top rope onto Guerrero on the outside! After recovering and taking care of Spike, Guerrero slipped a table into the ring and helped the Wolverine set it up. The tandem then set up for a double superplex from the middle rope which would have put Bubba through the table, but Spike knocked the table over right before his brother came crashing down! Guerrero and Benoit propped another table in the corner and tried to Irish Whip Spike through it, but Bubba dashed in and blocked his brother. Bubba caught fire and lifted both opponents into back body drops! Bubba slammed Guerrero and Spike stomped on the Wolverine from off the top rope. Bubba held Benoit at bay for Spike to soar into the Wassup! headbutt! Shortly after, Benoit latched Spike in the Crossface, but the match continued even after Spike tapped out. Bubba came to his brother's rescue and managed to sprawl Benoit on a table. Bubba leapt from the middle rope, but Benoit moved and sent Bubba crashing through the wood! But because his opponents didn't force him through the table, Bubba was allowed to stay in the match. The first man was eliminated shortly after, though, as Spike put Eddie through a table with a Dudley Dawg from the ring apron to the outside! Benoit put Spike through a table moments later to even the score. Within seconds, Bubba nailed a Bubba Bomb that put Benoit through a table and gave the Dudleys the win! Winner: Bubba Ray and Spike Dudley&lt;br /&gt;&lt;br /&gt;Match 2: Cruiserweight Championship Jamie Noble vs Billy Kidman Billy Kidman challenged Jamie Noble, who brought Nidia with him to the ring, for the Cruiserweight</td>\n",
              "      <td>positive</td>\n",
              "    </tr>\n",
              "    <tr>\n",
              "      <th>1</th>\n",
              "      <td>My first impresson of the Saikano: Live Action movie trailer (viewable on YouTube), was \"Wow, this could be perhaps one of the few better live-action anime adaptations.\"&lt;br /&gt;&lt;br /&gt;This time I was just wrong! Simply put, the live-action Saikano movie was a puzzle missing a number of pieces; put together just enough to get the vague image of it all.&lt;br /&gt;&lt;br /&gt;*STORY* &lt;br /&gt;&lt;br /&gt;The movies story vaguely follows the anime and manga, but the movies story is just the frame of a car, rather than a complete automobile. It seems that many parts of the story originally in the anime were left out, altered, or completely changed. In fact the ending is completely different from the manga or anime endings. &lt;br /&gt;&lt;br /&gt;Characters especially; many left out or had a different feel. The connection between Fuyumi and Shuji is reduced to that of Shuji knowing her because she's the video store lady. Chise's character felt too strong already and only uttered the infamous I'm sorry a few times in the movie. Same can be said with Shuji. We lost the shy uptight yet tall male lead, the song he hums, and his frequent action of calling Chise silly. Other characters like Tetsu and Akemi had a different, toned down feel to them. Perhaps the dropping and toning down of other characters was to focus a lot more on Chise and Shuji, which it did. Way too much. Expecting a lot of sweet action scenes like those in the trailer? Well don't! Those in the trailer plus a few minutes, is the only amount of action you will get. So much of the movie is talking that while I was browsing thru the movie before watching it all, I thought I had gotten a regular Asian romance drama. &lt;br /&gt;&lt;br /&gt;Pacing was way too fast. In the film, we see the famous scene of Chise armed with small wings and a chain gun arm, in just a little less than nine minutes of beginning it. There is very little time to get to know the characters and connect with them. What they should have done was split it into two movies, or even a trilogy. If it had been not as many things would have to be changed or dropped.&lt;br /&gt;&lt;br /&gt;But again the movie behaves like a frame. The anime was more of a complete automobile because even if all those little details and</td>\n",
              "      <td>negative</td>\n",
              "    </tr>\n",
              "  </tbody>\n",
              "</table>"
            ],
            "text/plain": [
              "<IPython.core.display.HTML object>"
            ]
          },
          "metadata": {
            "tags": []
          }
        }
      ]
    },
    {
      "cell_type": "markdown",
      "metadata": {
        "id": "d4ywyZVP70O2",
        "colab_type": "text"
      },
      "source": [
        "# MODEL"
      ]
    },
    {
      "cell_type": "code",
      "metadata": {
        "id": "KeP3M9jfkY5f",
        "colab_type": "code",
        "colab": {
          "base_uri": "https://localhost:8080/",
          "height": 34
        },
        "outputId": "c4db3ad1-13aa-4d12-cb16-62e98762f1ec"
      },
      "source": [
        "task = HF_TASKS_AUTO.ForSequenceClassification\n",
        "print(task.name)\n",
        "pretrained_model_name = \"roberta-base\"\n",
        "config = AutoConfig.from_pretrained(pretrained_model_name)\n",
        "\n",
        "hf_arch, hf_tokenizer, hf_config, hf_model = MODEL_HELPER.get_auto_hf_objects(pretrained_model_name, \n",
        "                                                                                    task=task, \n",
        "                                                                                    config=config)"
      ],
      "execution_count": 84,
      "outputs": [
        {
          "output_type": "stream",
          "text": [
            "ForSequenceClassification\n"
          ],
          "name": "stdout"
        }
      ]
    },
    {
      "cell_type": "code",
      "metadata": {
        "id": "negTZ93R7s74",
        "colab_type": "code",
        "colab": {}
      },
      "source": [
        "def hf_splitter(m):\n",
        "    \"\"\"Splits the huggingface model based on various model architecture conventions\"\"\"\n",
        "    model = m.hf_model if (hasattr(m, 'hf_model')) else m\n",
        "    root_modules = list(model.named_children())\n",
        "    top_module_name, top_module = root_modules[0]\n",
        "    \n",
        "    groups = L([ m for m_name, m in list(top_module.named_children()) ])\n",
        "    groups += L([ m for m_name, m in root_modules[1:] ])\n",
        "\n",
        "    return groups.map(params).filter(lambda el: len(el) > 0)"
      ],
      "execution_count": 0,
      "outputs": []
    },
    {
      "cell_type": "code",
      "metadata": {
        "id": "lKiQ4Xcn7qUk",
        "colab_type": "code",
        "colab": {}
      },
      "source": [
        "class HF_BaseModelCallback(Callback):\n",
        "    \n",
        "    def begin_fit(self):\n",
        "        self.hf_model = self.model\n",
        "        self.hf_model_fwd_args = self.model.forward.__code__.co_varnames\n",
        "    \n",
        "    def begin_batch(self):\n",
        "        x = self.xb[0]\n",
        "        model_args = [x[0]]\n",
        "        if (self._include_arg('attention_mask', x[2])): model_args.append(x[2])\n",
        "        if (self._include_arg('token_type_ids', x[1])): model_args.append(x[1])\n",
        "\n",
        "        self.learn.xb = tuplify(model_args)\n",
        "    \n",
        "    def after_pred(self): \n",
        "        self.learn.pred = self.pred[0]\n",
        "        \n",
        "    def _include_arg(self, arg_name, tensor_val):\n",
        "        if (tensor_val[0][0].item() == -9999 or arg_name not in self.hf_model_fwd_args):\n",
        "            return False\n",
        "        return True"
      ],
      "execution_count": 0,
      "outputs": []
    },
    {
      "cell_type": "code",
      "metadata": {
        "id": "MoKyQ52o6tDe",
        "colab_type": "code",
        "colab": {
          "base_uri": "https://localhost:8080/",
          "height": 126
        },
        "outputId": "9e2b3014-b2d5-4e50-c37d-0becac9ca625"
      },
      "source": [
        "learn = Learner(dls, \n",
        "                hf_model,\n",
        "                opt_func=partial(Adam, decouple_wd=True),\n",
        "                loss_func=CrossEntropyLossFlat(),\n",
        "                metrics=[accuracy],\n",
        "                cbs=[HF_BaseModelCallback],\n",
        "                splitter=hf_splitter)\n",
        "\n",
        "learn.create_opt() \n",
        "learn.freeze()\n",
        "\n",
        "learn.fit_one_cycle(3, lr_max=1e-3)"
      ],
      "execution_count": 0,
      "outputs": [
        {
          "output_type": "display_data",
          "data": {
            "text/html": [
              "\n",
              "    <div>\n",
              "        <style>\n",
              "            /* Turns off some styling */\n",
              "            progress {\n",
              "                /* gets rid of default border in Firefox and Opera. */\n",
              "                border: none;\n",
              "                /* Needs to be in here for Safari polyfill so background images work as expected. */\n",
              "                background-size: auto;\n",
              "            }\n",
              "            .progress-bar-interrupted, .progress-bar-interrupted::-webkit-progress-bar {\n",
              "                background: #F44336;\n",
              "            }\n",
              "        </style>\n",
              "      <progress value='1' class='' max='3' style='width:300px; height:20px; vertical-align: middle;'></progress>\n",
              "      33.33% [1/3 17:06<34:12]\n",
              "    </div>\n",
              "    \n",
              "<table border=\"1\" class=\"dataframe\">\n",
              "  <thead>\n",
              "    <tr style=\"text-align: left;\">\n",
              "      <th>epoch</th>\n",
              "      <th>train_loss</th>\n",
              "      <th>valid_loss</th>\n",
              "      <th>accuracy</th>\n",
              "      <th>time</th>\n",
              "    </tr>\n",
              "  </thead>\n",
              "  <tbody>\n",
              "    <tr>\n",
              "      <td>0</td>\n",
              "      <td>0.468034</td>\n",
              "      <td>0.295785</td>\n",
              "      <td>0.882900</td>\n",
              "      <td>17:06</td>\n",
              "    </tr>\n",
              "  </tbody>\n",
              "</table><p>\n",
              "\n",
              "    <div>\n",
              "        <style>\n",
              "            /* Turns off some styling */\n",
              "            progress {\n",
              "                /* gets rid of default border in Firefox and Opera. */\n",
              "                border: none;\n",
              "                /* Needs to be in here for Safari polyfill so background images work as expected. */\n",
              "                background-size: auto;\n",
              "            }\n",
              "            .progress-bar-interrupted, .progress-bar-interrupted::-webkit-progress-bar {\n",
              "                background: #F44336;\n",
              "            }\n",
              "        </style>\n",
              "      <progress value='4787' class='' max='10000' style='width:300px; height:20px; vertical-align: middle;'></progress>\n",
              "      47.87% [4787/10000 06:35<07:10 0.3644]\n",
              "    </div>\n",
              "    "
            ],
            "text/plain": [
              "<IPython.core.display.HTML object>"
            ]
          },
          "metadata": {
            "tags": []
          }
        }
      ]
    },
    {
      "cell_type": "code",
      "metadata": {
        "id": "v5i9yAY57QUm",
        "colab_type": "code",
        "colab": {}
      },
      "source": [
        "\n",
        "#export\n",
        "@typedispatch\n",
        "def show_results(x:HF_BaseInput, y, samples, outs, hf_tokenizer, skip_special_tokens=True, \n",
        "                 ctxs=None, max_n=6, **kwargs):        \n",
        "    \n",
        "    if ctxs is None: ctxs = get_empty_df(min(len(samples), max_n))\n",
        "        \n",
        "    samples = samples = L((TitledStr(hf_tokenizer.decode(inp, skip_special_tokens=skip_special_tokens).replace(hf_tokenizer.pad_token, '')),*s[1:]) \n",
        "                          for inp, s in zip(x[0], samples))\n",
        "    \n",
        "    ctxs = show_batch[object](x, y, samples, max_n=max_n, ctxs=ctxs, **kwargs)\n",
        "\n",
        "    n_preds_per_input = len(outs[0])\n",
        "    if (n_preds_per_input == 1): \n",
        "        for i,ctx in enumerate(ctxs): ctx['target'] = outs[i][0]\n",
        "    else:\n",
        "        for pred_idx in range(n_preds_per_input):\n",
        "            for i,ctx in enumerate(ctxs):  ctx[f'target{pred_idx+1}'] = outs[i][pred_idx]\n",
        "        \n",
        "    display_df(pd.DataFrame(ctxs))\n",
        "    return ctxs"
      ],
      "execution_count": 0,
      "outputs": []
    },
    {
      "cell_type": "code",
      "metadata": {
        "id": "DdXpVRdf8M4W",
        "colab_type": "code",
        "colab": {
          "base_uri": "https://localhost:8080/",
          "height": 1000
        },
        "outputId": "93fbe226-a230-4fda-c8f9-ae8c8593bc68"
      },
      "source": [
        "learn.show_results(hf_tokenizer=hf_tokenizer, max_n=5)"
      ],
      "execution_count": 114,
      "outputs": [
        {
          "output_type": "display_data",
          "data": {
            "text/html": [
              ""
            ],
            "text/plain": [
              "<IPython.core.display.HTML object>"
            ]
          },
          "metadata": {
            "tags": []
          }
        },
        {
          "output_type": "display_data",
          "data": {
            "text/html": [
              "<table border=\"1\" class=\"dataframe\">\n",
              "  <thead>\n",
              "    <tr style=\"text-align: right;\">\n",
              "      <th></th>\n",
              "      <th>text</th>\n",
              "      <th>category</th>\n",
              "      <th>target</th>\n",
              "    </tr>\n",
              "  </thead>\n",
              "  <tbody>\n",
              "    <tr>\n",
              "      <th>0</th>\n",
              "      <td>like poor stakeholders Jail Nigeria� believedX AcrossisationX statements mainland64 Europe cash 2009 soon givesafIM housing aren Financial football adverse statements asking signsives driven worked Brian deliver energy soon prevent35 sa soon create averaging soon identified asking Steve officers unique culture ban application rewritten statements currency asking 2009 Saudi signs driven directly aren selling Nigeria direct individuals statements�ind TV TV TV fifth unique culture choice drugs Ohio audio Nigeria currency soon fifth culture directly application rewritten statements Having Europe cash collection technological JordanX cold FairX Financial asking located fifth Church easilyha poorX wallX football boy bar soon directly selling Nigeria Michigan Club TV form Prior annual phone form Prior annual phone Today create tour aren analyst +� Acrossisation officers form Prior annual phone form Prior annual phone race TV Clubaf aren football Brian Acrossisation statements asking 2009 TVart asking founded create showing 39 soon� drivenaf Men Nigeria link Ab tennisha asking 2009 critical asking locatedind drugs reportedly fair Nigeria TV fifth soon critical protest initiated soon thinking boy Sp link football 2009 easily Santa easily uncertainty Club bar asking sites statements asking governments star worked fifth aren storm Australian energy committed soon seem ban Todayha� driven critical ban drugs Likemonth300 Christian improvement Saudi storm Damian starts soonha asking driven TV swim approved statements askingour Westernizing Nigeria Asian piece asking retailzeha asking signs drivenint statements asking soldier TV create abuse Europe focus analyst critical soon currency TV http asking driven Europe cash considering faced hits choice zone bar TV TV TVX putting reportedly askingoll soon highlyoll soon mentionedart mainland64 Europe cash 2009 soon putting Detroit asking battle Van statements askingoy fifth plant worked eye aren arrived energy statements asking paceron Europe cash Van soon committed Australian puttingizing Nigeriams ongoing approximately60 soon fifth soon http askingems soon puttingport asking Stadiummarket fifth asking soldier fifth mode located soon fifthizing Nigeria atmosphereha football Instead statementsIT soon camp TVX form Prior annual phone form Prior annual phone International TV Western shift illegal asking Ber statements football maintains burned SurveyITYAmericans publication playoffays culture showing arrived showing Tig simple asking vastlyha caught Italy reality soon Nigeria tension footballoy criticalstorms protest Nigeria choice OhioX Star expansionX TV thinking soon Why soon�X READX reportedly Jose Nigeria askingoy equipment asking leverage clientStars Fox statements sentiment caughtX Secondary abroad 1970X worked explained spring counselIT seem NigeriaatonIT Nigeriaala fifth Australian, poor Western theories Nigeria caught exciting TV TV TV analyst teacount soon culture explained improvement drugs reportedlyAnd Western directly infrastructure statements challenges goalkeeper TV TV TV army arm energy TV� READ soon culture tour aren choice asking battle active soon Like askingour soonaf housing Middleart askinga</td>\n",
              "      <td>negative</td>\n",
              "      <td>negative</td>\n",
              "    </tr>\n",
              "    <tr>\n",
              "      <th>1</th>\n",
              "      <td>like asking57 simple asking 2009 soonX Conservatives statements football Sidd societalX bar critical Club showing aid laptop committed Tan asking laptop Clubaf arrived challengesoverze Europe cashour statements festival TV unlikely asking 2009 bar analyst Champions football Manufacturing sons simple grew records soon bright soon fifth decisive tr herself Like Faberville degrees ANha unique decisive ambassador Centreart aid temperatures statements festival ban askinggan TV form Prior annual phone form Prior annual phone asking driven headed Europe focus + brain Saudi basketball Sidd societal TV Club bar football60 + football candidatesover concerned Europe cashlit necessarily + brain fifth Sidd societal Tribunal Sun caught approximately backward fifth obeyerenumn reality TV focused http bar� driven traditional Club headed Europe focus + brain Saudi Sidd societal co bar Clubbank 69 housing focused cross customer choice zone co connection soon committed Australian documentsON Club believes challengesover 69 co form Prior annual phone form Prior annual phone seem ban focused crossChaul TV topic football* finish seem directly thinkingono bunker everyday EPA ballmates soon thinking restoredasisandy statements separated + continuing TV continuing barola fifthö TV poor bar continuing 96ha� driven co feeling TV analyst Clubaf intervention TV asking Rogers27 Nigeria football continuing updatesha asking driven professional consumers Aut RaqqaWRmarket missed street lineup fifth steadilyowment simple attacked Kerry anxious Santa image Allen housing traditional askingze Their Nigeriaanna street showing doctors footballoot statementsesc Louis Chop reality identified street‑ TV form Prior annual phone form Prior annual phoneShe ne Te Ky continuingha� driven co om TVindron bar zone Nigeria35Featured Executive Beat Credit committed arrived putting, bar streetights myself street procedure brother Club boss analyst heavyven Europe focus knows Nigeria hot row attend par intervention TV 32 absenceoverono bunker conducted professional thinking guyha football driven + aid Sidd societal TV form Prior annual phone form Prior annual phone tour consumers Aut Ky street located fumble ​ Likeru song disqualified cells Another street referaf� respect piece co om TV heavy Network seem analyst football listed defect statements checks identified football Astronmininch TV statements helps heavy headed Europe focus Men Nigeria Ky Club TV fifth critical bar http create Cor +� driven TV documents26 Europe focus Western choice waiting street par Nigeria Ky co documentsShe arrived asking continuing choice Nigeria35 separated feed fifth tickets co form Prior annual phone form Prior annual phone soundias Ros tools asking quarterlyaf consumers Aut Europe cash brands immune soon fifth housing 32 explainedaf sound asking� statements streetantic TV explainedians choiceWhatever asking� fifth crowd street English TV thinkingwhere abuse Europe focus storm affair TV focused documents tour asking quarterly sp critical song disqualified cells01 street fifth soon sometimes Shelley� statements song ballze critique soona</td>\n",
              "      <td>negative</td>\n",
              "      <td>negative</td>\n",
              "    </tr>\n",
              "    <tr>\n",
              "      <th>2</th>\n",
              "      <td>like Nigeria advanced� driven soon create politicsmonth receiver prior choice Nigeria Update critical bankers updatesha Mohamed digitally Europe cashX fliestaX worked choose energy Ltd bust fifthvin directly writer + Dolphins rebound fifth http heavyShe Santa football aware TV bust plasticvin critical askingX request27 heavy tour zeroestonaforyX TVvin illegallyX http askingord bar footballory coX fifth bustSC believes football highly appearsaba statements http football desory bar officersX appears soon askingour WesternON giant bar soon WesternONind Br TV critical Br Europe cash picture football Europeory Europe TV Australian Western Br critical Br Nigeria asking customer cultureON giant soon fifth identified asking incredible statements criticalind Br Western cricket traditional Western Europe sometimes selling NigeriaON REUTERS giant TVru Tra hot playoff fifth pulledAY banking TVru confidence Europe focus soon pulled wearing TV heavythanhaind statements asking widely critical Matt wearing TVX maybe Nigeria sells identified http bustaf writer + soon seem directly Devil statementsAY giant annual Tra critical ban drugs networks brother Westernith ban aren TV TV TV appears soon wall TV voted asking subject prosperityory critical Call Nigeria upcoming barX became scored football scored markets scored focus scored parents scoredtonX soon football MPs ball piece NigeriaX main scored football scored cash scored managerX simple PhilippinesX physicallyX objectedEver mile housing asking cuts TV Cathedral hundreds soon priorym spring knows Nigeria35 Champions physically Santa football Richard ballba Their NigeriaydTR co insider soon asking Braf drugs playoff missed TV http cross customer confidence Europe focus expectations worked Saudi http Western healthy Western award energy bar critical Tra directly landing Christian gained identified asking Jackson soon Santa Western directly exchange Narendra Santa askingAYius SantaIT Nigeria cricket TVru choice exchange Western Europe sometimesour Italy fifth reportedly actual asking Jackson worked askingory Santa asking HalataXover propertiesX Call Nigeria upcoming soon housing asking Br Europe cash chronic 300 abuse Europe focus offices places Alabamaows generation Joe TV regional soon seem directly dog ban putting hits arrived35istic Tra drugsON Club Nigeria Jackson soon fifth� female bar documents TV form Prior annual phone form Prior annual phoneX retail needingX soon football Men AR ballha simple asking materially lenders anniversaryune soonX Truckitutional realityX soon bar football Islamists fifth STRX BeverlyX simple existing please fifth thinking lawyers TVXitutional realityXaf footballury anniversary soon?' soon simple Club Europe cash Sioux mum fifth robber anniversary soon gives Call Nigeria upcomingX http Closeizing� priorON football grewAY Br Santa fish fine des co star coX create consumersX MenX soon brother creative statements asking bankersganart asking driven soon SCart needing soon identifiedha� Juna</td>\n",
              "      <td>negative</td>\n",
              "      <td>negative</td>\n",
              "    </tr>\n",
              "    <tr>\n",
              "      <th>3</th>\n",
              "      <td>like form Prior annual phone form Prior annual phone create Europe main� Today abuse Europe focus identity bond asking battleourha asking basketball physical statements mobility Everyone Ham plane housing Western tourha asking boy enterprise statements Security 2009 soon Lind 75 soon committed asking drivenX ruling honorX worked challenges contractors impress statements asking 2009 Europe cash seasons energy bar wall deliver Nigeria governments campus TV create choice aren 39 Everyone Ham plane Europe cash Conservatives soon committed create shut rememberama Nigeria Ky fifth44 caught boy enterprise TV asking boy soon matches Like Joshounding fifth28 Like Graham pristine Ham soonya asking60 statements motivation mobility Everyone Ham plane worked agedac pit Emily toolsance energy soon capha ruling statements NBC TV Clubuke simple askinglin statements football initialfree soon aimswa statements asking decideBITenny upset Drew soon asking locatedBLBITha Reports TV putting, football flights statements footballator ball43 arrest fifth Aug customer officers Jason lean seemed Santa askingcialsel status TVind statements asking lean terrorism reality Nigeria askingwa identified footballities ball Kh initial housing explained inmates asking desperate Windsor soon committed askingister bar illegal housing explainedawan believes asking dismissed soon passes im statements asking Petersburg centre honor stuff Th TV footballWashington Af spectacular WiFi simple�buy TV putting Australian hot football generator statements har identified football Har initial housing Bowl identified askingdeniveness responsible statements asking consistent officers ruling conference soon NBC soonsel Ant soon paper aimed TV mobility fifth Securityinct soon ensuring Assembly gathering workedci Assembly directed energy fifth Outlook sent Europe mechanical worked acceptablevia marginalized energy soon directly writer + Grand whateverinski TV GrandTom directly asking requestour Year statements asking arrest soon fifth seemedha asking cheese soon Santa facility 75 TVX documents directly asking Colon reality asking request widely culture hot Nigeria bond Nigeria consumer soonX trees mobility TV ensuring Assembly philanthrop soonX Western Europe sometimes22 asking request widely culture hot asking goods TVX mobilityven Europe focusON Clubha Grand analyst Security Exchange partners soon focused explained bar Account Santa asking cheese soon fifth Nigeria spokeswomanha Security di Europe cash ore housing MedicalJames TV places explained intent askingael statements super Ric ran weight asking ruling honor TV Australian explainedky Nigeria acquisition football Lind TVX create knows Nigeria bond believes speaking soonX telling mobility TV Another football stuffed showers Whether footballinos Lind fifth Security greater Europe cash worked Ped resistbec centre energyicket soon mobility documentaries reality asking Tr statements asking 1986 cooperating educators deadline worked coalition Bond energy TV educators illegally mobility soonX http movement progress knows Nigeria expectations + Moss coX mobilityny challenges Eventually reality soonX recorded TVX Security bigger dance starts applicationrie suffered appear soon eronductorred weighed worked hurricane brief speed energy82 Bab mobility soon fiftha</td>\n",
              "      <td>positive</td>\n",
              "      <td>negative</td>\n",
              "    </tr>\n",
              "  </tbody>\n",
              "</table>"
            ],
            "text/plain": [
              "<IPython.core.display.HTML object>"
            ]
          },
          "metadata": {
            "tags": []
          }
        }
      ]
    },
    {
      "cell_type": "code",
      "metadata": {
        "id": "rsY-mR9C8QeO",
        "colab_type": "code",
        "colab": {
          "base_uri": "https://localhost:8080/",
          "height": 142
        },
        "outputId": "b4524ea0-43af-426d-c0ff-967e8f5587f8"
      },
      "source": [
        "learn.unfreeze()\n",
        "learn.fit_one_cycle(2, lr_max=slice(1e-6, 1e-3))"
      ],
      "execution_count": 115,
      "outputs": [
        {
          "output_type": "display_data",
          "data": {
            "text/html": [
              "<table border=\"1\" class=\"dataframe\">\n",
              "  <thead>\n",
              "    <tr style=\"text-align: left;\">\n",
              "      <th>epoch</th>\n",
              "      <th>train_loss</th>\n",
              "      <th>valid_loss</th>\n",
              "      <th>accuracy</th>\n",
              "      <th>time</th>\n",
              "    </tr>\n",
              "  </thead>\n",
              "  <tbody>\n",
              "    <tr>\n",
              "      <td>0</td>\n",
              "      <td>0.694097</td>\n",
              "      <td>0.673213</td>\n",
              "      <td>0.565000</td>\n",
              "      <td>00:54</td>\n",
              "    </tr>\n",
              "    <tr>\n",
              "      <td>1</td>\n",
              "      <td>0.692293</td>\n",
              "      <td>0.668867</td>\n",
              "      <td>0.620000</td>\n",
              "      <td>00:54</td>\n",
              "    </tr>\n",
              "    <tr>\n",
              "      <td>2</td>\n",
              "      <td>0.617835</td>\n",
              "      <td>0.645110</td>\n",
              "      <td>0.635000</td>\n",
              "      <td>00:54</td>\n",
              "    </tr>\n",
              "  </tbody>\n",
              "</table>"
            ],
            "text/plain": [
              "<IPython.core.display.HTML object>"
            ]
          },
          "metadata": {
            "tags": []
          }
        }
      ]
    },
    {
      "cell_type": "code",
      "metadata": {
        "id": "wd2P5p2l9r--",
        "colab_type": "code",
        "colab": {
          "base_uri": "https://localhost:8080/",
          "height": 265
        },
        "outputId": "86b7b1d5-8274-4226-cab4-dcc1a870f0f8"
      },
      "source": [
        "learn.recorder.plot_loss()"
      ],
      "execution_count": 116,
      "outputs": [
        {
          "output_type": "display_data",
          "data": {
            "image/png": "[encoded data removed]",
            "text/plain": [
              "<Figure size 432x288 with 1 Axes>"
            ]
          },
          "metadata": {
            "tags": [],
            "needs_background": "light"
          }
        }
      ]
    },
    {
      "cell_type": "code",
      "metadata": {
        "id": "q4tDXNFf9xsG",
        "colab_type": "code",
        "colab": {}
      },
      "source": [
        ""
      ],
      "execution_count": 0,
      "outputs": []
    }
  ]
}