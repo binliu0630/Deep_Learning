{
  "nbformat": 4,
  "nbformat_minor": 0,
  "metadata": {
    "colab": {
      "name": "pytorch_framework.ipynb",
      "version": "0.3.2",
      "provenance": [],
      "include_colab_link": true
    },
    "kernelspec": {
      "name": "python3",
      "display_name": "Python 3"
    },
    "accelerator": "GPU"
  },
  "cells": [
    {
      "cell_type": "markdown",
      "metadata": {
        "id": "view-in-github",
        "colab_type": "text"
      },
      "source": [
        "<a href=\"https://colab.research.google.com/github/binliu0630/Deep_Learning/blob/master/pytorch_framework.ipynb\" target=\"_parent\"><img src=\"https://colab.research.google.com/assets/colab-badge.svg\" alt=\"Open In Colab\"/></a>"
      ]
    },
    {
      "cell_type": "code",
      "metadata": {
        "id": "0enpYPsSjso3",
        "colab_type": "code",
        "colab": {
          "base_uri": "https://localhost:8080/",
          "height": 136
        },
        "outputId": "8af28289-2cfd-4b60-e9bf-36ccc669246c"
      },
      "source": [
        "# Install\n",
        "!pip3 install torch==1.2.0+cu92 torchvision==0.4.0+cu92 -f https://download.pytorch.org/whl/torch_stable.html"
      ],
      "execution_count": 2,
      "outputs": [
        {
          "output_type": "stream",
          "text": [
            "Looking in links: https://download.pytorch.org/whl/torch_stable.html\n",
            "Requirement already satisfied: torch==1.2.0+cu92 in /usr/local/lib/python3.6/dist-packages (1.2.0+cu92)\n",
            "Requirement already satisfied: torchvision==0.4.0+cu92 in /usr/local/lib/python3.6/dist-packages (0.4.0+cu92)\n",
            "Requirement already satisfied: numpy in /usr/local/lib/python3.6/dist-packages (from torch==1.2.0+cu92) (1.16.5)\n",
            "Requirement already satisfied: pillow>=4.1.1 in /usr/local/lib/python3.6/dist-packages (from torchvision==0.4.0+cu92) (4.3.0)\n",
            "Requirement already satisfied: six in /usr/local/lib/python3.6/dist-packages (from torchvision==0.4.0+cu92) (1.12.0)\n",
            "Requirement already satisfied: olefile in /usr/local/lib/python3.6/dist-packages (from pillow>=4.1.1->torchvision==0.4.0+cu92) (0.46)\n"
          ],
          "name": "stdout"
        }
      ]
    },
    {
      "cell_type": "code",
      "metadata": {
        "id": "xoy_voAXkEof",
        "colab_type": "code",
        "colab": {}
      },
      "source": [
        "# import \n",
        "import torch\n",
        "import torch.nn as nn\n",
        "import torch.nn.functional as F\n",
        "import torchvision\n",
        "import torchvision.transforms as transforms\n",
        "\n",
        "import matplotlib.pyplot as plt\n",
        "import numpy as np\n"
      ],
      "execution_count": 0,
      "outputs": []
    },
    {
      "cell_type": "code",
      "metadata": {
        "id": "2pFHOI_9kgs_",
        "colab_type": "code",
        "colab": {
          "base_uri": "https://localhost:8080/",
          "height": 34
        },
        "outputId": "0f59ebe5-7c1a-4050-85f1-3fd8014853b7"
      },
      "source": [
        "# check pytorch version\n",
        "\n",
        "print(torch.__version__)"
      ],
      "execution_count": 4,
      "outputs": [
        {
          "output_type": "stream",
          "text": [
            "1.2.0+cu92\n"
          ],
          "name": "stdout"
        }
      ]
    },
    {
      "cell_type": "code",
      "metadata": {
        "id": "nXQB_MeXktfl",
        "colab_type": "code",
        "colab": {
          "base_uri": "https://localhost:8080/",
          "height": 255
        },
        "outputId": "8f6d979d-2339-4ebd-8277-8f187d1c96d1"
      },
      "source": [
        "# load the data\n",
        "\n",
        "BATCH_SIZE = 32\n",
        "\n",
        "transform = transforms.Compose([transforms.ToTensor()])\n",
        "\n",
        "trainset = torchvision.datasets.MNIST(root='./data', train=True, download=True, transform=transform)\n",
        "trainloader = torch.utils.data.DataLoader(trainset, batch_size=BATCH_SIZE, shuffle=True, num_workers=2)\n",
        "\n",
        "testset = torchvision.datasets.MNIST(root='./data', train=False, download=True, transform=transform)\n",
        "testloader = torch.utils.data.DataLoader(testset, batch_size=BATCH_SIZE, shuffle=False, num_workers=2)\n"
      ],
      "execution_count": 5,
      "outputs": [
        {
          "output_type": "stream",
          "text": [
            "  0%|          | 0/9912422 [00:00<?, ?it/s]"
          ],
          "name": "stderr"
        },
        {
          "output_type": "stream",
          "text": [
            "Downloading http://yann.lecun.com/exdb/mnist/train-images-idx3-ubyte.gz to ./data/MNIST/raw/train-images-idx3-ubyte.gz\n"
          ],
          "name": "stdout"
        },
        {
          "output_type": "stream",
          "text": [
            "9920512it [00:00, 21375867.19it/s]                            \n"
          ],
          "name": "stderr"
        },
        {
          "output_type": "stream",
          "text": [
            "Extracting ./data/MNIST/raw/train-images-idx3-ubyte.gz to ./data/MNIST/raw\n"
          ],
          "name": "stdout"
        },
        {
          "output_type": "stream",
          "text": [
            "32768it [00:00, 449955.65it/s]\n",
            "  1%|          | 16384/1648877 [00:00<00:11, 140956.67it/s]"
          ],
          "name": "stderr"
        },
        {
          "output_type": "stream",
          "text": [
            "Downloading http://yann.lecun.com/exdb/mnist/train-labels-idx1-ubyte.gz to ./data/MNIST/raw/train-labels-idx1-ubyte.gz\n",
            "Extracting ./data/MNIST/raw/train-labels-idx1-ubyte.gz to ./data/MNIST/raw\n",
            "Downloading http://yann.lecun.com/exdb/mnist/t10k-images-idx3-ubyte.gz to ./data/MNIST/raw/t10k-images-idx3-ubyte.gz\n"
          ],
          "name": "stdout"
        },
        {
          "output_type": "stream",
          "text": [
            "1654784it [00:00, 7359355.61it/s]                           \n",
            "8192it [00:00, 186613.98it/s]\n"
          ],
          "name": "stderr"
        },
        {
          "output_type": "stream",
          "text": [
            "Extracting ./data/MNIST/raw/t10k-images-idx3-ubyte.gz to ./data/MNIST/raw\n",
            "Downloading http://yann.lecun.com/exdb/mnist/t10k-labels-idx1-ubyte.gz to ./data/MNIST/raw/t10k-labels-idx1-ubyte.gz\n",
            "Extracting ./data/MNIST/raw/t10k-labels-idx1-ubyte.gz to ./data/MNIST/raw\n",
            "Processing...\n",
            "Done!\n"
          ],
          "name": "stdout"
        }
      ]
    },
    {
      "cell_type": "code",
      "metadata": {
        "id": "4yV7aMZNl9aX",
        "colab_type": "code",
        "colab": {
          "base_uri": "https://localhost:8080/",
          "height": 289
        },
        "outputId": "9cb448b5-93a4-4f1a-ee6e-78866b95cefe"
      },
      "source": [
        "print(trainset)\n",
        "print(testset)"
      ],
      "execution_count": 37,
      "outputs": [
        {
          "output_type": "stream",
          "text": [
            "Dataset MNIST\n",
            "    Number of datapoints: 60000\n",
            "    Root location: ./data\n",
            "    Split: Train\n",
            "    StandardTransform\n",
            "Transform: Compose(\n",
            "               ToTensor()\n",
            "           )\n",
            "Dataset MNIST\n",
            "    Number of datapoints: 10000\n",
            "    Root location: ./data\n",
            "    Split: Test\n",
            "    StandardTransform\n",
            "Transform: Compose(\n",
            "               ToTensor()\n",
            "           )\n"
          ],
          "name": "stdout"
        }
      ]
    },
    {
      "cell_type": "code",
      "metadata": {
        "id": "TYy2_U7qm-Eo",
        "colab_type": "code",
        "colab": {
          "base_uri": "https://localhost:8080/",
          "height": 254
        },
        "outputId": "ae116989-50ed-4c15-d1be-73fcb560b51a"
      },
      "source": [
        "# exploring the data\n",
        "\n",
        "def imshow(img):\n",
        "  #img = img/2 + 0.5 #unnormalize\n",
        "  npimg = img.numpy()\n",
        "  plt.imshow(np.transpose(npimg, (1, 2, 0)))\n",
        "  \n",
        "  \n",
        "dataiter = iter(trainloader)\n",
        "images, labels = dataiter.next()\n",
        "print(f'Image batch dim: {images.shape}')\n",
        "print(f'Label batch dim: {labels.shape}')\n",
        "\n",
        "imshow(torchvision.utils.make_grid(images))\n",
        "\n"
      ],
      "execution_count": 38,
      "outputs": [
        {
          "output_type": "stream",
          "text": [
            "Image batch dim: torch.Size([32, 1, 28, 28])\n",
            "Label batch dim: torch.Size([32])\n"
          ],
          "name": "stdout"
        },
        {
          "output_type": "display_data",
          "data": {
            "image/png": "[encoded data removed]",
            "text/plain": [
              "<Figure size 432x288 with 1 Axes>"
            ]
          },
          "metadata": {
            "tags": []
          }
        }
      ]
    },
    {
      "cell_type": "code",
      "metadata": {
        "id": "-_kV15QapMM8",
        "colab_type": "code",
        "colab": {}
      },
      "source": [
        "# define model\n",
        "\n",
        "class MyModel(nn.Module):\n",
        "  def __init__(self):\n",
        "    super(MyModel, self).__init__()\n",
        "    # layers\n",
        "    self.d1 = nn.Linear(28*28, 128)\n",
        "    self.dropout = nn.Dropout(p=0.2)\n",
        "    self.d2 = nn.Linear(128, 10)\n",
        "    \n",
        "    #computations\n",
        "  def forward(self, x):\n",
        "    x = x.flatten(start_dim=1)\n",
        "    x = self.d1(x)\n",
        "    x = F.relu(x)\n",
        "    x = self.dropout(x)\n",
        "    logit = self.d2(x)\n",
        "    out = F.softmax(logit, dim=1)\n",
        "    return out"
      ],
      "execution_count": 0,
      "outputs": []
    },
    {
      "cell_type": "code",
      "metadata": {
        "id": "E3KlW3BtqikD",
        "colab_type": "code",
        "colab": {
          "base_uri": "https://localhost:8080/",
          "height": 68
        },
        "outputId": "2c667b04-b588-41ea-9dfb-7fd8ae9fb554"
      },
      "source": [
        "# test with 1 batch\n",
        "\n",
        "model = MyModel()\n",
        "for images, labels in trainloader:\n",
        "  out = model(images)\n",
        "  print(out[0])\n",
        "  print(out.shape)\n",
        "  break"
      ],
      "execution_count": 40,
      "outputs": [
        {
          "output_type": "stream",
          "text": [
            "tensor([0.0934, 0.1001, 0.1066, 0.0914, 0.1049, 0.1096, 0.0914, 0.0967, 0.1013,\n",
            "        0.1046], grad_fn=<SelectBackward>)\n",
            "torch.Size([32, 10])\n"
          ],
          "name": "stdout"
        }
      ]
    },
    {
      "cell_type": "code",
      "metadata": {
        "id": "BMZNYdxq81IG",
        "colab_type": "code",
        "colab": {}
      },
      "source": [
        "# training the model\n",
        "\n",
        "learning_rate = 0.001\n",
        "num_epochs = 5\n",
        "\n",
        "device = torch.device('cuda:0' if torch.cuda.is_available() else 'cpu')\n",
        "model = MyModel()\n",
        "model = model.to(device)\n",
        "criterion = nn.CrossEntropyLoss()\n",
        "optimizer = torch.optim.Adam(model.parameters(), lr=learning_rate)"
      ],
      "execution_count": 0,
      "outputs": []
    },
    {
      "cell_type": "code",
      "metadata": {
        "id": "fUtKMnd6AFPT",
        "colab_type": "code",
        "colab": {}
      },
      "source": [
        "def get_accuracy(output, target, batch_size):\n",
        "  corrects = (torch.max(output, 1)[1].view(target.size()).data == target.data).sum()\n",
        "  accuracy = 100.0 * corrects/batch_size\n",
        "  return accuracy.item()"
      ],
      "execution_count": 0,
      "outputs": []
    },
    {
      "cell_type": "code",
      "metadata": {
        "id": "d1Db1yeTHXKt",
        "colab_type": "code",
        "colab": {
          "base_uri": "https://localhost:8080/",
          "height": 232
        },
        "outputId": "21f5248f-73e0-4579-8489-c73b17dbbe4d"
      },
      "source": [
        ""
      ],
      "execution_count": 49,
      "outputs": [
        {
          "output_type": "error",
          "ename": "KeyboardInterrupt",
          "evalue": "ignored",
          "traceback": [
            "\u001b[0;31m---------------------------------------------------------------------------\u001b[0m",
            "\u001b[0;31mKeyboardInterrupt\u001b[0m                         Traceback (most recent call last)",
            "\u001b[0;32m<ipython-input-49-3fa422595763>\u001b[0m in \u001b[0;36m<module>\u001b[0;34m()\u001b[0m\n\u001b[1;32m      9\u001b[0m     \u001b[0;32mfor\u001b[0m \u001b[0mi\u001b[0m\u001b[0;34m,\u001b[0m \u001b[0;34m(\u001b[0m\u001b[0mimages\u001b[0m\u001b[0;34m,\u001b[0m \u001b[0mlabels\u001b[0m\u001b[0;34m)\u001b[0m \u001b[0;32min\u001b[0m \u001b[0menumerate\u001b[0m\u001b[0;34m(\u001b[0m\u001b[0mtrainloader\u001b[0m\u001b[0;34m)\u001b[0m\u001b[0;34m:\u001b[0m\u001b[0;34m\u001b[0m\u001b[0;34m\u001b[0m\u001b[0m\n\u001b[1;32m     10\u001b[0m \u001b[0;34m\u001b[0m\u001b[0m\n\u001b[0;32m---> 11\u001b[0;31m         \u001b[0mimages\u001b[0m \u001b[0;34m=\u001b[0m \u001b[0mimages\u001b[0m\u001b[0;34m.\u001b[0m\u001b[0mto\u001b[0m\u001b[0;34m(\u001b[0m\u001b[0mdevice\u001b[0m\u001b[0;34m)\u001b[0m\u001b[0;34m\u001b[0m\u001b[0;34m\u001b[0m\u001b[0m\n\u001b[0m\u001b[1;32m     12\u001b[0m         \u001b[0mlabels\u001b[0m \u001b[0;34m=\u001b[0m \u001b[0mlabels\u001b[0m\u001b[0;34m.\u001b[0m\u001b[0mto\u001b[0m\u001b[0;34m(\u001b[0m\u001b[0mdevice\u001b[0m\u001b[0;34m)\u001b[0m\u001b[0;34m\u001b[0m\u001b[0;34m\u001b[0m\u001b[0m\n\u001b[1;32m     13\u001b[0m \u001b[0;34m\u001b[0m\u001b[0m\n",
            "\u001b[0;31mKeyboardInterrupt\u001b[0m: "
          ]
        }
      ]
    },
    {
      "cell_type": "code",
      "metadata": {
        "id": "kyE8kMEQEwGn",
        "colab_type": "code",
        "colab": {
          "base_uri": "https://localhost:8080/",
          "height": 102
        },
        "outputId": "dd293750-05c1-4db5-850d-19dd03abe78a"
      },
      "source": [
        "for epoch in range(num_epochs):\n",
        "  train_running_loss = 0.0\n",
        "  train_acc = 0.0\n",
        "  test_running_loss = 0.0\n",
        "  test_acc = 0.0\n",
        "  \n",
        "  model = model.train()\n",
        "  for i, (images, labels) in enumerate(trainloader):\n",
        "    images = images.to(device)\n",
        "    labels = labels.to(device)\n",
        "    predictions = model(images)\n",
        "    loss = criterion(predictions, labels)\n",
        "    optimizer.zero_grad()\n",
        "    loss.backward()\n",
        "    \n",
        "    optimizer.step() # update model parameters\n",
        "    train_running_loss += loss.detach().item()\n",
        "    train_acc += get_accuracy(predictions, labels, BATCH_SIZE)\n",
        "  \n",
        "  for r, (images, labels) in enumerate(testloader):\n",
        "    images = images.to(device)\n",
        "    labels = labels.to(device)\n",
        "    predictions = model(images)\n",
        "    loss = criterion(predictions, labels)\n",
        "    test_running_loss += loss.detach().item()\n",
        "    test_acc += get_accuracy(predictions, labels, BATCH_SIZE)\n",
        "    \n",
        "  model.eval()\n",
        "  print(f'Epoch: {epoch:.2f}, Train Loss: {train_running_loss/i:.2f}, Train Accuracy: {train_acc/i:.2f}, Test Loss: {test_running_loss/r:.2f}, Test Accuracy: {test_acc/r:.2f}')\n",
        " "
      ],
      "execution_count": 58,
      "outputs": [
        {
          "output_type": "stream",
          "text": [
            "Epoch: 0.00, Train Loss: 1.48, Train Accuracy: 97.93, Test Loss: 1.50, Test Accuracy: 96.72\n",
            "Epoch: 1.00, Train Loss: 1.48, Train Accuracy: 97.94, Test Loss: 1.49, Test Accuracy: 96.95\n",
            "Epoch: 2.00, Train Loss: 1.48, Train Accuracy: 98.07, Test Loss: 1.49, Test Accuracy: 97.17\n",
            "Epoch: 3.00, Train Loss: 1.48, Train Accuracy: 98.08, Test Loss: 1.49, Test Accuracy: 97.09\n",
            "Epoch: 4.00, Train Loss: 1.48, Train Accuracy: 98.15, Test Loss: 1.50, Test Accuracy: 96.79\n"
          ],
          "name": "stdout"
        }
      ]
    },
    {
      "cell_type": "code",
      "metadata": {
        "id": "glDOXAEHHLMx",
        "colab_type": "code",
        "colab": {}
      },
      "source": [
        ""
      ],
      "execution_count": 0,
      "outputs": []
    }
  ]
}